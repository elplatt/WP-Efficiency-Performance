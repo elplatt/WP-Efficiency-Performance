{
 "cells": [
  {
   "cell_type": "code",
   "execution_count": 88,
   "metadata": {},
   "outputs": [
    {
     "name": "stdout",
     "output_type": "stream",
     "text": [
      "Populating the interactive namespace from numpy and matplotlib\n"
     ]
    }
   ],
   "source": [
    "%pylab inline\n",
    "import math\n",
    "import numpy as np\n",
    "import pandas as pd"
   ]
  },
  {
   "cell_type": "code",
   "execution_count": 89,
   "metadata": {
    "collapsed": true
   },
   "outputs": [],
   "source": [
    "def plot_regression(df, rows=1, models=None, factors=None):\n",
    "    if models is None:\n",
    "        models = sorted(set(df[\"model\"]))\n",
    "    if factors is None:\n",
    "        all_factors = sorted(set(df[\"factor\"]))\n",
    "    else:\n",
    "        all_factors = factors\n",
    "    for mi, m in enumerate(models):\n",
    "        dfm = df[df[\"model\"] == m]\n",
    "        low = min(dfm[\"beta\"] - 4.0*dfm[\"se\"])\n",
    "        high = max(dfm[\"beta\"] + 4.0*dfm[\"se\"])\n",
    "        most = max(high, -low)\n",
    "        x = []\n",
    "        y = []\n",
    "        xerr = []\n",
    "        xlab = []\n",
    "        for i, factor in enumerate(all_factors):\n",
    "            xlab.append(factor)\n",
    "            y.append(-1 * i)\n",
    "            try:\n",
    "                dfmf = dfm[dfm[\"factor\"] == factor]\n",
    "                x.append(list(dfmf[\"beta\"])[0])\n",
    "                xerr.append(2.0 * list(dfmf[\"se\"])[0])\n",
    "            except IndexError:\n",
    "                x.append(2.0*most) # Hide point outside chart\n",
    "                xerr.append(0)\n",
    "        subplot(rows, int(math.ceil(len(models) / float(rows))), 1+mi)\n",
    "        plt.errorbar(x, y, xerr=xerr, fmt='o', markersize=4, capsize=4)\n",
    "        plt.xlim([-most, most])\n",
    "        plt.ylim([min(y) - 1, max(y) + 1])\n",
    "        plt.title(m)\n",
    "        # Add center spine\n",
    "        ax = plt.gca()\n",
    "        p = ax.spines['left'].get_path()\n",
    "        s = matplotlib.spines.Spine.linear_spine(ax, \"right\")\n",
    "        s.register_axis(ax.yaxis)\n",
    "        s.set_position('zero')\n",
    "        s.set_color('gray')\n",
    "        ax.artists.append(s)\n",
    "        # Wow, that was a lot of code\n",
    "        if mi % int(math.ceil(len(models) / float(rows))) != 0:\n",
    "            plt.yticks([], [])\n",
    "        else:\n",
    "            plt.yticks(y, all_factors)"
   ]
  },
  {
   "cell_type": "code",
   "execution_count": 90,
   "metadata": {},
   "outputs": [
    {
     "data": {
      "text/plain": [
       "['Article Count$^\\\\dagger$',\n",
       " 'C-Efficiency$^\\\\dagger$',\n",
       " 'Connectivity',\n",
       " 'Editor Count$^\\\\dagger$',\n",
       " 'First Assessment',\n",
       " 'In-Degree Skewness$^\\\\dagger$',\n",
       " 'Mean Article Age',\n",
       " 'Mean Degree$^\\\\dagger$',\n",
       " 'Mean Editors/Article$^\\\\dagger$',\n",
       " 'Mean Path Length$^\\\\dagger$',\n",
       " 'Out-Degree Skewness$^\\\\dagger$',\n",
       " 'Revision Count$^\\\\dagger$']"
      ]
     },
     "execution_count": 90,
     "metadata": {},
     "output_type": "execute_result"
    }
   ],
   "source": [
    "df = pd.DataFrame.from_csv(\"analysis/regressions.csv\", index_col=None)\n",
    "sorted(set(df[\"factor\"]))"
   ]
  },
  {
   "cell_type": "code",
   "execution_count": 93,
   "metadata": {},
   "outputs": [
    {
     "data": {
      "image/png": "[encoded data removed]",
      "text/plain": [
       "<matplotlib.figure.Figure at 0x10c452990>"
      ]
     },
     "metadata": {},
     "output_type": "display_data"
    }
   ],
   "source": [
    "models = [\"Perf$_1$\", \"A-Eff$_1$\", \"B-Eff$_1$\", \"C-Eff$_1$\"]\n",
    "factors = [\n",
    " 'Mean Degree$^\\\\dagger$',\n",
    " 'In-Degree Skewness$^\\\\dagger$',\n",
    " 'Mean Path Length$^\\\\dagger$',\n",
    " 'Connectivity',\n",
    " 'Article Count$^\\\\dagger$',\n",
    " 'Revision Count$^\\\\dagger$',\n",
    " 'Editor Count$^\\\\dagger$',\n",
    " 'Mean Editors/Article$^\\\\dagger$',\n",
    " 'First Assessment',\n",
    " 'Mean Article Age',\n",
    " 'C-Efficiency$^\\\\dagger$']\n",
    "f = plt.figure(figsize=(7.5,4))\n",
    "plot_regression(df, models=models, factors=factors)\n",
    "plt.tight_layout()\n",
    "plt.savefig(\"regression.png\", format=\"png\", dpi=300)"
   ]
  },
  {
   "cell_type": "code",
   "execution_count": null,
   "metadata": {
    "collapsed": true
   },
   "outputs": [],
   "source": []
  }
 ],
 "metadata": {
  "kernelspec": {
   "display_name": "Python 2",
   "language": "python",
   "name": "python2"
  },
  "language_info": {
   "codemirror_mode": {
    "name": "ipython",
    "version": 2
   },
   "file_extension": ".py",
   "mimetype": "text/x-python",
   "name": "python",
   "nbconvert_exporter": "python",
   "pygments_lexer": "ipython2",
   "version": "2.7.10"
  }
 },
 "nbformat": 4,
 "nbformat_minor": 2
}
