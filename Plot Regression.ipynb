{
 "cells": [
  {
   "cell_type": "code",
   "execution_count": 1,
   "metadata": {
    "collapsed": true
   },
   "outputs": [],
   "source": [
    "import numpy as np\n",
    "import pandas as pd"
   ]
  },
  {
   "cell_type": "code",
   "execution_count": 2,
   "metadata": {
    "collapsed": true
   },
   "outputs": [],
   "source": [
    "def plot_regression(f, df):\n",
    "    models = sorted(set(df[\"model\"]))\n",
    "    all_factors = sorted(set(df[\"factor\"]))\n",
    "    for mi, m in enumerate(models):\n",
    "        dfm = df[df[\"model\"] == m]\n",
    "        low = min(dfm[\"beta\"] - 2.0*dfm[\"se\"])\n",
    "        high = max(dfm[\"beta\"] + 2.0*dfm[\"se\"])\n",
    "        most = max(high, -low)\n",
    "        x = []\n",
    "        y = []\n",
    "        xerr = []\n",
    "        xlab = []\n",
    "        for i, factor in enumerate(all_factors):\n",
    "            xlab.append(factor)\n",
    "            y.append(i)\n",
    "            try:\n",
    "                dfmf = dfm[dfm[\"factor\"] == factor]\n",
    "                x.append(list(dfmf[\"beta\"])[0])\n",
    "                xerr.append(list(dfmf[\"se\"])[0])\n",
    "            except IndexError:\n",
    "                x.append(2.0*most) # Hide point outside chart\n",
    "                xerr.append(0)\n",
    "        subplot(1, len(models), 1+mi)\n",
    "        plt.errorbar(x, y, xerr=xerr, fmt='o')\n",
    "        plt.xlim([-most, most])\n",
    "        plt.title(m)\n",
    "        # Add center spine\n",
    "        ax = plt.gca()\n",
    "        p = ax.spines['left'].get_path()\n",
    "        s = matplotlib.spines.Spine.linear_spine(ax, \"right\")\n",
    "        s.register_axis(ax.yaxis)\n",
    "        s.set_position('zero')\n",
    "        s.set_color('gray')\n",
    "        ax.artists.append(s)\n",
    "        # Wow, that was a lot of code\n",
    "        if mi > 0:\n",
    "            plt.yticks([], [])\n",
    "        else:\n",
    "            plt.yticks(dfm.index, dfm[\"factor\"])"
   ]
  },
  {
   "cell_type": "code",
   "execution_count": null,
   "metadata": {
    "collapsed": true
   },
   "outputs": [],
   "source": []
  }
 ],
 "metadata": {
  "kernelspec": {
   "display_name": "Python 2",
   "language": "python",
   "name": "python2"
  },
  "language_info": {
   "codemirror_mode": {
    "name": "ipython",
    "version": 2
   },
   "file_extension": ".py",
   "mimetype": "text/x-python",
   "name": "python",
   "nbconvert_exporter": "python",
   "pygments_lexer": "ipython2",
   "version": "2.7.6"
  }
 },
 "nbformat": 4,
 "nbformat_minor": 2
}
