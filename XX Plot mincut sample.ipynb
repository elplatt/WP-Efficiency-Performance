{
 "cells": [
  {
   "cell_type": "code",
   "execution_count": 8,
   "metadata": {
    "collapsed": false
   },
   "outputs": [],
   "source": [
    "import csv\n",
    "from matplotlib import pyplot as plt\n",
    "import pandas as pd"
   ]
  },
  {
   "cell_type": "code",
   "execution_count": 9,
   "metadata": {
    "collapsed": false
   },
   "outputs": [],
   "source": [
    "projects_to_run = [42,543,1449,540,1162,1716,447,887,2139,280]\n",
    "full_file = \"archive/18_find_min_cut/2016-12-09 12:20:58 bbb94dd/%d-flows.csv\"\n",
    "sampled_file = \"archive/18_find_min_cut/2016-12-09 13:31:12 5c8c3f9/%d-flows-sampled.csv\"\n"
   ]
  },
  {
   "cell_type": "code",
   "execution_count": 10,
   "metadata": {
    "collapsed": false
   },
   "outputs": [],
   "source": [
    "full_means = []\n",
    "sampled_means = []\n",
    "for project_id in projects_to_run:\n",
    "    df_full = pd.DataFrame.from_csv(full_file % project_id)\n",
    "    df_sampled = pd.DataFrame.from_csv(sampled_file % project_id)\n",
    "    fm = sum(df_full[\"flow\"]) / float(len(df_full[\"flow\"]))\n",
    "    sm = sum(df_sampled[\"flow\"]) / float(len(df_sampled[\"flow\"]))\n",
    "    full_means.append(fm)\n",
    "    sampled_means.append(sm)"
   ]
  },
  {
   "cell_type": "code",
   "execution_count": 11,
   "metadata": {
    "collapsed": false
   },
   "outputs": [
    {
     "data": {
      "text/plain": [
       "[<matplotlib.lines.Line2D at 0x7f6e858878d0>]"
      ]
     },
     "execution_count": 11,
     "metadata": {},
     "output_type": "execute_result"
    },
    {
     "data": {
      "image/png": "[encoded data removed]",
      "text/plain": [
       "<matplotlib.figure.Figure at 0x7f6e8673e110>"
      ]
     },
     "metadata": {},
     "output_type": "display_data"
    }
   ],
   "source": [
    "plt.plot(full_means, sampled_means, \".\")"
   ]
  },
  {
   "cell_type": "code",
   "execution_count": 12,
   "metadata": {
    "collapsed": false
   },
   "outputs": [],
   "source": [
    "full_means = pd.DataFrame(full_means)\n",
    "sampled_means = pd.DataFrame(sampled_means)\n",
    "error = (full_means - sampled_means)/full_means"
   ]
  },
  {
   "cell_type": "code",
   "execution_count": 15,
   "metadata": {
    "collapsed": false
   },
   "outputs": [
    {
     "data": {
      "text/plain": [
       "(array([ 1.,  0.,  0.,  0.,  0.,  0.,  5.,  2.,  1.,  1.]),\n",
       " array([-0.06898061, -0.0588549 , -0.04872918, -0.03860347, -0.02847776,\n",
       "       -0.01835205, -0.00822633,  0.00189938,  0.01202509,  0.02215081,\n",
       "        0.03227652]),\n",
       " <a list of 10 Patch objects>)"
      ]
     },
     "execution_count": 15,
     "metadata": {},
     "output_type": "execute_result"
    },
    {
     "data": {
      "image/png": "[encoded data removed]",
      "text/plain": [
       "<matplotlib.figure.Figure at 0x7f6e8661f390>"
      ]
     },
     "metadata": {},
     "output_type": "display_data"
    }
   ],
   "source": [
    "plt.hist(error,10)"
   ]
  },
  {
   "cell_type": "code",
   "execution_count": null,
   "metadata": {
    "collapsed": false
   },
   "outputs": [],
   "source": []
  }
 ],
 "metadata": {
  "kernelspec": {
   "display_name": "Python 2",
   "language": "python",
   "name": "python2"
  },
  "language_info": {
   "codemirror_mode": {
    "name": "ipython",
    "version": 2
   },
   "file_extension": ".py",
   "mimetype": "text/x-python",
   "name": "python",
   "nbconvert_exporter": "python",
   "pygments_lexer": "ipython2",
   "version": "2.7.6"
  }
 },
 "nbformat": 4,
 "nbformat_minor": 0
}
