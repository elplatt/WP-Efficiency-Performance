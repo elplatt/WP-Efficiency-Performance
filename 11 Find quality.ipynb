{
 "metadata": {
  "name": ""
 },
 "nbformat": 3,
 "nbformat_minor": 0,
 "worksheets": [
  {
   "cells": [
    {
     "cell_type": "code",
     "collapsed": false,
     "input": [
      "import json\n",
      "import time\n",
      "import sys\n",
      "import sqlalchemy\n",
      "from sqlalchemy import func\n",
      "from sqlalchemy.orm import sessionmaker"
     ],
     "language": "python",
     "metadata": {},
     "outputs": [],
     "prompt_number": 1
    },
    {
     "cell_type": "code",
     "collapsed": false,
     "input": [
      "import database\n",
      "from database.schema import Rating"
     ],
     "language": "python",
     "metadata": {},
     "outputs": [],
     "prompt_number": 2
    },
    {
     "cell_type": "code",
     "collapsed": false,
     "input": [
      "exp_name=\"11_find_quality\"\n",
      "project_map_file = 'data/articles-projects.json'\n",
      "output_file = \"quality.csv\""
     ],
     "language": "python",
     "metadata": {},
     "outputs": [],
     "prompt_number": 3
    },
    {
     "cell_type": "code",
     "collapsed": false,
     "input": [
      "import logbook\n",
      "exp = logbook.Experiment(exp_name)\n",
      "log = exp.get_logger()"
     ],
     "language": "python",
     "metadata": {},
     "outputs": [],
     "prompt_number": 4
    },
    {
     "cell_type": "code",
     "collapsed": false,
     "input": [
      "log.info(\"Loading project json\")\n",
      "project_ids = {}\n",
      "with open(project_map_file, \"rb\") as f:\n",
      "    for row in f:\n",
      "        datum = json.loads(row)\n",
      "        project_ids[datum[\"project_name\"]] = datum[\"project_id\"]\n",
      "log.info(\"Done loading project json\")"
     ],
     "language": "python",
     "metadata": {},
     "outputs": [],
     "prompt_number": 5
    },
    {
     "cell_type": "code",
     "collapsed": false,
     "input": [
      "log.info(\"Connecting to database\")\n",
      "Session = sessionmaker()\n",
      "Session.configure(bind=database.engine)\n",
      "session = Session()\n",
      "data = []\n",
      "try:\n",
      "    log.info(\"Calculating quality for all projects\")\n",
      "    for project_id, project in project_ids.iteritems():\n",
      "        log.info(\n",
      "            \"  Calculating quality for project: %d:%s\" %\n",
      "            (project_id, project[\"project_name\"]))\n",
      "        subq = session.query(\n",
      "                Rating.article_name,\n",
      "                Rating.new_quality,\n",
      "                func.max(Rating.timestamp)) \\\n",
      "            .filter(Rating.project_id == project_id) \\\n",
      "            .filter(Rating.action == \"Assessed\") \\\n",
      "            .group_by(Rating.article_name, Rating.project_id) \\\n",
      "            .subquery()\n",
      "        num_a = session.query(func.count()) \\\n",
      "            .filter(subq.c.new_quality == 'A-Class').first()[0]\n",
      "        num_ga = session.query(func.count()) \\\n",
      "            .filter(subq.c.new_quality == 'GA-Class').first()[0]\n",
      "        num_fa = session.query(func.count()) \\\n",
      "            .filter(subq.c.new_quality == 'FA-Class').first()[0]\n",
      "        quality = float(num_fa + num_ga) / float(num_fa + num_ga + num_a)\n",
      "        data.append( (project_id, quality) )\n",
      "except:\n",
      "    log.error(\"Error: %s\" % sys.exc_info()[0])\n",
      "    raise\n",
      "finally:\n",
      "    session.close()\n",
      "    log.info(\"Database session closed\")\n",
      "log.info(\"Writing quality data to output file\")\n",
      "with open(exp.get_filename(output_file), \"wb\") as out:\n",
      "    out.write(\"project_id,quality\\n\")\n",
      "    for row in data:\n",
      "        out.write(\"%s,%s\\n\" % row)"
     ],
     "language": "python",
     "metadata": {},
     "outputs": [],
     "prompt_number": 6
    },
    {
     "cell_type": "code",
     "collapsed": false,
     "input": [
      "num_a"
     ],
     "language": "python",
     "metadata": {},
     "outputs": [],
     "prompt_number": 39
    },
    {
     "cell_type": "code",
     "collapsed": false,
     "input": [],
     "language": "python",
     "metadata": {},
     "outputs": []
    }
   ],
   "metadata": {}
  }
 ]
}