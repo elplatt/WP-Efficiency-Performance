{
 "metadata": {
  "name": ""
 },
 "nbformat": 3,
 "nbformat_minor": 0,
 "worksheets": [
  {
   "cells": [
    {
     "cell_type": "code",
     "collapsed": false,
     "input": [
      "import json\n",
      "from sqlalchemy import func, select, sql\n",
      "import database\n",
      "import logbook"
     ],
     "language": "python",
     "metadata": {},
     "outputs": [],
     "prompt_number": 1
    },
    {
     "cell_type": "code",
     "collapsed": false,
     "input": [
      "project_file = \"data/projects-2016-10-14.json\"\n",
      "exp_name = \"11_find_performance\"\n",
      "out_file = \"fa_ga_transitions.csv\""
     ],
     "language": "python",
     "metadata": {},
     "outputs": [],
     "prompt_number": 2
    },
    {
     "cell_type": "code",
     "collapsed": false,
     "input": [
      "exp = logbook.Experiment(exp_name)\n",
      "log = exp.get_logger()"
     ],
     "language": "python",
     "metadata": {},
     "outputs": [],
     "prompt_number": 3
    },
    {
     "cell_type": "code",
     "collapsed": false,
     "input": [
      "log.info(\"Loading project info\")\n",
      "project_names = {}\n",
      "with open(project_file, \"rb\") as f:\n",
      "    for row in f:\n",
      "        d = json.loads(row)\n",
      "        project_names[d[\"project_id\"]] = d[\"project_name\"]"
     ],
     "language": "python",
     "metadata": {},
     "outputs": [],
     "prompt_number": 4
    },
    {
     "cell_type": "code",
     "collapsed": false,
     "input": [
      "log.info(\"Querying database\")\n",
      "ratings = database.schema.Rating.__table__\n",
      "conn = database.engine.connect()\n",
      "try:\n",
      "    to_ga = {}\n",
      "    to_fa = {}\n",
      "    # Count GA articles\n",
      "    log.info(\"  Counting GA transitions\")\n",
      "    stmt = select([ratings.c.project_id, func.count(ratings.c.internal_id)]) \\\n",
      "        .where(sql.and_(\n",
      "            ratings.c.new_quality == 'GA-Class',\n",
      "            ~ratings.c.old_quality.in_(['GA-Class', 'FA-Class']))) \\\n",
      "        .group_by(ratings.c.project_id)\n",
      "    results = conn.execute(stmt)\n",
      "    for project_id, num in results:\n",
      "        to_ga[project_id] = num\n",
      "    # Subtract transitions away from GA\n",
      "    log.info(\"  Counting transitions from GA\")\n",
      "    stmt = select([ratings.c.project_id, func.count(ratings.c.internal_id)]) \\\n",
      "        .where(sql.and_(\n",
      "            ratings.c.old_quality == 'GA-Class',\n",
      "            ~ratings.c.new_quality.in_(['GA-Class', 'FA-Class']))) \\\n",
      "        .group_by(ratings.c.project_id)\n",
      "    results = conn.execute(stmt)\n",
      "    for project_id, num in results:\n",
      "        try:\n",
      "            to_ga[project_id] -= num\n",
      "        except KeyError:\n",
      "            to_ga[project_id] = -num\n",
      "    # Count FA articles\n",
      "    log.info(\"  Counting FA transitions\")\n",
      "    stmt = select([ratings.c.project_id, func.count(ratings.c.internal_id)]) \\\n",
      "        .where(sql.and_(\n",
      "            ratings.c.new_quality == 'FA-Class',\n",
      "            ~ratings.c.old_quality.in_(['GA-Class', 'FA-Class']))) \\\n",
      "        .group_by(ratings.c.project_id)\n",
      "    results = conn.execute(stmt)\n",
      "    for project_id, num in results:\n",
      "        to_fa[project_id] = num\n",
      "    # Subtract transitions away from FA\n",
      "    log.info(\"  Counting transitions from FA\")\n",
      "    stmt = select([ratings.c.project_id, func.count(ratings.c.internal_id)]) \\\n",
      "        .where(sql.and_(\n",
      "            ratings.c.old_quality == 'FA-Class',\n",
      "            ~ratings.c.new_quality.in_(['GA-Class', 'FA-Class']))) \\\n",
      "        .group_by(ratings.c.project_id)\n",
      "    results = conn.execute(stmt)\n",
      "    for project_id, num in results:\n",
      "        try:\n",
      "            to_fa[project_id] -= num\n",
      "        except KeyError:\n",
      "            to_fa[project_id] = -num\n",
      "    log.info(\"Writing output\")\n",
      "    with open(exp.get_filename(out_file), \"wb\") as f:\n",
      "        f.write(\"project_id,to_ga,to_fa\\n\")\n",
      "        for project_id in sorted(project_names.keys()):\n",
      "            try:\n",
      "                ga = to_ga[project_id]\n",
      "            except KeyError:\n",
      "                ga = 0\n",
      "            try:\n",
      "                fa = to_fa[project_id]\n",
      "            except KeyError:\n",
      "                fa = 0\n",
      "            f.write(\",\".join([project_id, ga, fa]) + \"\\n\")\n",
      "    log.info(\"Completed successfully\")\n",
      "finally:\n",
      "    conn.close()"
     ],
     "language": "python",
     "metadata": {},
     "outputs": [],
     "prompt_number": 5
    },
    {
     "cell_type": "code",
     "collapsed": false,
     "input": [
      "with open(exp.get_filename(out_file), \"wb\") as f:\n",
      "    f.write(\"project_id,to_ga,to_fa\\n\")\n",
      "    for project_id in sorted(project_names.keys()):\n",
      "        try:\n",
      "            ga = to_ga[project_id]\n",
      "        except KeyError:\n",
      "            ga = 0\n",
      "        try:\n",
      "            fa = to_fa[project_id]\n",
      "        except KeyError:\n",
      "            fa = 0\n",
      "        f.write(\"%d,%d,%d\\n\" % (project_id, ga, fa))\n"
     ],
     "language": "python",
     "metadata": {},
     "outputs": [],
     "prompt_number": 9
    },
    {
     "cell_type": "code",
     "collapsed": false,
     "input": [],
     "language": "python",
     "metadata": {},
     "outputs": []
    }
   ],
   "metadata": {}
  }
 ]
}