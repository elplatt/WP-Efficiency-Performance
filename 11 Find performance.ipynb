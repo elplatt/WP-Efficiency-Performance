{
 "cells": [
  {
   "cell_type": "code",
   "execution_count": null,
   "metadata": {
    "collapsed": false
   },
   "outputs": [],
   "source": [
    "import json\n",
    "from sqlalchemy import func, select, sql\n",
    "import database\n",
    "import logbook"
   ]
  },
  {
   "cell_type": "code",
   "execution_count": null,
   "metadata": {
    "collapsed": false
   },
   "outputs": [],
   "source": [
    "project_file = \"data/projects-2016-10-14-dedup.json\"\n",
    "exp_name = \"11_find_performance\"\n",
    "out_file = \"fa_ga_transitions.csv\""
   ]
  },
  {
   "cell_type": "code",
   "execution_count": null,
   "metadata": {
    "collapsed": false
   },
   "outputs": [],
   "source": [
    "exp = logbook.Experiment(exp_name)\n",
    "log = exp.get_logger()"
   ]
  },
  {
   "cell_type": "code",
   "execution_count": null,
   "metadata": {
    "collapsed": false
   },
   "outputs": [],
   "source": [
    "log.info(\"Loading project info\")\n",
    "project_names = {}\n",
    "with open(project_file, \"rb\") as f:\n",
    "    for row in f:\n",
    "        d = json.loads(row)\n",
    "        project_names[d[\"project_id\"]] = d[\"project_name\"]"
   ]
  },
  {
   "cell_type": "code",
   "execution_count": null,
   "metadata": {
    "collapsed": false
   },
   "outputs": [],
   "source": [
    "log.info(\"Querying database\")\n",
    "ratings = database.schema.Rating.__table__\n",
    "conn = database.engine.connect()\n",
    "try:\n",
    "    to_ga = {}\n",
    "    to_fa = {}\n",
    "    from_fa = {}\n",
    "    from_ga = {}\n",
    "    # Count GA articles\n",
    "    log.info(\"  Counting GA transitions\")\n",
    "    stmt = select([ratings.c.project_id, func.count(ratings.c.internal_id)]) \\\n",
    "        .where(sql.and_(\n",
    "            sql.and_(\n",
    "                ratings.c.new_quality == 'GA-Class',\n",
    "                ~ratings.c.old_quality.in_(['GA-Class', 'FA-Class', ''])),\n",
    "            ~ratings.c.added_ga)) \\\n",
    "        .group_by(ratings.c.project_id)\n",
    "    results = conn.execute(stmt)\n",
    "    for project_id, num in results:\n",
    "        to_ga[project_id] = num\n",
    "    # Subtract transitions away from GA\n",
    "    log.info(\"  Counting transitions from GA\")\n",
    "    stmt = select([ratings.c.project_id, func.count(ratings.c.internal_id)]) \\\n",
    "        .where(sql.and_(\n",
    "            sql.and_(\n",
    "                ratings.c.old_quality == 'GA-Class',\n",
    "                ~ratings.c.new_quality.in_(['GA-Class', 'FA-Class'])),\n",
    "            ~ratings.c.added_ga)) \\\n",
    "        .group_by(ratings.c.project_id)\n",
    "    results = conn.execute(stmt)\n",
    "    for project_id, num in results:\n",
    "        from_ga[project_id] = num\n",
    "    # Count FA articles\n",
    "    log.info(\"  Counting FA transitions\")\n",
    "    stmt = select([ratings.c.project_id, func.count(ratings.c.internal_id)]) \\\n",
    "        .where(sql.and_(\n",
    "            sql.and_(\n",
    "                ratings.c.new_quality == 'FA-Class',\n",
    "                ~ratings.c.old_quality.in_(['GA-Class', 'FA-Class', ''])),\n",
    "            ~ratings.c.added_ga)) \\\n",
    "        .group_by(ratings.c.project_id)\n",
    "    results = conn.execute(stmt)\n",
    "    for project_id, num in results:\n",
    "        to_fa[project_id] = num\n",
    "    # Subtract transitions away from FA\n",
    "    log.info(\"  Counting transitions from FA\")\n",
    "    stmt = select([ratings.c.project_id, func.count(ratings.c.internal_id)]) \\\n",
    "        .where(sql.and_(\n",
    "            sql.and_(\n",
    "                ratings.c.old_quality == 'FA-Class',\n",
    "                ~ratings.c.new_quality.in_(['GA-Class', 'FA-Class'])),\n",
    "            ~ratings.c.added_ga)) \\\n",
    "        .group_by(ratings.c.project_id)\n",
    "    results = conn.execute(stmt)\n",
    "    for project_id, num in results:\n",
    "        from_fa[project_id] = num\n",
    "    log.info(\"Writing output\")\n",
    "    with open(exp.get_filename(out_file), \"wb\") as f:\n",
    "        f.write(\"project_id,to_ga,to_fa,from_ga,from_fa\\n\")\n",
    "        for project_id in sorted(project_names.keys()):\n",
    "            try:\n",
    "                ga = to_ga[project_id]\n",
    "            except KeyError:\n",
    "                ga = 0\n",
    "            try:\n",
    "                fa = to_fa[project_id]\n",
    "            except KeyError:\n",
    "                fa = 0\n",
    "            fga = from_ga.get(project_id, 0)\n",
    "            ffa = from_fa.get(project_id, 0)\n",
    "            f.write(\"%d,%d,%d,%d,%d\\n\" % (project_id, ga, fa, fga, ffa))\n",
    "    log.info(\"Completed successfully\")\n",
    "finally:\n",
    "    conn.close()"
   ]
  },
  {
   "cell_type": "code",
   "execution_count": null,
   "metadata": {
    "collapsed": true
   },
   "outputs": [],
   "source": []
  }
 ],
 "metadata": {
  "kernelspec": {
   "display_name": "Python 2",
   "language": "python",
   "name": "python2"
  },
  "language_info": {
   "codemirror_mode": {
    "name": "ipython",
    "version": 2
   },
   "file_extension": ".py",
   "mimetype": "text/x-python",
   "name": "python",
   "nbconvert_exporter": "python",
   "pygments_lexer": "ipython2",
   "version": "2.7.6"
  }
 },
 "nbformat": 4,
 "nbformat_minor": 0
}
