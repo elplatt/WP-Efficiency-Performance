{
 "cells": [
  {
   "cell_type": "code",
   "execution_count": 1,
   "metadata": {
    "collapsed": false
   },
   "outputs": [],
   "source": [
    "import calendar\n",
    "import codecs\n",
    "import datetime\n",
    "import dateutil\n",
    "import json\n",
    "import sys\n",
    "import msgpack\n",
    "from sqlalchemy import and_, select\n",
    "import database\n",
    "import logbook"
   ]
  },
  {
   "cell_type": "code",
   "execution_count": 2,
   "metadata": {
    "collapsed": false
   },
   "outputs": [],
   "source": [
    "exp_name = \"07_create_article_project_map\"\n",
    "project_file = \"data/projects-2016-10-14.json\"\n",
    "skip_assess_file = \"skipped_assessments.tsv\"\n",
    "skip_timespan_file = \"skipped_timespans.tsv\"\n",
    "out_file = \"articles_projects.m\"\n",
    "dump_dt = 1459468800 # \"2016-04-01T00:00:00Z\"\n",
    "exp = logbook.Experiment(exp_name)"
   ]
  },
  {
   "cell_type": "code",
   "execution_count": 3,
   "metadata": {
    "collapsed": false
   },
   "outputs": [],
   "source": [
    "project_names = {}\n",
    "with open(project_file, \"rb\") as f:\n",
    "    for row in f:\n",
    "        d = json.loads(row)\n",
    "        project_names[d[\"project_id\"]] = d[\"project_name\"]"
   ]
  },
  {
   "cell_type": "code",
   "execution_count": 4,
   "metadata": {
    "collapsed": false
   },
   "outputs": [],
   "source": [
    "def get_article_dates(project_id, conn, skipped):\n",
    "    '''Return list of (article_name_utf8, start_time, end_time).'''\n",
    "    tab = database.schema.Rating.__table__\n",
    "    stmt = select([\n",
    "            tab.c.action,\n",
    "            tab.c.timestamp,\n",
    "            tab.c.article_name,\n",
    "            tab.c.new_article_name]) \\\n",
    "        .where(tab.c.project_id == project_id) \\\n",
    "        .order_by(tab.c.timestamp)\n",
    "    result = conn.execute(stmt)\n",
    "    article_start = {}\n",
    "    names_dates = []\n",
    "    for row in result:\n",
    "        action_utf8, timestamp, article_name_utf8, new_article_name_utf8 = row\n",
    "        talk_name_utf8 = \"Talk:%s\" % article_name_utf8\n",
    "        new_talk_name_utf8 = \"Talk:%s\" % article_name_utf8\n",
    "        if action_utf8 == \"Renamed\":\n",
    "            # Track the article's name change\n",
    "            try:\n",
    "                # Get timestamp for start of previous name\n",
    "                start = article_start[article_name_utf8]\n",
    "                del article_start[article_name_utf8]\n",
    "            except KeyError:\n",
    "                skipped.write(u\"\\t\".join([str(x).decode('utf-8') for x in row]) + u\"\\n\")\n",
    "                continue\n",
    "            names_dates.append( (article_name_utf8, start, timestamp) )\n",
    "            article_start[new_article_name_utf8] = timestamp\n",
    "            # Also track talk page\n",
    "            try:\n",
    "                # Get timestamp for start of previous name\n",
    "                talk_start = article_start[talk_name_utf8]\n",
    "                del article_start[talk_name_utf8]\n",
    "            except KeyError:\n",
    "                talk_data = [action_utf8, timestamp, talk_name_utf8, new_talk_name_utf8]\n",
    "                skipped.write(u\"\\t\".join([str(x).decode('utf-8') for x in talk_data]) + u\"\\n\")\n",
    "            names_dates.append( (talk_name_utf8, start, timestamp) )\n",
    "            article_start[new_talk_name_utf8] = timestamp\n",
    "        elif action_utf8 == \"Removed\":\n",
    "            # Track article removal\n",
    "            try:\n",
    "                # Get timestamp for start of previous name\n",
    "                start = article_start[article_name_utf8]\n",
    "                del article_start[article_name_utf8]\n",
    "            except KeyError:\n",
    "                skipped.write(u\"\\t\".join([str(x).decode('utf8') for x in row]) + u\"\\n\")\n",
    "                continue\n",
    "            names_dates.append( (article_name_utf8, start, timestamp) )\n",
    "            # Also track talk page\n",
    "            try:\n",
    "                # Get timestamp for start of previous name\n",
    "                talk_start = article_start[talk_name_utf8]\n",
    "                del article_start[talk_name_utf8]\n",
    "            except KeyError:\n",
    "                talk_data = [action_utf8, timestamp, talk_name_utf8, new_talk_name_utf8]\n",
    "                skipped.write(u\"\\t\".join([str(x).decode('utf-8') for x in talk_data]) + u\"\\n\")\n",
    "            names_dates.append( (talk_name_utf8, start, timestamp) )\n",
    "        elif article_name_utf8 not in article_start:\n",
    "            article_start[article_name_utf8] = timestamp\n",
    "            article_start[talk_name_utf8] = timestamp\n",
    "    # If articles are started but not renamed or removed, use the dump date\n",
    "    for article_name_utf8, start in article_start.iteritems():\n",
    "        names_dates.append( (article_name_utf8, start, dump_dt) )\n",
    "    return names_dates"
   ]
  },
  {
   "cell_type": "code",
   "execution_count": 5,
   "metadata": {
    "collapsed": false
   },
   "outputs": [],
   "source": [
    "def get_id_dates(names_dates, conn, skipped):\n",
    "    '''Get article_id for each article_name and timespan.\n",
    "    Returns {id => [from_ts1, to_ts1, from_ts2, from_ts2, ...]}.\n",
    "    '''\n",
    "    tab = database.schema.article_name_id\n",
    "    id_dates = {}\n",
    "    for row in names_dates:\n",
    "        article_name_utf8, from_ts, to_ts = row\n",
    "        # Use midpoint to look up id in case ends are mismatched\n",
    "        mid_ts = (from_ts + to_ts) / 2\n",
    "        mid_dt = datetime.datetime.utcfromtimestamp(mid_ts)\n",
    "        stmt = select([tab.c.article_id]) \\\n",
    "            .where(and_(\n",
    "                tab.c.article_name == article_name_utf8,\n",
    "                tab.c.from_ts < mid_dt,\n",
    "                tab.c.to_ts > mid_dt))\n",
    "        result = conn.execute(stmt)\n",
    "        try:\n",
    "            article_id = result.fetchone()[0]\n",
    "        except TypeError:\n",
    "            skipped.write(u\"\\t\".join([str(x).decode('utf-8') for x in row]) + u\"\\n\")\n",
    "            continue\n",
    "        try:\n",
    "            id_dates[article_id].append(from_ts)\n",
    "            id_dates[article_id].append(to_ts)\n",
    "        except KeyError:\n",
    "            id_dates[article_id] = [from_ts, to_ts]\n",
    "    return id_dates"
   ]
  },
  {
   "cell_type": "code",
   "execution_count": 6,
   "metadata": {
    "collapsed": false
   },
   "outputs": [
    {
     "name": "stderr",
     "output_type": "stream",
     "text": [
      "No handlers could be found for logger \"sqlalchemy.pool.QueuePool\"\n"
     ]
    },
    {
     "ename": "KeyboardInterrupt",
     "evalue": "",
     "output_type": "error",
     "traceback": [
      "\u001b[0;31m---------------------------------------------------------------------------\u001b[0m",
      "\u001b[0;31mKeyboardInterrupt\u001b[0m                         Traceback (most recent call last)",
      "\u001b[0;32m<ipython-input-6-fd99fab01758>\u001b[0m in \u001b[0;36m<module>\u001b[0;34m()\u001b[0m\n\u001b[1;32m     16\u001b[0m         \u001b[0mlog\u001b[0m\u001b[0;34m.\u001b[0m\u001b[0minfo\u001b[0m\u001b[0;34m(\u001b[0m\u001b[0;34m\"  Finding ids\"\u001b[0m\u001b[0;34m)\u001b[0m\u001b[0;34m\u001b[0m\u001b[0m\n\u001b[1;32m     17\u001b[0m         \u001b[0;31m# Get article ids and the list of timespans they were in the project\u001b[0m\u001b[0;34m\u001b[0m\u001b[0;34m\u001b[0m\u001b[0m\n\u001b[0;32m---> 18\u001b[0;31m         \u001b[0mid_dates\u001b[0m \u001b[0;34m=\u001b[0m \u001b[0mget_id_dates\u001b[0m\u001b[0;34m(\u001b[0m\u001b[0mnames_dates\u001b[0m\u001b[0;34m,\u001b[0m \u001b[0mconn\u001b[0m\u001b[0;34m,\u001b[0m \u001b[0mskipped_timespan\u001b[0m\u001b[0;34m)\u001b[0m\u001b[0;34m\u001b[0m\u001b[0m\n\u001b[0m\u001b[1;32m     19\u001b[0m         \u001b[0mlog\u001b[0m\u001b[0;34m.\u001b[0m\u001b[0minfo\u001b[0m\u001b[0;34m(\u001b[0m\u001b[0;34m\"  Combining ids\"\u001b[0m\u001b[0;34m)\u001b[0m\u001b[0;34m\u001b[0m\u001b[0m\n\u001b[1;32m     20\u001b[0m         \u001b[0;31m# Iterate through id -> timespan entries\u001b[0m\u001b[0;34m\u001b[0m\u001b[0;34m\u001b[0m\u001b[0m\n",
      "\u001b[0;32m<ipython-input-5-1739e34b51d1>\u001b[0m in \u001b[0;36mget_id_dates\u001b[0;34m(names_dates, conn, skipped)\u001b[0m\n\u001b[1;32m     14\u001b[0m                 \u001b[0mtab\u001b[0m\u001b[0;34m.\u001b[0m\u001b[0mc\u001b[0m\u001b[0;34m.\u001b[0m\u001b[0mfrom_ts\u001b[0m \u001b[0;34m<\u001b[0m \u001b[0mmid_dt\u001b[0m\u001b[0;34m,\u001b[0m\u001b[0;34m\u001b[0m\u001b[0m\n\u001b[1;32m     15\u001b[0m                 tab.c.to_ts > mid_dt))\n\u001b[0;32m---> 16\u001b[0;31m         \u001b[0mresult\u001b[0m \u001b[0;34m=\u001b[0m \u001b[0mconn\u001b[0m\u001b[0;34m.\u001b[0m\u001b[0mexecute\u001b[0m\u001b[0;34m(\u001b[0m\u001b[0mstmt\u001b[0m\u001b[0;34m)\u001b[0m\u001b[0;34m\u001b[0m\u001b[0m\n\u001b[0m\u001b[1;32m     17\u001b[0m         \u001b[0;32mtry\u001b[0m\u001b[0;34m:\u001b[0m\u001b[0;34m\u001b[0m\u001b[0m\n\u001b[1;32m     18\u001b[0m             \u001b[0marticle_id\u001b[0m \u001b[0;34m=\u001b[0m \u001b[0mresult\u001b[0m\u001b[0;34m.\u001b[0m\u001b[0mfetchone\u001b[0m\u001b[0;34m(\u001b[0m\u001b[0;34m)\u001b[0m\u001b[0;34m[\u001b[0m\u001b[0;36m0\u001b[0m\u001b[0;34m]\u001b[0m\u001b[0;34m\u001b[0m\u001b[0m\n",
      "\u001b[0;32m/home/elplatt/NetFT/venv/local/lib/python2.7/site-packages/sqlalchemy/engine/base.pyc\u001b[0m in \u001b[0;36mexecute\u001b[0;34m(self, object, *multiparams, **params)\u001b[0m\n\u001b[1;32m    912\u001b[0m                 type(object))\n\u001b[1;32m    913\u001b[0m         \u001b[0;32melse\u001b[0m\u001b[0;34m:\u001b[0m\u001b[0;34m\u001b[0m\u001b[0m\n\u001b[0;32m--> 914\u001b[0;31m             \u001b[0;32mreturn\u001b[0m \u001b[0mmeth\u001b[0m\u001b[0;34m(\u001b[0m\u001b[0mself\u001b[0m\u001b[0;34m,\u001b[0m \u001b[0mmultiparams\u001b[0m\u001b[0;34m,\u001b[0m \u001b[0mparams\u001b[0m\u001b[0;34m)\u001b[0m\u001b[0;34m\u001b[0m\u001b[0m\n\u001b[0m\u001b[1;32m    915\u001b[0m \u001b[0;34m\u001b[0m\u001b[0m\n\u001b[1;32m    916\u001b[0m     \u001b[0;32mdef\u001b[0m \u001b[0m_execute_function\u001b[0m\u001b[0;34m(\u001b[0m\u001b[0mself\u001b[0m\u001b[0;34m,\u001b[0m \u001b[0mfunc\u001b[0m\u001b[0;34m,\u001b[0m \u001b[0mmultiparams\u001b[0m\u001b[0;34m,\u001b[0m \u001b[0mparams\u001b[0m\u001b[0;34m)\u001b[0m\u001b[0;34m:\u001b[0m\u001b[0;34m\u001b[0m\u001b[0m\n",
      "\u001b[0;32m/home/elplatt/NetFT/venv/local/lib/python2.7/site-packages/sqlalchemy/sql/elements.pyc\u001b[0m in \u001b[0;36m_execute_on_connection\u001b[0;34m(self, connection, multiparams, params)\u001b[0m\n\u001b[1;32m    321\u001b[0m \u001b[0;34m\u001b[0m\u001b[0m\n\u001b[1;32m    322\u001b[0m     \u001b[0;32mdef\u001b[0m \u001b[0m_execute_on_connection\u001b[0m\u001b[0;34m(\u001b[0m\u001b[0mself\u001b[0m\u001b[0;34m,\u001b[0m \u001b[0mconnection\u001b[0m\u001b[0;34m,\u001b[0m \u001b[0mmultiparams\u001b[0m\u001b[0;34m,\u001b[0m \u001b[0mparams\u001b[0m\u001b[0;34m)\u001b[0m\u001b[0;34m:\u001b[0m\u001b[0;34m\u001b[0m\u001b[0m\n\u001b[0;32m--> 323\u001b[0;31m         \u001b[0;32mreturn\u001b[0m \u001b[0mconnection\u001b[0m\u001b[0;34m.\u001b[0m\u001b[0m_execute_clauseelement\u001b[0m\u001b[0;34m(\u001b[0m\u001b[0mself\u001b[0m\u001b[0;34m,\u001b[0m \u001b[0mmultiparams\u001b[0m\u001b[0;34m,\u001b[0m \u001b[0mparams\u001b[0m\u001b[0;34m)\u001b[0m\u001b[0;34m\u001b[0m\u001b[0m\n\u001b[0m\u001b[1;32m    324\u001b[0m \u001b[0;34m\u001b[0m\u001b[0m\n\u001b[1;32m    325\u001b[0m     \u001b[0;32mdef\u001b[0m \u001b[0munique_params\u001b[0m\u001b[0;34m(\u001b[0m\u001b[0mself\u001b[0m\u001b[0;34m,\u001b[0m \u001b[0;34m*\u001b[0m\u001b[0moptionaldict\u001b[0m\u001b[0;34m,\u001b[0m \u001b[0;34m**\u001b[0m\u001b[0mkwargs\u001b[0m\u001b[0;34m)\u001b[0m\u001b[0;34m:\u001b[0m\u001b[0;34m\u001b[0m\u001b[0m\n",
      "\u001b[0;32m/home/elplatt/NetFT/venv/local/lib/python2.7/site-packages/sqlalchemy/engine/base.pyc\u001b[0m in \u001b[0;36m_execute_clauseelement\u001b[0;34m(self, elem, multiparams, params)\u001b[0m\n\u001b[1;32m   1008\u001b[0m             \u001b[0mcompiled_sql\u001b[0m\u001b[0;34m,\u001b[0m\u001b[0;34m\u001b[0m\u001b[0m\n\u001b[1;32m   1009\u001b[0m             \u001b[0mdistilled_params\u001b[0m\u001b[0;34m,\u001b[0m\u001b[0;34m\u001b[0m\u001b[0m\n\u001b[0;32m-> 1010\u001b[0;31m             \u001b[0mcompiled_sql\u001b[0m\u001b[0;34m,\u001b[0m \u001b[0mdistilled_params\u001b[0m\u001b[0;34m\u001b[0m\u001b[0m\n\u001b[0m\u001b[1;32m   1011\u001b[0m         )\n\u001b[1;32m   1012\u001b[0m         \u001b[0;32mif\u001b[0m \u001b[0mself\u001b[0m\u001b[0;34m.\u001b[0m\u001b[0m_has_events\u001b[0m \u001b[0;32mor\u001b[0m \u001b[0mself\u001b[0m\u001b[0;34m.\u001b[0m\u001b[0mengine\u001b[0m\u001b[0;34m.\u001b[0m\u001b[0m_has_events\u001b[0m\u001b[0;34m:\u001b[0m\u001b[0;34m\u001b[0m\u001b[0m\n",
      "\u001b[0;32m/home/elplatt/NetFT/venv/local/lib/python2.7/site-packages/sqlalchemy/engine/base.pyc\u001b[0m in \u001b[0;36m_execute_context\u001b[0;34m(self, dialect, constructor, statement, parameters, *args)\u001b[0m\n\u001b[1;32m   1137\u001b[0m                         \u001b[0mstatement\u001b[0m\u001b[0;34m,\u001b[0m\u001b[0;34m\u001b[0m\u001b[0m\n\u001b[1;32m   1138\u001b[0m                         \u001b[0mparameters\u001b[0m\u001b[0;34m,\u001b[0m\u001b[0;34m\u001b[0m\u001b[0m\n\u001b[0;32m-> 1139\u001b[0;31m                         context)\n\u001b[0m\u001b[1;32m   1140\u001b[0m         \u001b[0;32mexcept\u001b[0m \u001b[0mException\u001b[0m \u001b[0;32mas\u001b[0m \u001b[0me\u001b[0m\u001b[0;34m:\u001b[0m\u001b[0;34m\u001b[0m\u001b[0m\n\u001b[1;32m   1141\u001b[0m             self._handle_dbapi_exception(\n",
      "\u001b[0;32m/home/elplatt/NetFT/venv/local/lib/python2.7/site-packages/sqlalchemy/engine/default.pyc\u001b[0m in \u001b[0;36mdo_execute\u001b[0;34m(self, cursor, statement, parameters, context)\u001b[0m\n\u001b[1;32m    448\u001b[0m \u001b[0;34m\u001b[0m\u001b[0m\n\u001b[1;32m    449\u001b[0m     \u001b[0;32mdef\u001b[0m \u001b[0mdo_execute\u001b[0m\u001b[0;34m(\u001b[0m\u001b[0mself\u001b[0m\u001b[0;34m,\u001b[0m \u001b[0mcursor\u001b[0m\u001b[0;34m,\u001b[0m \u001b[0mstatement\u001b[0m\u001b[0;34m,\u001b[0m \u001b[0mparameters\u001b[0m\u001b[0;34m,\u001b[0m \u001b[0mcontext\u001b[0m\u001b[0;34m=\u001b[0m\u001b[0mNone\u001b[0m\u001b[0;34m)\u001b[0m\u001b[0;34m:\u001b[0m\u001b[0;34m\u001b[0m\u001b[0m\n\u001b[0;32m--> 450\u001b[0;31m         \u001b[0mcursor\u001b[0m\u001b[0;34m.\u001b[0m\u001b[0mexecute\u001b[0m\u001b[0;34m(\u001b[0m\u001b[0mstatement\u001b[0m\u001b[0;34m,\u001b[0m \u001b[0mparameters\u001b[0m\u001b[0;34m)\u001b[0m\u001b[0;34m\u001b[0m\u001b[0m\n\u001b[0m\u001b[1;32m    451\u001b[0m \u001b[0;34m\u001b[0m\u001b[0m\n\u001b[1;32m    452\u001b[0m     \u001b[0;32mdef\u001b[0m \u001b[0mdo_execute_no_params\u001b[0m\u001b[0;34m(\u001b[0m\u001b[0mself\u001b[0m\u001b[0;34m,\u001b[0m \u001b[0mcursor\u001b[0m\u001b[0;34m,\u001b[0m \u001b[0mstatement\u001b[0m\u001b[0;34m,\u001b[0m \u001b[0mcontext\u001b[0m\u001b[0;34m=\u001b[0m\u001b[0mNone\u001b[0m\u001b[0;34m)\u001b[0m\u001b[0;34m:\u001b[0m\u001b[0;34m\u001b[0m\u001b[0m\n",
      "\u001b[0;32m/home/elplatt/NetFT/venv/local/lib/python2.7/site-packages/MySQLdb/cursors.pyc\u001b[0m in \u001b[0;36mexecute\u001b[0;34m(self, query, args)\u001b[0m\n\u001b[1;32m    188\u001b[0m         \u001b[0;32mtry\u001b[0m\u001b[0;34m:\u001b[0m\u001b[0;34m\u001b[0m\u001b[0m\n\u001b[1;32m    189\u001b[0m             \u001b[0mr\u001b[0m \u001b[0;34m=\u001b[0m \u001b[0mNone\u001b[0m\u001b[0;34m\u001b[0m\u001b[0m\n\u001b[0;32m--> 190\u001b[0;31m             \u001b[0mr\u001b[0m \u001b[0;34m=\u001b[0m \u001b[0mself\u001b[0m\u001b[0;34m.\u001b[0m\u001b[0m_query\u001b[0m\u001b[0;34m(\u001b[0m\u001b[0mquery\u001b[0m\u001b[0;34m)\u001b[0m\u001b[0;34m\u001b[0m\u001b[0m\n\u001b[0m\u001b[1;32m    191\u001b[0m         \u001b[0;32mexcept\u001b[0m \u001b[0mTypeError\u001b[0m\u001b[0;34m,\u001b[0m \u001b[0mm\u001b[0m\u001b[0;34m:\u001b[0m\u001b[0;34m\u001b[0m\u001b[0m\n\u001b[1;32m    192\u001b[0m             if m.args[0] in (\"not enough arguments for format string\",\n",
      "\u001b[0;32m/home/elplatt/NetFT/venv/local/lib/python2.7/site-packages/MySQLdb/cursors.pyc\u001b[0m in \u001b[0;36m_query\u001b[0;34m(self, q)\u001b[0m\n\u001b[1;32m    352\u001b[0m \u001b[0;34m\u001b[0m\u001b[0m\n\u001b[1;32m    353\u001b[0m     \u001b[0;32mdef\u001b[0m \u001b[0m_query\u001b[0m\u001b[0;34m(\u001b[0m\u001b[0mself\u001b[0m\u001b[0;34m,\u001b[0m \u001b[0mq\u001b[0m\u001b[0;34m)\u001b[0m\u001b[0;34m:\u001b[0m\u001b[0;34m\u001b[0m\u001b[0m\n\u001b[0;32m--> 354\u001b[0;31m         \u001b[0mrowcount\u001b[0m \u001b[0;34m=\u001b[0m \u001b[0mself\u001b[0m\u001b[0;34m.\u001b[0m\u001b[0m_do_query\u001b[0m\u001b[0;34m(\u001b[0m\u001b[0mq\u001b[0m\u001b[0;34m)\u001b[0m\u001b[0;34m\u001b[0m\u001b[0m\n\u001b[0m\u001b[1;32m    355\u001b[0m         \u001b[0mself\u001b[0m\u001b[0;34m.\u001b[0m\u001b[0m_post_get_result\u001b[0m\u001b[0;34m(\u001b[0m\u001b[0;34m)\u001b[0m\u001b[0;34m\u001b[0m\u001b[0m\n\u001b[1;32m    356\u001b[0m         \u001b[0;32mreturn\u001b[0m \u001b[0mrowcount\u001b[0m\u001b[0;34m\u001b[0m\u001b[0m\n",
      "\u001b[0;32m/home/elplatt/NetFT/venv/local/lib/python2.7/site-packages/MySQLdb/cursors.pyc\u001b[0m in \u001b[0;36m_do_query\u001b[0;34m(self, q)\u001b[0m\n\u001b[1;32m    316\u001b[0m         \u001b[0mdb\u001b[0m \u001b[0;34m=\u001b[0m \u001b[0mself\u001b[0m\u001b[0;34m.\u001b[0m\u001b[0m_get_db\u001b[0m\u001b[0;34m(\u001b[0m\u001b[0;34m)\u001b[0m\u001b[0;34m\u001b[0m\u001b[0m\n\u001b[1;32m    317\u001b[0m         \u001b[0mself\u001b[0m\u001b[0;34m.\u001b[0m\u001b[0m_last_executed\u001b[0m \u001b[0;34m=\u001b[0m \u001b[0mq\u001b[0m\u001b[0;34m\u001b[0m\u001b[0m\n\u001b[0;32m--> 318\u001b[0;31m         \u001b[0mdb\u001b[0m\u001b[0;34m.\u001b[0m\u001b[0mquery\u001b[0m\u001b[0;34m(\u001b[0m\u001b[0mq\u001b[0m\u001b[0;34m)\u001b[0m\u001b[0;34m\u001b[0m\u001b[0m\n\u001b[0m\u001b[1;32m    319\u001b[0m         \u001b[0mself\u001b[0m\u001b[0;34m.\u001b[0m\u001b[0m_do_get_result\u001b[0m\u001b[0;34m(\u001b[0m\u001b[0;34m)\u001b[0m\u001b[0;34m\u001b[0m\u001b[0m\n\u001b[1;32m    320\u001b[0m         \u001b[0;32mreturn\u001b[0m \u001b[0mself\u001b[0m\u001b[0;34m.\u001b[0m\u001b[0mrowcount\u001b[0m\u001b[0;34m\u001b[0m\u001b[0m\n",
      "\u001b[0;31mKeyboardInterrupt\u001b[0m: "
     ]
    }
   ],
   "source": [
    "log = exp.get_logger()\n",
    "log.info(\"Beginning\")\n",
    "skipped_assess = codecs.open(exp.get_filename(skip_assess_file), \"w\", encoding=\"utf-16-le\")\n",
    "skipped_timespan = codecs.open(exp.get_filename(skip_timespan_file), \"w\", encoding=\"utf-16-le\")\n",
    "conn = database.engine.connect()\n",
    "try:\n",
    "    #id_projects = {article_id: { project_id: [start, stop] } }\n",
    "    id_projects = {}\n",
    "    # Iterate through projects\n",
    "    for project_id in project_names.iterkeys():\n",
    "        log.info(u\"Project %d: %s\" % (project_id, project_names[project_id]))\n",
    "        log.info(\"  Finding timespans\")\n",
    "        # Get all article names in the project and the timespans they were in the project\n",
    "        # with that name\n",
    "        names_dates = get_article_dates(project_id, conn, skipped_assess)\n",
    "        log.info(\"  Finding ids\")\n",
    "        # Get article ids and the list of timespans they were in the project\n",
    "        id_dates = get_id_dates(names_dates, conn, skipped_timespan)\n",
    "        log.info(\"  Combining ids\")\n",
    "        # Iterate through id -> timespan entries\n",
    "        # Combine multiple timespans into single\n",
    "        for article_id, article_dates in id_dates.iteritems():\n",
    "            start = min(article_dates)\n",
    "            end = max(article_dates)\n",
    "            # Get existing list of projects \n",
    "            try:\n",
    "                project_times = id_projects[article_id]\n",
    "            except KeyError:\n",
    "                project_times = {}\n",
    "                id_projects[article_id] = project_times\n",
    "            project_times[project_id] = [start, end]\n",
    "    log.info(\"Writing output\")\n",
    "    with open(exp.get_filename(out_file), \"wb\") as f:\n",
    "        f.write(msgpack.packb(id_projects))\n",
    "    log.info(\"Complete, cleaning up...\")\n",
    "except:\n",
    "    log.error(str(sys.exc_info()))\n",
    "    raise\n",
    "finally:\n",
    "    skipped_assess.close()\n",
    "    skipped_timespan.close()\n",
    "    conn.close()"
   ]
  },
  {
   "cell_type": "code",
   "execution_count": null,
   "metadata": {
    "collapsed": false
   },
   "outputs": [],
   "source": []
  }
 ],
 "metadata": {
  "kernelspec": {
   "display_name": "Python 2",
   "language": "python",
   "name": "python2"
  },
  "language_info": {
   "codemirror_mode": {
    "name": "ipython",
    "version": 2
   },
   "file_extension": ".py",
   "mimetype": "text/x-python",
   "name": "python",
   "nbconvert_exporter": "python",
   "pygments_lexer": "ipython2",
   "version": "2.7.6"
  }
 },
 "nbformat": 4,
 "nbformat_minor": 0
}
