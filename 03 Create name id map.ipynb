{
 "cells": [
  {
   "cell_type": "code",
   "execution_count": null,
   "metadata": {
    "collapsed": false
   },
   "outputs": [],
   "source": [
    "import codecs\n",
    "import datetime\n",
    "import dateutil\n",
    "import msgpack\n",
    "from sqlalchemy import select\n",
    "import database\n",
    "from database.schema import article_name_id\n",
    "import logbook"
   ]
  },
  {
   "cell_type": "code",
   "execution_count": null,
   "metadata": {
    "collapsed": false
   },
   "outputs": [],
   "source": [
    "infile = \"output/02_sort_rename_map/2016-10-12 13:21:44 a340754/sorted_rename_map.m\"\n",
    "skipfile = \"skipped.utf-16-le.tsv\"\n",
    "dumptime = dateutil.parser.parse(\"2016-09-20T00:00:00Z\")\n",
    "starttime = dateutil.parser.parse(\"2001-01-15T00:00:00Z\")\n",
    "exp_name = \"03_create_name_id_map\"\n",
    "exp = logbook.Experiment(exp_name)\n",
    "log = exp.get_logger()"
   ]
  },
  {
   "cell_type": "code",
   "execution_count": null,
   "metadata": {
    "collapsed": false
   },
   "outputs": [],
   "source": [
    "exclude_namespaces = set([\n",
    "    'User', 'User talk',\n",
    "    'Wikipedia', 'Wikipedia talk',\n",
    "    'WP', 'WP talk',\n",
    "    'Project', 'Project talk',\n",
    "    'File', 'File talk',\n",
    "    'Image', 'Image talk',\n",
    "    'MediaWiki', 'MediaWiki talk',\n",
    "    'Template', 'Template talk',\n",
    "    'Help', 'Help talk',\n",
    "    'Category', 'Category talk',\n",
    "    'Portal', 'Portal talk',\n",
    "    'Book', 'Book talk',\n",
    "    'Draft', 'Draft talk',\n",
    "    'Education Program', 'Education Program talk',\n",
    "    'TimedText', 'TimedText talk',\n",
    "    'Module', 'Module talk',\n",
    "    'Topic', 'Topic talk',\n",
    "    'Gadget', 'Gadget talk',\n",
    "    'Special', 'Special talk',\n",
    "    'Media', 'Media talk'\n",
    "])"
   ]
  },
  {
   "cell_type": "code",
   "execution_count": null,
   "metadata": {
    "collapsed": false
   },
   "outputs": [],
   "source": [
    "log.info(\"Reading rename map\")\n",
    "with open(infile, \"rb\") as f:\n",
    "    rename_map = msgpack.unpackb(f.read())\n",
    "log.info(\"  Done\")"
   ]
  },
  {
   "cell_type": "code",
   "execution_count": null,
   "metadata": {
    "collapsed": false
   },
   "outputs": [],
   "source": [
    "log.info(\"Decoding unicode in rename map\")\n",
    "for i in range(len(rename_map[\"timestamp\"])):\n",
    "    rename_map[\"old_name\"][i] = rename_map[\"old_name\"][i].decode(\"utf-8\")\n",
    "    rename_map[\"new_name\"][i] = rename_map[\"new_name\"][i].decode(\"utf-8\")\n",
    "    # No need to decode timestamp because it's in ascii\n",
    "log.info(\"  Done\")"
   ]
  },
  {
   "cell_type": "code",
   "execution_count": null,
   "metadata": {
    "collapsed": false
   },
   "outputs": [],
   "source": [
    "log.info(\"Querying database for page ids\")\n",
    "conn = database.engine.connect()\n",
    "page_table = database.schema.WP_Page.__table__\n",
    "stmt = select([\n",
    "        page_table.c.page_id,\n",
    "        page_table.c.page_namespace,\n",
    "        page_table.c.page_title],) \\\n",
    "    .where(page_table.c.page_namespace.in_([0,1]))\n",
    "result = conn.execute(stmt)"
   ]
  },
  {
   "cell_type": "code",
   "execution_count": null,
   "metadata": {
    "collapsed": false
   },
   "outputs": [],
   "source": [
    "log.info(\"  Processing query results\")\n",
    "pending = {}\n",
    "# Keep track of ending date of name-id pairs\n",
    "# For current names use date of dump\n",
    "for row in result:\n",
    "    page_id = row[0]\n",
    "    page_namespace = row[1]\n",
    "    page_title = row[2].decode(\"utf-8\").replace(u'_', u' ')\n",
    "    if page_namespace == 1:\n",
    "        title = u\"Talk:%s\" % page_title\n",
    "    else:\n",
    "        title = page_title\n",
    "    pending[title] = (page_id, dumptime)\n",
    "conn.close()\n",
    "log.info(\"  Done\")"
   ]
  },
  {
   "cell_type": "code",
   "execution_count": null,
   "metadata": {
    "collapsed": false
   },
   "outputs": [],
   "source": [
    "try:\n",
    "    log.info(\"Tracing current articles back in time\")\n",
    "    conn = database.engine.connect()\n",
    "    name_id_from_to = []\n",
    "    count = len(rename_map[\"timestamp\"])\n",
    "    with codecs.open(exp.get_filename(skipfile), \"w\", encoding=\"utf-16-le\") as skipped:\n",
    "        # Iterate in reverse through rename history\n",
    "        for i in range(count):\n",
    "            j = count - i - 1\n",
    "            old = rename_map[\"old_name\"][j]\n",
    "            new = rename_map[\"new_name\"][j]\n",
    "            ts_from = dateutil.parser.parse(rename_map[\"timestamp\"][j])\n",
    "            if ts_from > dumptime:\n",
    "                continue\n",
    "            try:\n",
    "                # Get id of renamed article\n",
    "                page_id, ts_to = pending[new]\n",
    "            except KeyError:\n",
    "                if (new.split(u\":\")[0] in exclude_namespaces):\n",
    "                    # Not article or talk\n",
    "                    continue\n",
    "                skipped.write(\n",
    "                    \"%s\\t%s\\t%s\\n\" %\n",
    "                    (ts_from.isoformat(), old, new))\n",
    "                continue\n",
    "            # Older name is now pending\n",
    "            del pending[new]\n",
    "            pending[old] = (page_id, ts_from)\n",
    "            # Save entry\n",
    "            name_id_from_to.append({\n",
    "                \"article_name\": new,\n",
    "                \"article_id\": page_id,\n",
    "                \"from_ts\": ts_from,\n",
    "                \"to_ts\": ts_to})\n",
    "            if len(name_id_from_to) > 10000:\n",
    "                log.info(\"  Inserting batch\")\n",
    "                stmt = article_name_id.insert()\n",
    "                conn.execute(stmt.values(name_id_from_to))\n",
    "                name_id_from_to = []\n",
    "                log.info(\"  %d/%d processed\" % (i, count))\n",
    "        log.info(\"  Adding entries for original article names\")\n",
    "        pending_count = len(pending)\n",
    "        count = 0\n",
    "        for title, info in pending.iteritems():\n",
    "            page_id, ts_to = info\n",
    "            name_id_from_to.append({\n",
    "                \"article_name\": title,\n",
    "                \"article_id\": page_id,\n",
    "                \"from_ts\": starttime,\n",
    "                \"to_ts\": ts_to})\n",
    "            count += 1\n",
    "            if len(name_id_from_to) > 10000:\n",
    "                log.info(\"    Inserting batch\")\n",
    "                stmt = article_name_id.insert()\n",
    "                conn.execute(stmt.values(name_id_from_to))\n",
    "                name_id_from_to = []\n",
    "                log.info(\"    %d of %d complete\" % (count, pending_count))\n",
    "        log.info(\"  Inserting final batch\")\n",
    "        if len(name_id_from_to) > 0:\n",
    "                stmt = article_name_id.insert()\n",
    "                conn.execute(stmt.values(name_id_from_to))\n",
    "                name_id_from_to = []\n",
    "                log.info(\"  %d/%d processed\" % (i, count)) \n",
    "finally:\n",
    "    conn.close()\n",
    "log.info(\"  Done\")"
   ]
  },
  {
   "cell_type": "code",
   "execution_count": null,
   "metadata": {
    "collapsed": false
   },
   "outputs": [],
   "source": []
  }
 ],
 "metadata": {
  "kernelspec": {
   "display_name": "Python 2",
   "language": "python",
   "name": "python2"
  },
  "language_info": {
   "codemirror_mode": {
    "name": "ipython",
    "version": 2
   },
   "file_extension": ".py",
   "mimetype": "text/x-python",
   "name": "python",
   "nbconvert_exporter": "python",
   "pygments_lexer": "ipython2",
   "version": "2.7.6"
  }
 },
 "nbformat": 4,
 "nbformat_minor": 0
}
