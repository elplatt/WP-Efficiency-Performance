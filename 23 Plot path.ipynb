{
 "cells": [
  {
   "cell_type": "code",
   "execution_count": null,
   "metadata": {
    "collapsed": false
   },
   "outputs": [],
   "source": [
    "%pylab inline\n",
    "import os\n",
    "from matplotlib import pyplot as plt\n",
    "import numpy as np\n",
    "import logbook"
   ]
  },
  {
   "cell_type": "code",
   "execution_count": null,
   "metadata": {
    "collapsed": false
   },
   "outputs": [],
   "source": [
    "exp_name = \"23_plot_path\"\n",
    "exp = logbook.Experiment(exp_name)\n",
    "log = exp.get_logger()\n",
    "path_dirs = [\n",
    "    \"archive/20_find_path_length/2017-05-05 13:28:24 dbe068d\"\n",
    "]\n",
    "stats_file = \"path_stats.csv\""
   ]
  },
  {
   "cell_type": "code",
   "execution_count": null,
   "metadata": {
    "collapsed": false
   },
   "outputs": [],
   "source": [
    "def get_mean_path_length(filename):\n",
    "    all_nodes = set()\n",
    "    total = 0\n",
    "    with open(filename, \"rb\") as f:\n",
    "        for row in f:\n",
    "            project_id, source, target, length = row.rstrip().split(\",\")\n",
    "            if source == target:\n",
    "                continue\n",
    "            total += int(length)\n",
    "            all_nodes.add(int(target))\n",
    "            all_nodes.add(int(source))\n",
    "    node_count = len(all_nodes)\n",
    "    pair_count = node_count * (node_count - 1)\n",
    "    mean_length = total / float(pair_count)\n",
    "    return mean_length"
   ]
  },
  {
   "cell_type": "code",
   "execution_count": null,
   "metadata": {
    "collapsed": false
   },
   "outputs": [],
   "source": [
    "with open(exp.get_filename(stats_file), \"wb\") as out:\n",
    "    out.write(\"project_id,path_mean\\n\")\n",
    "    for path_dir in path_dirs:\n",
    "        for i, path_file in enumerate(os.listdir(path_dir)):\n",
    "            if path_file.endswith('path_length.csv'):\n",
    "                project_id = flow_file.split(\"-\")[0]\n",
    "                log.info(\"Loading path file: %s\" % _file)\n",
    "                path_length = get_mean_path_length(os.path.join(path_dir, path_file))\n",
    "                out.write(\"%s,%d\\n\" % (project_id, path_length))\n",
    "                out.flush()"
   ]
  },
  {
   "cell_type": "code",
   "execution_count": null,
   "metadata": {
    "collapsed": false
   },
   "outputs": [],
   "source": []
  },
  {
   "cell_type": "code",
   "execution_count": null,
   "metadata": {
    "collapsed": false
   },
   "outputs": [],
   "source": []
  }
 ],
 "metadata": {
  "kernelspec": {
   "display_name": "Python 2",
   "language": "python",
   "name": "python2"
  },
  "language_info": {
   "codemirror_mode": {
    "name": "ipython",
    "version": 2
   },
   "file_extension": ".py",
   "mimetype": "text/x-python",
   "name": "python",
   "nbconvert_exporter": "python",
   "pygments_lexer": "ipython2",
   "version": "2.7.6"
  }
 },
 "nbformat": 4,
 "nbformat_minor": 0
}
