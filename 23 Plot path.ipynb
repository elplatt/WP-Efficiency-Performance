{
 "cells": [
  {
   "cell_type": "code",
   "execution_count": null,
   "metadata": {
    "collapsed": false
   },
   "outputs": [],
   "source": [
    "%pylab inline\n",
    "import json\n",
    "import os\n",
    "from matplotlib import pyplot as plt\n",
    "import numpy as np\n",
    "import logbook\n",
    "import msgpack"
   ]
  },
  {
   "cell_type": "code",
   "execution_count": null,
   "metadata": {
    "collapsed": false
   },
   "outputs": [],
   "source": [
    "exp_name = \"23_plot_path\"\n",
    "exp = logbook.Experiment(exp_name)\n",
    "log = exp.get_logger()\n",
    "project_file = 'data/projects-2016-10-14-dedup.json'\n",
    "coeditor_stats = \"archive/17.1_coeditor_stats/2017-05-03 09:30:32 aa49f7f\"\n",
    "path_dirs = [\n",
    "    \"archive/20_find_path_length/2017-05-05 13:28:24 dbe068d\",\n",
    "    \"archive/20_find_path_length/2017-05-12 16:42:41 3cbb13d\",\n",
    "    \"archive/20_find_path_length/2017-05-23 11:24:22 17de948\"\n",
    "]\n",
    "stats_file = \"path_stats.csv\""
   ]
  },
  {
   "cell_type": "code",
   "execution_count": null,
   "metadata": {
    "collapsed": false
   },
   "outputs": [],
   "source": [
    "project_names = {}\n",
    "with open(project_file, \"rb\") as f:\n",
    "    for row in f:\n",
    "        datum = json.loads(row)\n",
    "        project_names[datum[\"project_id\"]] = datum[\"project_name\"]"
   ]
  },
  {
   "cell_type": "code",
   "execution_count": null,
   "metadata": {
    "collapsed": false
   },
   "outputs": [],
   "source": [
    "project_node_count = {}\n",
    "with open(coeditor_stats, \"rb\") as f:\n",
    "    for row in f:\n",
    "        project_id, node_count, edge_count = row.strip().split(\"\\t\")\n",
    "        project_node_count[project_id] = node_count"
   ]
  },
  {
   "cell_type": "code",
   "execution_count": null,
   "metadata": {
    "collapsed": false
   },
   "outputs": [],
   "source": [
    "def get_mean_path_length(filename):\n",
    "    all_nodes = set()\n",
    "    total = 0\n",
    "    count = 0\n",
    "    with open(filename, \"rb\") as f:\n",
    "        for row in f:\n",
    "            project_id, source, target, length = row.rstrip().split(\",\")\n",
    "            if source == target:\n",
    "                continue\n",
    "            total += int(length)\n",
    "            count += 1\n",
    "            all_nodes.add(int(target))\n",
    "            all_nodes.add(int(source))\n",
    "    project_node_count = len(all_nodes)\n",
    "    mean_length = float(total) / float(count)\n",
    "    return mean_length"
   ]
  },
  {
   "cell_type": "code",
   "execution_count": null,
   "metadata": {
    "collapsed": true
   },
   "outputs": [],
   "source": [
    "def get_harmonic_path_length(filename):\n",
    "    all_nodes = set()\n",
    "    total = 0.0\n",
    "    with open(filename, \"rb\") as f:\n",
    "        for row in f:\n",
    "            project_id, source, target, length = row.rstrip().split(\",\")\n",
    "            if source == target:\n",
    "                continue\n",
    "            total += 1.0 / float(length)\n",
    "            all_nodes.add(int(target))\n",
    "            all_nodes.add(int(source))\n",
    "    node_count = len(all_nodes)\n",
    "    pair_count = node_count * (node_count - 1)\n",
    "    mean_length = float(pair_count) / total\n",
    "    return mean_length\n",
    "\n",
    "def get_harmonic_path_length_sampled(filename, project_id, strata, per_stratum):\n",
    "    all_nodes = set()\n",
    "    total = 0.0\n",
    "    with open(filename, \"rb\") as f:\n",
    "        for row in f:\n",
    "            pid, source, target, length = row.rstrip().split(\",\")\n",
    "            if source == target:\n",
    "                continue\n",
    "            total += 1.0 / float(length)\n",
    "    node_count = project_node_count[project_id]\n",
    "    sample_count = strata * per_stratum\n",
    "    pair_count = sample_count * (node_count - 1)\n",
    "    mean_length = float(pair_count) / total\n",
    "    return mean_length"
   ]
  },
  {
   "cell_type": "code",
   "execution_count": null,
   "metadata": {
    "collapsed": true
   },
   "outputs": [],
   "source": [
    "def get_connectivity(filename):\n",
    "    all_nodes = set()\n",
    "    paths = 0\n",
    "    with open(filename, \"rb\") as f:\n",
    "        for row in f:\n",
    "            pid, source, target, length = row.rstrip().split(\",\")\n",
    "            all_nodes.add(source)\n",
    "            all_nodes.add(target)\n",
    "            if source == target:\n",
    "                continue\n",
    "            paths += 1\n",
    "    node_count = len(all_nodes)\n",
    "    connectivity = float(paths) / (node_count * (node_count - 1))\n",
    "    return connectivity\n",
    "\n",
    "def get_connectivity_sampled(filename, project_id, strata, per_stratum):\n",
    "    all_nodes = set()\n",
    "    paths = 0\n",
    "    with open(filename, \"rb\") as f:\n",
    "        for row in f:\n",
    "            pid, source, target, length = row.rstrip().split(\",\")\n",
    "            all_nodes.add(source)\n",
    "            all_nodes.add(target)\n",
    "            if source == target:\n",
    "                continue\n",
    "            paths += 1\n",
    "    node_count = project_node_count[project_id]\n",
    "    sample_count = strata * per_stratum\n",
    "    pair_count = sample_count * (node_count - 1)\n",
    "    connectivity = float(paths) / float(pair_count)\n",
    "    return connectivity"
   ]
  },
  {
   "cell_type": "code",
   "execution_count": null,
   "metadata": {
    "collapsed": false
   },
   "outputs": [],
   "source": [
    "all_means = []\n",
    "all_harmonic = []\n",
    "all_connectivity = []\n",
    "with open(exp.get_filename(stats_file), \"wb\") as out:\n",
    "    out.write(\"project_id,path_harmonic,path_mean,connectivity\\n\")\n",
    "    for path_dir in path_dirs:\n",
    "        for i, path_file in enumerate(os.listdir(path_dir)):\n",
    "            if path_file.endswith('path_length.csv'):\n",
    "                project_id = path_file.split(\"-\")[0]\n",
    "                log.info(\"Loading path file: %s\" % path_file)\n",
    "                path_mean = get_mean_path_length(os.path.join(path_dir, path_file))\n",
    "                all_means.append(path_mean)\n",
    "                path_harmonic = get_harmonic_path_length(os.path.join(path_dir, path_file))\n",
    "                all_harmonic.append(path_harmonic)\n",
    "                connectivty = get_connectivity(os.path.join(path_dir, path_file))\n",
    "                all_connectivity.append(connectivity)\n",
    "                out.write(\"%s,%s,%s,%s\\n\" % (project_id, repr(path_harmonic), repr(path_mean), repr(connectivity)))\n",
    "                out.flush()\n",
    "            if path_file.endswith('path_length-sampled.csv'):\n",
    "                parts = path_file.split(\"-\")\n",
    "                project_id = int(parts[0])\n",
    "                strata = int(parts[1])\n",
    "                per_stratum = int(parts[2])\n",
    "                log.info(\"Loading path file: %s\" % path_file)\n",
    "                path_mean = get_mean_path_length(os.path.join(path_dir, path_file))\n",
    "                all_means.append(path_mean)\n",
    "                path_harmonic = get_harmonic_path_length_sampled(\n",
    "                    os.path.join(path_dir, path_file), project_id, strata, per_stratum)\n",
    "                all_harmonic.append(path_harmonic)\n",
    "                connectivity = get_connectivity_sampled(\n",
    "                    os.path.join(path_dir, path_file), project_id, strata, per_stratum)\n",
    "                all_connectivity.append(connectivity)\n",
    "                out.write(\"%s,%s,%s,%s\\n\" % (project_id, repr(path_harmonic), repr(path_mean), repr(connectivity)))\n",
    "                out.flush()"
   ]
  },
  {
   "cell_type": "code",
   "execution_count": null,
   "metadata": {
    "collapsed": false
   },
   "outputs": [],
   "source": [
    "plt.figure(figsize=(8,8))\n",
    "plt.hist(all_harmonic, 60)\n",
    "plt.xlabel(\"Harmonic mean path length\")\n",
    "plt.ylabel(\"Frequency\")\n",
    "plt.title(\"editor_count < 5551\")\n",
    "plt.tight_layout()"
   ]
  },
  {
   "cell_type": "code",
   "execution_count": null,
   "metadata": {
    "collapsed": false
   },
   "outputs": [],
   "source": [
    "path_file"
   ]
  },
  {
   "cell_type": "code",
   "execution_count": null,
   "metadata": {
    "collapsed": true
   },
   "outputs": [],
   "source": []
  }
 ],
 "metadata": {
  "kernelspec": {
   "display_name": "Python 2",
   "language": "python",
   "name": "python2"
  },
  "language_info": {
   "codemirror_mode": {
    "name": "ipython",
    "version": 2
   },
   "file_extension": ".py",
   "mimetype": "text/x-python",
   "name": "python",
   "nbconvert_exporter": "python",
   "pygments_lexer": "ipython2",
   "version": "2.7.6"
  }
 },
 "nbformat": 4,
 "nbformat_minor": 0
}
