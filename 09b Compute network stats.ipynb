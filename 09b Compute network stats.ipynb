{
 "metadata": {
  "name": ""
 },
 "nbformat": 3,
 "nbformat_minor": 0,
 "worksheets": [
  {
   "cells": [
    {
     "cell_type": "code",
     "collapsed": false,
     "input": [
      "import csv\n",
      "import logging\n",
      "import math\n",
      "import os.path\n",
      "import sys\n",
      "import time\n",
      "from IPython.display import clear_output\n",
      "from matplotlib import pyplot as plt\n",
      "import numpy as np"
     ],
     "language": "python",
     "metadata": {},
     "outputs": [],
     "prompt_number": 15
    },
    {
     "cell_type": "code",
     "collapsed": false,
     "input": [
      "output_dir = \"output/network_stats\"\n",
      "log_file = \"output/09b_compute_network_stats.log\"\n",
      "project_count = 70"
     ],
     "language": "python",
     "metadata": {},
     "outputs": [],
     "prompt_number": 16
    },
    {
     "cell_type": "code",
     "collapsed": false,
     "input": [
      "log = logging.getLogger(\"wp-efficiency-performance:compute-network-stats\")\n",
      "log.propagate = False\n",
      "log.handlers = []\n",
      "handler = logging.FileHandler(log_file, \"w\")\n",
      "log.addHandler(handler)\n",
      "log.setLevel(logging.INFO)"
     ],
     "language": "python",
     "metadata": {},
     "outputs": [],
     "prompt_number": 17
    },
    {
     "cell_type": "code",
     "collapsed": false,
     "input": [
      "def compute_stats(samples):\n",
      "    mean = np.mean(samples)\n",
      "    std = np.std(samples)\n",
      "    sample_std = math.sqrt(float(sum([math.pow(sample - mean, 2) for sample in samples])) / (len(samples) - 1))\n",
      "    m3 = float(sum([math.pow(sample - mean, 3) for sample in samples])) / (len(samples))\n",
      "    b = m3 / math.pow(sample_std, 3)\n",
      "    return {\"mean\": mean, \"median\": np.median(samples), \"std\": std, \"skewness\": b}"
     ],
     "language": "python",
     "metadata": {},
     "outputs": [],
     "prompt_number": 39
    },
    {
     "cell_type": "code",
     "collapsed": false,
     "input": [
      "stats = []\n",
      "for project_id in range(1, project_count + 1):\n",
      "    print \"Starting project %d\" % project_id\n",
      "    in_degrees = []\n",
      "    out_degrees = []\n",
      "    with open(os.path.join(output_dir, \"degree_%04d.csv\" % project_id), \"rb\") as f:\n",
      "        reader = csv.reader(f, delimiter=\"\\t\")\n",
      "        # Skip header\n",
      "        reader.next()\n",
      "        for row in reader:\n",
      "            out_degrees.append(int(row[1]))\n",
      "            in_degrees.append(int(row[2]))\n",
      "    out_stats = compute_stats(out_degrees)\n",
      "    in_stats = compute_stats(in_degrees)\n",
      "    stats.append({\n",
      "        \"project_id\": project_id,\n",
      "        \"out_degree_mean\": out_stats['mean'],\n",
      "        \"out_degree_median\": out_stats['median'],\n",
      "        \"out_degree_std\": out_stats['std'],\n",
      "        \"out_degree_skewness\": out_stats['skewness'],\n",
      "        \"in_degree_mean\": out_stats['mean'],\n",
      "        \"in_degree_median\": out_stats['median'],\n",
      "        \"in_degree_std\": out_stats['std'],\n",
      "        \"in_degree_skewness\": out_stats['skewness']\n",
      "    })\n",
      "with open (os.path.join(output_dir, \"degree_all.csv\"), \"wb\") as f:\n",
      "    f.write(\"\\t\".join([\n",
      "        \"project_id\",\n",
      "        \"out_degree_mean\", \"out_degree_median\", \"out_degree_std\", \"out_degree_skewness\",\n",
      "        \"in_degree_mean\", \"in_degree_median\", \"in_degree_std\", \"in_degree_skewness\"\n",
      "    ]) + \"\\n\")\n",
      "    for row in stats:\n",
      "        f.write(\"%d\\t%f\\t%f\\t%f\\t%f\\t%f\\t%f\\t%f\\t%f\\n\" % (\n",
      "            row[\"project_id\"],\n",
      "            row[\"out_degree_mean\"], row[\"out_degree_median\"], row[\"out_degree_std\"], row[\"out_degree_skewness\"],\n",
      "            row[\"in_degree_mean\"], row[\"in_degree_median\"], row[\"in_degree_std\"], row[\"in_degree_skewness\"],\n",
      "        ))\n"
     ],
     "language": "python",
     "metadata": {},
     "outputs": [],
     "prompt_number": 41
    },
    {
     "cell_type": "code",
     "collapsed": false,
     "input": [
      "keys = [\"out_degree_mean\", \"out_degree_median\", \"out_degree_std\", \"out_degree_skewness\",\n",
      "    \"in_degree_mean\", \"in_degree_median\", \"in_degree_std\", \"in_degree_skewness\"]\n",
      "plt.figure(figsize=(10,6))\n",
      "for i, key in enumerate(keys):\n",
      "    plt.subplot(2,4,i+1)\n",
      "    plt.title(key)\n",
      "    plt.hist([x[key] for x in stats], 15)\n",
      "plt.savefig(filename=os.path.join(output_dir, \"degree_plots.pdf\"))"
     ],
     "language": "python",
     "metadata": {},
     "outputs": [],
     "prompt_number": 51
    },
    {
     "cell_type": "code",
     "collapsed": false,
     "input": [],
     "language": "python",
     "metadata": {},
     "outputs": []
    }
   ],
   "metadata": {}
  }
 ]
}