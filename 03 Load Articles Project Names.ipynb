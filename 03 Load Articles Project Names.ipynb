{
 "metadata": {
  "name": ""
 },
 "nbformat": 3,
 "nbformat_minor": 0,
 "worksheets": [
  {
   "cells": [
    {
     "cell_type": "code",
     "collapsed": false,
     "input": [
      "import json\n",
      "import time"
     ],
     "language": "python",
     "metadata": {},
     "outputs": [],
     "prompt_number": 1
    },
    {
     "cell_type": "code",
     "collapsed": false,
     "input": [
      "import sqlalchemy\n",
      "from sqlalchemy.exc import IntegrityError\n",
      "from sqlalchemy.orm import sessionmaker\n",
      "import database\n",
      "from database.schema import article_project_names"
     ],
     "language": "python",
     "metadata": {},
     "outputs": [],
     "prompt_number": 2
    },
    {
     "cell_type": "code",
     "collapsed": false,
     "input": [
      "projfile = 'data/articles-projects.json'"
     ],
     "language": "python",
     "metadata": {},
     "outputs": [],
     "prompt_number": 3
    },
    {
     "cell_type": "code",
     "collapsed": false,
     "input": [
      "batch_size = 1000\n",
      "articles = {}\n",
      "proj_map = {}\n",
      "count = 0;\n",
      "conn = database.engine.connect()\n",
      "ins = article_project_names.insert()\n",
      "try:\n",
      "    with open(projfile, 'rb') as f:\n",
      "        for i, row in enumerate(f):\n",
      "            project = json.loads(row);\n",
      "            print \"Project %d: %s\" % (project[\"project_id\", project[\"project_name\"])\n",
      "            values = [{\"project_name\": project[\"project_name\"], \"article_name\": x}\n",
      "                       for x in project[\"articles\"]]\n",
      "            while len(values) > 0:\n",
      "                conn.execute(ins, values[0:batch_size])\n",
      "                values = values[batch_size:]\n",
      "finally:\n",
      "    conn.close()"
     ],
     "language": "python",
     "metadata": {},
     "outputs": [],
     "prompt_number": 5
    },
    {
     "cell_type": "code",
     "collapsed": false,
     "input": [],
     "language": "python",
     "metadata": {},
     "outputs": []
    }
   ],
   "metadata": {}
  }
 ]
}