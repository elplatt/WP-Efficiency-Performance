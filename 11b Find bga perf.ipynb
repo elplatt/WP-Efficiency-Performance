{
 "cells": [
  {
   "cell_type": "code",
   "execution_count": null,
   "metadata": {
    "collapsed": false
   },
   "outputs": [],
   "source": [
    "import json\n",
    "import requests\n",
    "import time\n",
    "from sqlalchemy import func, select, sql\n",
    "import database\n",
    "from database.schema import revision_table\n",
    "import logbook"
   ]
  },
  {
   "cell_type": "code",
   "execution_count": null,
   "metadata": {
    "collapsed": false
   },
   "outputs": [],
   "source": [
    "project_file = \"data/projects-2016-10-14-dedup.json\"\n",
    "quality_url = \"https://ores.wikimedia.org/scores/enwiki/?models=wp10&revids=%s\"\n",
    "exp_name = \"11b_find_bga_perf\"\n",
    "project_out_file = \"%04d-ga.csv\"\n",
    "stats_out_file = \"project_bga.csv\"\n",
    "revisions_per_request = 100\n",
    "request_delay = 0.1"
   ]
  },
  {
   "cell_type": "code",
   "execution_count": null,
   "metadata": {
    "collapsed": true
   },
   "outputs": [],
   "source": [
    "classes_c = set([\n",
    "    \"C-Class\"\n",
    "])\n",
    "classes_start = set([\n",
    "    \"\",\n",
    "    \"Stub-Class\",\n",
    "    \"Start-Class\",\n",
    "    \"Draft-Class\",\n",
    "    \"Merge-Class\",\n",
    "    \"Needed-Class\",\n",
    "    \"Unassessed\",\n",
    "    \"Unassessed-Class\",\n",
    "    \"Current-Class\",\n",
    "    \"Future-Class\"\n",
    "])\n",
    "classes_below = classes_c | classes_start"
   ]
  },
  {
   "cell_type": "code",
   "execution_count": null,
   "metadata": {
    "collapsed": false
   },
   "outputs": [],
   "source": [
    "exp = logbook.Experiment(exp_name)\n",
    "log = exp.get_logger()"
   ]
  },
  {
   "cell_type": "code",
   "execution_count": null,
   "metadata": {
    "collapsed": false
   },
   "outputs": [],
   "source": [
    "log.info(\"Loading project info\")\n",
    "project_names = {}\n",
    "with open(project_file, \"rb\") as f:\n",
    "    for row in f:\n",
    "        d = json.loads(row)\n",
    "        project_names[d[\"project_id\"]] = d[\"project_name\"]\n",
    "log.info(\"Project info loaded\")"
   ]
  },
  {
   "cell_type": "code",
   "execution_count": null,
   "metadata": {
    "collapsed": false
   },
   "outputs": [],
   "source": [
    "ratings = database.schema.Rating.__table__\n",
    "conn = database.engine.connect()\n",
    "try:\n",
    "    with open(exp.get_filename(stats_out_file), \"wb\") as stats_out:\n",
    "        stats_out.write(\"ga_mean\\n\")\n",
    "        for project_id, project_name in project_names.iteritems():\n",
    "            log.info(\"Starting project %d: %s\" % (project_id, project_name))\n",
    "            revisions = revision_table(project_id).__table__\n",
    "            project_revisions = []\n",
    "            project_ga = []\n",
    "            # Get all transitions to B\n",
    "            log.info(\"  Querying for B transitions\")\n",
    "            stmt = select([\n",
    "                ratings.c.article_id,\n",
    "                ratings.c.timestamp,\n",
    "                ratings.c.old_quality]) \\\n",
    "                .where(sql.and_(\n",
    "                    ratings.c.project_id == project_id,\n",
    "                    sql.and_(\n",
    "                        ratings.c.article_id != None,\n",
    "                        ratings.c.new_quality == \"B-Class\")))\n",
    "            results = conn.execute(stmt)\n",
    "            log.info(\"  Processing %d query results\" % results.rowcount)\n",
    "            for row in results:\n",
    "                article_id = int(row[0])\n",
    "                timestamp = int(row[1])\n",
    "                old_quality = row[2]\n",
    "                if old_quality not in classes_below:\n",
    "                    continue\n",
    "                # Get last revision before timestamp\n",
    "                stmt = select([revisions.c.revision_id, func.max(revisions.c.timestamp)]) \\\n",
    "                    .where(sql.and_(\n",
    "                        revisions.c.article_id == article_id,\n",
    "                        revisions.c.timestamp <= timestamp))\n",
    "                rev_result = conn.execute(stmt)\n",
    "                revision_id = str(rev_result.fetchone()[0])\n",
    "                if revision_id != \"None\":\n",
    "                    project_revisions.append(revision_id)\n",
    "            # Get quality evaluations for each revision\n",
    "            log.info(\"  Fetching revision quality estimates\")\n",
    "            with open(exp.get_filename(project_out_file % project_id), \"wb\") as p_out:\n",
    "                sofar = 0\n",
    "                totes = len(project_revisions)\n",
    "                while len(project_revisions) > 0:\n",
    "                    log.info(\"    Starting %d of %d\" % (sofar+1,totes))\n",
    "                    chunk = project_revisions[-revisions_per_request:]\n",
    "                    project_revisions = project_revisions[0:-revisions_per_request]\n",
    "                    sofar += len(chunk)\n",
    "                    url = quality_url % \"|\".join(chunk)\n",
    "                    result = json.loads(requests.get(url).content)\n",
    "                    for revid, data in result.iteritems():\n",
    "                        try:\n",
    "                            ga = data[\"wp10\"][\"probability\"][\"GA\"]\n",
    "                        except KeyError:\n",
    "                            log.warning(\"    Skipping revision %s\" % revid)\n",
    "                        project_ga.append(ga)\n",
    "                        p_out.write(\"%s,%s\\n\" % (revid, repr(ga)))\n",
    "                    time.sleep(request_delay)\n",
    "            # Summarize\n",
    "            log.info(\"  Summarizing project results\")\n",
    "            if len(project_ga) > 0:\n",
    "                ga_mean = sum(project_ga) / float(len(project_ga))\n",
    "                stats_out.write(\"%d,%s\\n\" % (project_id, repr(ga_mean)))\n",
    "    log.info(\"Completed successfully\")\n",
    "finally:\n",
    "    conn.close()"
   ]
  },
  {
   "cell_type": "code",
   "execution_count": null,
   "metadata": {
    "collapsed": false
   },
   "outputs": [],
   "source": [
    "result"
   ]
  },
  {
   "cell_type": "code",
   "execution_count": null,
   "metadata": {
    "collapsed": true
   },
   "outputs": [],
   "source": []
  }
 ],
 "metadata": {
  "kernelspec": {
   "display_name": "Python 2",
   "language": "python",
   "name": "python2"
  },
  "language_info": {
   "codemirror_mode": {
    "name": "ipython",
    "version": 2
   },
   "file_extension": ".py",
   "mimetype": "text/x-python",
   "name": "python",
   "nbconvert_exporter": "python",
   "pygments_lexer": "ipython2",
   "version": "2.7.6"
  }
 },
 "nbformat": 4,
 "nbformat_minor": 0
}
