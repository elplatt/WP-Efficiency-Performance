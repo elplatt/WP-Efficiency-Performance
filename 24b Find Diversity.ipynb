{
 "cells": [
  {
   "cell_type": "code",
   "execution_count": null,
   "metadata": {
    "collapsed": false
   },
   "outputs": [],
   "source": [
    "import json\n",
    "import time\n",
    "import sys\n",
    "import sqlalchemy\n",
    "from sqlalchemy import func, select\n",
    "from sqlalchemy.orm import sessionmaker\n",
    "from sqlalchemy.sql import and_\n",
    "import numpy as np\n",
    "import scipy.stats as spstats"
   ]
  },
  {
   "cell_type": "code",
   "execution_count": null,
   "metadata": {
    "collapsed": false
   },
   "outputs": [],
   "source": [
    "import database\n",
    "from database.schema import article_name_id, Rating, revision_table"
   ]
  },
  {
   "cell_type": "code",
   "execution_count": null,
   "metadata": {
    "collapsed": false
   },
   "outputs": [],
   "source": [
    "exp_name=\"24b_find_diversity\"\n",
    "project_file = 'data/projects-2016-10-14-dedup.json'\n",
    "output_file = \"diversity.csv\"\n",
    "end_timestamp = 1449084517\n",
    "skip_to = 0"
   ]
  },
  {
   "cell_type": "code",
   "execution_count": null,
   "metadata": {
    "collapsed": false
   },
   "outputs": [],
   "source": [
    "import logbook\n",
    "exp = logbook.Experiment(exp_name)\n",
    "log = exp.get_logger()\n",
    "log.info(\"Beginning...\")"
   ]
  },
  {
   "cell_type": "code",
   "execution_count": null,
   "metadata": {
    "collapsed": false
   },
   "outputs": [],
   "source": [
    "log.info(\"Loading project json\")\n",
    "project_names = {}\n",
    "with open(project_file, \"rb\") as f:\n",
    "    for row in f:\n",
    "        datum = json.loads(row)\n",
    "        project_names[datum[\"project_id\"]] = datum[\"project_name\"]\n",
    "log.info(\"Done loading project json\")"
   ]
  },
  {
   "cell_type": "code",
   "execution_count": null,
   "metadata": {
    "collapsed": false
   },
   "outputs": [],
   "source": [
    "log.info(\"Connecting to database\")\n",
    "conn = database.engine.connect()\n",
    "data = []\n",
    "out = open(exp.get_filename(output_file), \"wb\")\n",
    "out.write(\"project_id,editor_entropy_wmean\\n\")\n",
    "editor_project_counts = {}\n",
    "contributors = set()\n",
    "project_editors = {}\n",
    "try:\n",
    "    log.info(\"Counting project revisions for each editor\")\n",
    "    data = []\n",
    "    for project_id, project_name in project_names.iteritems():\n",
    "        log.info(\n",
    "            \"Counting editors for project project: %d:%s\" %\n",
    "            (project_id, project_name))\n",
    "        project_editors[project_id] = set()\n",
    "        log.info(\"  Opening table: %d_revisions\" % project_id)\n",
    "        revisions = revision_table(project_id).__table__\n",
    "        log.info(\"  Querying\")\n",
    "        # Get each rating event in the project\n",
    "        # Article and talk page ids have to be set first using sql scripts\n",
    "        stmt = select([\n",
    "                revisions.c.contributor_id,\n",
    "                func.count(revisions.c.revision_id)]) \\\n",
    "                .group_by(revisions.c.contributor_id)\n",
    "        result = conn.execute(stmt)\n",
    "        for i, row in enumerate(result):\n",
    "            if i > 0 and i % 10000 == 0:\n",
    "                log.info(\"    %d rows complete\" % (i)\n",
    "                time.sleep(0.1)\n",
    "            # Parse result\n",
    "            contributor_id = row[0]\n",
    "            count = row[1]\n",
    "            contributors.add(contributor_id)\n",
    "            project_editors[project_id].add(contributor_id)\n",
    "            try:\n",
    "                project_counts = editor_project_counts[contributor_id]\n",
    "            except KeyError:\n",
    "                project_counts = {}\n",
    "                editor_project_counts[contributor_id] = project_counts\n",
    "            project_counts[project_id] = count\n",
    "        log.info(\"  Processed results for project %d\"\n",
    "                 % (project_id))\n",
    "    log.info(\"Calculating entropy\")\n",
    "    contributor_entropy = []\n",
    "    for contributor_id, project_counts in contributors:\n",
    "        counts = np.array(project_counts.values)\n",
    "        entropy = spstats.entropy(counts, base=10)\n",
    "        contributor_entropy[contributor_id] = entropy\n",
    "    for project_id, project_name in project_names.iteritems():\n",
    "        log.info(\n",
    "            \"Calculating average entropy for project: %d:%s\" %\n",
    "            (project_id, project_name))\n",
    "        entropy_total = 0.0\n",
    "        entropy_count = 0\n",
    "        for contributor_id in project_editors[project_id]:\n",
    "            entropy_total += contributor_entropy[contributor_id]\n",
    "            entropy_count += editor_project_counts[contributor_id][project_id]\n",
    "        editor_entropy_wmean = entropy_total / float(entropy_count)\n",
    "        out.write(\"%d,%s\\n\" % (project_id, repr(editor_entropy_wmean)))\n",
    "        out.flush()\n",
    "except:\n",
    "    log.error(\"Error: %s\" % sys.exc_info()[0])\n",
    "    raise\n",
    "finally:\n",
    "    conn.close()\n",
    "    log.info(\"Database session closed\")\n",
    "    out.close()\n",
    "log.info(\"Done.\")"
   ]
  },
  {
   "cell_type": "code",
   "execution_count": null,
   "metadata": {
    "collapsed": true
   },
   "outputs": [],
   "source": []
  }
 ],
 "metadata": {
  "kernelspec": {
   "display_name": "Python 2",
   "language": "python",
   "name": "python2"
  },
  "language_info": {
   "codemirror_mode": {
    "name": "ipython",
    "version": 2
   },
   "file_extension": ".py",
   "mimetype": "text/x-python",
   "name": "python",
   "nbconvert_exporter": "python",
   "pygments_lexer": "ipython2",
   "version": "2.7.6"
  }
 },
 "nbformat": 4,
 "nbformat_minor": 0
}
