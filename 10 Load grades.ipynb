{
 "metadata": {
  "name": ""
 },
 "nbformat": 3,
 "nbformat_minor": 0,
 "worksheets": [
  {
   "cells": [
    {
     "cell_type": "code",
     "collapsed": false,
     "input": [
      "import calendar\n",
      "import csv\n",
      "import datetime\n",
      "import dateutil.parser\n",
      "import json\n",
      "import logging\n",
      "import os\n",
      "import os.path\n",
      "import time\n",
      "import sqlalchemy"
     ],
     "language": "python",
     "metadata": {},
     "outputs": [],
     "prompt_number": 25
    },
    {
     "cell_type": "code",
     "collapsed": false,
     "input": [
      "import database\n",
      "from database.schema import Rating\n",
      "import logbook"
     ],
     "language": "python",
     "metadata": {},
     "outputs": [],
     "prompt_number": 26
    },
    {
     "cell_type": "code",
     "collapsed": false,
     "input": [
      "projects_file = 'data/projects.tsv'\n",
      "project_map_file = 'data/articles-projects.json'\n",
      "project_dir = 'data/Projects'"
     ],
     "language": "python",
     "metadata": {},
     "outputs": [],
     "prompt_number": 27
    },
    {
     "cell_type": "code",
     "collapsed": false,
     "input": [
      "exp_name = \"10_load_grades\"\n",
      "exp = logbook.Experiment(exp_name)\n",
      "log = exp.get_logger()"
     ],
     "language": "python",
     "metadata": {},
     "outputs": [],
     "prompt_number": 28
    },
    {
     "cell_type": "code",
     "collapsed": false,
     "input": [
      "project_ids = {}\n",
      "with open(project_map_file, \"rb\") as f:\n",
      "    for row in f:\n",
      "        datum = json.loads(row)\n",
      "        project_ids[datum[\"project_name\"]] = datum[\"project_id\"]"
     ],
     "language": "python",
     "metadata": {},
     "outputs": [],
     "prompt_number": 29
    },
    {
     "cell_type": "code",
     "collapsed": false,
     "input": [
      "project_names = {}\n",
      "with open(projects_file, \"rb\") as f:\n",
      "    projects_data = f.read().decode('utf_16_le')\n",
      "for row in projects_data.split(u\"\\n\")[1:]:\n",
      "    if row.strip() == '':\n",
      "        continue\n",
      "    title, unique = row.split(u\"\\t\")\n",
      "    project_names[title] = unique"
     ],
     "language": "python",
     "metadata": {},
     "outputs": [],
     "prompt_number": 30
    },
    {
     "cell_type": "code",
     "collapsed": false,
     "input": [
      "def load_project(project_file, conn):\n",
      "    log.info('Loading grade history for: %s' % project_file)\n",
      "    to_insert = []\n",
      "    with open(project_file, \"rb\") as f:\n",
      "        reader = csv.reader(f)\n",
      "        reader.next() # Skip header\n",
      "        for i, row in enumerate(reader):\n",
      "            if i % 10000 == 0 and i != 0:\n",
      "                log.info(\"  %d complete\" % i)\n",
      "                time.sleep(0.1)\n",
      "            project_name = row[0].decode('utf-8')\n",
      "            try:\n",
      "                unique_name = project_names[project_name]\n",
      "            except KeyError:\n",
      "                log.error('Skipped unrecognized project: %s' % project_name)\n",
      "                return\n",
      "            try:\n",
      "                project_id = project_ids[unique_name]\n",
      "            except KeyError:\n",
      "                log.error('Skipped unrecognized project: %s' % unique_name)\n",
      "                return\n",
      "            if i == 0:\n",
      "                log.info('  %s: %s' % (project_id, unique_name))\n",
      "            try:\n",
      "                ts = dateutil.parser.parse(row[1])\n",
      "            except ValueError:\n",
      "                print \"Error parsing timestamp: %s:%s\" % (i, '\\t'.join(row))\n",
      "                raise\n",
      "            dt = datetime.datetime.fromtimestamp(calendar.timegm(ts.timetuple()))\n",
      "            datum = {\n",
      "                \"project_name\": row[0],\n",
      "                \"project_id\": project_id,\n",
      "                \"timestamp\": dt,\n",
      "                \"action\": row[2],\n",
      "                \"article_name\": row[3],\n",
      "                \"old_quality\": row[4],\n",
      "                \"new_quality\": row[5],\n",
      "                \"old_importance\": row[6],\n",
      "                \"new_importance\": row[7],\n",
      "                \"new_article_name\": row[8],\n",
      "                \"old_article_url\": row[9],\n",
      "                \"new_article_url\": row[10]\n",
      "            }\n",
      "            to_insert.append(datum)\n",
      "    conn.execute(Rating.__table__.insert(), to_insert)"
     ],
     "language": "python",
     "metadata": {},
     "outputs": [],
     "prompt_number": 33
    },
    {
     "cell_type": "code",
     "collapsed": false,
     "input": [
      "skip_to = 0\n",
      "conn = database.engine.connect()\n",
      "try:\n",
      "    for i, project_file in enumerate(os.listdir(project_dir)):\n",
      "        if i < skip_to:\n",
      "            continue\n",
      "        if project_file.endswith('.csv'):\n",
      "            log.info(\"Loading project: \" % project_file)\n",
      "            load_project(os.path.join(project_dir, project_file), conn)\n",
      "    log.info(\"Successful completion. Cleaning up...\")\n",
      "except:\n",
      "    log.error(\"Error: %s\" % str(sys.exc_info()))\n",
      "    raise\n",
      "finally\n",
      "    conn.close()"
     ],
     "language": "python",
     "metadata": {},
     "outputs": [],
     "prompt_number": 37
    },
    {
     "cell_type": "code",
     "collapsed": false,
     "input": [],
     "language": "python",
     "metadata": {},
     "outputs": []
    }
   ],
   "metadata": {}
  }
 ]
}