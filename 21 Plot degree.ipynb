{
 "cells": [
  {
   "cell_type": "code",
   "execution_count": null,
   "metadata": {
    "collapsed": false
   },
   "outputs": [],
   "source": [
    "import csv\n",
    "import json\n",
    "from matplotlib import pyplot as plt\n",
    "import numpy as np\n",
    "import pandas as pd\n",
    "import scipy.stats as spstats\n",
    "import logbook"
   ]
  },
  {
   "cell_type": "code",
   "execution_count": null,
   "metadata": {
    "collapsed": false
   },
   "outputs": [],
   "source": [
    "exp_name=\"21_plot_degree\"\n",
    "project_file = \"data/projects-2016-10-14-dedup.json\"\n",
    "degree_file = \"output/19_find_degree/2016-11-16 14:14:42 ab98fcc/%d-degree.csv\"\n",
    "stats_file = \"degree_stats.csv\"\n",
    "efficiency_files = [\n",
    "    \"output/10_find_efficiency/2016-11-02 22:03:53 f3da2a6/efficiency.csv\",\n",
    "    \"output/10_find_efficiency/2016-11-03 18:32:16 36a9e0b/efficiency.csv\"]\n",
    "performance_file = \"output/11_find_performance/2016-11-01 16:40:13 11ba292/fa_ga_transitions.csv\""
   ]
  },
  {
   "cell_type": "code",
   "execution_count": null,
   "metadata": {
    "collapsed": false
   },
   "outputs": [],
   "source": [
    "exp = logbook.Experiment(exp_name)"
   ]
  },
  {
   "cell_type": "code",
   "execution_count": null,
   "metadata": {
    "collapsed": false
   },
   "outputs": [],
   "source": [
    "project_ids = []\n",
    "with open(project_file, \"rb\") as f:\n",
    "    for row in f:\n",
    "        data = json.loads(row)\n",
    "        project_ids.append(data[\"project_id\"])"
   ]
  },
  {
   "cell_type": "code",
   "execution_count": null,
   "metadata": {
    "collapsed": false
   },
   "outputs": [],
   "source": [
    "df_perf = pd.DataFrame.from_csv(performance_file)"
   ]
  },
  {
   "cell_type": "code",
   "execution_count": null,
   "metadata": {
    "collapsed": false
   },
   "outputs": [],
   "source": [
    "df_eff = None\n",
    "for f in efficiency_files:\n",
    "    if df_eff is None:\n",
    "        df_eff = pd.DataFrame.from_csv(f)\n",
    "    else:\n",
    "        df_eff = pd.concat([df_eff, pd.DataFrame.from_csv(f)])"
   ]
  },
  {
   "cell_type": "code",
   "execution_count": null,
   "metadata": {
    "collapsed": false
   },
   "outputs": [],
   "source": [
    "df = pd.concat([df_eff, df_perf], axis=1, join=\"inner\")\n",
    "df_nz = df[df[\"N_a\"] > 0]\n",
    "df_nz = df_nz[df_nz[\"N_b\"] > 0]\n",
    "df_nz = df_nz[df_nz[\"N_c\"] > 0]\n",
    "df_nz = df_nz[df_nz[\"Delta_a\"] > 0]\n",
    "df_nz = df_nz[df_nz[\"Delta_b\"] > 0]\n",
    "df_nz = df_nz[df_nz[\"Delta_c\"] > 0]\n",
    "df_nz = df_nz[df_nz[\"to_ga\"] > 0]\n",
    "df_nz = df_nz[df_nz[\"to_fa\"] > 0]"
   ]
  },
  {
   "cell_type": "code",
   "execution_count": null,
   "metadata": {
    "collapsed": false
   },
   "outputs": [],
   "source": [
    "a_eff = df_nz[\"Delta_a\"]/df_nz[\"N_a\"]\n",
    "b_eff = df_nz[\"Delta_b\"]/df_nz[\"N_b\"]\n",
    "c_eff = df_nz[\"Delta_c\"]/df_nz[\"N_c\"]\n",
    "mean_a = a_eff.sum() / len(a_eff)\n",
    "mean_b = b_eff.sum() / len(b_eff)\n",
    "mean_c = c_eff.sum() / len(c_eff)\n",
    "eff = pd.DataFrame(columns=[\"efficiency\"])\n",
    "eff[\"efficiency\"] = a_eff/mean_a * b_eff/mean_b * c_eff/mean_c\n",
    "a_eff = a_eff/mean_a\n",
    "b_eff = b_eff/mean_b\n",
    "c_eff = c_eff/mean_c\n",
    "perf = pd.DataFrame(columns=[\"performance\"])\n",
    "perf[\"performance\"] = df_nz[\"to_fa\"] / (df_nz[\"to_ga\"] + df_nz[\"to_fa\"])"
   ]
  },
  {
   "cell_type": "code",
   "execution_count": null,
   "metadata": {
    "collapsed": false
   },
   "outputs": [],
   "source": [
    "def skew(x):\n",
    "    n = len(x)\n",
    "    mean = x.sum() / float(n)\n",
    "    dx = x - mean\n",
    "    result = ((dx*dx*dx).sum() / float(n)) \\\n",
    "        / np.power((dx*dx).sum() / float(n - 1), 1.5)\n",
    "    return result"
   ]
  },
  {
   "cell_type": "code",
   "execution_count": null,
   "metadata": {
    "collapsed": false
   },
   "outputs": [],
   "source": [
    "mean = {}\n",
    "skew_in = {}\n",
    "skew_out = {}\n",
    "median_in = {}\n",
    "median_out = {}\n",
    "for project_id in project_ids:\n",
    "    try:\n",
    "        df = pd.DataFrame.from_csv(degree_file % project_id)\n",
    "        if len(df) < 1:\n",
    "            continue\n",
    "        p_mean = df[\"in_degree\"].sum() / float(len(df[\"in_degree\"]))\n",
    "        median_in[project_id] = df[\"in_degree\"].median()\n",
    "        median_out[project_id] = df[\"out_degree\"].median()\n",
    "        mean[project_id] = p_mean\n",
    "        skew_in[project_id] = skew(df[\"in_degree\"])\n",
    "        skew_out[project_id] = skew(df[\"out_degree\"])\n",
    "    except IOError:\n",
    "        pass\n",
    "    except ValueError:\n",
    "        pass"
   ]
  },
  {
   "cell_type": "code",
   "execution_count": null,
   "metadata": {
    "collapsed": false
   },
   "outputs": [],
   "source": [
    "df_degree = pd.DataFrame({\n",
    "    \"mean_degree\": mean,\n",
    "    \"median_in\": median_in,\n",
    "    \"median_out\": median_out,\n",
    "    \"skew_in\": skew_in,\n",
    "    \"skew_out\": skew_out})\n",
    "df_degree_nz = df_degree[df_degree[\"mean_degree\"] > 0]\n",
    "df_degree.to_csv(exp.get_filename(stats_file))"
   ]
  },
  {
   "cell_type": "code",
   "execution_count": null,
   "metadata": {
    "collapsed": false
   },
   "outputs": [],
   "source": [
    "df_all = pd.concat([eff, perf, df_degree_nz], axis=1, join=\"inner\")"
   ]
  },
  {
   "cell_type": "code",
   "execution_count": null,
   "metadata": {
    "collapsed": false
   },
   "outputs": [],
   "source": [
    "plt.figure(figsize=(8,10))\n",
    "subplot(3,1,1)\n",
    "plt.title('Mean degree');plt.xlabel('log(Mean degree)');plt.ylabel('Freq')\n",
    "plt.hist(np.log(df_all[\"mean_degree\"]), 60)\n",
    "subplot(3,1,2)\n",
    "plt.title('In-Degree Skewness');\n",
    "plt.xlabel('log(Skewness)');plt.ylabel('Freq')\n",
    "plt.hist(np.log(df_all[\"skew_in\"]), 60, range=(-2,4))\n",
    "subplot(3,1,3)\n",
    "plt.title('Out-Degree Skewness');\n",
    "plt.xlabel('log(Skewness)');plt.ylabel('Freq')\n",
    "plt.hist(np.log(df_all[\"skew_out\"]), 60, range=(-2,4))\n",
    "plt.tight_layout()"
   ]
  },
  {
   "cell_type": "code",
   "execution_count": null,
   "metadata": {
    "collapsed": false
   },
   "outputs": [],
   "source": [
    "plt.figure(figsize=(8,10))\n",
    "plt.subplot(2,1,1)\n",
    "r,p = spstats.pearsonr(np.log(df_all[\"mean_degree\"]), np.log(df_all[\"performance\"]))\n",
    "plt.title(\"Degree-Performance r=%0.2f p=%0.4f\" % (r,p))\n",
    "plt.xlabel(\"log(Mean degree)\"); ylabel(\"log(Performance)\")\n",
    "plt.plot(np.log(df_all[\"mean_degree\"]), np.log(df_all[\"performance\"]), \".\")\n",
    "plt.subplot(2,1,2)\n",
    "plt.plot(np.log(df_all[\"mean_degree\"]), np.log(df_all[\"efficiency\"]), \".\")\n",
    "r,p = spstats.pearsonr(np.log(df_all[\"mean_degree\"]), np.log(df_all[\"efficiency\"]))\n",
    "plt.title(\"Degree-Efficiency r=%0.2f p=%0.4f\" % (r,p))\n",
    "plt.xlabel(\"log(Mean degree)\"); ylabel(\"log(Efficiency)\")\n",
    "plt.tight_layout()"
   ]
  },
  {
   "cell_type": "code",
   "execution_count": null,
   "metadata": {
    "collapsed": false
   },
   "outputs": [],
   "source": [
    "plt.figure(figsize=(8,10))\n",
    "plt.subplot(2,1,1)\n",
    "r,p = spstats.pearsonr(np.log(df_all[\"mean_degree\"]), np.log(df_all[\"performance\"]))\n",
    "plt.title(\"Degree-Performance r=%0.2f p=%0.4f\" % (r,p))\n",
    "plt.xlabel(\"log(Mean degree)\"); ylabel(\"log(Performance)\")\n",
    "plt.plot(np.log(df_all[\"mean_degree\"]), np.log(df_all[\"performance\"]), \".\")\n",
    "plt.subplot(2,1,2)\n",
    "plt.plot(np.log(df_all[\"mean_degree\"]), np.log(df_all[\"efficiency\"]), \".\")\n",
    "r,p = spstats.pearsonr(np.log(df_all[\"mean_degree\"]), np.log(a_eff))\n",
    "plt.title(\"Degree-Efficiency r=%0.2f p=%0.4f\" % (r,p))\n",
    "plt.xlabel(\"log(Mean degree)\"); ylabel(\"log(Efficiency)\")\n",
    "plt.tight_layout()"
   ]
  },
  {
   "cell_type": "code",
   "execution_count": null,
   "metadata": {
    "collapsed": false
   },
   "outputs": [],
   "source": [
    "plt.figure(figsize=(8,10))\n",
    "plt.subplot(2,1,1)\n",
    "r,p = spstats.pearsonr(np.log(df_all[\"skew_out\"]), np.log(df_all[\"performance\"]))\n",
    "plt.title(\"Skew-Performance r=%0.2f p=%0.4f\" % (r,p))\n",
    "plt.xlabel(\"log(Out-degree skewness)\"); ylabel(\"log(Performance)\")\n",
    "plt.plot(np.log(df_all[\"skew_out\"]), np.log(df_all[\"performance\"]), \".\")\n",
    "plt.subplot(2,1,2)\n",
    "plt.plot(np.log(df_all[\"skew_out\"]), np.log(df_all[\"efficiency\"]), \".\")\n",
    "r,p = spstats.pearsonr(np.log(df_all[\"skew_out\"]), np.log(df_all[\"efficiency\"]))\n",
    "plt.title(\"Skew-Efficiency r=%0.2f p=%0.4f\" % (r,p))\n",
    "plt.xlabel(\"log(Out-degree skewness)\"); ylabel(\"log(Efficiency)\")\n",
    "plt.tight_layout()"
   ]
  },
  {
   "cell_type": "code",
   "execution_count": null,
   "metadata": {
    "collapsed": false
   },
   "outputs": [],
   "source": []
  }
 ],
 "metadata": {
  "kernelspec": {
   "display_name": "Python 2",
   "language": "python",
   "name": "python2"
  },
  "language_info": {
   "codemirror_mode": {
    "name": "ipython",
    "version": 2
   },
   "file_extension": ".py",
   "mimetype": "text/x-python",
   "name": "python",
   "nbconvert_exporter": "python",
   "pygments_lexer": "ipython2",
   "version": "2.7.6"
  }
 },
 "nbformat": 4,
 "nbformat_minor": 0
}
