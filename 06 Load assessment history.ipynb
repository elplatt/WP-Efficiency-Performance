{
 "cells": [
  {
   "cell_type": "code",
   "execution_count": 1,
   "metadata": {
    "collapsed": false
   },
   "outputs": [],
   "source": [
    "import calendar\n",
    "import codecs\n",
    "import csv\n",
    "import datetime\n",
    "import dateutil.parser\n",
    "import json\n",
    "import logging\n",
    "import os\n",
    "import os.path\n",
    "import sys\n",
    "import time\n",
    "import sqlalchemy\n",
    "import urllib"
   ]
  },
  {
   "cell_type": "code",
   "execution_count": 2,
   "metadata": {
    "collapsed": false
   },
   "outputs": [],
   "source": [
    "import database\n",
    "from database.schema import Rating\n",
    "import logbook"
   ]
  },
  {
   "cell_type": "code",
   "execution_count": 3,
   "metadata": {
    "collapsed": false
   },
   "outputs": [],
   "source": [
    "canonical_file = 'data/projects-2016-10-12.utf-16-le.tsv'\n",
    "project_file = 'data/projects-2016-10-14.json'\n",
    "project_dir = 'data/assessments_2017-03-20'\n",
    "skip_file = 'skipped'\n",
    "complete_file = 'completed'"
   ]
  },
  {
   "cell_type": "code",
   "execution_count": 4,
   "metadata": {
    "collapsed": false
   },
   "outputs": [],
   "source": [
    "exp_name = \"06_load_assessment_history\"\n",
    "exp = logbook.Experiment(exp_name)\n",
    "log = exp.get_logger()"
   ]
  },
  {
   "cell_type": "code",
   "execution_count": 5,
   "metadata": {
    "collapsed": false
   },
   "outputs": [],
   "source": [
    "project_ids = {}\n",
    "with open(project_file, \"rb\") as f:\n",
    "    for row in f:\n",
    "        datum = json.loads(row, encoding=\"utf-8\")\n",
    "        project_ids[datum[\"project_name\"]] = int(datum[\"project_id\"])"
   ]
  },
  {
   "cell_type": "code",
   "execution_count": 6,
   "metadata": {
    "collapsed": false
   },
   "outputs": [],
   "source": [
    "project_names = {}\n",
    "with codecs.open(canonical_file, encoding=\"utf-16-le\") as f:\n",
    "    projects_data = f.read()\n",
    "for row in projects_data.split(u\"\\n\"):\n",
    "    if row.strip() == '':\n",
    "        continue\n",
    "    title, unique = row.split(u\"\\t\")\n",
    "    project_names[title] = unique"
   ]
  },
  {
   "cell_type": "code",
   "execution_count": 7,
   "metadata": {
    "collapsed": false
   },
   "outputs": [],
   "source": [
    "def load_project(project_name, conn, skipped, completed):\n",
    "    if not isinstance(project_name, unicode):\n",
    "        log.error(\"Project_name not unicode: %s\" % project_name)\n",
    "        raise AssertionError\n",
    "    log.info('Loading grade history for: %s' % project_name)\n",
    "    quoted_name = urllib.quote(\n",
    "        project_name.replace(\" \", \"_\").encode('utf-8'), safe=\"\")\n",
    "    project_file = os.path.join(\n",
    "        project_dir, quoted_name + \".utf8.tsv\")\n",
    "    to_insert = []\n",
    "    try:\n",
    "        os.stat(project_file)\n",
    "    except OSError:\n",
    "        log.info(\"  Skipped\")\n",
    "        skipped.write(u\"%s\\t%s\\n\" % (project_name, u\"File not found\"))\n",
    "        return\n",
    "    with open(project_file, \"rb\") as f:\n",
    "        f.next() # Skip header\n",
    "        for i, row_text in enumerate(f):\n",
    "            row = row_text.decode('utf-8').rstrip(\"\\n\").split(u\"\\t\")\n",
    "            if i % 10000 == 0 and i != 0:\n",
    "                log.info(\"  Inserting %d records\" % len(to_insert))\n",
    "                conn.execute(Rating.__table__.insert(), to_insert) \n",
    "                del to_insert\n",
    "                to_insert = []\n",
    "                time.sleep(0.1)\n",
    "            project_name = row[0].decode('utf-8')\n",
    "            try:\n",
    "                unique_name = project_names[project_name]\n",
    "                if not isinstance(unique_name, unicode):\n",
    "                    log.error(\"Unique name not unicode: %s\" % unique_name)\n",
    "                    raise AssertionError\n",
    "            except KeyError:\n",
    "                log.info(\"  Skipped\")\n",
    "                skipped.write(u\"%s\\tNo canonical name\\n\" % project_name)\n",
    "                return\n",
    "            try:\n",
    "                project_id = project_ids[unique_name]\n",
    "            except KeyError:\n",
    "                log.info(\"  Skipped\")\n",
    "                skipped.write(u\"%s\\tNo id\\n\" % project_name)\n",
    "                return\n",
    "            if i == 0:\n",
    "                log.info('  %s: %s' % (project_id, unique_name))\n",
    "            try:\n",
    "                datum = {\n",
    "                    \"project_unique\": unique_name.encode('utf-8'),\n",
    "                    \"project_name\": row[0].strip(),\n",
    "                    \"project_id\": project_id,\n",
    "                    \"timestamp\": int(row[1]),\n",
    "                    \"action\": row[2].strip(),\n",
    "                    \"article_name\": row[3].strip().encode('utf-8'),\n",
    "                    \"old_quality\": row[4].strip(),\n",
    "                    \"new_quality\": row[5].strip(),\n",
    "                    \"old_importance\": row[6].strip(),\n",
    "                    \"new_importance\": row[7].strip(),\n",
    "                    \"new_article_name\": row[8].strip().encode('utf-8'),\n",
    "                    \"old_article_url\": row[9].strip(),\n",
    "                    \"new_article_url\": row[10].strip()\n",
    "                }\n",
    "            except UnicodeError:\n",
    "                log.error(\"  UnicodeError: %s\" % row_text)\n",
    "                raise\n",
    "            to_insert.append(datum)\n",
    "    log.info(\"  Inserting final batch of %d\" % len(to_insert))\n",
    "    conn.execute(Rating.__table__.insert(), to_insert)\n",
    "    completed.write(project_name + \"\\n\")"
   ]
  },
  {
   "cell_type": "code",
   "execution_count": 8,
   "metadata": {
    "collapsed": false
   },
   "outputs": [
    {
     "ename": "UnicodeEncodeError",
     "evalue": "'ascii' codec can't encode character u'\\xe1' in position 3: ordinal not in range(128)",
     "output_type": "error",
     "traceback": [
      "\u001b[0;31m---------------------------------------------------------------------------\u001b[0m",
      "\u001b[0;31mUnicodeEncodeError\u001b[0m                        Traceback (most recent call last)",
      "\u001b[0;32m<ipython-input-8-069ffa25413e>\u001b[0m in \u001b[0;36m<module>\u001b[0;34m()\u001b[0m\n\u001b[1;32m      8\u001b[0m             \u001b[0;32mcontinue\u001b[0m\u001b[0;34m\u001b[0m\u001b[0m\n\u001b[1;32m      9\u001b[0m         \u001b[0mproject_name\u001b[0m\u001b[0;34m,\u001b[0m \u001b[0mproject_unique\u001b[0m \u001b[0;34m=\u001b[0m \u001b[0mrow\u001b[0m\u001b[0;34m.\u001b[0m\u001b[0msplit\u001b[0m\u001b[0;34m(\u001b[0m\u001b[0;34mu\"\\t\"\u001b[0m\u001b[0;34m)\u001b[0m\u001b[0;34m\u001b[0m\u001b[0m\n\u001b[0;32m---> 10\u001b[0;31m         \u001b[0mload_project\u001b[0m\u001b[0;34m(\u001b[0m\u001b[0mproject_name\u001b[0m\u001b[0;34m,\u001b[0m \u001b[0mconn\u001b[0m\u001b[0;34m,\u001b[0m \u001b[0mskipped\u001b[0m\u001b[0;34m,\u001b[0m \u001b[0mcompleted\u001b[0m\u001b[0;34m)\u001b[0m\u001b[0;34m\u001b[0m\u001b[0m\n\u001b[0m\u001b[1;32m     11\u001b[0m     \u001b[0mlog\u001b[0m\u001b[0;34m.\u001b[0m\u001b[0minfo\u001b[0m\u001b[0;34m(\u001b[0m\u001b[0;34m\"Successful completion. Cleaning up...\"\u001b[0m\u001b[0;34m)\u001b[0m\u001b[0;34m\u001b[0m\u001b[0m\n\u001b[1;32m     12\u001b[0m \u001b[0;32mexcept\u001b[0m\u001b[0;34m:\u001b[0m\u001b[0;34m\u001b[0m\u001b[0m\n",
      "\u001b[0;32m<ipython-input-7-dfaf55a008e7>\u001b[0m in \u001b[0;36mload_project\u001b[0;34m(project_name, conn, skipped, completed)\u001b[0m\n\u001b[1;32m     25\u001b[0m                 \u001b[0mto_insert\u001b[0m \u001b[0;34m=\u001b[0m \u001b[0;34m[\u001b[0m\u001b[0;34m]\u001b[0m\u001b[0;34m\u001b[0m\u001b[0m\n\u001b[1;32m     26\u001b[0m                 \u001b[0mtime\u001b[0m\u001b[0;34m.\u001b[0m\u001b[0msleep\u001b[0m\u001b[0;34m(\u001b[0m\u001b[0;36m0.1\u001b[0m\u001b[0;34m)\u001b[0m\u001b[0;34m\u001b[0m\u001b[0m\n\u001b[0;32m---> 27\u001b[0;31m             \u001b[0mproject_name\u001b[0m \u001b[0;34m=\u001b[0m \u001b[0mrow\u001b[0m\u001b[0;34m[\u001b[0m\u001b[0;36m0\u001b[0m\u001b[0;34m]\u001b[0m\u001b[0;34m.\u001b[0m\u001b[0mdecode\u001b[0m\u001b[0;34m(\u001b[0m\u001b[0;34m'utf-8'\u001b[0m\u001b[0;34m)\u001b[0m\u001b[0;34m\u001b[0m\u001b[0m\n\u001b[0m\u001b[1;32m     28\u001b[0m             \u001b[0;32mtry\u001b[0m\u001b[0;34m:\u001b[0m\u001b[0;34m\u001b[0m\u001b[0m\n\u001b[1;32m     29\u001b[0m                 \u001b[0munique_name\u001b[0m \u001b[0;34m=\u001b[0m \u001b[0mproject_names\u001b[0m\u001b[0;34m[\u001b[0m\u001b[0mproject_name\u001b[0m\u001b[0;34m]\u001b[0m\u001b[0;34m\u001b[0m\u001b[0m\n",
      "\u001b[0;32m/home/elplatt/NetFT/venv/lib/python2.7/encodings/utf_8.pyc\u001b[0m in \u001b[0;36mdecode\u001b[0;34m(input, errors)\u001b[0m\n\u001b[1;32m     14\u001b[0m \u001b[0;34m\u001b[0m\u001b[0m\n\u001b[1;32m     15\u001b[0m \u001b[0;32mdef\u001b[0m \u001b[0mdecode\u001b[0m\u001b[0;34m(\u001b[0m\u001b[0minput\u001b[0m\u001b[0;34m,\u001b[0m \u001b[0merrors\u001b[0m\u001b[0;34m=\u001b[0m\u001b[0;34m'strict'\u001b[0m\u001b[0;34m)\u001b[0m\u001b[0;34m:\u001b[0m\u001b[0;34m\u001b[0m\u001b[0m\n\u001b[0;32m---> 16\u001b[0;31m     \u001b[0;32mreturn\u001b[0m \u001b[0mcodecs\u001b[0m\u001b[0;34m.\u001b[0m\u001b[0mutf_8_decode\u001b[0m\u001b[0;34m(\u001b[0m\u001b[0minput\u001b[0m\u001b[0;34m,\u001b[0m \u001b[0merrors\u001b[0m\u001b[0;34m,\u001b[0m \u001b[0mTrue\u001b[0m\u001b[0;34m)\u001b[0m\u001b[0;34m\u001b[0m\u001b[0m\n\u001b[0m\u001b[1;32m     17\u001b[0m \u001b[0;34m\u001b[0m\u001b[0m\n\u001b[1;32m     18\u001b[0m \u001b[0;32mclass\u001b[0m \u001b[0mIncrementalEncoder\u001b[0m\u001b[0;34m(\u001b[0m\u001b[0mcodecs\u001b[0m\u001b[0;34m.\u001b[0m\u001b[0mIncrementalEncoder\u001b[0m\u001b[0;34m)\u001b[0m\u001b[0;34m:\u001b[0m\u001b[0;34m\u001b[0m\u001b[0m\n",
      "\u001b[0;31mUnicodeEncodeError\u001b[0m: 'ascii' codec can't encode character u'\\xe1' in position 3: ordinal not in range(128)"
     ]
    }
   ],
   "source": [
    "conn = database.engine.connect()\n",
    "try:\n",
    "    log.info(\"Loading ratings for all projects\")\n",
    "    skipped = codecs.open(exp.get_filename(skip_file), \"w\", encoding='utf-8') \n",
    "    completed = codecs.open(exp.get_filename(complete_file), \"w\", encoding=\"utf-8\")\n",
    "    for row in projects_data.split(u\"\\n\")[1:]:\n",
    "        if row.strip() == '':\n",
    "            continue\n",
    "        project_name, project_unique = row.split(u\"\\t\")\n",
    "        load_project(project_name, conn, skipped, completed)\n",
    "    log.info(\"Successful completion. Cleaning up...\")\n",
    "except:\n",
    "    log.error(\"Error: %s\" % str(sys.exc_info()))\n",
    "    raise\n",
    "finally:\n",
    "    try:\n",
    "        conn.close()\n",
    "        skipped.close()\n",
    "        completed.close()\n",
    "    except:\n",
    "        pass"
   ]
  },
  {
   "cell_type": "code",
   "execution_count": null,
   "metadata": {
    "collapsed": false
   },
   "outputs": [],
   "source": []
  }
 ],
 "metadata": {
  "kernelspec": {
   "display_name": "Python 2",
   "language": "python",
   "name": "python2"
  },
  "language_info": {
   "codemirror_mode": {
    "name": "ipython",
    "version": 2
   },
   "file_extension": ".py",
   "mimetype": "text/x-python",
   "name": "python",
   "nbconvert_exporter": "python",
   "pygments_lexer": "ipython2",
   "version": "2.7.6"
  }
 },
 "nbformat": 4,
 "nbformat_minor": 0
}
