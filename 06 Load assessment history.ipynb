{
 "metadata": {
  "name": ""
 },
 "nbformat": 3,
 "nbformat_minor": 0,
 "worksheets": [
  {
   "cells": [
    {
     "cell_type": "code",
     "collapsed": false,
     "input": [
      "import calendar\n",
      "import codecs\n",
      "import csv\n",
      "import datetime\n",
      "import dateutil.parser\n",
      "import json\n",
      "import logging\n",
      "import os\n",
      "import os.path\n",
      "import time\n",
      "import sqlalchemy"
     ],
     "language": "python",
     "metadata": {},
     "outputs": [],
     "prompt_number": 9
    },
    {
     "cell_type": "code",
     "collapsed": false,
     "input": [
      "import database\n",
      "from database.schema import Rating\n",
      "import logbook"
     ],
     "language": "python",
     "metadata": {},
     "outputs": [],
     "prompt_number": 10
    },
    {
     "cell_type": "code",
     "collapsed": false,
     "input": [
      "canonical_file = 'data/projects-2016-10-12.utf-16-le.tsv'\n",
      "project_file = 'data/projects-2016-10-14.json'\n",
      "project_dir = 'data/Projects'\n",
      "skip_file = 'skipped'"
     ],
     "language": "python",
     "metadata": {},
     "outputs": [],
     "prompt_number": 11
    },
    {
     "cell_type": "code",
     "collapsed": false,
     "input": [
      "exp_name = \"06_load_assessment_history\"\n",
      "exp = logbook.Experiment(exp_name)\n",
      "log = exp.get_logger()"
     ],
     "language": "python",
     "metadata": {},
     "outputs": [],
     "prompt_number": 4
    },
    {
     "cell_type": "code",
     "collapsed": false,
     "input": [
      "project_ids = {}\n",
      "with open(project_file, \"rb\") as f:\n",
      "    for row in f:\n",
      "        datum = json.loads(row, encoding=\"utf-8\")\n",
      "        project_ids[datum[\"project_name\"]] = int(datum[\"project_id\"])"
     ],
     "language": "python",
     "metadata": {},
     "outputs": [],
     "prompt_number": 5
    },
    {
     "cell_type": "code",
     "collapsed": false,
     "input": [
      "project_names = {}\n",
      "with codecs.open(canonical_file, encoding=\"utf-16-le\") as f:\n",
      "    projects_data = f.read()\n",
      "for row in projects_data.split(u\"\\n\"):\n",
      "    if row.strip() == '':\n",
      "        continue\n",
      "    title, unique = row.split(u\"\\t\")\n",
      "    project_names[title] = unique"
     ],
     "language": "python",
     "metadata": {},
     "outputs": [],
     "prompt_number": 6
    },
    {
     "cell_type": "code",
     "collapsed": false,
     "input": [
      "def load_project(project_file, conn, skipped):\n",
      "    log.info('Loading grade history for: %s' % project_file)\n",
      "    to_insert = []\n",
      "    with open(project_file, \"rb\") as f:\n",
      "        reader = csv.reader(f)\n",
      "        reader.next() # Skip header\n",
      "        for i, row in enumerate(reader):\n",
      "            if i % 10000 == 0 and i != 0:\n",
      "                log.info(\"  Inserting %d records\" % len(to_insert))\n",
      "                conn.execute(Rating.__table__.insert(), to_insert) \n",
      "                del to_insert\n",
      "                to_insert = []\n",
      "                time.sleep(0.1)\n",
      "            project_name = row[0].decode('utf-8')\n",
      "            try:\n",
      "                unique_name = project_names[project_name]\n",
      "            except KeyError:\n",
      "                skipped.write(u\"%s\\tNo canonical name\\n\" % project_name)\n",
      "                return\n",
      "            try:\n",
      "                project_id = project_ids[unique_name]\n",
      "            except KeyError:\n",
      "                skipped.write(u\"%s\\tNo id\\n\" % project_name)\n",
      "                return\n",
      "            if i == 0:\n",
      "                log.info('  %s: %s' % (project_id, unique_name))\n",
      "            try:\n",
      "                ts = dateutil.parser.parse(row[1])\n",
      "            except ValueError:\n",
      "                log.error(\"Error parsing timestamp: %s:%s\" % (i, '\\t'.join(row)))\n",
      "                raise\n",
      "            dt = datetime.datetime.fromtimestamp(calendar.timegm(ts.timetuple()))\n",
      "            datum = {\n",
      "                \"project_name\": row[0].decode('utf-8').strip(),\n",
      "                \"project_id\": project_id,\n",
      "                \"timestamp\": dt,\n",
      "                \"action\": row[2].decode('utf-8').strip(),\n",
      "                \"article_name\": row[3].decode('utf-8').strip(),\n",
      "                \"old_quality\": row[4].decode('utf-8').strip(),\n",
      "                \"new_quality\": row[5].decode('utf-8').strip(),\n",
      "                \"old_importance\": row[6].decode('utf-8').strip(),\n",
      "                \"new_importance\": row[7].decode('utf-8').strip(),\n",
      "                \"new_article_name\": row[8].decode('utf-8').strip(),\n",
      "                \"old_article_url\": row[9].decode('utf-8').strip(),\n",
      "                \"new_article_url\": row[10].decode('utf-8').strip()\n",
      "            }\n",
      "            to_insert.append(datum)\n",
      "    log.info(\"  Inserting final batch of %d\" % len(to_insert))\n",
      "    conn.execute(Rating.__table__.insert(), to_insert)"
     ],
     "language": "python",
     "metadata": {},
     "outputs": [],
     "prompt_number": 7
    },
    {
     "cell_type": "code",
     "collapsed": false,
     "input": [
      "skip_to = None\n",
      "conn = database.engine.connect()\n",
      "try:\n",
      "    log.info(\"Loading ratings for all projects\")\n",
      "    if skip_to is None:\n",
      "        skip = False\n",
      "    else:\n",
      "        skip = True\n",
      "    with codecs.open(exp.get_filename(skip_file), \"w\", encoding='utf-8') as skipped:        \n",
      "        for i, project_file in enumerate(os.listdir(project_dir)):\n",
      "            if project_file == skip_to:\n",
      "                skip = False\n",
      "            if skip:\n",
      "                log.info(\"Skipping: %s\" % project_file)\n",
      "                continue\n",
      "            if project_file.endswith('.csv'):\n",
      "                log.info(\"Loading project: %s\" % project_file)\n",
      "                load_project(os.path.join(project_dir, project_file), conn, skipped)\n",
      "    log.info(\"Successful completion. Cleaning up...\")\n",
      "except:\n",
      "    log.error(\"Error: %s\" % str(sys.exc_info()))\n",
      "    raise\n",
      "finally:\n",
      "    conn.close()"
     ],
     "language": "python",
     "metadata": {},
     "outputs": [],
     "prompt_number": "*"
    },
    {
     "cell_type": "code",
     "collapsed": false,
     "input": [],
     "language": "python",
     "metadata": {},
     "outputs": []
    }
   ],
   "metadata": {}
  }
 ]
}