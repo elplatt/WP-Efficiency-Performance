{
 "cells": [
  {
   "cell_type": "code",
   "execution_count": 231,
   "metadata": {
    "collapsed": false
   },
   "outputs": [],
   "source": [
    "import codecs\n",
    "from lxml import html\n",
    "import requests\n",
    "from urlparse import parse_qs, urlparse"
   ]
  },
  {
   "cell_type": "code",
   "execution_count": 228,
   "metadata": {
    "collapsed": false
   },
   "outputs": [],
   "source": [
    "def ensure_unicode(s):\n",
    "    if isinstance(s, unicode):\n",
    "        return s\n",
    "    else:\n",
    "        return s.decode('utf-8')"
   ]
  },
  {
   "cell_type": "code",
   "execution_count": 220,
   "metadata": {
    "collapsed": false
   },
   "outputs": [],
   "source": [
    "project_titles = []"
   ]
  },
  {
   "cell_type": "code",
   "execution_count": 223,
   "metadata": {
    "collapsed": false
   },
   "outputs": [],
   "source": [
    "page = requests.get(\"https://tools.wmflabs.org/enwp10/cgi-bin/pindex.fcgi?sec=[All]\")\n",
    "parser = html.HTMLParser(encoding='utf-8')\n",
    "tree = html.document_fromstring(page.content, parser=parser)"
   ]
  },
  {
   "cell_type": "code",
   "execution_count": 224,
   "metadata": {
    "collapsed": false
   },
   "outputs": [],
   "source": [
    "cells = tree.xpath(\"//table[@class='wikitable']//tr/td[1]\")"
   ]
  },
  {
   "cell_type": "code",
   "execution_count": 225,
   "metadata": {
    "collapsed": false
   },
   "outputs": [],
   "source": [
    "for cell in cells:\n",
    "    if (len(cell[0]) == 0):\n",
    "        title = ensure_unicode(cell[0].text)\n",
    "        project_titles.append((title,title))\n",
    "    else:\n",
    "        title = ensure_unicode(cell[0][0].text)\n",
    "        url = ensure_unicode(cell[0][0].attrib['href'])\n",
    "        query = urlparse(url).query\n",
    "        unique = parse_qs(query)['title'][0]\n",
    "        project_titles.append((title,unique))"
   ]
  },
  {
   "cell_type": "code",
   "execution_count": 226,
   "metadata": {
    "collapsed": false
   },
   "outputs": [],
   "source": [
    "project_titles"
   ]
  },
  {
   "cell_type": "code",
   "execution_count": 96,
   "metadata": {
    "collapsed": false
   },
   "outputs": [],
   "source": [
    "def escape_csv(s):\n",
    "    if ',' in s:\n",
    "        s = s.replace('\\\\', '\\\\\\\\').replace('\"', '\\\\\"')\n",
    "        return u'\"%s\"' % s\n",
    "    else:\n",
    "        return s"
   ]
  },
  {
   "cell_type": "code",
   "execution_count": 232,
   "metadata": {
    "collapsed": false
   },
   "outputs": [],
   "source": [
    "with open('data/projects.tsv', 'wb') as f:\n",
    "    f.write(u\"Title\\tUnique\\n\".encode('utf_16_le'))\n",
    "    for project in project_titles:\n",
    "        title = project[0]\n",
    "        unique = project[1]\n",
    "        line = u\"%s\\t%s\\n\" % project\n",
    "        f.write(line.encode('utf_16_le'))"
   ]
  },
  {
   "cell_type": "code",
   "execution_count": null,
   "metadata": {
    "collapsed": false
   },
   "outputs": [],
   "source": []
  }
 ],
 "metadata": {
  "kernelspec": {
   "display_name": "Python 2",
   "language": "python",
   "name": "python2"
  },
  "language_info": {
   "codemirror_mode": {
    "name": "ipython",
    "version": 2
   },
   "file_extension": ".py",
   "mimetype": "text/x-python",
   "name": "python",
   "nbconvert_exporter": "python",
   "pygments_lexer": "ipython2",
   "version": "2.7.6"
  }
 },
 "nbformat": 4,
 "nbformat_minor": 0
}
