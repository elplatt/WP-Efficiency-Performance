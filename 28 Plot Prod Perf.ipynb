{
 "cells": [
  {
   "cell_type": "code",
   "execution_count": null,
   "id": "da34604f-3821-413f-9d7d-ec60886248b5",
   "metadata": {},
   "outputs": [],
   "source": [
    "%pylab inline\n",
    "from matplotlib import pyplot as plt\n",
    "import numpy as np\n",
    "import pandas as pd\n",
    "import repsci\n",
    "import scipy.stats as spstats"
   ]
  },
  {
   "cell_type": "code",
   "execution_count": null,
   "id": "850afb22-4847-4b84-b448-12b9bbeb16d0",
   "metadata": {},
   "outputs": [],
   "source": [
    "exp = repsci.Experiment('28_plot_prod_perf')"
   ]
  },
  {
   "cell_type": "code",
   "execution_count": null,
   "id": "73808daa-25a5-484c-b964-c56782dbba73",
   "metadata": {},
   "outputs": [],
   "source": [
    "df_combined = pd.read_csv('output/26_combine_data/2022-05-11 19:05:22 b813703/combined.csv')"
   ]
  },
  {
   "cell_type": "code",
   "execution_count": null,
   "id": "8790b8b9-909d-448e-9c84-17c81eb2f689",
   "metadata": {},
   "outputs": [],
   "source": [
    "df_combined[\"a_life_eff\"] = df_combined[\"Articles_a\"] / df_combined[\"stage_N_a\"]\n",
    "df_combined[\"b_life_eff\"] = df_combined[\"Articles_b\"] / df_combined[\"stage_N_b\"]\n",
    "df_combined[\"c_life_eff\"] = df_combined[\"Articles_c\"] / df_combined[\"stage_N_c\"]\n",
    "\n",
    "df_combined[\"comp_perf\"] = (df_combined[\"to_fa\"] + df_combined[\"to_ga\"]) / df_combined[\"article_count\"]"
   ]
  },
  {
   "cell_type": "code",
   "execution_count": null,
   "id": "29b7fd4e-d3f0-4776-bcb1-818baa5d8a3f",
   "metadata": {},
   "outputs": [],
   "source": [
    "plt.figure(figsize=(6,6))\n",
    "\n",
    "plt.subplot(2,2,1)\n",
    "df = df_combined[df_combined[\"stage_N_a\"] > 0]\n",
    "df = df[df[\"a_life_eff\"] > 0]\n",
    "plt.hist(np.log10(df.a_life_eff), np.linspace(-4, 2, 25), zorder=2)\n",
    "plt.xlim([-4, 2])\n",
    "plt.xticks(range(-4, 4, 1))\n",
    "plt.ylim([0,300])\n",
    "plt.grid()\n",
    "plt.ylabel('Project Count')\n",
    "plt.xlabel('$log_{10}$ A-Productivity')\n",
    "\n",
    "plt.subplot(2,2,2)\n",
    "df = df_combined[df_combined[\"stage_N_b\"] > 0]\n",
    "df = df[df[\"b_life_eff\"] > 0]\n",
    "plt.hist(np.log10(df.b_life_eff), np.linspace(-4, 2, 25), zorder=2)\n",
    "plt.xlim([-4, 2])\n",
    "plt.xticks(range(-4, 4, 1))\n",
    "plt.ylim([0,300])\n",
    "plt.grid()\n",
    "plt.ylabel('Project Count')\n",
    "plt.xlabel('$log_{10}$ B-Productivity')\n",
    "\n",
    "plt.subplot(2,2,3)\n",
    "df = df_combined[df_combined[\"stage_N_c\"] > 0]\n",
    "df = df[df[\"c_life_eff\"] > 0]\n",
    "plt.hist(np.log10(df.c_life_eff), np.linspace(-4, 2, 25), zorder=2)\n",
    "plt.xlim([-4, 2])\n",
    "plt.xticks(range(-4, 4, 1))\n",
    "plt.ylim([0,300])\n",
    "plt.grid()\n",
    "plt.ylabel('Project Count')\n",
    "plt.xlabel('$log_{10}$ C-Productivity')\n",
    "\n",
    "ax = plt.subplot(2,2,4)\n",
    "df = df_combined[df_combined.comp_perf > 0]\n",
    "plt.hist(np.log10(df.comp_perf), 25, zorder=2)\n",
    "plt.xlim([-6, 0])\n",
    "plt.xticks(range(-6, 2, 1))\n",
    "plt.ylim([0,300])\n",
    "plt.grid()\n",
    "plt.ylabel('Project Count')\n",
    "plt.xlabel('$log_{10}$ Performance')\n",
    "\n",
    "plt.tight_layout()\n",
    "plt.savefig(exp.get_filename('fig-eff-perf-hist.png'), dpi=600)\n",
    "plt.savefig(exp.get_filename('fig-eff-perf-hist.eps'))"
   ]
  },
  {
   "cell_type": "code",
   "execution_count": null,
   "id": "189813cd-cfa0-45b0-8da2-98ae615172b5",
   "metadata": {},
   "outputs": [],
   "source": [
    "df = df_combined[df_combined[\"stage_N_b\"] > 0]\n",
    "df = df[df[\"comp_perf\"] > 0]\n",
    "df = df[df[\"b_life_eff\"] > 0]\n",
    "\n",
    "r, p = spstats.pearsonr(np.log10(df[\"b_life_eff\"]), np.log10(df[\"comp_perf\"]))\n",
    "m, b = np.polyfit(np.log10(df[\"b_life_eff\"]), np.log10(df[\"comp_perf\"]), 1)\n",
    "r,p"
   ]
  },
  {
   "cell_type": "code",
   "execution_count": null,
   "id": "9ac56f0a-7840-4a59-a3fe-b1913ba31eb2",
   "metadata": {},
   "outputs": [],
   "source": [
    "xmin = df[\"b_life_eff\"].min()\n",
    "xmax = df[\"b_life_eff\"].max()\n",
    "ymin = np.power(10, np.log10(xmin)*m+b)\n",
    "ymax = np.power(10, np.log10(xmax)*m+b)\n",
    "xmin,xmax,ymin,ymax"
   ]
  },
  {
   "cell_type": "code",
   "execution_count": null,
   "id": "7f0c2540-3285-43c2-80b3-03c62a38f14a",
   "metadata": {},
   "outputs": [],
   "source": [
    "plt.figure(figsize=(3,3))\n",
    "plt.loglog(df[\"b_life_eff\"], df[\"comp_perf\"], '.')\n",
    "plt.loglog([xmin,xmax],[ymin,ymax],'g-', linewidth=2)\n",
    "plt.ylabel(\"Performance\")\n",
    "plt.xlabel(\"B-Efficiency\")\n",
    "plt.title(\"r = %0.2f, p<0.001\" % r)\n",
    "plt.tick_params(axis='both', which='major')\n",
    "\n",
    "plt.tight_layout()\n",
    "plt.savefig(exp.get_filename('fig-perf-prod.png'), dpi=600)\n",
    "plt.savefig(exp.get_filename('fig-perf-prod.eps'))"
   ]
  },
  {
   "cell_type": "code",
   "execution_count": null,
   "id": "07babae5-b909-416b-a98b-c38273669720",
   "metadata": {},
   "outputs": [],
   "source": []
  }
 ],
 "metadata": {
  "kernelspec": {
   "display_name": "Python 3 (ipykernel)",
   "language": "python",
   "name": "python3"
  },
  "language_info": {
   "codemirror_mode": {
    "name": "ipython",
    "version": 3
   },
   "file_extension": ".py",
   "mimetype": "text/x-python",
   "name": "python",
   "nbconvert_exporter": "python",
   "pygments_lexer": "ipython3",
   "version": "3.9.5"
  }
 },
 "nbformat": 4,
 "nbformat_minor": 5
}
