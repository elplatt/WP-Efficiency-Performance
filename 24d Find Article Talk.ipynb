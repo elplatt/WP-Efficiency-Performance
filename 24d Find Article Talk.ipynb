{
 "cells": [
  {
   "cell_type": "code",
   "execution_count": null,
   "metadata": {
    "collapsed": false
   },
   "outputs": [],
   "source": [
    "import calendar\n",
    "import datetime\n",
    "import json\n",
    "import numpy as np\n",
    "from matplotlib import pyplot as plt\n",
    "import pandas as pd\n",
    "import scipy.stats as spstats\n",
    "from sqlalchemy import distinct, func, select\n",
    "import database\n",
    "from database.schema import Rating, revision_table\n",
    "import logbook"
   ]
  },
  {
   "cell_type": "code",
   "execution_count": null,
   "metadata": {
    "collapsed": false
   },
   "outputs": [],
   "source": [
    "exp_name = \"24d_find_article_talk\"\n",
    "exp = logbook.Experiment(exp_name)\n",
    "log = exp.get_logger()\n",
    "project_file = \"data/projects-2016-10-14-dedup.json\"\n",
    "out_file = \"article_talk.csv\""
   ]
  },
  {
   "cell_type": "code",
   "execution_count": null,
   "metadata": {
    "collapsed": false
   },
   "outputs": [],
   "source": [
    "project_ids = []\n",
    "with open(project_file, \"rb\") as f:\n",
    "    for row in f:\n",
    "        data = json.loads(row)\n",
    "        project_ids.append(data[\"project_id\"])"
   ]
  },
  {
   "cell_type": "code",
   "execution_count": null,
   "metadata": {
    "collapsed": false
   },
   "outputs": [],
   "source": [
    "conn = database.engine.connect()\n",
    "try:\n",
    "    article_count = {}\n",
    "    talk_count = {}\n",
    "    for project_id in project_ids:\n",
    "        log.info(\"Starting project %d\" % project_id)\n",
    "        tab = revision_table(project_id).__table__\n",
    "        # Article count\n",
    "        stmt = select([func.count(tab.c.article_namespace)]).where(tab.c.article_namespace == 0)\n",
    "        result = conn.execute(stmt)\n",
    "        count = result.fetchone()[0]\n",
    "        if (count == 0):\n",
    "            continue\n",
    "        article_count[project_id] = count\n",
    "        # Talk count\n",
    "        stmt = select([func.count(tab.c.article_namespace)]).where(tab.c.article_namespace == 1)\n",
    "        result = conn.execute(stmt)\n",
    "        count = result.fetchone()[0]\n",
    "        if (count == 0):\n",
    "            continue\n",
    "        talk_count[project_id] = count\n",
    "finally:\n",
    "    log.info(\"Finished querying database, writing output\")\n",
    "    conn.close()"
   ]
  },
  {
   "cell_type": "code",
   "execution_count": null,
   "metadata": {
    "collapsed": false
   },
   "outputs": [],
   "source": [
    "df = pd.DataFrame({\n",
    "    'project_id':dict([(x,x) for x in project_ids]),\n",
    "    'article_count':article_count,\n",
    "    'talk_count':talk_count})\n",
    "df = df.set_index('project_id')\n",
    "df.to_csv(exp.get_filename(out_file))\n",
    "log.info(\"Script complete\")"
   ]
  },
  {
   "cell_type": "code",
   "execution_count": null,
   "metadata": {
    "collapsed": false
   },
   "outputs": [],
   "source": []
  }
 ],
 "metadata": {
  "kernelspec": {
   "display_name": "Python 2",
   "language": "python",
   "name": "python2"
  },
  "language_info": {
   "codemirror_mode": {
    "name": "ipython",
    "version": 2
   },
   "file_extension": ".py",
   "mimetype": "text/x-python",
   "name": "python",
   "nbconvert_exporter": "python",
   "pygments_lexer": "ipython2",
   "version": "2.7.6"
  }
 },
 "nbformat": 4,
 "nbformat_minor": 0
}
