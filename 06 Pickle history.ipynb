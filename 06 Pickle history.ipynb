{
 "metadata": {
  "name": ""
 },
 "nbformat": 3,
 "nbformat_minor": 0,
 "worksheets": [
  {
   "cells": [
    {
     "cell_type": "code",
     "collapsed": false,
     "input": [
      "import csv\n",
      "from pickle import Pickler\n",
      "import time\n",
      "from IPython.display import clear_output"
     ],
     "language": "python",
     "metadata": {},
     "outputs": [],
     "prompt_number": 7
    },
    {
     "cell_type": "code",
     "collapsed": false,
     "input": [
      "history_file = \"data/history_output.csv\"\n",
      "output_file = \"data/history.p\""
     ],
     "language": "python",
     "metadata": {},
     "outputs": [],
     "prompt_number": 8
    },
    {
     "cell_type": "code",
     "collapsed": false,
     "input": [
      "with open(output_file, \"wb\") as pickle_f:\n",
      "    p = Pickler(pickle_f)\n",
      "    start = time.time()\n",
      "    with open(history_file, \"rb\") as f:\n",
      "        reader = csv.reader(f)\n",
      "        for i, row in enumerate(reader):\n",
      "            if i % 10000 == 0 and i > 0:\n",
      "                clear_output()\n",
      "                print \"%d rows processed in %f seconds\" % (i, time.time() - start)\n",
      "            p.dump(row)\n",
      "            if i % 100000 == 0 and i > 0:\n",
      "                time.sleep(0.1)\n",
      "    "
     ],
     "language": "python",
     "metadata": {},
     "outputs": [],
     "prompt_number": 9
    },
    {
     "cell_type": "code",
     "collapsed": false,
     "input": [],
     "language": "python",
     "metadata": {},
     "outputs": []
    }
   ],
   "metadata": {}
  }
 ]
}