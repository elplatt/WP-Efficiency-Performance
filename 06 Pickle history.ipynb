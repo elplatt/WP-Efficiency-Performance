{
 "metadata": {
  "name": ""
 },
 "nbformat": 3,
 "nbformat_minor": 0,
 "worksheets": [
  {
   "cells": [
    {
     "cell_type": "code",
     "collapsed": false,
     "input": [
      "import csv\n",
      "from pickle import Pickler\n",
      "import time\n",
      "from IPython.display import clear_output"
     ],
     "language": "python",
     "metadata": {},
     "outputs": [],
     "prompt_number": 29
    },
    {
     "cell_type": "code",
     "collapsed": false,
     "input": [
      "history_file = \"data/final_history_output-modified.csv\"\n",
      "output_file = \"data/history.p\"\n",
      "log_file = \"data/06_Pickle_history.log\"\n",
      "pickle_rows = 50000"
     ],
     "language": "python",
     "metadata": {},
     "outputs": [],
     "prompt_number": 30
    },
    {
     "cell_type": "code",
     "collapsed": false,
     "input": [
      "class FlushStream(object):\n",
      "    def __init__(self, f=sys.stdout):\n",
      "        self.f = f\n",
      "    def write(self, s):\n",
      "        self.f.write(s)\n",
      "        self.f.flush()"
     ],
     "language": "python",
     "metadata": {},
     "outputs": [],
     "prompt_number": 31
    },
    {
     "cell_type": "code",
     "collapsed": false,
     "input": [
      "with open(log_file, \"wb\") as log_f:\n",
      "    output = FlushStream(log_f)\n",
      "    with open(output_file, \"wb\") as pickle_f:\n",
      "        p = Pickler(pickle_f, 2)\n",
      "        start = time.time()\n",
      "        to_pickle = []\n",
      "        with open(history_file, \"rb\") as f:\n",
      "            reader = csv.reader(f)\n",
      "            for i, row in enumerate(reader):\n",
      "                if i % 10000 == 0 and i > 0:\n",
      "                    output.write(\"%d rows processed in %f seconds\\n\" % (i, time.time() - start))\n",
      "                to_pickle.append(row)\n",
      "                if len(to_pickle) >= pickle_rows:\n",
      "                    p.dump(to_pickle)\n",
      "                    to_pickle = []\n",
      "                    p.clear_memo()\n",
      "                if i % 100000 == 0 and i > 0:\n",
      "                    time.sleep(0.1)\n",
      "        if len(to_pickle) > 0:\n",
      "            p.dump(to_pickle)\n",
      "            to_pickle = []\n",
      "            p.clear_memo()"
     ],
     "language": "python",
     "metadata": {},
     "outputs": [],
     "prompt_number": "*"
    },
    {
     "cell_type": "code",
     "collapsed": false,
     "input": [],
     "language": "python",
     "metadata": {},
     "outputs": []
    }
   ],
   "metadata": {}
  }
 ]
}