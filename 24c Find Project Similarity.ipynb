{
 "cells": [
  {
   "cell_type": "code",
   "execution_count": null,
   "metadata": {
    "collapsed": false
   },
   "outputs": [],
   "source": [
    "%pylab inline\n",
    "import json\n",
    "import msgpack\n",
    "import pandas as pd\n",
    "import scipy.stats as spstats\n",
    "import numpy as np\n",
    "import logbook"
   ]
  },
  {
   "cell_type": "code",
   "execution_count": null,
   "metadata": {
    "collapsed": true
   },
   "outputs": [],
   "source": [
    "project_file = \"data/projects-2016-10-14.json\"\n",
    "map_file = \"archive/07_create_article_project_map/2017-03-27 14:10:49 77c76e1/articles_projects.m\"\n",
    "exp = logbook.Experiment(\"24c find_similarity\")"
   ]
  },
  {
   "cell_type": "code",
   "execution_count": null,
   "metadata": {
    "collapsed": false
   },
   "outputs": [],
   "source": [
    "projects = {}\n",
    "with open(project_file, 'rb') as f:\n",
    "    for i, row in enumerate(f):\n",
    "        data = json.loads(row)\n",
    "        project_id = data['project_id']\n",
    "        projects[project_id] = data\n",
    "with open(map_file, 'rb') as f:\n",
    "    article_projects = msgpack.unpackb(f.read())"
   ]
  },
  {
   "cell_type": "code",
   "execution_count": null,
   "metadata": {
    "collapsed": true
   },
   "outputs": [],
   "source": [
    "len(projects)"
   ]
  },
  {
   "cell_type": "code",
   "execution_count": null,
   "metadata": {
    "collapsed": false
   },
   "outputs": [],
   "source": [
    "project_articles = {}\n",
    "for article_id, project_times in article_projects.iteritems():\n",
    "    for project_id in project_times.keys():\n",
    "        try:\n",
    "            project_articles[project_id].add(article_id)\n",
    "        except KeyError:\n",
    "            project_articles[project_id] = set([article_id])"
   ]
  },
  {
   "cell_type": "code",
   "execution_count": null,
   "metadata": {
    "collapsed": false
   },
   "outputs": [],
   "source": [
    "len(project_articles[256])"
   ]
  },
  {
   "cell_type": "code",
   "execution_count": null,
   "metadata": {
    "collapsed": false
   },
   "outputs": [],
   "source": [
    "project_ids = sorted(project_articles.keys())\n",
    "similarity = {}\n",
    "log = exp.get_logger()\n",
    "with open(exp.get_filename(\"similarity.csv\"), \"wb\") as out:\n",
    "    out.write(\"low_id,high_id,jaccard\\n\")\n",
    "    for i, low in enumerate(project_ids):\n",
    "        log.info(\"low: %d\", low)\n",
    "        for high in project_ids[i+1:]:\n",
    "            low_articles = set(project_articles[low])\n",
    "            high_articles = set(project_articles[high])\n",
    "            union = low_articles | high_articles\n",
    "            intersection = low_articles & high_articles\n",
    "            jaccard = float(len(intersection)) / float(len(union))\n",
    "            similarity[(low, high)] = jaccard\n",
    "            similarity[(high, low)] = jaccard\n",
    "            out.write(\"%d,%d,%s\\n\" % (low, high, repr(jaccard)))\n",
    "        out.flush()\n",
    "log.info(\"done\")"
   ]
  },
  {
   "cell_type": "code",
   "execution_count": null,
   "metadata": {
    "collapsed": false
   },
   "outputs": [],
   "source": [
    "project_ids = projects.keys()\n",
    "col_project_id = []\n",
    "col_similarity_mean = []\n",
    "col_title = []\n",
    "for a in project_ids:\n",
    "    psim = []\n",
    "    for b in project_ids:\n",
    "        try:\n",
    "            psim.append(similarity[(int(a), int(b))])\n",
    "        except KeyError:\n",
    "            pass\n",
    "    if len(psim) > 0:\n",
    "        col_project_id.append(a)\n",
    "        col_similarity_mean.append(np.mean(psim))\n",
    "        col_title.append(projects[int(a)][\"project_name\"])"
   ]
  },
  {
   "cell_type": "code",
   "execution_count": null,
   "metadata": {
    "collapsed": true
   },
   "outputs": [],
   "source": [
    "df = pd.DataFrame({\n",
    "    \"project_id\": col_project_id,\n",
    "    \"similarity_mean\": col_similarity_mean\n",
    "}).set_index(\"project_id\")"
   ]
  },
  {
   "cell_type": "code",
   "execution_count": null,
   "metadata": {
    "collapsed": false
   },
   "outputs": [],
   "source": [
    "df.to_csv(\"output/24c find_similarity/2017-10-02 11:17:41 14665f3/similarity_mean.csv\")"
   ]
  },
  {
   "cell_type": "code",
   "execution_count": null,
   "metadata": {
    "collapsed": false
   },
   "outputs": [],
   "source": [
    "df_comb = pd.read_csv(\"output/26_combine_data/2017-08-25 17:20:07 1cc6dcf/combined.csv\")\n",
    "df_comb['similarity_mean'] = df['similarity_mean']\n",
    "plt.loglog(df_comb['article_count'], df_comb['similarity_mean'], '.')\n",
    "plt.xlabel(\"Article count\")\n",
    "plt.ylabel(\"Mean jaccard similarity\")"
   ]
  },
  {
   "cell_type": "code",
   "execution_count": null,
   "metadata": {
    "collapsed": false
   },
   "outputs": [],
   "source": []
  },
  {
   "cell_type": "code",
   "execution_count": null,
   "metadata": {
    "collapsed": true
   },
   "outputs": [],
   "source": []
  }
 ],
 "metadata": {
  "kernelspec": {
   "display_name": "Python 2",
   "language": "python",
   "name": "python2"
  },
  "language_info": {
   "codemirror_mode": {
    "name": "ipython",
    "version": 2
   },
   "file_extension": ".py",
   "mimetype": "text/x-python",
   "name": "python",
   "nbconvert_exporter": "python",
   "pygments_lexer": "ipython2",
   "version": "2.7.6"
  }
 },
 "nbformat": 4,
 "nbformat_minor": 2
}
