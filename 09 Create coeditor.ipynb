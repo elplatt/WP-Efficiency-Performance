{
 "metadata": {
  "name": ""
 },
 "nbformat": 3,
 "nbformat_minor": 0,
 "worksheets": [
  {
   "cells": [
    {
     "cell_type": "code",
     "collapsed": false,
     "input": [
      "import json\n",
      "import logging\n",
      "import time\n",
      "import sys\n",
      "from IPython.display import clear_output\n",
      "from matplotlib import pyplot as plt\n",
      "import sqlalchemy\n",
      "from sqlalchemy import desc, func\n",
      "from sqlalchemy.orm import sessionmaker"
     ],
     "language": "python",
     "metadata": {},
     "outputs": [],
     "prompt_number": 1
    },
    {
     "cell_type": "code",
     "collapsed": false,
     "input": [
      "import database\n",
      "from database.schema import ArticleContributor, contributor_table, revision_table"
     ],
     "language": "python",
     "metadata": {},
     "outputs": [],
     "prompt_number": 2
    },
    {
     "cell_type": "code",
     "collapsed": false,
     "input": [
      "project_file = \"data/articles-projects.json\"\n",
      "output_file = \"output/coeditor_%d.tsv\"\n",
      "log_file = \"output/08_create_coeditor.log\"\n",
      "batch_size = 50000"
     ],
     "language": "python",
     "metadata": {},
     "outputs": [],
     "prompt_number": 4
    },
    {
     "cell_type": "code",
     "collapsed": false,
     "input": [
      "log = logging.getLogger(\"wp-efficiency-performance:load-history\")\n",
      "log.propagate = False\n",
      "log.handlers = []\n",
      "handler = logging.FileHandler(log_file, \"w\")\n",
      "log.addHandler(handler)\n",
      "log.setLevel(logging.INFO)"
     ],
     "language": "python",
     "metadata": {},
     "outputs": [],
     "prompt_number": 5
    },
    {
     "cell_type": "code",
     "collapsed": false,
     "input": [
      "project_ids = []\n",
      "with open(project_file, \"rb\") as f:\n",
      "    for row in f:\n",
      "        data = json.loads(row)\n",
      "        project_ids.append(data[\"project_id\"])"
     ],
     "language": "python",
     "metadata": {},
     "outputs": [],
     "prompt_number": 10
    },
    {
     "cell_type": "code",
     "collapsed": false,
     "input": [
      "# Load project data into articles_contributors\n",
      "def compute_articles_contributors(project_id, log):\n",
      "    Session = sessionmaker()\n",
      "    Session.configure(bind=database.engine)\n",
      "    session = Session()\n",
      "    try:\n",
      "        revisions = revision_table(project_id)\n",
      "        row_count = 0\n",
      "        to_add = []\n",
      "        start = time.time()\n",
      "        log.info(\"Computing articles_contributors for project %d\" % project_id)\n",
      "        for result in session.query(\n",
      "                revisions.contributor_id,\n",
      "                revisions.article_name,\n",
      "                func.min(revisions.timestamp),\n",
      "                func.max(revisions.timestamp)) \\\n",
      "                .group_by(revisions.contributor_id, revisions.article_name) \\\n",
      "                .filter(revisions.contributor_id != 0):\n",
      "            to_add.append(ArticleContributor(\n",
      "                contributor_id=result[0]\n",
      "                , article_name=result[1]\n",
      "                , first_edit=result[2]\n",
      "                , last_edit=result[3]))\n",
      "            row_count += 1\n",
      "            if len(to_add) >= batch_size:\n",
      "                session.add_all(to_add)\n",
      "                session.commit()\n",
      "                to_add = []\n",
      "                log.info(\"%d rows in %f seconds\" % (row_count, time.time() - start))\n",
      "                time.sleep(0.1)\n",
      "        session.add_all(to_add)\n",
      "        session.commit()\n",
      "        to_add = []\n",
      "        log.info(\"%d rows in %f seconds\" % (row_count, time.time() - start))\n",
      "    except:\n",
      "        log.error(sys.exc_info()[1])\n",
      "        raise\n",
      "    finally:\n",
      "        session.close()"
     ],
     "language": "python",
     "metadata": {},
     "outputs": [],
     "prompt_number": 11
    },
    {
     "cell_type": "code",
     "collapsed": false,
     "input": [
      "# Create indexes on articles_contributors\n",
      "def index_articles_contributors(log):\n",
      "    log.info(\"Indexing articles_contributors\")\n",
      "    sql = \"CREATE INDEX articles_contributors_first ON articles_contributors (first_edit);\"\n",
      "    database.engine.execute(sql)\n",
      "    sql = \"CREATE INDEX articles_contributors_last ON articles_contributors (last_edit);\"\n",
      "    database.engine.execute(sql)\n",
      "    sql = \"CREATE INDEX articles_contributors_name ON articles_contributors (article_name);\"\n",
      "    database.engine.execute(sql)\n",
      "    log.info(\"Done indexing articles_contributors\")"
     ],
     "language": "python",
     "metadata": {},
     "outputs": []
    },
    {
     "cell_type": "code",
     "collapsed": false,
     "input": [
      "# Write articles_contributors as a graph edge TSV\n",
      "def write_articles_contributors_tsv(project_id, log):\n",
      "    Session = sessionmaker()\n",
      "    Session.configure(bind=database.engine)\n",
      "    session = Session()\n",
      "    try:\n",
      "        log.info(\"Writing article-editor TSV for project %d\" % project_id)\n",
      "        with open(\"output/article-editor.tsv\", \"wb\") as f:\n",
      "            for result in session.query(ArticleContributor):\n",
      "                f.write((u\"%d\\t%s\\n\" % (result.contributor_id, result.article_name)).encode(\"utf-16-le\"))\n",
      "    finally:\n",
      "        session.close()"
     ],
     "language": "python",
     "metadata": {},
     "outputs": [],
     "prompt_number": 14
    },
    {
     "cell_type": "code",
     "collapsed": false,
     "input": [
      "# Create an editor-editor network from articles_contributors\n",
      "def compute_coeditor(project_id, log, batch_size=100000):\n",
      "    log.info(\"Computing coeditor network for project %d\" % project_id)\n",
      "    Session = sessionmaker()\n",
      "    Session.configure(bind=database.engine)\n",
      "    session = Session()\n",
      "    start = time.time()\n",
      "    conn = database.engine.connect()\n",
      "    edges = set()\n",
      "    try:\n",
      "        # Loop through articles\n",
      "        name_q = session.query(ArticleContributor.article_name).distinct()\n",
      "        for i, name_res in enumerate(name_q):\n",
      "            # For each article, get list of first and last edits for all editors\n",
      "            article_name = name_res[0]\n",
      "            log.info(\"  Starting article: %s\" % article_name)\n",
      "            first_q = session.query(\n",
      "                    ArticleContributor.contributor_id,\n",
      "                    ArticleContributor.first_edit) \\\n",
      "                .filter(ArticleContributor.article_name == article_name) \\\n",
      "                .order_by(ArticleContributor.first_edit)\n",
      "            first_edits = first_q.all()\n",
      "            last_q = session.query(\n",
      "                    ArticleContributor.contributor_id,\n",
      "                    ArticleContributor.last_edit) \\\n",
      "                .filter(ArticleContributor.article_name == article_name) \\\n",
      "                .order_by(desc(ArticleContributor.last_edit))\n",
      "            last_edits = last_q.all()\n",
      "            for first in first_edits:\n",
      "                for last in last_edits:\n",
      "                    if last[1] <= first[1]:\n",
      "                        break\n",
      "                    if first[0] != last[0]:\n",
      "                        edges.add((first[0], last[0]))\n",
      "            if i % 10 == 0:\n",
      "                time.sleep(0.1)\n",
      "        log.info(\"  Loading edges into table\");\n",
      "        # Convert set into list\n",
      "        edge_list = list()\n",
      "        while len(edges) > 0:\n",
      "            edge_list.append(edges.pop())\n",
      "        edges = edge_list\n",
      "        # Load edges into contributor_contributor in batches\n",
      "        coeditors = contributor_table(project_id).__table__\n",
      "        while len(edges) > 0:\n",
      "            log.info(\"    Processing next %d of %d\" % (batch_size, len(edges)))\n",
      "            batch = edges[0:batch_size]\n",
      "            batch_data = []\n",
      "            for edge in batch:\n",
      "                batch_data.append({\"source_id\": edge[0], \"target_id\": edge[1]})\n",
      "            conn.execute(coeditors.insert(), batch_data)\n",
      "            edges = edges[batch_size:]\n",
      "    except:\n",
      "        log.error(sys.exc_info()[1])\n",
      "        raise\n",
      "    finally:\n",
      "        session.close()\n",
      "        conn.close()\n",
      "        log.info(\"Done computing coeditor network\")"
     ],
     "language": "python",
     "metadata": {},
     "outputs": [],
     "prompt_number": 7
    },
    {
     "cell_type": "code",
     "collapsed": false,
     "input": [
      "compute_coeditor(1, log)"
     ],
     "language": "python",
     "metadata": {},
     "outputs": [],
     "prompt_number": "*"
    },
    {
     "cell_type": "code",
     "collapsed": false,
     "input": [
      "# Write editor-editor graph edge TSV\n",
      "project_id = 1\n",
      "with open(\"output/editor-editor.tsv\", \"wb\") as f:\n",
      "    f.write(u\"Source\\tTarget\\n\".encode(\"utf-16-le\"))\n",
      "    for edge in edges:\n",
      "        f.write((u\"%d\\t%s\\n\" % (edge[0][0], edge[1][0])).encode(\"utf-16-le\"))"
     ],
     "language": "python",
     "metadata": {},
     "outputs": [],
     "prompt_number": 22
    },
    {
     "cell_type": "code",
     "collapsed": false,
     "input": [
      "in_degree = {}\n",
      "out_degree = {}\n",
      "for edge in edges:\n",
      "    source = edge[0]\n",
      "    target = edge[1]\n",
      "    in_degree[target] = in_degree.get(target, 0) + 1\n",
      "    in_degree[source] = in_degree.get(source, 0)\n",
      "    out_degree[source] = out_degree.get(source, 0) + 1\n",
      "    out_degree[target] = out_degree.get(target, 0)"
     ],
     "language": "python",
     "metadata": {},
     "outputs": [],
     "prompt_number": 68
    },
    {
     "cell_type": "code",
     "collapsed": false,
     "input": [
      "influence = []\n",
      "for editor in in_degree.keys():\n",
      "    if out_degree[editor] > 0 and in_degree[editor] > 0:\n",
      "        influence.append(log(out_degree[editor]/float(in_degree[editor])))"
     ],
     "language": "python",
     "metadata": {},
     "outputs": [],
     "prompt_number": 105
    },
    {
     "cell_type": "code",
     "collapsed": false,
     "input": [
      "data = sorted(in_degree.items(),key=lambda x: x[0])\n",
      "x, y = zip(*data)"
     ],
     "language": "python",
     "metadata": {},
     "outputs": [],
     "prompt_number": 29
    },
    {
     "cell_type": "code",
     "collapsed": false,
     "input": [
      "x_high = 50000\n",
      "bins = 50\n",
      "plt.figure(figsize=(12,4))\n",
      "plt.subplot(1,3,1)\n",
      "plt.hist(in_degree.values(),[10**(n*log(x_high)/log(10)/bins) for n in range(bins)])\n",
      "plt.xscale('log')\n",
      "plt.subplot(1,3,2)\n",
      "plt.hist(out_degree.values(),[10**(n*log(x_high)/log(10)/bins) for n in range(bins)])\n",
      "plt.xscale('log')\n",
      "plt.subplot(1,3,3)\n",
      "plt.hist(influence, bins)"
     ],
     "language": "python",
     "metadata": {},
     "outputs": [],
     "prompt_number": 106
    },
    {
     "cell_type": "code",
     "collapsed": false,
     "input": [
      "log(100)/log(10)"
     ],
     "language": "python",
     "metadata": {},
     "outputs": [],
     "prompt_number": 85
    },
    {
     "cell_type": "code",
     "collapsed": false,
     "input": [],
     "language": "python",
     "metadata": {},
     "outputs": []
    }
   ],
   "metadata": {}
  }
 ]
}