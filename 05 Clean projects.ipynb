{
 "metadata": {
  "name": ""
 },
 "nbformat": 3,
 "nbformat_minor": 0,
 "worksheets": [
  {
   "cells": [
    {
     "cell_type": "code",
     "collapsed": false,
     "input": [
      "import csv\n",
      "import json\n",
      "import codecs\n",
      "import logbook"
     ],
     "language": "python",
     "metadata": {},
     "outputs": [],
     "prompt_number": 1
    },
    {
     "cell_type": "code",
     "collapsed": false,
     "input": [
      "projfile = 'data/projects-2016-10-12.utf-16-le.tsv'\n",
      "metafile = 'data/meta_projects.utf-8.tsv'\n",
      "outfile = 'projects.json'"
     ],
     "language": "python",
     "metadata": {},
     "outputs": [],
     "prompt_number": 6
    },
    {
     "cell_type": "code",
     "collapsed": false,
     "input": [
      "exp_name = \"05_clean_projects\"\n",
      "exp = logbook.Experiment(exp_name)"
     ],
     "language": "python",
     "metadata": {},
     "outputs": [],
     "prompt_number": 3
    },
    {
     "cell_type": "code",
     "collapsed": false,
     "input": [
      "meta = set()\n",
      "with codecs.open(metafile, encoding=\"utf-8\") as f:\n",
      "    for line in f:\n",
      "        meta.add(line.rstrip())\n",
      "proj_map = {}\n",
      "projects = []\n",
      "with codecs.open(projfile, encoding=\"utf-16-le\") as f:\n",
      "    # Skip header\n",
      "    f.next()\n",
      "    for row in f:\n",
      "        if len(row) == 0:\n",
      "            continue\n",
      "        title, unique = row.rstrip().split(u\"\\t\")\n",
      "        proj_map[title] = unique\n",
      "        if unique not in projects:\n",
      "            projects.append({\n",
      "                \"project_id\": len(projects) + 1,\n",
      "                \"project_name\": unique\n",
      "            })"
     ],
     "language": "python",
     "metadata": {},
     "outputs": [],
     "prompt_number": 4
    },
    {
     "cell_type": "code",
     "collapsed": false,
     "input": [
      "with open(exp.get_filename(outfile), 'wb') as f:\n",
      "    for p in projects:\n",
      "        f.write(json.dumps(p) + u\"\\n\".encode('utf-8'))"
     ],
     "language": "python",
     "metadata": {},
     "outputs": [],
     "prompt_number": 5
    },
    {
     "cell_type": "code",
     "collapsed": false,
     "input": [],
     "language": "python",
     "metadata": {},
     "outputs": []
    }
   ],
   "metadata": {}
  }
 ]
}