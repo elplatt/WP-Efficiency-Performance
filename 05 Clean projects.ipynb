{
 "cells": [
  {
   "cell_type": "code",
   "execution_count": null,
   "metadata": {
    "collapsed": false
   },
   "outputs": [],
   "source": [
    "import csv\n",
    "import json\n",
    "import codecs\n",
    "import logbook"
   ]
  },
  {
   "cell_type": "code",
   "execution_count": null,
   "metadata": {
    "collapsed": false
   },
   "outputs": [],
   "source": [
    "projfile = 'data/projects-2016-10-12.utf-16-le.tsv'\n",
    "metafile = 'data/meta_projects.utf-8.tsv'\n",
    "outfile = 'projects.json'"
   ]
  },
  {
   "cell_type": "code",
   "execution_count": null,
   "metadata": {
    "collapsed": false
   },
   "outputs": [],
   "source": [
    "exp_name = \"05_clean_projects\"\n",
    "exp = logbook.Experiment(exp_name)"
   ]
  },
  {
   "cell_type": "code",
   "execution_count": null,
   "metadata": {
    "collapsed": false
   },
   "outputs": [],
   "source": [
    "meta = set()\n",
    "with codecs.open(metafile, encoding=\"utf-8\") as f:\n",
    "    for line in f:\n",
    "        meta.add(line.rstrip())\n",
    "proj_map = {}\n",
    "projects = []\n",
    "with codecs.open(projfile, encoding=\"utf-16-le\") as f:\n",
    "    # Skip header\n",
    "    f.next()\n",
    "    for row in f:\n",
    "        if len(row) == 0:\n",
    "            continue\n",
    "        title, unique = row.rstrip().split(u\"\\t\")\n",
    "        proj_map[title] = unique\n",
    "        if title in meta:\n",
    "            continue\n",
    "        if unique not in projects:\n",
    "            projects.append({\n",
    "                \"project_id\": len(projects) + 1,\n",
    "                \"project_name\": unique\n",
    "            })"
   ]
  },
  {
   "cell_type": "code",
   "execution_count": null,
   "metadata": {
    "collapsed": false
   },
   "outputs": [],
   "source": [
    "with open(exp.get_filename(outfile), 'wb') as f:\n",
    "    for p in projects:\n",
    "        f.write(json.dumps(p) + u\"\\n\".encode('utf-8'))"
   ]
  },
  {
   "cell_type": "code",
   "execution_count": null,
   "metadata": {
    "collapsed": false
   },
   "outputs": [],
   "source": []
  }
 ],
 "metadata": {
  "kernelspec": {
   "display_name": "Python 2",
   "language": "python",
   "name": "python2"
  },
  "language_info": {
   "codemirror_mode": {
    "name": "ipython",
    "version": 2
   },
   "file_extension": ".py",
   "mimetype": "text/x-python",
   "name": "python",
   "nbconvert_exporter": "python",
   "pygments_lexer": "ipython2",
   "version": "2.7.6"
  }
 },
 "nbformat": 4,
 "nbformat_minor": 0
}
