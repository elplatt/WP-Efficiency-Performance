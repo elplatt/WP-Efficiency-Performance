{
 "cells": [
  {
   "cell_type": "code",
   "execution_count": null,
   "metadata": {
    "collapsed": false
   },
   "outputs": [],
   "source": [
    "import math\n",
    "from multiprocessing import Process, Queue\n",
    "from Queue import Empty, Full\n",
    "import sys\n",
    "import time\n",
    "import traceback\n",
    "import msgpack\n",
    "import logbook\n",
    "import network.bfs"
   ]
  },
  {
   "cell_type": "code",
   "execution_count": null,
   "metadata": {
    "collapsed": false
   },
   "outputs": [],
   "source": [
    "exp_name = \"20_find_path_length\"\n",
    "project_file = 'data/projects-2016-10-14-dedup.json'\n",
    "edges_file = \"archive/17_create_coeditor/2017-04-26 14:53:15 1b4e2e0/%d-coeditor.mp\"\n",
    "out_file = \"%04d-path_length.csv\"\n",
    "reachability_file = \"reachability.csv\"\n",
    "project_ids = [\n",
    "    631,2263,1740,1413,2230,794,1279,481,1150,2002,577,2171,311,1185,1969,195,976,573,799,450,1114,1356,665,1829,1251,1786,1429,891,1884,114,1866,1100,809,1619,152,1950,39,1371,295,1329,396,584,2249,1269,928,1258,717,990,956,1519,32,2054,747,937,294,579,1568,995,1343,24,848,1212,1474,1800,1462,1007,1380,1521,1527,2046,261,2148,1386,106,654,1210,549,2180,435,1018,1379,1198,967,994,446,363,1013,1926,647,1270,1758,2153,667,1009,1248,1962,872,1586,1345,1525,1872,283,622,2085,1079,1165,617,186,2233,406,1719,1048,701,470,802,313,1262,892,1833,98,953,1491,100,1754,694,369,1624,507,2250,2069,1836,836,729,451,512,1554,917,1596,1459,1457,464,1450,1145,1047,1510,897,119,1699,408,461,2102,1436,649,2097,22,820,1537,1026,2198,1648,257,1091,2208,1975,68,751,262,810,1567,1529,2199,1844,47,402,426,722,339,332,1223,2145,724,482,1967,159,260,254,1265,948,704,263,255,2087,258,256\n",
    "]\n",
    "num_cores = 11\n",
    "sample = True\n",
    "nodes_per_stratum = 4\n",
    "num_strata = 10"
   ]
  },
  {
   "cell_type": "code",
   "execution_count": null,
   "metadata": {
    "collapsed": true
   },
   "outputs": [],
   "source": [
    "def run_bfs(proc_id, edges_from, source_q, return_q, error_q, log=None):\n",
    "    try:\n",
    "        while not source_q.empty():\n",
    "            try:\n",
    "                source = source_q.get(True, 1.0)\n",
    "                distances = network.bfs.get_distances_bfs(edges_from, source)\n",
    "                return_q.put((source,distances))\n",
    "            except Empty:\n",
    "                continue\n",
    "    except:\n",
    "        error_q.put(traceback.format_exc())\n",
    "        raise"
   ]
  },
  {
   "cell_type": "code",
   "execution_count": null,
   "metadata": {
    "collapsed": false
   },
   "outputs": [],
   "source": [
    "exp = logbook.Experiment(exp_name)\n",
    "log = exp.get_logger()\n",
    "try:\n",
    "    with open(exp.get_filename(reachability_file), \"wb\") as f_reach:\n",
    "        f_reach.write(\"project_id,frac_reach,min_reach,max_reach,node_count\\n\")\n",
    "        for project_id in project_ids:\n",
    "            with open(exp.get_filename(out_file % project_id), \"wb\") as f_out:\n",
    "                # Initialize variables for this project\n",
    "                all_nodes = set()\n",
    "                edge_count = 0\n",
    "                edges_from = {}\n",
    "                reachable = 0\n",
    "                min_reachable = -1\n",
    "                max_reachable = -1\n",
    "                # Load edges\n",
    "                log.info(\"Loading network edges for project %d \" % (project_id,))\n",
    "                with open(edges_file % project_id, \"rb\") as f:\n",
    "                    unpacker = msgpack.Unpacker(f)\n",
    "                    for o in unpacker:\n",
    "                        source = o[0][0]\n",
    "                        neighbors = o[1]\n",
    "                        edges_from[source] = set(neighbors)\n",
    "                        edge_count += len(neighbors)\n",
    "                        all_nodes.add(source)\n",
    "                        for n in neighbors:\n",
    "                            all_nodes.add(n)\n",
    "                all_nodes = list(all_nodes)\n",
    "                node_count = len(all_nodes)\n",
    "                log.info(\"  Loaded %d nodes and %d edges\" % (node_count, edge_count))\n",
    "                # Set up queues for parallel processing\n",
    "                done_q = Queue()\n",
    "                return_q = Queue()\n",
    "                source_q = Queue()\n",
    "                error_q = Queue()\n",
    "                if sample:\n",
    "                    node_sample = network.bfs.sample_sources_stratified(\n",
    "                        edges_from, nodes_per_stratum, num_strata)\n",
    "                    [source_q.put(s) for s in node_sample]\n",
    "                else:\n",
    "                    [source_q.put(s) for s in all_nodes]\n",
    "                # Distribute to workers\n",
    "                workers = []\n",
    "                for i in range(num_cores):\n",
    "                    args=(i, edges_from, source_q, return_q, error_q)\n",
    "                    p = Process(target=run_bfs, args=args)\n",
    "                    p.start()\n",
    "                    workers.append(p)\n",
    "                # Process results\n",
    "                complete = 0\n",
    "                if sample:\n",
    "                    nodes_to_do = nodes_per_stratum * num_strata\n",
    "                else:\n",
    "                    nodes_to_do = node_count\n",
    "                while complete < nodes_to_do:\n",
    "                    try:\n",
    "                        source, distances = return_q.get(True, 1.0)\n",
    "                    except Empty:\n",
    "                        if error_q.qsize() > 0:\n",
    "                            log.error(error_q.get())\n",
    "                            raise KeyboardInterrupt\n",
    "                        time.sleep(10.0)\n",
    "                        continue\n",
    "                    for target, distance in distances.iteritems():\n",
    "                        f_out.write(\"%d,%d,%d,%d\\n\" % (project_id, source, target, distance))\n",
    "                    source_reachable = len(distances)\n",
    "                    reachable += source_reachable\n",
    "                    if min_reachable > source_reachable or min_reachable < 0:\n",
    "                        min_reachable = source_reachable\n",
    "                    if max_reachable < source_reachable or max_reachable < 0:\n",
    "                        max_reachable = source_reachable\n",
    "                    complete += 1\n",
    "                # Output reachability statistics\n",
    "                p_reachable = reachable / float(node_count*node_count)\n",
    "                f_reach.write(\"%d,%f,%f,%f,%d\\n\" % (\n",
    "                    project_id, p_reachable,\n",
    "                    min_reachable / float(node_count),\n",
    "                    max_reachable / float(node_count),\n",
    "                    node_count\n",
    "                ))\n",
    "                f_reach.flush()\n",
    "                f_out.flush()\n",
    "                log.info(\"  Project %d complete\" % project_id)\n",
    "                [p.terminate for p in workers]\n",
    "                workers = []\n",
    "        log.info(\"Script complete\")\n",
    "except KeyboardInterrupt:\n",
    "    log.info(\"Keyboard interrupt\")\n",
    "    try:\n",
    "        [p.terminate for p in workers]\n",
    "    except:\n",
    "        pass\n",
    "    raise\n",
    "    "
   ]
  },
  {
   "cell_type": "code",
   "execution_count": null,
   "metadata": {
    "collapsed": true
   },
   "outputs": [],
   "source": []
  }
 ],
 "metadata": {
  "kernelspec": {
   "display_name": "Python 2",
   "language": "python",
   "name": "python2"
  },
  "language_info": {
   "codemirror_mode": {
    "name": "ipython",
    "version": 2
   },
   "file_extension": ".py",
   "mimetype": "text/x-python",
   "name": "python",
   "nbconvert_exporter": "python",
   "pygments_lexer": "ipython2",
   "version": "2.7.6"
  }
 },
 "nbformat": 4,
 "nbformat_minor": 0
}
