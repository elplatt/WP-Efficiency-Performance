{
 "cells": [
  {
   "cell_type": "code",
   "execution_count": null,
   "metadata": {
    "collapsed": false
   },
   "outputs": [],
   "source": [
    "import math\n",
    "from multiprocessing import Process, Queue\n",
    "from Queue import Empty, Full\n",
    "import sys\n",
    "import time\n",
    "import traceback\n",
    "import msgpack\n",
    "import logbook\n",
    "import network.bfs"
   ]
  },
  {
   "cell_type": "code",
   "execution_count": null,
   "metadata": {
    "collapsed": false
   },
   "outputs": [],
   "source": [
    "exp_name = \"20_find_path_length\"\n",
    "edges_file = \"archive/17_create_coeditor/2017-04-26 14:53:15 1b4e2e0/%d-coeditor.mp\"\n",
    "out_file = \"%04d-path_length.csv\"\n",
    "reachability_file = \"reachability.csv\"\n",
    "project_ids = [529,116,66,2042,1072,1453,1306,1339,2149,1666,2224,136,1626,1070,844,1076,2265,898,2059,1073,1366,392,606,949,1958,998,1425,1903,2078,2259,1492,1668,371,2084,366,365,2047,1044,163,1991,1763,2215,1337,1336,307,1042,1553,1520,317,762,2034,1777,1767,1774,360,1080,1334,53,947,2076,2210,1943,1137,196,147,824,282,1963,684,1544,834,570,1804,240,1191,779,1853,748,882,585,655,1936,2141,629,2269,475,1632,619,2092,2228,1233,2191,2140,2159,1616,869,1750,974,1603,1766,1483,536,537,828,1941,2104,899,441,416,2144,1579,452,63,1989,580,28,36,916,987,1658,1990,817,1948,653,556,2082,274,652,1061,903,991,1682,1045,2222,1513,1769,248,198,1344,518,1421,417,1857,985,1014,2211,626,1350,1790,1451,1974,1572,2030,38,551,102,1397,1496,770,1746,1194,715,1981,1327,1417,447,1449,1162,540,42,887,280,1576,2139,543,1954,23,1693,2155,1675,1741,2088,1378,2122,418,1370,382,946,1038,1177,880,1720,716,795,982,893,645,393,190,941,2131,387,1097,1468,1805,1105,1654,2095,2172,486,1463,137,1756,728,1931,1629,515,1681,1946,1547,1122,1640,1098,1095,2012,963,1149,1761,1160,1294,131,798,209,2156,2231,601,855,337,1890,600,1004,1247,1645,876,1923,1361,227,1411,523,1697,40,1728,1584,591,1930,161,2127,1475,1855,1724,797,1278,2255,329,1516,1620,1508,1980,192,284,1456,1260,793,457,219,1447,2161,1375,2196,2235,1057,1892,1335,405,2125,1490,589,204,1768,1984,130,1515,1470,915,2014,881,2077,522,1843,191,341,1261,356,944,1303,1994,1157,1859,272,126,128,778,1276,2237,1860,37,245,2113,1526,690,1049,1464,774,502,509,113,2226,1791,1280,1428,390,1090,1672,499,2175,2188,2163,1961,1578,1867,5,2060,873,1998,71,1504,1067,247,767,1649,1898,2057,1115,803,1747,904,276,1887,489,814,1289,1328,609,1275,1211,144,688,806,179,753,597,1583,1964,970,966,273,2103,1577,1945,1992,2177,1245,2207,1730,1444,1373,2169,1170,211,1314,1415,2022,443,1676,1141,330,1050,133,1213,1252,2216,914,1971,2279,270,296,807,1369,308,2150,1905,235,504,1789,1471,1242,945,1338,347,2123,1493,1387,646,1283,322,776,594,1623,1660,1316,699,430,1942,374,428,1035,1900,91,1744,1552,1949,1495,1460,2099,2119,576,1452,164,414,1016,1688,1243,1689,1308,968,1227,2132,1207,1716,586,1441,1297,208,1414,1291,1402,720,27,437,269,615,1811,1084,1454,2179,1642,842,568,1760,1726,14,1348,1354,215,926,870,1787,495,162,242,1236,139,85,1121,630,385,1897,564,732,1512,1873,1912,1729,1916,2083,611,907,554,2170,1431,1355,234,599,436,886,913,1133,2035,1815,969,327,340,1081,1382,1965,1727,1445,826,2187,2039,787,2251,1597,1037,2051,2173,528,1614,1078,1978,1203,578,1161,496,1188,1517,533,1156,1889,112,1201,165,1924,822,143,2214,943,1469,419,696,239,760,1548,1743,1231,1659,726,832,1653,1600,1993,1810,2167,1325,319,2018,1655,389,2264,210,1944,2036,1423,1953,752,1458,460,1782,2066,2067,777,527,1403,1446,93,1725,1764,1644,1830,1752,309,1488,184,1060,364,1187,1806,1825,679,1385,197,103,2164,1858,768,1670,847,2146,999,2197,378,938,936,545,613,1721,2010,1601,304,1409,1481,1174,124,1835,1925,123,1832,671,448,628,831,2048,73,334,1609,1985,501,789,1641,454,415,712,298,1988,1535,1193,4,1143,373,2049,1405,1999,1503,1821,2267,1918,2135,2206,1909,2203,930,237,550,1799,1089,1917,772,605,2033,670,31,2015,61,1736,1745,635,2107,1506,1542,2270,1232,1442,1128,1772,1178,1667,401,138,973,1794,2027,10,1034,491,1208,1113,243,403,1052,840,212,1002,569,291,2020,1288,1012,1,674,553,107,82,442,1461,477,2007,1545,924,1883,592,325,141,468,1996,698,1742,316,1910,268,1749,962,1927,850,266,1124,1321,1159,815,1179,483,2000,1209,581,1467,864,236,1058,1132,775,1284,565,1733,467,2093,444,1822,15,185,214,2278,1364,643,1534,1011,16,1167,2154,1563,458,1218,1263,1292,879,894,1952,1663,1148,559,217,1812,48,642,1633,1305,981,2108,1062,1216,372,780,703,2232,1734,1307,1323,1192,769,1826,657,521,1797,1674,434,2174,895,1878,1732,805,1695,1852,1196,265,1238,816,375,1840,2017,2165,2003,2112,2005,733,1625,1507,1605,7,1862,2276,11,1977,1484,2055,199,1581,2275,293,2118,1313,1324,376,1995,1426,2261,250,583,1199,2176,2061,1383,859,1290,1372,763,952,823,222,297,490,175,1683,1254,602,2008,87,2,1298,2079,1808,1041,1505,1420,718,205,660,739,1281,972,682,1739,1849,427,156,1082,287,1816,1776,1499,1718,687,922,1876,2168,875,1357,1635,988,345,1239,51,1664,2029,761,2134,1184,358,18,863,301,278,324,1063,310,58,249,1056,169,1511,1947,838,846,1915,2080,659,637,843,683,65,813,692,983,1899,867,2192,1117,78,1172,2181,2068,420,1818,812,1181,1071,620,290,821,1904,741,2025,680,1522,906,302,989,1604,2052,782,785,663,1885,271,1723,1027,2195,2248,1404,1271,1933,1120,539,1330,1274,2200,1151,2227,932,146,95,890,857,851,1738,888,33,472,2245,911,552,381,2121,466,2157,1094,1639,1686,2120,421,1332,1169,2266,1476,354,675]\n",
    "num_cores = 11"
   ]
  },
  {
   "cell_type": "code",
   "execution_count": null,
   "metadata": {
    "collapsed": true
   },
   "outputs": [],
   "source": [
    "def run_bfs(proc_id, edges_from, source_q, return_q, error_q, log=None):\n",
    "    try:\n",
    "        while not source_q.empty():\n",
    "            try:\n",
    "                source = source_q.get(True, 1.0)\n",
    "                distances = network.bfs.get_distances_bfs(edges_from, source)\n",
    "                return_q.put((source,distances))\n",
    "            except Empty:\n",
    "                continue\n",
    "    except:\n",
    "        error_q.put(traceback.format_exc())\n",
    "        raise"
   ]
  },
  {
   "cell_type": "code",
   "execution_count": null,
   "metadata": {
    "collapsed": false
   },
   "outputs": [],
   "source": [
    "exp = logbook.Experiment(exp_name)\n",
    "log = exp.get_logger()\n",
    "try:\n",
    "    with open(exp.get_filename(reachability_file), \"wb\") as f_reach:\n",
    "        f_reach.write(\"project_id,frac_reach,min_reach,max_reach,node_count\\n\")\n",
    "        for project_id in project_ids:\n",
    "            with open(exp.get_filename(out_file % project_id), \"wb\") as f_out:\n",
    "                # Initialize variables for this project\n",
    "                all_nodes = set()\n",
    "                edge_count = 0\n",
    "                edges_from = {}\n",
    "                reachable = 0\n",
    "                min_reachable = -1\n",
    "                max_reachable = -1\n",
    "                # Load edges\n",
    "                log.info(\"Loading network edges for project %d \" % (project_id,))\n",
    "                with open(edges_file % project_id, \"rb\") as f:\n",
    "                    unpacker = msgpack.Unpacker(f)\n",
    "                    for o in unpacker:\n",
    "                        source = o[0][0]\n",
    "                        neighbors = o[1]\n",
    "                        edges_from[source] = set(neighbors)\n",
    "                        edge_count += len(neighbors)\n",
    "                        all_nodes.add(source)\n",
    "                        for n in neighbors:\n",
    "                            all_nodes.add(n)\n",
    "                all_nodes = list(all_nodes)\n",
    "                node_count = len(all_nodes)\n",
    "                log.info(\"  Loaded %d nodes and %d edges\" % (node_count, edge_count))\n",
    "                # Set up queues for parallel processing\n",
    "                done_q = Queue()\n",
    "                return_q = Queue()\n",
    "                source_q = Queue()\n",
    "                error_q = Queue()\n",
    "                [source_q.put(s) for s in all_nodes]\n",
    "                # Distribute to workers\n",
    "                workers = []\n",
    "                for i in range(num_cores):\n",
    "                    args=(i, edges_from, source_q, return_q, error_q)\n",
    "                    p = Process(target=run_bfs, args=args)\n",
    "                    p.start()\n",
    "                    workers.append(p)\n",
    "                # Process results\n",
    "                complete = 0\n",
    "                while complete < node_count:\n",
    "                    try:\n",
    "                        source, distances = return_q.get(True, 1.0)\n",
    "                    except Empty:\n",
    "                        if error_q.qsize() > 0:\n",
    "                            log.error(error_q.get())\n",
    "                            raise KeyboardInterrupt\n",
    "                        time.sleep(10.0)\n",
    "                        continue\n",
    "                    for target, distance in distances.iteritems():\n",
    "                        f_out.write(\"%d,%d,%d,%d\\n\" % (project_id, source, target, distance))\n",
    "                    source_reachable = len(distances)\n",
    "                    reachable += source_reachable\n",
    "                    if min_reachable > source_reachable or min_reachable < 0:\n",
    "                        min_reachable = source_reachable\n",
    "                    if max_reachable < source_reachable or max_reachable < 0:\n",
    "                        max_reachable = source_reachable\n",
    "                    complete += 1\n",
    "                # Output reachability statistics\n",
    "                p_reachable = reachable / float(node_count*node_count)\n",
    "                f_reach.write(\"%d,%f,%f,%f,%d\\n\" % (\n",
    "                    project_id, p_reachable,\n",
    "                    min_reachable / float(node_count),\n",
    "                    max_reachable / float(node_count),\n",
    "                    node_count\n",
    "                ))\n",
    "                f_reach.flush()\n",
    "                f_out.flush()\n",
    "                log.info(\"  Project %d complete\" % project_id)\n",
    "                [p.terminate for p in workers]\n",
    "                workers = []\n",
    "        log.info(\"Script complete\")\n",
    "except KeyboardInterrupt:\n",
    "    log.info(\"Keyboard interrupt\")\n",
    "    try:\n",
    "        [p.terminate for p in workers]\n",
    "    except:\n",
    "        pass\n",
    "    raise\n",
    "    "
   ]
  },
  {
   "cell_type": "code",
   "execution_count": null,
   "metadata": {
    "collapsed": true
   },
   "outputs": [],
   "source": []
  }
 ],
 "metadata": {
  "kernelspec": {
   "display_name": "Python 2",
   "language": "python",
   "name": "python2"
  },
  "language_info": {
   "codemirror_mode": {
    "name": "ipython",
    "version": 2
   },
   "file_extension": ".py",
   "mimetype": "text/x-python",
   "name": "python",
   "nbconvert_exporter": "python",
   "pygments_lexer": "ipython2",
   "version": "2.7.6"
  }
 },
 "nbformat": 4,
 "nbformat_minor": 0
}
