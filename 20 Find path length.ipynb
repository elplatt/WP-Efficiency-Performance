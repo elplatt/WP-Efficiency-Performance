{
 "cells": [
  {
   "cell_type": "code",
   "execution_count": null,
   "metadata": {
    "collapsed": false
   },
   "outputs": [],
   "source": [
    "import math\n",
    "from multiprocessing import Process, Queue\n",
    "from Queue import Empty, Full\n",
    "import sys\n",
    "import time\n",
    "import traceback\n",
    "import msgpack\n",
    "import logbook\n",
    "import network.bfs"
   ]
  },
  {
   "cell_type": "code",
   "execution_count": null,
   "metadata": {
    "collapsed": false
   },
   "outputs": [],
   "source": [
    "exp_name = \"20_find_path_length\"\n",
    "edges_file = \"archive/17_create_coeditor/2017-04-26 14:53:15 1b4e2e0/%d-coeditor.mp\"\n",
    "project_ids = [861,874,1846,2234,1813,2042,1285,529,116,66,2149,1453,1306,1072,1666,1626,898,2224,762,1339,2265,2059,1076,1070,1767,844,136,2047,949,1668,1366,1958,2078,2034,1425,1991,392,1044,1903,365,1073,1337,1336,606,1042,2092,163,317,371,1553,2259,1492,2084,2215,1334,1763,366,2210,998,1520,1943,570,282,1774,1080,1137,147,899,360,307,1544,684,2141,834,655,53,63,947,987,1853,779,828,1777,1804,240,416,2159,452,916,903,652,1191,1682,2104,2211,629,824,2269,1936,1496,974,1632,475,2191,2076,1616,2095,196,1750,619,1344,393,137,2144,869,795,2030,518,748,2140,1483,2228,536,1233,882,102,1941,274,1603,23,1990,585,1963,280,2222,1061,537,248,2125,1421,447,1790,1247,1513,227,556,1576,1451,28,1658,1579,626,1981,2196,1766,580,1014,36,991,1769,728,198,963,1105,1857,1746,1350,2155,382,1654,946,817,387,1989,715,2082,1741,161,1162,1675,441,1449,2088,42,770,1948,1756,2235,1038,1974,38,1194,1378,1572,1177,2131,1417,543,1095,880,876,1045,540,2139,2122,1681,1447,1327,1444,551,1693,716,1645,1890,341,2156,1887,1370,1640,515,417,1720,1463,985,653,2172,486,209,113,1629,941,523,2077,1946,589,1515,190,1411,1160,2231,1468,1768,1149,1122,40,855,1805,1004,1547,1490,887,982,1397,601,645,522,1843,2237,1361,1892,1508,1954,2127,1697,1456,1855,1860,1620,1475,1294,1278,1923,457,1980,273,893,1761,337,329,915,1728,37,245,2255,131,814,1090,489,204,1335,219,1811,418,1097,1375,191,2177,2012,1998,798,2123,499,1157,144,347,1303,1994,1057,179,2207,1464,128,600,646,1984,1276,1470,1930,443,774,1724,2014,126,2175,2226,1260,1493,1526,1261,1931,881,1067,803,690,1504,1744,1280,1584,502,405,591,1867,1912,1791,356,2060]"
   ]
  },
  {
   "cell_type": "code",
   "execution_count": null,
   "metadata": {
    "collapsed": false
   },
   "outputs": [],
   "source": [
    "exp = logbook.Experiment(exp_name)\n",
    "log = exp.get_logger()\n",
    "try:\n",
    "    with open(exp.get_filename(\"reachability\")) as f_reach:\n",
    "        f_reach.write(\"project_id,frac_reach,min_reach,max_reach,node_count\\n\")\n",
    "        for project_id in project_ids:\n",
    "            all_nodes = set()\n",
    "            edge_count = 0\n",
    "            project_id = 34\n",
    "            edges_from = {}\n",
    "            reachable = 0\n",
    "            min_reachable = 0\n",
    "            max_reachable = 0\n",
    "            log.info(\"Loading network edges for project %d \" % (project_id,))\n",
    "            with open(edges_file % project_id, \"rb\") as f:\n",
    "                unpacker = msgpack.Unpacker(f)\n",
    "                for o in unpacker:\n",
    "                    edge_count += len(o[1])\n",
    "                    edges_from[o[0][0]] = set(o[1])\n",
    "                    all_nodes.add(o[0][0])\n",
    "                    all_nodes |= set(o[1])\n",
    "            all_nodes = list(all_nodes)\n",
    "            node_count = len(all_nodes)\n",
    "            log.info(\"  Loaded %d nodes and %d edges\" % (node_count, edge_count))\n",
    "            total_time = 0.0\n",
    "            for i, source in enumerate(all_nodes):\n",
    "                if i > 0:\n",
    "                    est = total_time * len(all_nodes) / float(i)\n",
    "                    log.info(\"%d complete in %f seconds, total estimated: %f\" % (i, total_time, est))\n",
    "                start = time.time()\n",
    "                distances = network.bfs.get_distances_bfs(edges_from, all_nodes[i])\n",
    "                total_time += time.time() - start\n",
    "                source_reachable = len(distances)\n",
    "                reachable += source_reachable\n",
    "                if min_reachable > source_reachable or min_reachable < 0:\n",
    "                    min_reachable = source_reachable\n",
    "                if max_reachable < source_reachable or max_reachable < 0:\n",
    "                    max_reachable = source_reachable\n",
    "            p_reachable = reachable / float(node_count*(node_count-1))\n",
    "            f_reach.write(\"%d,%f,%f,%f,%d\" % (\n",
    "                project_id, p_reachable,\n",
    "                min_reachable / float(node_count),\n",
    "                max_reachable / float(node_count),\n",
    "                node_count\n",
    "            ))\n",
    "            f_reach.flush()\n",
    "            log.info(\"  Project %d complete\" % project_id)\n",
    "except KeyboardInterrupt:\n",
    "    log.info(\"Keyboard interrupt\")\n",
    "    raise"
   ]
  },
  {
   "cell_type": "code",
   "execution_count": null,
   "metadata": {
    "collapsed": true
   },
   "outputs": [],
   "source": []
  }
 ],
 "metadata": {
  "kernelspec": {
   "display_name": "Python 2",
   "language": "python",
   "name": "python2"
  },
  "language_info": {
   "codemirror_mode": {
    "name": "ipython",
    "version": 2
   },
   "file_extension": ".py",
   "mimetype": "text/x-python",
   "name": "python",
   "nbconvert_exporter": "python",
   "pygments_lexer": "ipython2",
   "version": "2.7.6"
  }
 },
 "nbformat": 4,
 "nbformat_minor": 0
}
