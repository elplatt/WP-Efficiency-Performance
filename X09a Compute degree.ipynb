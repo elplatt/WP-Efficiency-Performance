{
 "metadata": {
  "name": ""
 },
 "nbformat": 3,
 "nbformat_minor": 0,
 "worksheets": [
  {
   "cells": [
    {
     "cell_type": "code",
     "collapsed": false,
     "input": [
      "import logging\n",
      "import os.path\n",
      "import sys\n",
      "import time\n",
      "from IPython.display import clear_output\n",
      "from matplotlib import pyplot as plt\n",
      "import sqlalchemy\n",
      "from sqlalchemy import desc, func, select\n",
      "from sqlalchemy.orm import sessionmaker"
     ],
     "language": "python",
     "metadata": {},
     "outputs": [],
     "prompt_number": 14
    },
    {
     "cell_type": "code",
     "collapsed": false,
     "input": [
      "import database\n",
      "from database.schema import contributor_table"
     ],
     "language": "python",
     "metadata": {},
     "outputs": [],
     "prompt_number": 4
    },
    {
     "cell_type": "code",
     "collapsed": false,
     "input": [
      "output_dir = \"output/network_stats\"\n",
      "log_file = \"output/09a_compute_degree.log\""
     ],
     "language": "python",
     "metadata": {},
     "outputs": [],
     "prompt_number": 5
    },
    {
     "cell_type": "code",
     "collapsed": false,
     "input": [
      "log = logging.getLogger(\"wp-efficiency-performance:compute-degree\")\n",
      "log.propagate = False\n",
      "log.handlers = []\n",
      "handler = logging.FileHandler(log_file, \"w\")\n",
      "log.addHandler(handler)\n",
      "log.setLevel(logging.INFO)"
     ],
     "language": "python",
     "metadata": {},
     "outputs": [],
     "prompt_number": 6
    },
    {
     "cell_type": "code",
     "collapsed": false,
     "input": [
      "def compute_degree(project_id):\n",
      "    conn = database.engine.connect()\n",
      "    table = contributor_table(project_id).__table__\n",
      "    try:\n",
      "        nodes = {}\n",
      "        # Compute out-degree\n",
      "        stmt = select([table.c.source_id, func.count(table.c.target_id).label('degree')]) \\\n",
      "            .group_by(table.c.source_id)\n",
      "        for result in conn.execute(stmt).fetchall():\n",
      "            node_id, out_degree = result\n",
      "            if node_id not in nodes:\n",
      "                nodes[node_id] = {'node_id':node_id, 'out_degree':0, 'in_degree':0}\n",
      "            nodes[node_id]['out_degree'] = out_degree\n",
      "        # Compute in-degree\n",
      "        stmt = select([table.c.target_id, func.count(table.c.source_id).label('degree')]) \\\n",
      "            .group_by(table.c.target_id)\n",
      "        for result in conn.execute(stmt).fetchall():\n",
      "            node_id, in_degree = result\n",
      "            if node_id not in nodes:\n",
      "                nodes[node_id] = {'node_id':node_id, 'out_degree':0, 'in_degree':0}\n",
      "            nodes[node_id]['in_degree'] = in_degree\n",
      "        # Write degree\n",
      "        with open(os.path.join(output_dir, \"degree_%04d.csv\" % project_id), \"wb\") as f:\n",
      "            f.write(\"node_id\\tout_degree\\tin_degree\\n\")\n",
      "            for node in nodes.values():\n",
      "                f.write(\"%d\\t%d\\t%d\\n\" % (node[\"node_id\"], node[\"out_degree\"], node[\"in_degree\"]))\n",
      "    finally:\n",
      "        conn.close()"
     ],
     "language": "python",
     "metadata": {},
     "outputs": [],
     "prompt_number": 18
    },
    {
     "cell_type": "code",
     "collapsed": false,
     "input": [
      "compute_degree(1)"
     ],
     "language": "python",
     "metadata": {},
     "outputs": [],
     "prompt_number": 19
    },
    {
     "cell_type": "code",
     "collapsed": false,
     "input": [
      "for project_id in range(2, 71):\n",
      "    compute_degree(project_id)\n",
      "    time.sleep(0.1)"
     ],
     "language": "python",
     "metadata": {},
     "outputs": [],
     "prompt_number": "*"
    },
    {
     "cell_type": "code",
     "collapsed": false,
     "input": [],
     "language": "python",
     "metadata": {},
     "outputs": []
    }
   ],
   "metadata": {}
  }
 ]
}