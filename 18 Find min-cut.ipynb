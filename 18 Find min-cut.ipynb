{
 "metadata": {
  "name": ""
 },
 "nbformat": 3,
 "nbformat_minor": 0,
 "worksheets": [
  {
   "cells": [
    {
     "cell_type": "code",
     "collapsed": false,
     "input": [
      "from multiprocessing import Process, Queue\n",
      "from Queue import Empty\n",
      "import time\n",
      "import msgpack\n",
      "import logbook\n",
      "import network"
     ],
     "language": "python",
     "metadata": {},
     "outputs": [],
     "prompt_number": 1
    },
    {
     "cell_type": "code",
     "collapsed": false,
     "input": [
      "exp_name = \"18_find_min_cut\"\n",
      "edges_file = \"archive/17_create_coeditor/2016-11-05 16:42:01 8850183/%d-coeditor.mp\"\n",
      "out_file = \"flows.csv\"\n",
      "num_proc = 12\n",
      "log_period=30"
     ],
     "language": "python",
     "metadata": {},
     "outputs": [],
     "prompt_number": 2
    },
    {
     "cell_type": "code",
     "collapsed": false,
     "input": [
      "def run_min_cut(edges_from, nodes, done_q, return_q):\n",
      "    flows = network.min_cut.dinic_unit_pairwise(edges_from, nodes)\n",
      "    for flow in flows:\n",
      "        return_q.put(flow)\n",
      "    done_q.put(1)"
     ],
     "language": "python",
     "metadata": {},
     "outputs": [],
     "prompt_number": 3
    },
    {
     "cell_type": "code",
     "collapsed": false,
     "input": [
      "exp = logbook.Experiment(exp_name)\n",
      "log = exp.get_logger()\n",
      "all_nodes = set()\n",
      "edge_count = 0\n",
      "edges_from = {}\n",
      "log.info(\"Loading network edges\")\n",
      "with open(edges_file % 1355, \"rb\") as f:\n",
      "    unpacker = msgpack.Unpacker(f)\n",
      "    for o in unpacker:\n",
      "        edge_count += len(o[1])\n",
      "        edges_from[o[0][0]] = o[1]\n",
      "        all_nodes.add(o[0][0])\n",
      "        all_nodes |= set(o[1])\n",
      "log.info(\"  Loaded %d nodes and %d edges\" % (len(all_nodes), edge_count))\n",
      "log.info(\"Starting %d processes\" % num_proc)\n",
      "all_nodes = list(all_nodes)\n",
      "step = 1 + len(all_nodes) / num_proc\n",
      "pair_count = len(all_nodes) * (len(all_nodes) - 1)\n",
      "return_q = Queue()\n",
      "done_q = Queue()\n",
      "workers = []\n",
      "for i in range(num_proc):\n",
      "    args = (edges_from, all_nodes[(i*step):step], done_q, return_q)\n",
      "    p = Process(target=run_min_cut, args=args)\n",
      "    p.start()\n",
      "    workers.append(p)\n",
      "log.info(\"Waiting for results\")\n",
      "try:\n",
      "    with open(exp.get_filename(out_file), \"wb\") as out:\n",
      "        complete = 0\n",
      "        last_time = time.time()\n",
      "        while done_q.qsize() < num_proc:\n",
      "            try:\n",
      "                timeout = 1 # second\n",
      "                flow = return_q.get(False, timeout)\n",
      "                out.write(\"%d\\n\" % flow)\n",
      "                complete += 1\n",
      "            except Empty:\n",
      "                pass\n",
      "            if time.time() - last_time > log_period:\n",
      "                out.flush()\n",
      "                log.info(\"  %d of %d complete\" % (complete, pair_count))\n",
      "                last_time = time.time()\n",
      "except KeyboardInterrupt:\n",
      "    [p.terminate() for p in workers]"
     ],
     "language": "python",
     "metadata": {},
     "outputs": [],
     "prompt_number": 4
    },
    {
     "cell_type": "code",
     "collapsed": false,
     "input": [],
     "language": "python",
     "metadata": {},
     "outputs": []
    }
   ],
   "metadata": {}
  }
 ]
}