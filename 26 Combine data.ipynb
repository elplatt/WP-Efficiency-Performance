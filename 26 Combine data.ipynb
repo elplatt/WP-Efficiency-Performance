{
 "cells": [
  {
   "cell_type": "code",
   "execution_count": null,
   "metadata": {
    "collapsed": false
   },
   "outputs": [],
   "source": [
    "%pylab inline\n",
    "import calendar\n",
    "import datetime\n",
    "import json\n",
    "import numpy as np\n",
    "from matplotlib import pyplot as plt\n",
    "import pandas as pd\n",
    "import scipy.stats as spstats\n",
    "from sqlalchemy import distinct, func, select\n",
    "import database\n",
    "from database.schema import Rating, revision_table\n",
    "import logbook\n",
    "\n",
    "matplotlib.rcParams['font.size'] = 9\n",
    "matplotlib.rcParams['figure.dpi'] = 150\n",
    "matplotlib.rcParams['lines.markersize'] = 9"
   ]
  },
  {
   "cell_type": "code",
   "execution_count": null,
   "metadata": {
    "collapsed": false
   },
   "outputs": [],
   "source": [
    "exp_name = \"26_combine_data\"\n",
    "exp = logbook.Experiment(exp_name)\n",
    "project_file = \"data/projects-2016-10-14-dedup.json\"\n",
    "transition_file = \"archive/11_find_performance/2017-05-03 08:54:42 b8d538c/fa_ga_transitions.csv\"\n",
    "bga_perf_file = \"archive/11b_find_bga_perf/2017-06-09 16:36:32 2c197d3/project_bga.csv\"\n",
    "efficiency_files = [\n",
    "    \"output/10_find_efficiency/2017-04-25 23:09:13 3bd3e7d/efficiency.csv\"]\n",
    "stage_eff_file = \"archive/10b_find_stage_efficiency/2017-08-24 15:11:01 de67c2b/efficiency.csv\"\n",
    "control_file = \"archive/24_find_controls/2017-05-11 12:45:30 f7ca849/controls.csv\"\n",
    "importance_file = \"archive/04b_find_importance/2017-10-03 13:54:30 14665f3/importance.utf8.tsv\"\n",
    "similarity_file = \"archive/24c find_similarity/2017-10-02 11:17:41 14665f3/similarity_mean.csv\"\n",
    "article_talk_file = \"archive/24d_find_article_talk/2017-11-20 11:55:04 992baf5/article_talk.csv\"\n",
    "degree_file = \"output/19_find_degree/2017-05-01 15:38:59 41cb865/%d-degree.csv\"\n",
    "mincut_file = \"archive/22_plot_mincut/2017-05-15 14:24:53 030d8fd/mincut_stats.csv\"\n",
    "path_files = [\n",
    "    \"output/23_plot_path/2017-06-04 10:14:06 b25b01f/path_stats.csv\"\n",
    "]\n",
    "out_file = \"combined.csv\""
   ]
  },
  {
   "cell_type": "code",
   "execution_count": null,
   "metadata": {
    "collapsed": false
   },
   "outputs": [],
   "source": [
    "project_ids = []\n",
    "with open(project_file, \"rb\") as f:\n",
    "    for row in f:\n",
    "        data = json.loads(row)\n",
    "        project_ids.append(data[\"project_id\"])"
   ]
  },
  {
   "cell_type": "code",
   "execution_count": null,
   "metadata": {
    "collapsed": false
   },
   "outputs": [],
   "source": [
    "df_eff = None\n",
    "for f in efficiency_files:\n",
    "    if df_eff is None:\n",
    "        df_eff = pd.DataFrame.from_csv(f)\n",
    "    else:\n",
    "        df_eff = pd.concat([df_eff, pd.DataFrame.from_csv(f)])\n",
    "df_nz = df_eff[df_eff[\"N_a\"] > 0]\n",
    "df_nz = df_nz[df_nz[\"N_b\"] > 0]\n",
    "df_nz = df_nz[df_nz[\"N_c\"] > 0]\n",
    "df_nz = df_nz[df_nz[\"Delta_a\"] > 0]\n",
    "df_nz = df_nz[df_nz[\"Delta_b\"] > 0]\n",
    "df_nz = df_nz[df_nz[\"Delta_c\"] > 0]"
   ]
  },
  {
   "cell_type": "code",
   "execution_count": null,
   "metadata": {
    "collapsed": false
   },
   "outputs": [],
   "source": [
    "a_eff = df_nz[\"Delta_a\"]/df_nz[\"N_a\"]\n",
    "b_eff = df_nz[\"Delta_b\"]/df_nz[\"N_b\"]\n",
    "c_eff = df_nz[\"Delta_c\"]/df_nz[\"N_c\"]\n",
    "mean_a = a_eff.sum() / len(a_eff)\n",
    "mean_b = b_eff.sum() / len(b_eff)\n",
    "mean_c = c_eff.sum() / len(c_eff)\n",
    "df = pd.DataFrame(columns=[\"efficiency\"])\n",
    "df[\"efficiency\"] = a_eff/mean_a * b_eff/mean_b * c_eff/mean_c\n",
    "a_eff = a_eff/mean_a\n",
    "b_eff = b_eff/mean_b\n",
    "c_eff = c_eff/mean_c\n",
    "df_eff = pd.concat([df_eff, df], axis=1)"
   ]
  },
  {
   "cell_type": "code",
   "execution_count": null,
   "metadata": {
    "collapsed": false
   },
   "outputs": [],
   "source": [
    "df_stage_eff = pd.DataFrame.from_csv(stage_eff_file)"
   ]
  },
  {
   "cell_type": "code",
   "execution_count": null,
   "metadata": {
    "collapsed": false
   },
   "outputs": [],
   "source": [
    "df_perf = pd.DataFrame.from_csv(transition_file)\n",
    "df = pd.DataFrame(columns=[\"performance\"])\n",
    "df[\"performance\"] = df_perf[\"to_ga\"]/(df_perf[\"to_ga\"]+df_perf[\"to_fa\"])\n",
    "df_perf = pd.concat([df_perf, df], axis=1)"
   ]
  },
  {
   "cell_type": "code",
   "execution_count": null,
   "metadata": {
    "collapsed": false
   },
   "outputs": [],
   "source": [
    "df_bga_perf = pd.DataFrame.from_csv(bga_perf_file)"
   ]
  },
  {
   "cell_type": "code",
   "execution_count": null,
   "metadata": {
    "collapsed": false
   },
   "outputs": [],
   "source": [
    "df_con = pd.DataFrame.from_csv(control_file)"
   ]
  },
  {
   "cell_type": "code",
   "execution_count": null,
   "metadata": {
    "collapsed": false
   },
   "outputs": [],
   "source": [
    "# Degree\n",
    "def skew(x):\n",
    "    n = len(x)\n",
    "    mean = x.sum() / float(n)\n",
    "    dx = x - mean\n",
    "    result = ((dx*dx*dx).sum() / float(n)) \\\n",
    "        / np.power((dx*dx).sum() / float(n - 1), 1.5)\n",
    "    return result\n",
    "\n",
    "mean = {}\n",
    "skew_in = {}\n",
    "skew_out = {}\n",
    "for project_id in project_ids:\n",
    "    try:\n",
    "        df = pd.DataFrame.from_csv(degree_file % project_id)\n",
    "        if len(df) < 1:\n",
    "            continue\n",
    "        p_mean = df[\"in_degree\"].sum() / float(len(df[\"in_degree\"]))\n",
    "        mean[project_id] = p_mean\n",
    "        skew_in[project_id] = skew(df[\"in_degree\"])\n",
    "        skew_out[project_id] = skew(df[\"out_degree\"])\n",
    "    except IOError:\n",
    "        pass\n",
    "    except ValueError:\n",
    "        pass\n",
    "df_degree = pd.DataFrame({\n",
    "    \"degree_mean\": mean,\n",
    "    \"in_degree_skew\": skew_in,\n",
    "    \"out_degree_skew\": skew_out})"
   ]
  },
  {
   "cell_type": "code",
   "execution_count": null,
   "metadata": {
    "collapsed": false
   },
   "outputs": [],
   "source": [
    "df_mincut = pd.DataFrame.from_csv(mincut_file)"
   ]
  },
  {
   "cell_type": "code",
   "execution_count": null,
   "metadata": {
    "collapsed": false
   },
   "outputs": [],
   "source": [
    "harmonic = {}\n",
    "path_mean = {}\n",
    "connectivity = {}\n",
    "for f in path_files:\n",
    "    df_path = pd.DataFrame.from_csv(f)\n",
    "    for index, row in df_path.iterrows():\n",
    "        harmonic[index] = row[\"path_harmonic\"]\n",
    "        path_mean[index] = row[\"path_mean\"]\n",
    "        connectivity[index] = row[\"connectivity\"]\n",
    "df_path = pd.DataFrame({\n",
    "    \"path_harmonic\": harmonic,\n",
    "    \"path_mean\": path_mean,\n",
    "    \"connectivity\": connectivity\n",
    "})"
   ]
  },
  {
   "cell_type": "code",
   "execution_count": null,
   "metadata": {
    "collapsed": false
   },
   "outputs": [],
   "source": [
    "df_similarity = pd.read_csv(similarity_file)"
   ]
  },
  {
   "cell_type": "code",
   "execution_count": null,
   "metadata": {
    "collapsed": false
   },
   "outputs": [],
   "source": [
    "df_talk = pd.read_csv(article_talk_file)\n",
    "df_talk[\"talk_fraction\"] = df_talk[\"talk_count\"] / (df_talk[\"article_count\"] + df_talk[\"talk_count\"])"
   ]
  },
  {
   "cell_type": "code",
   "execution_count": null,
   "metadata": {
    "collapsed": false
   },
   "outputs": [],
   "source": [
    "df_combined = pd.concat([df_perf, df_eff, df_stage_eff, df_con, df_degree, df_mincut, df_path, df_bga_perf, df_talk, df_similarity], axis=1, join=\"outer\")"
   ]
  },
  {
   "cell_type": "code",
   "execution_count": null,
   "metadata": {
    "collapsed": true
   },
   "outputs": [],
   "source": [
    "df_combined.to_csv(exp.get_filename(out_file))"
   ]
  },
  {
   "cell_type": "code",
   "execution_count": null,
   "metadata": {
    "collapsed": false
   },
   "outputs": [],
   "source": [
    "plt.figure()\n",
    "plt.plot(df_combined[\"degree_mean\"], df_combined[\"flow_mean\"], \"o\")\n",
    "plt.xlabel(\"Mean In-degree\")\n",
    "plt.ylabel(\"Mean Min-cut\")\n",
    "plt.title(\"Pearson r = 0.9795936\")"
   ]
  },
  {
   "cell_type": "code",
   "execution_count": null,
   "metadata": {
    "collapsed": false
   },
   "outputs": [],
   "source": [
    "plt.rc(\"font\", size=16)\n",
    "x = [d for d in df_combined[\"path_harmonic\"].dropna() if d <=6]\n",
    "plt.hist(x, 60)\n",
    "plt.tight_layout()\n",
    "plt.xlabel(\"Harmonic Mean Path Length\")\n",
    "plt.ylabel(\"Frequency\")"
   ]
  },
  {
   "cell_type": "code",
   "execution_count": null,
   "metadata": {
    "collapsed": false
   },
   "outputs": [],
   "source": [
    "plt.hist(df_combined[\"degree_mean\"].dropna(), 60)\n",
    "plt.tight_layout()"
   ]
  },
  {
   "cell_type": "code",
   "execution_count": null,
   "metadata": {
    "collapsed": false
   },
   "outputs": [],
   "source": [
    "len(df_combined[\"degree_mean\"].dropna())"
   ]
  },
  {
   "cell_type": "code",
   "execution_count": null,
   "metadata": {
    "collapsed": false
   },
   "outputs": [],
   "source": [
    "plt.hist(df_combined[\"flow_mean\"].dropna(), 60)\n",
    "plt.tight_layout()"
   ]
  },
  {
   "cell_type": "code",
   "execution_count": null,
   "metadata": {
    "collapsed": false
   },
   "outputs": [],
   "source": [
    "df_combined.columns"
   ]
  },
  {
   "cell_type": "code",
   "execution_count": null,
   "metadata": {
    "collapsed": false
   },
   "outputs": [],
   "source": [
    "a_eff = df_combined[\"Delta_a\"] / df_combined[\"N_a\"]\n",
    "a_stage = df_combined[\"stage_Delta_a\"] / df_combined[\"stage_N_a\"]\n",
    "b_eff = df_combined[\"Delta_b\"] / df_combined[\"N_b\"]\n",
    "b_stage = df_combined[\"stage_Delta_b\"] / df_combined[\"stage_N_b\"]\n",
    "c_eff = df_combined[\"Delta_c\"] / df_combined[\"N_c\"]\n",
    "c_stage = df_combined[\"stage_Delta_c\"] / df_combined[\"stage_N_c\"]"
   ]
  },
  {
   "cell_type": "code",
   "execution_count": null,
   "metadata": {
    "collapsed": false
   },
   "outputs": [],
   "source": [
    "plt.figure(figsize=(9,3))\n",
    "subplot(1,3,1)\n",
    "plt.loglog(a_eff, a_stage, 'o')\n",
    "subplot(1,3,2)\n",
    "plt.loglog(b_eff, b_stage, 'o')\n",
    "subplot(1,3,3)\n",
    "plt.loglog(c_eff, c_stage, 'o')\n",
    "spstats.pearsonr(a_eff, a_stage)"
   ]
  },
  {
   "cell_type": "code",
   "execution_count": null,
   "metadata": {
    "collapsed": false
   },
   "outputs": [],
   "source": [
    "df_combined[\"b_life_eff\"] = df_combined[\"Articles_b\"] / df_combined[\"stage_N_b\"]"
   ]
  },
  {
   "cell_type": "code",
   "execution_count": null,
   "metadata": {
    "collapsed": false
   },
   "outputs": [],
   "source": [
    "plt.loglog(df_combined[\"stage_N_b\"], df_combined[\"Articles_b\"], '.')\n",
    "plt.grid()"
   ]
  },
  {
   "cell_type": "code",
   "execution_count": null,
   "metadata": {
    "collapsed": false
   },
   "outputs": [],
   "source": [
    "df_combined[\"comp_perf\"] = (df_combined[\"to_fa\"] + df_combined[\"to_ga\"]) / df_con[\"article_count\"]"
   ]
  },
  {
   "cell_type": "code",
   "execution_count": null,
   "metadata": {
    "collapsed": false
   },
   "outputs": [],
   "source": [
    "df = df_combined[df_combined[\"stage_N_b\"] > 0]\n",
    "df = df[df[\"comp_perf\"] > 0]\n",
    "df = df[df[\"b_life_eff\"] > 0]"
   ]
  },
  {
   "cell_type": "code",
   "execution_count": null,
   "metadata": {
    "collapsed": false
   },
   "outputs": [],
   "source": [
    "import scipy.stats as spstats\n",
    "r, p = spstats.pearsonr(np.log10(df[\"b_life_eff\"]), np.log10(df[\"comp_perf\"]))\n",
    "m, b = np.polyfit(np.log10(df[\"b_life_eff\"]), np.log10(df[\"comp_perf\"]), 1)\n",
    "r,p"
   ]
  },
  {
   "cell_type": "code",
   "execution_count": null,
   "metadata": {
    "collapsed": false
   },
   "outputs": [],
   "source": [
    "xmin = df[\"b_life_eff\"].min()\n",
    "xmax = df[\"b_life_eff\"].max()\n",
    "ymin = np.power(10, np.log10(xmin)*m+b)\n",
    "ymax = np.power(10, np.log10(xmax)*m+b)\n",
    "xmin,xmax,ymin,ymax"
   ]
  },
  {
   "cell_type": "code",
   "execution_count": null,
   "metadata": {
    "collapsed": false
   },
   "outputs": [],
   "source": [
    "plt.figure(figsize=(3*15.0/7.0,2*15.0/7.0))\n",
    "plt.loglog(df[\"b_life_eff\"], df[\"comp_perf\"], '.')\n",
    "plt.loglog([xmin,xmax],[ymin,ymax],'g-', linewidth=2)\n",
    "plt.ylabel(\"Performance\", fontsize=16)\n",
    "plt.xlabel(\"B-Efficiency\", fontsize=16)\n",
    "plt.title(\"r = %0.2f, p<0.001\" % r, fontsize=16)\n",
    "plt.tick_params(axis='both', which='major', labelsize=16)\n",
    "plt.tight_layout()\n",
    "plt.savefig('fig-perf-eff.pdf')"
   ]
  },
  {
   "cell_type": "code",
   "execution_count": null,
   "metadata": {
    "collapsed": false
   },
   "outputs": [],
   "source": [
    "xmin*m+b"
   ]
  },
  {
   "cell_type": "code",
   "execution_count": null,
   "metadata": {
    "collapsed": false
   },
   "outputs": [],
   "source": [
    "plt.figure(figsize=(6,6))\n",
    "plt.loglog(df[\"b_life_eff\"], df[\"comp_perf\"], '.')\n",
    "plt.loglog([xmin,xmax],[ymin,ymax],'g-', linewidth=2)\n",
    "plt.ylabel(\"Performance\", fontsize=24)\n",
    "plt.xlabel(\"B-Productivity\", fontsize=24)\n",
    "plt.title(\"r = %0.2f, p<0.001\" % r, fontsize=24)\n",
    "plt.tick_params(axis='both', which='major', labelsize=20)\n",
    "plt.tight_layout()\n",
    "plt.savefig('fig-perf-eff.png', dpi=600)\n",
    "plt.savefig('fig-perf-eff.eps')"
   ]
  },
  {
   "cell_type": "code",
   "execution_count": null,
   "metadata": {
    "collapsed": true
   },
   "outputs": [],
   "source": [
    "df_combined[\"a_life_eff\"] = df_combined[\"Articles_a\"] / df_combined[\"stage_N_a\"]\n",
    "df_combined[\"c_life_eff\"] = df_combined[\"Articles_c\"] / df_combined[\"stage_N_c\"]"
   ]
  },
  {
   "cell_type": "code",
   "execution_count": null,
   "metadata": {
    "collapsed": false
   },
   "outputs": [],
   "source": [
    "plt.figure(figsize=(6,6))\n",
    "\n",
    "plt.subplot(2,2,1)\n",
    "df = df_combined[df_combined[\"stage_N_a\"] > 0]\n",
    "df = df[df[\"a_life_eff\"] > 0]\n",
    "plt.hist(np.log10(df.a_life_eff), np.linspace(-4, 2, 25), zorder=2)\n",
    "plt.xlim([-4, 2])\n",
    "plt.ylim([0,300])\n",
    "plt.grid()\n",
    "plt.ylabel('Project Count')\n",
    "plt.xlabel('$log_{10}$ A-Productivity')\n",
    "\n",
    "plt.subplot(2,2,2)\n",
    "df = df_combined[df_combined[\"stage_N_b\"] > 0]\n",
    "df = df[df[\"b_life_eff\"] > 0]\n",
    "plt.hist(np.log10(df.b_life_eff), np.linspace(-4, 2, 25), zorder=2)\n",
    "plt.xlim([-4, 2])\n",
    "plt.ylim([0,300])\n",
    "plt.grid()\n",
    "plt.ylabel('Project Count')\n",
    "plt.xlabel('$log_{10}$ B-Productivity')\n",
    "\n",
    "plt.subplot(2,2,3)\n",
    "df = df_combined[df_combined[\"stage_N_c\"] > 0]\n",
    "df = df[df[\"c_life_eff\"] > 0]\n",
    "plt.hist(np.log10(df.c_life_eff), np.linspace(-4, 2, 25), zorder=2)\n",
    "plt.xlim([-4, 2])\n",
    "plt.ylim([0,300])\n",
    "plt.grid()\n",
    "plt.ylabel('Project Count')\n",
    "plt.xlabel('$log_{10}$ C-Productivity')\n",
    "\n",
    "ax = plt.subplot(2,2,4)\n",
    "df = df_combined[df_combined.comp_perf > 0]\n",
    "plt.hist(np.log10(df.comp_perf), 25, zorder=2)\n",
    "plt.xlim([-6, 0])\n",
    "plt.ylim([0,300])\n",
    "plt.grid()\n",
    "plt.ylabel('Project Count')\n",
    "plt.xlabel('$log_{10}$ Performance')\n",
    "\n",
    "plt.tight_layout()\n",
    "plt.savefig(exp.get_filename('fig-eff-perf-hist.png'), dpi=600)\n",
    "plt.savefig(exp.get_filename('fig-eff-perf-hist.eps'))"
   ]
  },
  {
   "cell_type": "code",
   "execution_count": null,
   "metadata": {
    "collapsed": true
   },
   "outputs": [],
   "source": []
  }
 ],
 "metadata": {
  "kernelspec": {
   "display_name": "Python 2",
   "language": "python",
   "name": "python2"
  },
  "language_info": {
   "codemirror_mode": {
    "name": "ipython",
    "version": 2
   },
   "file_extension": ".py",
   "mimetype": "text/x-python",
   "name": "python",
   "nbconvert_exporter": "python",
   "pygments_lexer": "ipython2",
   "version": "2.7.6"
  }
 },
 "nbformat": 4,
 "nbformat_minor": 0
}
