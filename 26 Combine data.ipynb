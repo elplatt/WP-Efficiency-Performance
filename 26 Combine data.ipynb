{
 "metadata": {
  "name": ""
 },
 "nbformat": 3,
 "nbformat_minor": 0,
 "worksheets": [
  {
   "cells": [
    {
     "cell_type": "code",
     "collapsed": false,
     "input": [
      "import calendar\n",
      "import datetime\n",
      "import json\n",
      "import numpy as np\n",
      "from matplotlib import pyplot as plt\n",
      "import pandas as pd\n",
      "import scipy.stats as spstats\n",
      "from sqlalchemy import distinct, func, select\n",
      "import database\n",
      "from database.schema import Rating, revision_table\n",
      "import logbook"
     ],
     "language": "python",
     "metadata": {},
     "outputs": [],
     "prompt_number": 1
    },
    {
     "cell_type": "code",
     "collapsed": false,
     "input": [
      "exp_name = \"26_combine_data\"\n",
      "exp = logbook.Experiment(exp_name)\n",
      "project_file = \"data/projects-2016-10-14-dedup.json\"\n",
      "transition_file = \"output/11_find_performance/2016-11-01 16:40:13 11ba292/fa_ga_transitions.csv\"\n",
      "efficiency_files = [\n",
      "    \"output/10_find_efficiency/2016-11-02 22:03:53 f3da2a6/efficiency.csv\",\n",
      "    \"output/10_find_efficiency/2016-11-03 18:32:16 36a9e0b/efficiency.csv\"]\n",
      "control_file = \"output/24_find_controls/2016-11-24 20:17:34 6d6b051/controls.csv\"\n",
      "degree_file = \"output/19_find_degree/2016-11-16 14:14:42 ab98fcc/%d-degree.csv\"\n",
      "mincut_file = \"output/22_plot_mincut/2017-01-16 12:35:18 a473ea7/mincut_stats.csv\"\n",
      "out_file = \"combined.csv\""
     ],
     "language": "python",
     "metadata": {},
     "outputs": [],
     "prompt_number": 2
    },
    {
     "cell_type": "code",
     "collapsed": false,
     "input": [
      "project_ids = []\n",
      "with open(project_file, \"rb\") as f:\n",
      "    for row in f:\n",
      "        data = json.loads(row)\n",
      "        project_ids.append(data[\"project_id\"])"
     ],
     "language": "python",
     "metadata": {},
     "outputs": [],
     "prompt_number": 3
    },
    {
     "cell_type": "code",
     "collapsed": false,
     "input": [
      "df_eff = None\n",
      "for f in efficiency_files:\n",
      "    if df_eff is None:\n",
      "        df_eff = pd.DataFrame.from_csv(f)\n",
      "    else:\n",
      "        df_eff = pd.concat([df_eff, pd.DataFrame.from_csv(f)])\n",
      "df_nz = df_eff[df_eff[\"N_a\"] > 0]\n",
      "df_nz = df_nz[df_nz[\"N_b\"] > 0]\n",
      "df_nz = df_nz[df_nz[\"N_c\"] > 0]\n",
      "df_nz = df_nz[df_nz[\"Delta_a\"] > 0]\n",
      "df_nz = df_nz[df_nz[\"Delta_b\"] > 0]\n",
      "df_nz = df_nz[df_nz[\"Delta_c\"] > 0]"
     ],
     "language": "python",
     "metadata": {},
     "outputs": [],
     "prompt_number": 6
    },
    {
     "cell_type": "code",
     "collapsed": false,
     "input": [
      "a_eff = df_nz[\"Delta_a\"]/df_nz[\"N_a\"]\n",
      "b_eff = df_nz[\"Delta_b\"]/df_nz[\"N_b\"]\n",
      "c_eff = df_nz[\"Delta_c\"]/df_nz[\"N_c\"]\n",
      "mean_a = a_eff.sum() / len(a_eff)\n",
      "mean_b = b_eff.sum() / len(b_eff)\n",
      "mean_c = c_eff.sum() / len(c_eff)\n",
      "df = pd.DataFrame(columns=[\"efficiency\"])\n",
      "df[\"efficiency\"] = a_eff/mean_a * b_eff/mean_b * c_eff/mean_c\n",
      "a_eff = a_eff/mean_a\n",
      "b_eff = b_eff/mean_b\n",
      "c_eff = c_eff/mean_c\n",
      "df_eff = pd.concat([df_eff, df], axis=1)"
     ],
     "language": "python",
     "metadata": {},
     "outputs": [],
     "prompt_number": 7
    },
    {
     "cell_type": "code",
     "collapsed": false,
     "input": [
      "df_perf = pd.DataFrame.from_csv(transition_file)\n",
      "df = pd.DataFrame(columns=[\"performance\"])\n",
      "df[\"performance\"] = df_perf[\"to_ga\"]/(df_perf[\"to_ga\"]+df_perf[\"to_fa\"])\n",
      "df_perf = pd.concat([df_perf, df], axis=1)"
     ],
     "language": "python",
     "metadata": {},
     "outputs": [],
     "prompt_number": 8
    },
    {
     "cell_type": "code",
     "collapsed": false,
     "input": [
      "df_con = pd.DataFrame.from_csv(control_file)"
     ],
     "language": "python",
     "metadata": {},
     "outputs": [],
     "prompt_number": 9
    },
    {
     "cell_type": "code",
     "collapsed": false,
     "input": [
      "# Degree\n",
      "def skew(x):\n",
      "    n = len(x)\n",
      "    mean = x.sum() / float(n)\n",
      "    dx = x - mean\n",
      "    result = ((dx*dx*dx).sum() / float(n)) \\\n",
      "        / np.power((dx*dx).sum() / float(n - 1), 1.5)\n",
      "    return result\n",
      "\n",
      "mean = {}\n",
      "skew_in = {}\n",
      "skew_out = {}\n",
      "for project_id in project_ids:\n",
      "    try:\n",
      "        df = pd.DataFrame.from_csv(degree_file % project_id)\n",
      "        if len(df) < 1:\n",
      "            continue\n",
      "        p_mean = df[\"in_degree\"].sum() / float(len(df[\"in_degree\"]))\n",
      "        mean[project_id] = p_mean\n",
      "        skew_in[project_id] = skew(df[\"in_degree\"])\n",
      "        skew_out[project_id] = skew(df[\"out_degree\"])\n",
      "    except IOError:\n",
      "        pass\n",
      "    except ValueError:\n",
      "        pass\n",
      "df_degree = pd.DataFrame({\n",
      "    \"degree_mean\": mean,\n",
      "    \"in_degree_skew\": skew_in,\n",
      "    \"out_degree_skew\": skew_out})"
     ],
     "language": "python",
     "metadata": {},
     "outputs": [],
     "prompt_number": 10
    },
    {
     "cell_type": "code",
     "collapsed": false,
     "input": [
      "df_mincut = pd.DataFrame.from_csv(mincut_file)"
     ],
     "language": "python",
     "metadata": {},
     "outputs": [],
     "prompt_number": 11
    },
    {
     "cell_type": "code",
     "collapsed": false,
     "input": [
      "df_combined = pd.concat([df_perf, df_eff, df_con, df_degree, df_mincut], axis=1, join=\"outer\")\n",
      "df_combined.to_csv(exp.get_filename(out_file))"
     ],
     "language": "python",
     "metadata": {},
     "outputs": [
      {
       "ename": "ValueError",
       "evalue": "Shape of passed values is (19, 2289), indices imply (19, 2279)",
       "output_type": "pyerr",
       "traceback": [
        "\u001b[0;31m---------------------------------------------------------------------------\u001b[0m\n\u001b[0;31mValueError\u001b[0m                                Traceback (most recent call last)",
        "\u001b[0;32m<ipython-input-18-a7c753241881>\u001b[0m in \u001b[0;36m<module>\u001b[0;34m()\u001b[0m\n\u001b[0;32m----> 1\u001b[0;31m \u001b[0mdf_combined\u001b[0m \u001b[0;34m=\u001b[0m \u001b[0mpd\u001b[0m\u001b[0;34m.\u001b[0m\u001b[0mconcat\u001b[0m\u001b[0;34m(\u001b[0m\u001b[0;34m[\u001b[0m\u001b[0mdf_perf\u001b[0m\u001b[0;34m,\u001b[0m \u001b[0mdf_eff\u001b[0m\u001b[0;34m,\u001b[0m \u001b[0mdf_con\u001b[0m\u001b[0;34m,\u001b[0m \u001b[0mdf_degree\u001b[0m\u001b[0;34m,\u001b[0m \u001b[0mdf_mincut\u001b[0m\u001b[0;34m]\u001b[0m\u001b[0;34m,\u001b[0m \u001b[0maxis\u001b[0m\u001b[0;34m=\u001b[0m\u001b[0;36m1\u001b[0m\u001b[0;34m,\u001b[0m \u001b[0mjoin\u001b[0m\u001b[0;34m=\u001b[0m\u001b[0;34m\"outer\"\u001b[0m\u001b[0;34m)\u001b[0m\u001b[0;34m\u001b[0m\u001b[0m\n\u001b[0m\u001b[1;32m      2\u001b[0m \u001b[0mdf_combined\u001b[0m\u001b[0;34m.\u001b[0m\u001b[0mto_csv\u001b[0m\u001b[0;34m(\u001b[0m\u001b[0mexp\u001b[0m\u001b[0;34m.\u001b[0m\u001b[0mget_filename\u001b[0m\u001b[0;34m(\u001b[0m\u001b[0mout_file\u001b[0m\u001b[0;34m)\u001b[0m\u001b[0;34m)\u001b[0m\u001b[0;34m\u001b[0m\u001b[0m\n",
        "\u001b[0;32m/usr/local/lib/python2.7/dist-packages/pandas/tools/merge.pyc\u001b[0m in \u001b[0;36mconcat\u001b[0;34m(objs, axis, join, join_axes, ignore_index, keys, levels, names, verify_integrity, copy)\u001b[0m\n\u001b[1;32m    833\u001b[0m                        \u001b[0mverify_integrity\u001b[0m\u001b[0;34m=\u001b[0m\u001b[0mverify_integrity\u001b[0m\u001b[0;34m,\u001b[0m\u001b[0;34m\u001b[0m\u001b[0m\n\u001b[1;32m    834\u001b[0m                        copy=copy)\n\u001b[0;32m--> 835\u001b[0;31m     \u001b[0;32mreturn\u001b[0m \u001b[0mop\u001b[0m\u001b[0;34m.\u001b[0m\u001b[0mget_result\u001b[0m\u001b[0;34m(\u001b[0m\u001b[0;34m)\u001b[0m\u001b[0;34m\u001b[0m\u001b[0m\n\u001b[0m\u001b[1;32m    836\u001b[0m \u001b[0;34m\u001b[0m\u001b[0m\n\u001b[1;32m    837\u001b[0m \u001b[0;34m\u001b[0m\u001b[0m\n",
        "\u001b[0;32m/usr/local/lib/python2.7/dist-packages/pandas/tools/merge.pyc\u001b[0m in \u001b[0;36mget_result\u001b[0;34m(self)\u001b[0m\n\u001b[1;32m   1023\u001b[0m             new_data = concatenate_block_managers(\n\u001b[1;32m   1024\u001b[0m                 \u001b[0mmgrs_indexers\u001b[0m\u001b[0;34m,\u001b[0m \u001b[0mself\u001b[0m\u001b[0;34m.\u001b[0m\u001b[0mnew_axes\u001b[0m\u001b[0;34m,\u001b[0m\u001b[0;34m\u001b[0m\u001b[0m\n\u001b[0;32m-> 1025\u001b[0;31m                 concat_axis=self.axis, copy=self.copy)\n\u001b[0m\u001b[1;32m   1026\u001b[0m             \u001b[0;32mif\u001b[0m \u001b[0;32mnot\u001b[0m \u001b[0mself\u001b[0m\u001b[0;34m.\u001b[0m\u001b[0mcopy\u001b[0m\u001b[0;34m:\u001b[0m\u001b[0;34m\u001b[0m\u001b[0m\n\u001b[1;32m   1027\u001b[0m                 \u001b[0mnew_data\u001b[0m\u001b[0;34m.\u001b[0m\u001b[0m_consolidate_inplace\u001b[0m\u001b[0;34m(\u001b[0m\u001b[0;34m)\u001b[0m\u001b[0;34m\u001b[0m\u001b[0m\n",
        "\u001b[0;32m/usr/local/lib/python2.7/dist-packages/pandas/core/internals.pyc\u001b[0m in \u001b[0;36mconcatenate_block_managers\u001b[0;34m(mgrs_indexers, axes, concat_axis, copy)\u001b[0m\n\u001b[1;32m   4474\u001b[0m               for placement, join_units in concat_plan]\n\u001b[1;32m   4475\u001b[0m \u001b[0;34m\u001b[0m\u001b[0m\n\u001b[0;32m-> 4476\u001b[0;31m     \u001b[0;32mreturn\u001b[0m \u001b[0mBlockManager\u001b[0m\u001b[0;34m(\u001b[0m\u001b[0mblocks\u001b[0m\u001b[0;34m,\u001b[0m \u001b[0maxes\u001b[0m\u001b[0;34m)\u001b[0m\u001b[0;34m\u001b[0m\u001b[0m\n\u001b[0m\u001b[1;32m   4477\u001b[0m \u001b[0;34m\u001b[0m\u001b[0m\n\u001b[1;32m   4478\u001b[0m \u001b[0;34m\u001b[0m\u001b[0m\n",
        "\u001b[0;32m/usr/local/lib/python2.7/dist-packages/pandas/core/internals.pyc\u001b[0m in \u001b[0;36m__init__\u001b[0;34m(self, blocks, axes, do_integrity_check, fastpath)\u001b[0m\n\u001b[1;32m   2535\u001b[0m \u001b[0;34m\u001b[0m\u001b[0m\n\u001b[1;32m   2536\u001b[0m         \u001b[0;32mif\u001b[0m \u001b[0mdo_integrity_check\u001b[0m\u001b[0;34m:\u001b[0m\u001b[0;34m\u001b[0m\u001b[0m\n\u001b[0;32m-> 2537\u001b[0;31m             \u001b[0mself\u001b[0m\u001b[0;34m.\u001b[0m\u001b[0m_verify_integrity\u001b[0m\u001b[0;34m(\u001b[0m\u001b[0;34m)\u001b[0m\u001b[0;34m\u001b[0m\u001b[0m\n\u001b[0m\u001b[1;32m   2538\u001b[0m \u001b[0;34m\u001b[0m\u001b[0m\n\u001b[1;32m   2539\u001b[0m         \u001b[0mself\u001b[0m\u001b[0;34m.\u001b[0m\u001b[0m_consolidate_check\u001b[0m\u001b[0;34m(\u001b[0m\u001b[0;34m)\u001b[0m\u001b[0;34m\u001b[0m\u001b[0m\n",
        "\u001b[0;32m/usr/local/lib/python2.7/dist-packages/pandas/core/internals.pyc\u001b[0m in \u001b[0;36m_verify_integrity\u001b[0;34m(self)\u001b[0m\n\u001b[1;32m   2745\u001b[0m         \u001b[0;32mfor\u001b[0m \u001b[0mblock\u001b[0m \u001b[0;32min\u001b[0m \u001b[0mself\u001b[0m\u001b[0;34m.\u001b[0m\u001b[0mblocks\u001b[0m\u001b[0;34m:\u001b[0m\u001b[0;34m\u001b[0m\u001b[0m\n\u001b[1;32m   2746\u001b[0m             \u001b[0;32mif\u001b[0m \u001b[0mblock\u001b[0m\u001b[0;34m.\u001b[0m\u001b[0m_verify_integrity\u001b[0m \u001b[0;32mand\u001b[0m \u001b[0mblock\u001b[0m\u001b[0;34m.\u001b[0m\u001b[0mshape\u001b[0m\u001b[0;34m[\u001b[0m\u001b[0;36m1\u001b[0m\u001b[0;34m:\u001b[0m\u001b[0;34m]\u001b[0m \u001b[0;34m!=\u001b[0m \u001b[0mmgr_shape\u001b[0m\u001b[0;34m[\u001b[0m\u001b[0;36m1\u001b[0m\u001b[0;34m:\u001b[0m\u001b[0;34m]\u001b[0m\u001b[0;34m:\u001b[0m\u001b[0;34m\u001b[0m\u001b[0m\n\u001b[0;32m-> 2747\u001b[0;31m                 \u001b[0mconstruction_error\u001b[0m\u001b[0;34m(\u001b[0m\u001b[0mtot_items\u001b[0m\u001b[0;34m,\u001b[0m \u001b[0mblock\u001b[0m\u001b[0;34m.\u001b[0m\u001b[0mshape\u001b[0m\u001b[0;34m[\u001b[0m\u001b[0;36m1\u001b[0m\u001b[0;34m:\u001b[0m\u001b[0;34m]\u001b[0m\u001b[0;34m,\u001b[0m \u001b[0mself\u001b[0m\u001b[0;34m.\u001b[0m\u001b[0maxes\u001b[0m\u001b[0;34m)\u001b[0m\u001b[0;34m\u001b[0m\u001b[0m\n\u001b[0m\u001b[1;32m   2748\u001b[0m         \u001b[0;32mif\u001b[0m \u001b[0mlen\u001b[0m\u001b[0;34m(\u001b[0m\u001b[0mself\u001b[0m\u001b[0;34m.\u001b[0m\u001b[0mitems\u001b[0m\u001b[0;34m)\u001b[0m \u001b[0;34m!=\u001b[0m \u001b[0mtot_items\u001b[0m\u001b[0;34m:\u001b[0m\u001b[0;34m\u001b[0m\u001b[0m\n\u001b[1;32m   2749\u001b[0m             raise AssertionError('Number of manager items must equal union of '\n",
        "\u001b[0;32m/usr/local/lib/python2.7/dist-packages/pandas/core/internals.pyc\u001b[0m in \u001b[0;36mconstruction_error\u001b[0;34m(tot_items, block_shape, axes, e)\u001b[0m\n\u001b[1;32m   3897\u001b[0m         \u001b[0;32mraise\u001b[0m \u001b[0mValueError\u001b[0m\u001b[0;34m(\u001b[0m\u001b[0;34m\"Empty data passed with indices specified.\"\u001b[0m\u001b[0;34m)\u001b[0m\u001b[0;34m\u001b[0m\u001b[0m\n\u001b[1;32m   3898\u001b[0m     raise ValueError(\"Shape of passed values is {0}, indices imply {1}\".format(\n\u001b[0;32m-> 3899\u001b[0;31m         passed, implied))\n\u001b[0m\u001b[1;32m   3900\u001b[0m \u001b[0;34m\u001b[0m\u001b[0m\n\u001b[1;32m   3901\u001b[0m \u001b[0;34m\u001b[0m\u001b[0m\n",
        "\u001b[0;31mValueError\u001b[0m: Shape of passed values is (19, 2289), indices imply (19, 2279)"
       ]
      }
     ],
     "prompt_number": 18
    },
    {
     "cell_type": "code",
     "collapsed": false,
     "input": [
      "df_mincut.shape"
     ],
     "language": "python",
     "metadata": {},
     "outputs": [
      {
       "metadata": {},
       "output_type": "pyout",
       "prompt_number": 26,
       "text": [
        "(1723, 1)"
       ]
      }
     ],
     "prompt_number": 26
    },
    {
     "cell_type": "code",
     "collapsed": false,
     "input": [],
     "language": "python",
     "metadata": {},
     "outputs": []
    }
   ],
   "metadata": {}
  }
 ]
}