{
 "cells": [
  {
   "cell_type": "code",
   "execution_count": null,
   "metadata": {
    "collapsed": false
   },
   "outputs": [],
   "source": [
    "import calendar\n",
    "import datetime\n",
    "import json\n",
    "import numpy as np\n",
    "from matplotlib import pyplot as plt\n",
    "import pandas as pd\n",
    "import scipy.stats as spstats\n",
    "from sqlalchemy import distinct, func, select\n",
    "import database\n",
    "from database.schema import Rating, revision_table\n",
    "import logbook"
   ]
  },
  {
   "cell_type": "code",
   "execution_count": null,
   "metadata": {
    "collapsed": false
   },
   "outputs": [],
   "source": [
    "exp_name = \"26_combine_data\"\n",
    "exp = logbook.Experiment(exp_name)\n",
    "project_file = \"data/projects-2016-10-14-dedup.json\"\n",
    "transition_file = \"output/11_find_performance/2017-05-03 08:54:42 b8d538c/fa_ga_transitions.csv\"\n",
    "efficiency_files = [\n",
    "    \"output/10_find_efficiency/2017-04-25 23:09:13 3bd3e7d/efficiency.csv\"]\n",
    "control_file = \"output/24_find_controls/2017-05-11 12:45:30 f7ca849/controls.csv\"\n",
    "degree_file = \"output/19_find_degree/2017-05-01 15:38:59 41cb865/%d-degree.csv\"\n",
    "#mincut_file = \"output/22_plot_mincut/2017-01-16 12:35:18 a473ea7/mincut_stats.csv\"\n",
    "out_file = \"combined.csv\""
   ]
  },
  {
   "cell_type": "code",
   "execution_count": null,
   "metadata": {
    "collapsed": false
   },
   "outputs": [],
   "source": [
    "project_ids = []\n",
    "with open(project_file, \"rb\") as f:\n",
    "    for row in f:\n",
    "        data = json.loads(row)\n",
    "        project_ids.append(data[\"project_id\"])"
   ]
  },
  {
   "cell_type": "code",
   "execution_count": null,
   "metadata": {
    "collapsed": false
   },
   "outputs": [],
   "source": [
    "df_eff = None\n",
    "for f in efficiency_files:\n",
    "    if df_eff is None:\n",
    "        df_eff = pd.DataFrame.from_csv(f)\n",
    "    else:\n",
    "        df_eff = pd.concat([df_eff, pd.DataFrame.from_csv(f)])\n",
    "df_nz = df_eff[df_eff[\"N_a\"] > 0]\n",
    "df_nz = df_nz[df_nz[\"N_b\"] > 0]\n",
    "df_nz = df_nz[df_nz[\"N_c\"] > 0]\n",
    "df_nz = df_nz[df_nz[\"Delta_a\"] > 0]\n",
    "df_nz = df_nz[df_nz[\"Delta_b\"] > 0]\n",
    "df_nz = df_nz[df_nz[\"Delta_c\"] > 0]"
   ]
  },
  {
   "cell_type": "code",
   "execution_count": null,
   "metadata": {
    "collapsed": false
   },
   "outputs": [],
   "source": [
    "a_eff = df_nz[\"Delta_a\"]/df_nz[\"N_a\"]\n",
    "b_eff = df_nz[\"Delta_b\"]/df_nz[\"N_b\"]\n",
    "c_eff = df_nz[\"Delta_c\"]/df_nz[\"N_c\"]\n",
    "mean_a = a_eff.sum() / len(a_eff)\n",
    "mean_b = b_eff.sum() / len(b_eff)\n",
    "mean_c = c_eff.sum() / len(c_eff)\n",
    "df = pd.DataFrame(columns=[\"efficiency\"])\n",
    "df[\"efficiency\"] = a_eff/mean_a * b_eff/mean_b * c_eff/mean_c\n",
    "a_eff = a_eff/mean_a\n",
    "b_eff = b_eff/mean_b\n",
    "c_eff = c_eff/mean_c\n",
    "df_eff = pd.concat([df_eff, df], axis=1)"
   ]
  },
  {
   "cell_type": "code",
   "execution_count": null,
   "metadata": {
    "collapsed": false
   },
   "outputs": [],
   "source": [
    "df_perf = pd.DataFrame.from_csv(transition_file)\n",
    "df = pd.DataFrame(columns=[\"performance\"])\n",
    "df[\"performance\"] = df_perf[\"to_ga\"]/(df_perf[\"to_ga\"]+df_perf[\"to_fa\"])\n",
    "df_perf = pd.concat([df_perf, df], axis=1)"
   ]
  },
  {
   "cell_type": "code",
   "execution_count": null,
   "metadata": {
    "collapsed": false
   },
   "outputs": [],
   "source": [
    "df_con = pd.DataFrame.from_csv(control_file)"
   ]
  },
  {
   "cell_type": "code",
   "execution_count": null,
   "metadata": {
    "collapsed": false
   },
   "outputs": [],
   "source": [
    "# Degree\n",
    "def skew(x):\n",
    "    n = len(x)\n",
    "    mean = x.sum() / float(n)\n",
    "    dx = x - mean\n",
    "    result = ((dx*dx*dx).sum() / float(n)) \\\n",
    "        / np.power((dx*dx).sum() / float(n - 1), 1.5)\n",
    "    return result\n",
    "\n",
    "mean = {}\n",
    "skew_in = {}\n",
    "skew_out = {}\n",
    "for project_id in project_ids:\n",
    "    try:\n",
    "        df = pd.DataFrame.from_csv(degree_file % project_id)\n",
    "        if len(df) < 1:\n",
    "            continue\n",
    "        p_mean = df[\"in_degree\"].sum() / float(len(df[\"in_degree\"]))\n",
    "        mean[project_id] = p_mean\n",
    "        skew_in[project_id] = skew(df[\"in_degree\"])\n",
    "        skew_out[project_id] = skew(df[\"out_degree\"])\n",
    "    except IOError:\n",
    "        pass\n",
    "    except ValueError:\n",
    "        pass\n",
    "df_degree = pd.DataFrame({\n",
    "    \"degree_mean\": mean,\n",
    "    \"in_degree_skew\": skew_in,\n",
    "    \"out_degree_skew\": skew_out})"
   ]
  },
  {
   "cell_type": "code",
   "execution_count": null,
   "metadata": {
    "collapsed": false
   },
   "outputs": [],
   "source": [
    "#df_mincut = pd.DataFrame.from_csv(mincut_file)"
   ]
  },
  {
   "cell_type": "code",
   "execution_count": null,
   "metadata": {
    "collapsed": false
   },
   "outputs": [],
   "source": [
    "#df_combined = pd.concat([df_perf, df_eff, df_con, df_degree, df_mincut], axis=1, join=\"outer\")\n",
    "df_combined = pd.concat([df_perf, df_eff, df_con, df_degree], axis=1, join=\"outer\")\n",
    "df_combined.to_csv(exp.get_filename(out_file))"
   ]
  },
  {
   "cell_type": "code",
   "execution_count": null,
   "metadata": {
    "collapsed": false
   },
   "outputs": [],
   "source": []
  }
 ],
 "metadata": {
  "kernelspec": {
   "display_name": "Python 2",
   "language": "python",
   "name": "python2"
  },
  "language_info": {
   "codemirror_mode": {
    "name": "ipython",
    "version": 2
   },
   "file_extension": ".py",
   "mimetype": "text/x-python",
   "name": "python",
   "nbconvert_exporter": "python",
   "pygments_lexer": "ipython2",
   "version": "2.7.6"
  }
 },
 "nbformat": 4,
 "nbformat_minor": 0
}
