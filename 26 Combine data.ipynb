{
 "metadata": {
  "name": ""
 },
 "nbformat": 3,
 "nbformat_minor": 0,
 "worksheets": [
  {
   "cells": [
    {
     "cell_type": "code",
     "collapsed": false,
     "input": [
      "import calendar\n",
      "import datetime\n",
      "import json\n",
      "import numpy as np\n",
      "from matplotlib import pyplot as plt\n",
      "import pandas as pd\n",
      "import scipy.stats as spstats\n",
      "from sqlalchemy import distinct, func, select\n",
      "import database\n",
      "from database.schema import Rating, revision_table\n",
      "import logbook"
     ],
     "language": "python",
     "metadata": {},
     "outputs": [],
     "prompt_number": 1
    },
    {
     "cell_type": "code",
     "collapsed": false,
     "input": [
      "exp_name = \"26_combine_data\"\n",
      "exp = logbook.Experiment(exp_name)\n",
      "project_file = \"data/projects-2016-10-14-dedup.json\"\n",
      "transition_file = \"output/11_find_performance/2016-11-01 16:40:13 11ba292/fa_ga_transitions.csv\"\n",
      "efficiency_files = [\n",
      "    \"output/10_find_efficiency/2016-11-02 22:03:53 f3da2a6/efficiency.csv\",\n",
      "    \"output/10_find_efficiency/2016-11-03 18:32:16 36a9e0b/efficiency.csv\"]\n",
      "control_file = \"output/24_find_controls/2016-11-24 20:17:34 6d6b051/controls.csv\"\n",
      "out_file = \"combined.csv\""
     ],
     "language": "python",
     "metadata": {},
     "outputs": [],
     "prompt_number": 2
    },
    {
     "cell_type": "code",
     "collapsed": false,
     "input": [
      "project_ids = []\n",
      "with open(project_file, \"rb\") as f:\n",
      "    for row in f:\n",
      "        data = json.loads(row)\n",
      "        project_ids.append(data[\"project_id\"])"
     ],
     "language": "python",
     "metadata": {},
     "outputs": [],
     "prompt_number": 3
    },
    {
     "cell_type": "code",
     "collapsed": false,
     "input": [
      "df_eff = None\n",
      "for f in efficiency_files:\n",
      "    if df_eff is None:\n",
      "        df_eff = pd.DataFrame.from_csv(f)\n",
      "    else:\n",
      "        df_eff = pd.concat([df_eff, pd.DataFrame.from_csv(f)])"
     ],
     "language": "python",
     "metadata": {},
     "outputs": [],
     "prompt_number": 4
    },
    {
     "cell_type": "code",
     "collapsed": false,
     "input": [
      "a_eff = df_eff[\"Delta_a\"]/df_eff[\"N_a\"]\n",
      "b_eff = df_eff[\"Delta_b\"]/df_eff[\"N_b\"]\n",
      "c_eff = df_eff[\"Delta_c\"]/df_eff[\"N_c\"]\n",
      "mean_a = a_eff.sum() / len(a_eff)\n",
      "mean_b = b_eff.sum() / len(b_eff)\n",
      "mean_c = c_eff.sum() / len(c_eff)\n",
      "df = pd.DataFrame(columns=[\"efficiency\"])\n",
      "df[\"efficiency\"] = a_eff/mean_a * b_eff/mean_b * c_eff/mean_c\n",
      "a_eff = a_eff/mean_a\n",
      "b_eff = b_eff/mean_b\n",
      "c_eff = c_eff/mean_c\n",
      "df_eff = pd.concat([df_eff, df], axis=1)"
     ],
     "language": "python",
     "metadata": {},
     "outputs": [],
     "prompt_number": 5
    },
    {
     "cell_type": "code",
     "collapsed": false,
     "input": [
      "df_perf = pd.DataFrame.from_csv(transition_file)\n",
      "df = pd.DataFrame(columns=[\"performance\"])\n",
      "df[\"performance\"] = df_perf[\"to_ga\"]/(df_perf[\"to_ga\"]+df_perf[\"to_fa\"])\n",
      "df_perf = pd.concat([df_perf, df], axis=1)"
     ],
     "language": "python",
     "metadata": {},
     "outputs": [],
     "prompt_number": 6
    },
    {
     "cell_type": "code",
     "collapsed": false,
     "input": [
      "df_con = pd.DataFrame.from_csv(control_file)"
     ],
     "language": "python",
     "metadata": {},
     "outputs": [],
     "prompt_number": 7
    },
    {
     "cell_type": "code",
     "collapsed": false,
     "input": [
      "df_combined = pd.concat([df_perf, df_eff, df_con], axis=1)\n",
      "df_combined.to_csv(exp.get_filename(out_file))"
     ],
     "language": "python",
     "metadata": {},
     "outputs": [],
     "prompt_number": 8
    },
    {
     "cell_type": "code",
     "collapsed": false,
     "input": [],
     "language": "python",
     "metadata": {},
     "outputs": []
    }
   ],
   "metadata": {}
  }
 ]
}