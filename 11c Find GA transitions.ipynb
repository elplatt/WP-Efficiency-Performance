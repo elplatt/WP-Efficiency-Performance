{
 "metadata": {
  "name": ""
 },
 "nbformat": 3,
 "nbformat_minor": 0,
 "worksheets": [
  {
   "cells": [
    {
     "cell_type": "code",
     "collapsed": false,
     "input": [
      "import json\n",
      "import time\n",
      "import sys\n",
      "import sqlalchemy\n",
      "from sqlalchemy import func\n",
      "from sqlalchemy.orm import sessionmaker"
     ],
     "language": "python",
     "metadata": {},
     "outputs": [],
     "prompt_number": 1
    },
    {
     "cell_type": "code",
     "collapsed": false,
     "input": [
      "import database\n",
      "from database.schema import Rating"
     ],
     "language": "python",
     "metadata": {},
     "outputs": [],
     "prompt_number": 2
    },
    {
     "cell_type": "code",
     "collapsed": false,
     "input": [
      "exp_name=\"find_ga\"\n",
      "project_map_file = 'data/articles-projects.json'\n",
      "output_file = \"ga_transitions.tsv\""
     ],
     "language": "python",
     "metadata": {},
     "outputs": [],
     "prompt_number": 3
    },
    {
     "cell_type": "code",
     "collapsed": false,
     "input": [
      "quality_names = [\n",
      "    \"FA-Class\",\n",
      "    \"GA-Class\",\n",
      "    \"A-Class\",\n",
      "    \"Bplus-Class\",\n",
      "    \"B-Class\",\n",
      "    \"C-Class\",\n",
      "    \"Stub-Class\",\n",
      "    \"Start-Class\",\n",
      "    \"Draft-Class\",\n",
      "    \"Merge-Class\",\n",
      "    \"Needed-Class\",\n",
      "    \"NotA-Class\",\n",
      "    \"Unassessed\",\n",
      "    \"Unassessed-Class\",\n",
      "    \"List-Class\",\n",
      "    \"FL-Class\",\n",
      "    \"AL-Class\",\n",
      "    \"BL-Class\",\n",
      "    \"CL-Class\",\n",
      "    \"SL-Class\",\n",
      "    \"FM-Class\",\n",
      "    \"Category-Class\",\n",
      "    \"Disambig-Class\",\n",
      "    \"Portal-Class\",\n",
      "    \"Template-Class\",\n",
      "    \"Project-Class\",\n",
      "    \"Book-Class\",\n",
      "    \"File-Class\",\n",
      "    \"Image-Class\",\n",
      "    \"Redirect-Class\",\n",
      "    \"Current-Class\",\n",
      "    \"Future-Class\",\n",
      "    \"NA-Class\",\n",
      "    \"\"\n",
      "]\n",
      "out_keys = ['project_id',] + quality_names"
     ],
     "language": "python",
     "metadata": {},
     "outputs": [],
     "prompt_number": 4
    },
    {
     "cell_type": "code",
     "collapsed": false,
     "input": [
      "import logbook\n",
      "exp = logbook.Experiment(exp_name)\n",
      "log = exp.get_logger()"
     ],
     "language": "python",
     "metadata": {},
     "outputs": [],
     "prompt_number": 5
    },
    {
     "cell_type": "code",
     "collapsed": false,
     "input": [
      "log.info(\"Loading project json\")\n",
      "project_names = {}\n",
      "with open(project_map_file, \"rb\") as f:\n",
      "    for i, row in enumerate(f):\n",
      "        datum = json.loads(row)\n",
      "        project_names[datum[\"project_id\"]] = datum[\"project_name\"]\n",
      "        if datum[\"project_id\"] == 264:\n",
      "            project_names[datum[\"project_id\"]] = u'Wikipedia:WikiProject Pok\u00e9mon'\n",
      "log.info(\"Done loading project json\")"
     ],
     "language": "python",
     "metadata": {},
     "outputs": [],
     "prompt_number": 6
    },
    {
     "cell_type": "code",
     "collapsed": false,
     "input": [
      "log.info(\"Connecting to database\")\n",
      "Session = sessionmaker()\n",
      "Session.configure(bind=database.engine)\n",
      "session = Session()\n",
      "data = []\n",
      "try:\n",
      "    all_from = {}\n",
      "    log.info(\"Calculating counts for all projects\")\n",
      "    for project_id, project_name in project_names.iteritems():\n",
      "        log.info(\n",
      "            \"  Calculating counts for project: %d:%s\" %\n",
      "            (project_id, project_name))\n",
      "        project_from = {}\n",
      "        log.info(\"  Querying for rating changes\")\n",
      "        query = session.query(Rating.old_quality) \\\n",
      "            .filter(Rating.new_quality == 'GA-Class') \\\n",
      "            .filter(Rating.project_id == project_id) \\\n",
      "            .filter(Rating.action.in_([\"Assessed\", \"Reassessed\"]))\n",
      "        for (old_quality,) in query:\n",
      "            if old_quality not in project_from:\n",
      "                project_from[old_quality] = 0\n",
      "            project_from[old_quality] = project_from[old_quality] + 1\n",
      "        # Write per-project stats\n",
      "        datum = [u\"%d\" % project_id]\n",
      "        for old_quality in quality_names:\n",
      "            try:\n",
      "                datum.append(u\"%d\" % project_from[old_quality])\n",
      "            except KeyError:\n",
      "                datum.append(u\"0\")\n",
      "        data.append(datum)\n",
      "except:\n",
      "    log.error(\"Error: %s\" % sys.exc_info()[0])\n",
      "    raise\n",
      "finally:\n",
      "    session.close()\n",
      "    log.info(\"Database session closed\")\n",
      "log.info(\"Writing transition data to output file\")\n",
      "filename = exp.get_filename(output_file)\n",
      "with open(filename, \"wb\") as out:\n",
      "    out.write((\"\\t\".join(out_keys) + \"\\n\").encode('utf-16-le'))\n",
      "    for datum in data:\n",
      "        out.write((\"\\t\".join([x for x in datum]) + \"\\n\").encode('utf-16-le'))"
     ],
     "language": "python",
     "metadata": {},
     "outputs": [],
     "prompt_number": 12
    },
    {
     "cell_type": "code",
     "collapsed": false,
     "input": [],
     "language": "python",
     "metadata": {},
     "outputs": []
    }
   ],
   "metadata": {}
  }
 ]
}