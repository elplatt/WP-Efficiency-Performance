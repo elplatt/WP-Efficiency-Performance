{
 "metadata": {
  "name": ""
 },
 "nbformat": 3,
 "nbformat_minor": 0,
 "worksheets": [
  {
   "cells": [
    {
     "cell_type": "code",
     "collapsed": false,
     "input": [
      "import json\n",
      "import requests\n",
      "from threading import Thread\n",
      "import time\n",
      "from Queue import Queue"
     ],
     "language": "python",
     "metadata": {},
     "outputs": [],
     "prompt_number": 1
    },
    {
     "cell_type": "code",
     "collapsed": false,
     "input": [
      "projfile = 'data/articles-projects.json'\n",
      "outfile = 'data/article_id-project_title.json'\n",
      "wiki_api = 'http://en.wikipedia.org/w/api.php'\n",
      "batch_size = 50\n",
      "num_workers = 100"
     ],
     "language": "python",
     "metadata": {},
     "outputs": [],
     "prompt_number": 2
    },
    {
     "cell_type": "code",
     "collapsed": false,
     "input": [
      "def process_titles(q, p):\n",
      "    while True:\n",
      "        project_name, titles = q.get()\n",
      "        payload = {'action': 'query', 'format': 'json', 'titles': '|'.join(fetch) }\n",
      "        r = requests.get(wiki_api, params=payload)\n",
      "        data = r.json()\n",
      "        for article_id in data['query']['pages'].iterkeys():\n",
      "            p.put((article_id, project['project_name']))\n",
      "        q.task_done()"
     ],
     "language": "python",
     "metadata": {},
     "outputs": [],
     "prompt_number": 3
    },
    {
     "cell_type": "code",
     "collapsed": false,
     "input": [
      "articles = {}\n",
      "proj_map = {}\n",
      "count = 0;\n",
      "q = Queue()\n",
      "p = Queue()\n",
      "for i in range(num_workers):\n",
      "    worker = Thread(target=process_titles, args=(q, p))\n",
      "    worker.setDaemon(True)\n",
      "    worker.start()\n",
      "with open(projfile, 'rb') as f:\n",
      "    for row in f:\n",
      "        project = json.loads(row);\n",
      "        titles = project['articles']\n",
      "        print \"%d processed, starting %s\" % (count, project['project_name'])\n",
      "        while len(titles) > 0:\n",
      "            fetch = titles[0:batch_size]\n",
      "            titles = titles[batch_size:]\n",
      "            count += len(fetch)\n",
      "            q.put((p,titles))\n",
      "print \"Finished sending requests\"\n",
      "q.join()\n",
      "print \"Finished parsing requests\"\n",
      "while not p.empty():\n",
      "    article_id, project_name = p.get()\n",
      "    proj_map[article_id] = proj_map.get(article_id, [])\n",
      "    proj_map[article_id].append(project_name)\n",
      "    p.task_done()\n",
      "with open(outfile, 'wb') as f:\n",
      "    json.dump(proj_map, f)"
     ],
     "language": "python",
     "metadata": {},
     "outputs": [],
     "prompt_number": "*"
    },
    {
     "cell_type": "code",
     "collapsed": false,
     "input": [
      "r.text"
     ],
     "language": "python",
     "metadata": {},
     "outputs": [],
     "prompt_number": 5
    },
    {
     "cell_type": "code",
     "collapsed": false,
     "input": [],
     "language": "python",
     "metadata": {},
     "outputs": []
    }
   ],
   "metadata": {}
  }
 ]
}