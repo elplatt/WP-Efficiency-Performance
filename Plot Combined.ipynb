{
 "cells": [
  {
   "cell_type": "code",
   "execution_count": 2,
   "metadata": {},
   "outputs": [
    {
     "name": "stdout",
     "output_type": "stream",
     "text": [
      "Populating the interactive namespace from numpy and matplotlib\n"
     ]
    }
   ],
   "source": [
    "%pylab inline\n",
    "import numpy as np\n",
    "import pandas as pd"
   ]
  },
  {
   "cell_type": "code",
   "execution_count": 3,
   "metadata": {
    "collapsed": true
   },
   "outputs": [],
   "source": [
    "df = pd.DataFrame.from_csv(\"output/26_combine_data/2017-06-13 12:08:55 c07ff01/combined.csv\")"
   ]
  },
  {
   "cell_type": "code",
   "execution_count": 5,
   "metadata": {},
   "outputs": [
    {
     "data": {
      "text/html": [
       "<div>\n",
       "<table border=\"1\" class=\"dataframe\">\n",
       "  <thead>\n",
       "    <tr style=\"text-align: right;\">\n",
       "      <th></th>\n",
       "      <th>to_ga</th>\n",
       "      <th>to_fa</th>\n",
       "      <th>from_ga</th>\n",
       "      <th>from_fa</th>\n",
       "      <th>performance</th>\n",
       "      <th>Delta_a</th>\n",
       "      <th>Delta_b</th>\n",
       "      <th>Delta_c</th>\n",
       "      <th>N_a</th>\n",
       "      <th>N_b</th>\n",
       "      <th>...</th>\n",
       "      <th>mean_editors</th>\n",
       "      <th>revision_count</th>\n",
       "      <th>degree_mean</th>\n",
       "      <th>in_degree_skew</th>\n",
       "      <th>out_degree_skew</th>\n",
       "      <th>flow_mean</th>\n",
       "      <th>connectivity</th>\n",
       "      <th>path_harmonic</th>\n",
       "      <th>path_mean</th>\n",
       "      <th>ga_mean</th>\n",
       "    </tr>\n",
       "  </thead>\n",
       "  <tbody>\n",
       "    <tr>\n",
       "      <th>1</th>\n",
       "      <td>0</td>\n",
       "      <td>0</td>\n",
       "      <td>NaN</td>\n",
       "      <td>NaN</td>\n",
       "      <td>NaN</td>\n",
       "      <td>0</td>\n",
       "      <td>7</td>\n",
       "      <td>16</td>\n",
       "      <td>4701</td>\n",
       "      <td>4086</td>\n",
       "      <td>...</td>\n",
       "      <td>23.678733</td>\n",
       "      <td>48340.0</td>\n",
       "      <td>84.969431</td>\n",
       "      <td>6.552500</td>\n",
       "      <td>5.440982</td>\n",
       "      <td>30.633611</td>\n",
       "      <td>0.969314</td>\n",
       "      <td>2.158216</td>\n",
       "      <td>2.196464</td>\n",
       "      <td>0.002801</td>\n",
       "    </tr>\n",
       "    <tr>\n",
       "      <th>2</th>\n",
       "      <td>7</td>\n",
       "      <td>4</td>\n",
       "      <td>NaN</td>\n",
       "      <td>NaN</td>\n",
       "      <td>0.636364</td>\n",
       "      <td>12</td>\n",
       "      <td>28</td>\n",
       "      <td>51</td>\n",
       "      <td>16155</td>\n",
       "      <td>12766</td>\n",
       "      <td>...</td>\n",
       "      <td>22.685771</td>\n",
       "      <td>46898.0</td>\n",
       "      <td>160.865758</td>\n",
       "      <td>4.907619</td>\n",
       "      <td>4.957842</td>\n",
       "      <td>67.833889</td>\n",
       "      <td>0.981369</td>\n",
       "      <td>2.055569</td>\n",
       "      <td>2.102919</td>\n",
       "      <td>0.171089</td>\n",
       "    </tr>\n",
       "    <tr>\n",
       "      <th>4</th>\n",
       "      <td>15</td>\n",
       "      <td>0</td>\n",
       "      <td>NaN</td>\n",
       "      <td>NaN</td>\n",
       "      <td>1.000000</td>\n",
       "      <td>0</td>\n",
       "      <td>5</td>\n",
       "      <td>12</td>\n",
       "      <td>6091</td>\n",
       "      <td>6091</td>\n",
       "      <td>...</td>\n",
       "      <td>21.706960</td>\n",
       "      <td>30812.0</td>\n",
       "      <td>183.424278</td>\n",
       "      <td>2.447996</td>\n",
       "      <td>2.197019</td>\n",
       "      <td>77.094444</td>\n",
       "      <td>0.978260</td>\n",
       "      <td>1.969736</td>\n",
       "      <td>2.041171</td>\n",
       "      <td>0.226650</td>\n",
       "    </tr>\n",
       "    <tr>\n",
       "      <th>5</th>\n",
       "      <td>1</td>\n",
       "      <td>0</td>\n",
       "      <td>NaN</td>\n",
       "      <td>NaN</td>\n",
       "      <td>1.000000</td>\n",
       "      <td>0</td>\n",
       "      <td>17</td>\n",
       "      <td>23</td>\n",
       "      <td>2669</td>\n",
       "      <td>2669</td>\n",
       "      <td>...</td>\n",
       "      <td>6.982979</td>\n",
       "      <td>7555.0</td>\n",
       "      <td>58.083669</td>\n",
       "      <td>2.019503</td>\n",
       "      <td>2.287582</td>\n",
       "      <td>19.574722</td>\n",
       "      <td>0.878911</td>\n",
       "      <td>2.361818</td>\n",
       "      <td>2.286521</td>\n",
       "      <td>0.195797</td>\n",
       "    </tr>\n",
       "    <tr>\n",
       "      <th>6</th>\n",
       "      <td>1</td>\n",
       "      <td>1</td>\n",
       "      <td>NaN</td>\n",
       "      <td>NaN</td>\n",
       "      <td>0.500000</td>\n",
       "      <td>3</td>\n",
       "      <td>31</td>\n",
       "      <td>53</td>\n",
       "      <td>22996</td>\n",
       "      <td>21461</td>\n",
       "      <td>...</td>\n",
       "      <td>20.295213</td>\n",
       "      <td>64929.0</td>\n",
       "      <td>133.036525</td>\n",
       "      <td>5.368248</td>\n",
       "      <td>6.198571</td>\n",
       "      <td>NaN</td>\n",
       "      <td>0.969706</td>\n",
       "      <td>2.209113</td>\n",
       "      <td>2.245102</td>\n",
       "      <td>0.024559</td>\n",
       "    </tr>\n",
       "  </tbody>\n",
       "</table>\n",
       "<p>5 rows × 32 columns</p>\n",
       "</div>"
      ],
      "text/plain": [
       "   to_ga  to_fa  from_ga  from_fa  performance  Delta_a  Delta_b  Delta_c  \\\n",
       "1      0      0      NaN      NaN          NaN        0        7       16   \n",
       "2      7      4      NaN      NaN     0.636364       12       28       51   \n",
       "4     15      0      NaN      NaN     1.000000        0        5       12   \n",
       "5      1      0      NaN      NaN     1.000000        0       17       23   \n",
       "6      1      1      NaN      NaN     0.500000        3       31       53   \n",
       "\n",
       "     N_a    N_b    ...     mean_editors  revision_count  degree_mean  \\\n",
       "1   4701   4086    ...        23.678733         48340.0    84.969431   \n",
       "2  16155  12766    ...        22.685771         46898.0   160.865758   \n",
       "4   6091   6091    ...        21.706960         30812.0   183.424278   \n",
       "5   2669   2669    ...         6.982979          7555.0    58.083669   \n",
       "6  22996  21461    ...        20.295213         64929.0   133.036525   \n",
       "\n",
       "   in_degree_skew  out_degree_skew  flow_mean  connectivity  path_harmonic  \\\n",
       "1        6.552500         5.440982  30.633611      0.969314       2.158216   \n",
       "2        4.907619         4.957842  67.833889      0.981369       2.055569   \n",
       "4        2.447996         2.197019  77.094444      0.978260       1.969736   \n",
       "5        2.019503         2.287582  19.574722      0.878911       2.361818   \n",
       "6        5.368248         6.198571        NaN      0.969706       2.209113   \n",
       "\n",
       "   path_mean   ga_mean  \n",
       "1   2.196464  0.002801  \n",
       "2   2.102919  0.171089  \n",
       "4   2.041171  0.226650  \n",
       "5   2.286521  0.195797  \n",
       "6   2.245102  0.024559  \n",
       "\n",
       "[5 rows x 32 columns]"
      ]
     },
     "execution_count": 5,
     "metadata": {},
     "output_type": "execute_result"
    }
   ],
   "source": [
    "df.head()"
   ]
  },
  {
   "cell_type": "code",
   "execution_count": 5,
   "metadata": {},
   "outputs": [
    {
     "data": {
      "image/png": "[encoded data removed]",
      "text/plain": [
       "<matplotlib.figure.Figure at 0x10b6dd410>"
      ]
     },
     "metadata": {},
     "output_type": "display_data"
    }
   ],
   "source": [
    "plt.figure(figsize=(1.5*15.0/7.0, 1.5*15.0/7.0))\n",
    "plt.plot(df[\"degree_mean\"], df[\"flow_mean\"], '.', markersize=2)\n",
    "plt.xlabel(\"Project Degree\")\n",
    "plt.ylabel(\"Project Min-Cut\")\n",
    "plt.title(\"r = 0.980, p < 0.001\")\n",
    "plt.grid()\n",
    "plt.tight_layout()\n",
    "plt.savefig(\"fig-degree-mincut.pdf\", format=\"pdf\")\n",
    "plt.savefig(\"fig-degree-mincut.png\", format=\"png\", dpi=300)"
   ]
  },
  {
   "cell_type": "code",
   "execution_count": 36,
   "metadata": {},
   "outputs": [
    {
     "name": "stderr",
     "output_type": "stream",
     "text": [
      "/Users/elplatt/science/lib/python2.7/site-packages/ipykernel_launcher.py:4: SettingWithCopyWarning: \n",
      "A value is trying to be set on a copy of a slice from a DataFrame.\n",
      "Try using .loc[row_indexer,col_indexer] = value instead\n",
      "\n",
      "See the caveats in the documentation: http://pandas.pydata.org/pandas-docs/stable/indexing.html#indexing-view-versus-copy\n",
      "  after removing the cwd from sys.path.\n",
      "/Users/elplatt/science/lib/python2.7/site-packages/ipykernel_launcher.py:13: SettingWithCopyWarning: \n",
      "A value is trying to be set on a copy of a slice from a DataFrame.\n",
      "Try using .loc[row_indexer,col_indexer] = value instead\n",
      "\n",
      "See the caveats in the documentation: http://pandas.pydata.org/pandas-docs/stable/indexing.html#indexing-view-versus-copy\n",
      "  del sys.path[0]\n",
      "/Users/elplatt/science/lib/python2.7/site-packages/ipykernel_launcher.py:22: SettingWithCopyWarning: \n",
      "A value is trying to be set on a copy of a slice from a DataFrame.\n",
      "Try using .loc[row_indexer,col_indexer] = value instead\n",
      "\n",
      "See the caveats in the documentation: http://pandas.pydata.org/pandas-docs/stable/indexing.html#indexing-view-versus-copy\n",
      "/Users/elplatt/science/lib/python2.7/site-packages/ipykernel_launcher.py:31: SettingWithCopyWarning: \n",
      "A value is trying to be set on a copy of a slice from a DataFrame.\n",
      "Try using .loc[row_indexer,col_indexer] = value instead\n",
      "\n",
      "See the caveats in the documentation: http://pandas.pydata.org/pandas-docs/stable/indexing.html#indexing-view-versus-copy\n"
     ]
    },
    {
     "data": {
      "image/png": "[encoded data removed]",
      "text/plain": [
       "<matplotlib.figure.Figure at 0x10d1d8c50>"
      ]
     },
     "metadata": {},
     "output_type": "display_data"
    }
   ],
   "source": [
    "plt.figure(figsize=(3*15.0/7.0, 3*15.0/7.0))\n",
    "subplot(2,2,1)\n",
    "dfa = df[(df[\"stage_Delta_a\"] > 0) & (df[\"stage_N_a\"] > 0)]\n",
    "dfa[\"a_stage_eff\"] = dfa[\"stage_N_a\"] / dfa[\"stage_Delta_a\"]\n",
    "#dfa[\"a_stage_eff\"] = dfa[\"a_stage_eff\"] / dfa[\"a_stage_eff\"].mean()\n",
    "plt.hist(np.log10(dfa[\"a_stage_eff\"]), 50)\n",
    "plt.grid()\n",
    "plt.xlabel(\"log$_{10}$ A-Efficiency\")\n",
    "plt.ylabel(\"Project count\")\n",
    "\n",
    "subplot(2,2,2)\n",
    "dfb = df[(df[\"stage_Delta_b\"] > 0) & (df[\"stage_N_b\"] > 0)]\n",
    "dfb[\"b_stage_eff\"] = dfb[\"stage_N_b\"] / dfb[\"stage_Delta_b\"]\n",
    "#dfb[\"b_stage_eff\"] = dfb[\"b_stage_eff\"] / dfb[\"b_stage_eff\"].mean()\n",
    "plt.hist(np.log10(dfb[\"b_stage_eff\"]), 50)\n",
    "plt.grid()\n",
    "plt.xlabel(\"log$_{10}$ B-Efficiency\")\n",
    "plt.ylabel(\"Project count\")\n",
    "\n",
    "subplot(2,2,3)\n",
    "dfc = df[(df[\"stage_Delta_c\"] > 0) & (df[\"stage_N_c\"] > 0)]\n",
    "dfc[\"c_stage_eff\"] = dfc[\"stage_N_c\"] / dfc[\"stage_Delta_c\"]\n",
    "#dfc[\"c_stage_eff\"] = dfc[\"c_stage_eff\"] / dfc[\"c_stage_eff\"].mean()\n",
    "plt.hist(np.log10(dfc[\"c_stage_eff\"]), 50)\n",
    "plt.grid()\n",
    "plt.xlabel(\"log$_{10}$ C-Efficiency\")\n",
    "plt.ylabel(\"Project count\")\n",
    "\n",
    "subplot(2,2,4)\n",
    "dfp = df[(df[\"to_ga\"] > 0) & (df[\"to_fa\"] > 0) & df[\"article_count\"] > 0]\n",
    "dfp[\"perf\"] = (dfp[\"to_ga\"] + dfp[\"to_fa\"]) / dfp[\"article_count\"]\n",
    "plt.hist(np.log10(dfp[\"perf\"]), 50)\n",
    "plt.grid()\n",
    "plt.xlabel(\"log$_{10}$ Performance\")\n",
    "plt.ylabel(\"Project count\")\n",
    "\n",
    "plt.tight_layout()\n",
    "plt.savefig(\"fig-eff-perf-hist.pdf\", format=\"pdf\")"
   ]
  },
  {
   "cell_type": "code",
   "execution_count": 37,
   "metadata": {},
   "outputs": [
    {
     "name": "stderr",
     "output_type": "stream",
     "text": [
      "/Users/elplatt/science/lib/python2.7/site-packages/ipykernel_launcher.py:4: SettingWithCopyWarning: \n",
      "A value is trying to be set on a copy of a slice from a DataFrame.\n",
      "Try using .loc[row_indexer,col_indexer] = value instead\n",
      "\n",
      "See the caveats in the documentation: http://pandas.pydata.org/pandas-docs/stable/indexing.html#indexing-view-versus-copy\n",
      "  after removing the cwd from sys.path.\n",
      "/Users/elplatt/science/lib/python2.7/site-packages/ipykernel_launcher.py:13: SettingWithCopyWarning: \n",
      "A value is trying to be set on a copy of a slice from a DataFrame.\n",
      "Try using .loc[row_indexer,col_indexer] = value instead\n",
      "\n",
      "See the caveats in the documentation: http://pandas.pydata.org/pandas-docs/stable/indexing.html#indexing-view-versus-copy\n",
      "  del sys.path[0]\n",
      "/Users/elplatt/science/lib/python2.7/site-packages/ipykernel_launcher.py:22: SettingWithCopyWarning: \n",
      "A value is trying to be set on a copy of a slice from a DataFrame.\n",
      "Try using .loc[row_indexer,col_indexer] = value instead\n",
      "\n",
      "See the caveats in the documentation: http://pandas.pydata.org/pandas-docs/stable/indexing.html#indexing-view-versus-copy\n"
     ]
    },
    {
     "data": {
      "image/png": "[encoded data removed]",
      "text/plain": [
       "<matplotlib.figure.Figure at 0x10ce5e490>"
      ]
     },
     "metadata": {},
     "output_type": "display_data"
    }
   ],
   "source": [
    "plt.figure(figsize=(4.5*15.0/7.0, 1.5*15.0/7.0))\n",
    "subplot(1,3,1)\n",
    "dfa = df[(df[\"stage_Delta_a\"] > 0) & (df[\"stage_N_a\"] > 0)]\n",
    "dfa[\"a_stage_eff\"] = dfa[\"stage_N_a\"] / dfa[\"stage_Delta_a\"]\n",
    "#dfa[\"a_stage_eff\"] = dfa[\"a_stage_eff\"] / dfa[\"a_stage_eff\"].mean()\n",
    "plt.hist(np.log10(dfa[\"a_stage_eff\"]), 50)\n",
    "plt.grid()\n",
    "plt.xlabel(\"log$_{10}$ A-Efficiency\")\n",
    "plt.ylabel(\"Project count\")\n",
    "\n",
    "subplot(1,3,2)\n",
    "dfb = df[(df[\"stage_Delta_b\"] > 0) & (df[\"stage_N_b\"] > 0)]\n",
    "dfb[\"b_stage_eff\"] = dfb[\"stage_N_b\"] / dfb[\"stage_Delta_b\"]\n",
    "#dfb[\"b_stage_eff\"] = dfb[\"b_stage_eff\"] / dfb[\"b_stage_eff\"].mean()\n",
    "plt.hist(np.log10(dfb[\"b_stage_eff\"]), 50)\n",
    "plt.grid()\n",
    "plt.xlabel(\"log$_{10}$ B-Efficiency\")\n",
    "plt.ylabel(\"Project count\")\n",
    "\n",
    "subplot(1,3,3)\n",
    "dfc = df[(df[\"stage_Delta_c\"] > 0) & (df[\"stage_N_c\"] > 0)]\n",
    "dfc[\"c_stage_eff\"] = dfc[\"stage_N_c\"] / dfc[\"stage_Delta_c\"]\n",
    "#dfc[\"c_stage_eff\"] = dfc[\"c_stage_eff\"] / dfc[\"c_stage_eff\"].mean()\n",
    "plt.hist(np.log10(dfc[\"c_stage_eff\"]), 50)\n",
    "plt.grid()\n",
    "plt.xlabel(\"log$_{10}$ C-Efficiency\")\n",
    "plt.ylabel(\"Project count\")\n",
    "\n",
    "plt.tight_layout()\n",
    "plt.savefig(\"fig-eff-hist.png\", format=\"png\", dpi=300)"
   ]
  },
  {
   "cell_type": "code",
   "execution_count": 35,
   "metadata": {},
   "outputs": [
    {
     "name": "stderr",
     "output_type": "stream",
     "text": [
      "/Users/elplatt/science/lib/python2.7/site-packages/ipykernel_launcher.py:3: SettingWithCopyWarning: \n",
      "A value is trying to be set on a copy of a slice from a DataFrame.\n",
      "Try using .loc[row_indexer,col_indexer] = value instead\n",
      "\n",
      "See the caveats in the documentation: http://pandas.pydata.org/pandas-docs/stable/indexing.html#indexing-view-versus-copy\n",
      "  This is separate from the ipykernel package so we can avoid doing imports until\n"
     ]
    },
    {
     "data": {
      "image/png": "[encoded data removed]",
      "text/plain": [
       "<matplotlib.figure.Figure at 0x10cdc5290>"
      ]
     },
     "metadata": {},
     "output_type": "display_data"
    }
   ],
   "source": [
    "plt.figure(figsize=(1.5*15.0/7.0, 1.5*15.0/7.0))\n",
    "dfp = df[(df[\"to_ga\"] > 0) & (df[\"to_fa\"] > 0) & df[\"article_count\"] > 0]\n",
    "dfp[\"perf\"] = (dfp[\"to_ga\"] + dfp[\"to_fa\"]) / dfp[\"article_count\"]\n",
    "plt.hist(np.log10(dfp[\"perf\"]), 50)\n",
    "plt.grid()\n",
    "plt.xlabel(\"log$_{10}$ Performance\")\n",
    "plt.ylabel(\"Project count\")\n",
    "\n",
    "plt.tight_layout()\n",
    "plt.savefig(\"fig-perf-hist.png\", format=\"png\", dpi=300)"
   ]
  },
  {
   "cell_type": "code",
   "execution_count": 48,
   "metadata": {},
   "outputs": [
    {
     "data": {
      "image/png": "[encoded data removed]",
      "text/plain": [
       "<matplotlib.figure.Figure at 0x10ce18690>"
      ]
     },
     "metadata": {},
     "output_type": "display_data"
    }
   ],
   "source": [
    "plt.figure(figsize=(45.0/7.0, 45.0/7.0))\n",
    "\n",
    "plt.subplot(2,2,1)\n",
    "dfdm = df[df[\"degree_mean\"] > 0]\n",
    "plt.grid()\n",
    "plt.hist(np.log10(dfdm[\"degree_mean\"]), 50)\n",
    "plt.xlabel(\"log$_{10}$ Mean degree\")\n",
    "plt.ylabel(\"Project count\")\n",
    "\n",
    "plt.subplot(2,2,2)\n",
    "dfdm = df[df[\"out_degree_skew\"] > 0]\n",
    "plt.grid()\n",
    "plt.hist(np.log10(dfdm[\"out_degree_skew\"]), 50)\n",
    "plt.xlabel(\"log$_{10}$ Out-degree skewness\")\n",
    "plt.ylabel(\"Project count\")\n",
    "\n",
    "plt.subplot(2,2,3)\n",
    "dfdm = df[df[\"path_mean\"] > 0]\n",
    "plt.grid()\n",
    "plt.hist(np.log10(dfdm[\"path_mean\"]), 50)\n",
    "plt.xlabel(\"log$_{10}$ Mean path length\")\n",
    "plt.ylabel(\"Project count\")\n",
    "\n",
    "plt.subplot(2,2,4)\n",
    "dfdm = df[df[\"flow_mean\"] > 0]\n",
    "plt.grid()\n",
    "plt.hist(np.log10(dfdm[\"flow_mean\"]), 50)\n",
    "plt.xlabel(\"log$_{10}$ Mean min-cut\")\n",
    "plt.ylabel(\"Project count\")\n",
    "\n",
    "plt.tight_layout()\n",
    "plt.savefig(\"fig-net-hist.pdf\", format=\"pdf\")"
   ]
  },
  {
   "cell_type": "code",
   "execution_count": 50,
   "metadata": {},
   "outputs": [
    {
     "data": {
      "image/png": "[encoded data removed]",
      "text/plain": [
       "<matplotlib.figure.Figure at 0x10d79ab50>"
      ]
     },
     "metadata": {},
     "output_type": "display_data"
    },
    {
     "data": {
      "image/png": "[encoded data removed]",
      "text/plain": [
       "<matplotlib.figure.Figure at 0x10d3bd690>"
      ]
     },
     "metadata": {},
     "output_type": "display_data"
    }
   ],
   "source": [
    "plt.figure(figsize=(45.0/7.0, 45.0/14.0))\n",
    "\n",
    "plt.subplot(1,2,1)\n",
    "dfdm = df[df[\"degree_mean\"] > 0]\n",
    "plt.grid()\n",
    "plt.hist(np.log10(dfdm[\"degree_mean\"]), 50)\n",
    "plt.xlabel(\"log$_{10}$ Mean degree\")\n",
    "plt.ylabel(\"Project count\")\n",
    "\n",
    "plt.subplot(1,2,2)\n",
    "dfdm = df[df[\"out_degree_skew\"] > 0]\n",
    "plt.grid()\n",
    "plt.hist(np.log10(dfdm[\"out_degree_skew\"]), 50)\n",
    "plt.xlabel(\"log$_{10}$ Out-degree skewness\")\n",
    "plt.ylabel(\"Project count\")\n",
    "\n",
    "plt.tight_layout()\n",
    "plt.savefig(\"fig-degree-hist.png\", format=\"png\", dpi=300)\n",
    "\n",
    "plt.figure(figsize=(45.0/7.0, 45.0/14.0))\n",
    "\n",
    "plt.subplot(1,2,1)\n",
    "dfdm = df[df[\"path_mean\"] > 0]\n",
    "plt.grid()\n",
    "plt.hist(np.log10(dfdm[\"path_mean\"]), 50)\n",
    "plt.xlabel(\"log$_{10}$ Mean path length\")\n",
    "plt.ylabel(\"Project count\")\n",
    "\n",
    "plt.subplot(1,2,2)\n",
    "dfdm = df[df[\"flow_mean\"] > 0]\n",
    "plt.grid()\n",
    "plt.hist(np.log10(dfdm[\"flow_mean\"]), 50)\n",
    "plt.xlabel(\"log$_{10}$ Mean min-cut\")\n",
    "plt.ylabel(\"Project count\")\n",
    "\n",
    "plt.tight_layout()\n",
    "plt.savefig(\"fig-net-hist.png\", format=\"png\", dpi=300)"
   ]
  },
  {
   "cell_type": "code",
   "execution_count": null,
   "metadata": {
    "collapsed": true
   },
   "outputs": [],
   "source": []
  }
 ],
 "metadata": {
  "kernelspec": {
   "display_name": "Python 2",
   "language": "python",
   "name": "python2"
  },
  "language_info": {
   "codemirror_mode": {
    "name": "ipython",
    "version": 2
   },
   "file_extension": ".py",
   "mimetype": "text/x-python",
   "name": "python",
   "nbconvert_exporter": "python",
   "pygments_lexer": "ipython2",
   "version": "2.7.10"
  }
 },
 "nbformat": 4,
 "nbformat_minor": 2
}
