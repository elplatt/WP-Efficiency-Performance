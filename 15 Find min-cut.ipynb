{
 "metadata": {
  "name": ""
 },
 "nbformat": 3,
 "nbformat_minor": 0,
 "worksheets": [
  {
   "cells": [
    {
     "cell_type": "code",
     "collapsed": false,
     "input": [
      "from collections import deque"
     ],
     "language": "python",
     "metadata": {},
     "outputs": [],
     "prompt_number": 19
    },
    {
     "cell_type": "code",
     "collapsed": false,
     "input": [
      "nodes = set([1, 2, 3, 4, 5, 6])\n",
      "edges_from = {\n",
      "    1: set([2, 4, 5]),\n",
      "    3: set([2, 4]),\n",
      "    4: set([1, 5]),\n",
      "    5: set([4, 6]),\n",
      "    6: set([5])}"
     ],
     "language": "python",
     "metadata": {},
     "outputs": [],
     "prompt_number": 20
    },
    {
     "cell_type": "code",
     "collapsed": false,
     "input": [],
     "language": "python",
     "metadata": {},
     "outputs": [
      {
       "output_type": "stream",
       "stream": "stdout",
       "text": [
        "Finding flow: 1 -> 2\n",
        "  flow: 1\n",
        "Finding flow: 1 -> 3\n",
        "  flow: 0\n",
        "Finding flow: 1 -> 4\n",
        "  flow: 2\n",
        "Finding flow: 1 -> 5\n",
        "  flow: 2\n",
        "Finding flow: 1 -> 6\n",
        "  flow: 1\n",
        "Finding flow: 2 -> 1\n",
        "  flow: 0\n",
        "Finding flow: 2 -> 3\n",
        "  flow: 0\n",
        "Finding flow: 2 -> 4\n",
        "  flow: 0\n",
        "Finding flow: 2 -> 5\n",
        "  flow: 0\n",
        "Finding flow: 2 -> 6\n",
        "  flow: 0\n",
        "Finding flow: 3 -> 1\n",
        "  flow: 1\n",
        "Finding flow: 3 -> 2\n",
        "  flow: 2\n",
        "Finding flow: 3 -> 4\n",
        "  flow: 1\n",
        "Finding flow: 3 -> 5\n",
        "  flow: 1\n",
        "Finding flow: 3 -> 6\n",
        "  flow: 1\n",
        "Finding flow: 4 -> 1\n",
        "  flow: 1\n",
        "Finding flow: 4 -> 2\n",
        "  flow: 1\n",
        "Finding flow: 4 -> 3\n",
        "  flow: 0\n",
        "Finding flow: 4 -> 5\n",
        "  flow: 2\n",
        "Finding flow: 4 -> 6\n",
        "  flow: 1\n",
        "Finding flow: 5 -> 1\n",
        "  flow: 1\n",
        "Finding flow: 5 -> 2\n",
        "  flow: 1\n",
        "Finding flow: 5 -> 3\n",
        "  flow: 0\n",
        "Finding flow: 5 -> 4\n",
        "  flow: 1\n",
        "Finding flow: 5 -> 6\n",
        "  flow: 1\n",
        "Finding flow: 6 -> 1\n",
        "  flow: 1\n",
        "Finding flow: 6 -> 2\n",
        "  flow: 1\n",
        "Finding flow: 6 -> 3\n",
        "  flow: 0\n",
        "Finding flow: 6 -> 4\n",
        "  flow: 1\n",
        "Finding flow: 6 -> 5\n",
        "  flow: 1\n"
       ]
      }
     ],
     "prompt_number": 22
    },
    {
     "cell_type": "code",
     "collapsed": false,
     "input": [],
     "language": "python",
     "metadata": {},
     "outputs": []
    }
   ],
   "metadata": {}
  }
 ]
}