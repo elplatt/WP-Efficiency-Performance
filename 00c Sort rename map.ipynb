{
 "metadata": {
  "name": ""
 },
 "nbformat": 3,
 "nbformat_minor": 0,
 "worksheets": [
  {
   "cells": [
    {
     "cell_type": "code",
     "collapsed": false,
     "input": [
      "import datetime\n",
      "import dateutil\n",
      "import time\n",
      "import msgpack\n",
      "import logbook"
     ],
     "language": "python",
     "metadata": {},
     "outputs": [],
     "prompt_number": 1
    },
    {
     "cell_type": "code",
     "collapsed": false,
     "input": [
      "exp_name = \"00c_sort_rename_map\"\n",
      "infile = \"output/00b_create_rename_map/2016-10-06 14:52:10 0bcf955/rename_map.m\"\n",
      "outfile = \"sorted_rename_map.m\""
     ],
     "language": "python",
     "metadata": {},
     "outputs": [],
     "prompt_number": 2
    },
    {
     "cell_type": "code",
     "collapsed": false,
     "input": [
      "exp = logbook.Experiment(exp_name)\n",
      "log.exp.get_logger()"
     ],
     "language": "python",
     "metadata": {},
     "outputs": [],
     "prompt_number": 3
    },
    {
     "cell_type": "code",
     "collapsed": false,
     "input": [
      "with open(infile, \"rb\") as f:\n",
      "    rename_map = msgpack.unpackb(f.read())\n",
      "timestamps = [\n",
      "    tuple(dateutil.parser.parse(x.decode('utf-8')).timetuple())\n",
      "    for x in rename_map['timestamp']]"
     ],
     "language": "python",
     "metadata": {},
     "outputs": [],
     "prompt_number": 4
    },
    {
     "cell_type": "code",
     "collapsed": false,
     "input": [
      "to_sort = zip(timestamps, rename_map[\"new_name\"], rename_map[\"old_name\"])"
     ],
     "language": "python",
     "metadata": {},
     "outputs": [],
     "prompt_number": 5
    },
    {
     "cell_type": "code",
     "collapsed": false,
     "input": [
      "to_sort.sort()"
     ],
     "language": "python",
     "metadata": {},
     "outputs": [],
     "prompt_number": 6
    },
    {
     "cell_type": "code",
     "collapsed": false,
     "input": [
      "timestamp, new_name, old_name = zip(*to_sort)\n",
      "timestamp = [\n",
      "    u'%sZ' % \n",
      "    time.strftime('%Y-%m-%dT%H:%M:%S', time.struct_time(d))\n",
      "    for d in timestamp]\n",
      "# No need to encode utf-8: timestamp is ascii so already equal to its utf-8 encoding"
     ],
     "language": "python",
     "metadata": {},
     "outputs": [],
     "prompt_number": 7
    },
    {
     "cell_type": "code",
     "collapsed": false,
     "input": [
      "df = {\n",
      "    \"timestamp\": timestamp,\n",
      "    \"new_name\": new_name,\n",
      "    \"old_name\": old_name}\n",
      "\n",
      "# Check whether the sort changed anything\n",
      "for i in range(len(rename_map[\"timestamp\"])):\n",
      "    for key in [\"timestamp\", \"new_name\", \"old_name\"]:\n",
      "        if df[key][i] != rename_map[key][i]:\n",
      "            log.info(\"Sort changed order at %d\" % i)\n",
      "            log.info(\"Old: %s\" % rename_map[key][i])\n",
      "            log.info(\"New: %s\" % df[key][i])\n",
      "            raise KeyboardInterrupt\n"
     ],
     "language": "python",
     "metadata": {},
     "outputs": [],
     "prompt_number": 8
    },
    {
     "cell_type": "code",
     "collapsed": false,
     "input": [
      "with open(exp.get_filename(outfile), \"wb\") as f:\n",
      "    f.write(msgpack.packb(df))"
     ],
     "language": "python",
     "metadata": {},
     "outputs": [],
     "prompt_number": 9
    },
    {
     "cell_type": "code",
     "collapsed": false,
     "input": [
      "for i in range(len(rename_map[\"timestamp\"])):\n",
      "    for key in [\"timestamp\", \"new_name\", \"old_name\"]:\n",
      "        if df[key][i] != rename_map[key][i]:\n",
      "            print \"difference!\"\n",
      "            print df[key][i]\n",
      "            print rename_map[key][i]\n",
      "            raise KeyboardException"
     ],
     "language": "python",
     "metadata": {},
     "outputs": [],
     "prompt_number": 13
    },
    {
     "cell_type": "code",
     "collapsed": false,
     "input": [],
     "language": "python",
     "metadata": {},
     "outputs": []
    }
   ],
   "metadata": {}
  }
 ]
}