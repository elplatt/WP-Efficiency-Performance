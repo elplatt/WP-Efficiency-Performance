{
 "metadata": {
  "name": ""
 },
 "nbformat": 3,
 "nbformat_minor": 0,
 "worksheets": [
  {
   "cells": [
    {
     "cell_type": "code",
     "collapsed": false,
     "input": [
      "import pandas as pd\n",
      "from matplotlib import pyplot as plt\n",
      "import numpy as np\n",
      "import scipy.stats as spstats"
     ],
     "language": "python",
     "metadata": {},
     "outputs": [],
     "prompt_number": 1
    },
    {
     "cell_type": "code",
     "collapsed": false,
     "input": [
      "efficiency_file = \"output/10_find_efficiency/2016-11-02 22:03:53 f3da2a6/efficiency.csv\"\n",
      "transition_file = \"output/11_find_performance/2016-11-01 16:40:13 11ba292/fa_ga_transitions.csv\""
     ],
     "language": "python",
     "metadata": {},
     "outputs": [],
     "prompt_number": 2
    },
    {
     "cell_type": "code",
     "collapsed": false,
     "input": [
      "perf = pd.DataFrame.from_csv(transition_file)\n",
      "perf_nz = perf[perf[\"to_ga\"] > 0]\n",
      "perf_nz = perf_nz[perf_nz[\"to_fa\"] > 0]"
     ],
     "language": "python",
     "metadata": {},
     "outputs": [],
     "prompt_number": 3
    },
    {
     "cell_type": "code",
     "collapsed": false,
     "input": [
      "df = pd.DataFrame.from_csv(efficiency_file)\n",
      "df_nz = df[df[\"N_a\"] > 0]\n",
      "df_nz = df_nz[df_nz[\"N_b\"] > 0]\n",
      "df_nz = df_nz[df_nz[\"N_c\"] > 0]\n",
      "df_nz = df_nz[df_nz[\"Delta_a\"] > 0]\n",
      "df_nz = df_nz[df_nz[\"Delta_b\"] > 0]\n",
      "df_nz = df_nz[df_nz[\"Delta_c\"] > 0]"
     ],
     "language": "python",
     "metadata": {},
     "outputs": [],
     "prompt_number": 4
    },
    {
     "cell_type": "code",
     "collapsed": false,
     "input": [
      "a_eff = df_nz[\"Delta_a\"]/df_nz[\"N_a\"]\n",
      "b_eff = df_nz[\"Delta_b\"]/df_nz[\"N_b\"]\n",
      "c_eff = df_nz[\"Delta_c\"]/df_nz[\"N_c\"]\n",
      "mean_a = a_eff.sum() / len(a_eff)\n",
      "mean_b = b_eff.sum() / len(b_eff)\n",
      "mean_c = c_eff.sum() / len(c_eff)\n",
      "eff = pd.DataFrame(columns=[\"efficiency\"])\n",
      "eff[\"efficiency\"] = np.log(a_eff/mean_a) + np.log(b_eff/mean_b) + np.log(c_eff/mean_c)"
     ],
     "language": "python",
     "metadata": {},
     "outputs": [],
     "prompt_number": 5
    },
    {
     "cell_type": "code",
     "collapsed": false,
     "input": [
      "eff_perf = pd.concat([perf_nz, eff], axis=1, join=\"inner\")\n",
      "performance = np.log(eff_perf[\"to_ga\"]/(eff_perf[\"to_ga\"]+eff_perf[\"to_fa\"]))\n",
      "efficiency = eff_perf[\"efficiency\"]\n",
      "r = spstats.pearsonr(efficiency, performance)"
     ],
     "language": "python",
     "metadata": {},
     "outputs": [],
     "prompt_number": 6
    },
    {
     "cell_type": "code",
     "collapsed": false,
     "input": [
      "plt.plot(efficiency, performance, '.')\n",
      "plt.xlabel(\"Efficiency\")\n",
      "plt.ylabel(\"Performance\")\n",
      "plt.title(\"Pearson r: %0.2f (p=%0.2f)\" % r)"
     ],
     "language": "python",
     "metadata": {},
     "outputs": [
      {
       "metadata": {},
       "output_type": "pyout",
       "prompt_number": 7,
       "text": [
        "<matplotlib.text.Text at 0x7f6cbd206290>"
       ]
      },
      {
       "metadata": {},
       "output_type": "display_data",
       "png": "[encoded data removed]",
       "text": [
        "<matplotlib.figure.Figure at 0x7f6cbd27a250>"
       ]
      }
     ],
     "prompt_number": 7
    },
    {
     "cell_type": "code",
     "collapsed": false,
     "input": [],
     "language": "python",
     "metadata": {},
     "outputs": []
    }
   ],
   "metadata": {}
  }
 ]
}