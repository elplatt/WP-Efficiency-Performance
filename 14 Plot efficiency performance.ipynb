{
 "cells": [
  {
   "cell_type": "code",
   "execution_count": null,
   "metadata": {
    "collapsed": false
   },
   "outputs": [],
   "source": [
    "%pylab inline\n",
    "import pandas as pd\n",
    "from matplotlib import pyplot as plt\n",
    "import numpy as np\n",
    "import scipy.stats as spstats"
   ]
  },
  {
   "cell_type": "code",
   "execution_count": null,
   "metadata": {
    "collapsed": false
   },
   "outputs": [],
   "source": [
    "efficiency_files = [\n",
    "    \"output/10_find_efficiency/2017-04-25 23:09:13 3bd3e7d/efficiency.csv\"\n",
    "]\n",
    "transition_file = \"output/11_find_performance/2017-05-03 08:54:42 b8d538c/fa_ga_transitions.csv\""
   ]
  },
  {
   "cell_type": "code",
   "execution_count": null,
   "metadata": {
    "collapsed": false
   },
   "outputs": [],
   "source": [
    "perf = pd.DataFrame.from_csv(transition_file)\n",
    "perf_nz = perf[perf[\"to_ga\"] > 0]\n",
    "perf_nz = perf_nz[perf_nz[\"to_fa\"] > 0]"
   ]
  },
  {
   "cell_type": "code",
   "execution_count": null,
   "metadata": {
    "collapsed": false
   },
   "outputs": [],
   "source": [
    "df = None\n",
    "for f in efficiency_files:\n",
    "    if df is None:\n",
    "        df = pd.DataFrame.from_csv(f)\n",
    "    else:\n",
    "        df = pd.concat([df, pd.DataFrame.from_csv(f)])\n",
    "df_nz = df[df[\"N_a\"] > 0]\n",
    "df_nz = df_nz[df_nz[\"N_b\"] > 0]\n",
    "df_nz = df_nz[df_nz[\"N_c\"] > 0]\n",
    "df_nz = df_nz[df_nz[\"Delta_a\"] > 0]\n",
    "df_nz = df_nz[df_nz[\"Delta_b\"] > 0]\n",
    "df_nz = df_nz[df_nz[\"Delta_c\"] > 0]"
   ]
  },
  {
   "cell_type": "code",
   "execution_count": null,
   "metadata": {
    "collapsed": false
   },
   "outputs": [],
   "source": [
    "a_eff = df_nz[\"Delta_a\"]/df_nz[\"N_a\"]\n",
    "b_eff = df_nz[\"Delta_b\"]/df_nz[\"N_b\"]\n",
    "c_eff = df_nz[\"Delta_c\"]/df_nz[\"N_c\"]\n",
    "mean_a = a_eff.sum() / len(a_eff)\n",
    "mean_b = b_eff.sum() / len(b_eff)\n",
    "mean_c = c_eff.sum() / len(c_eff)\n",
    "eff = pd.DataFrame(columns=[\"efficiency\"])\n",
    "eff[\"efficiency\"] = np.log(a_eff/mean_a) + np.log(b_eff/mean_b) + np.log(c_eff/mean_c)"
   ]
  },
  {
   "cell_type": "code",
   "execution_count": null,
   "metadata": {
    "collapsed": false
   },
   "outputs": [],
   "source": [
    "eff_perf = pd.concat([perf_nz, eff], axis=1, join=\"inner\")\n",
    "ga = eff_perf[\"to_ga\"]\n",
    "fa = eff_perf[\"to_fa\"]\n",
    "performance = ga/(ga+fa)\n",
    "log_perf = np.log(performance)\n",
    "efficiency = eff_perf[\"efficiency\"]\n",
    "r = spstats.pearsonr(efficiency, performance)"
   ]
  },
  {
   "cell_type": "code",
   "execution_count": null,
   "metadata": {
    "collapsed": false
   },
   "outputs": [],
   "source": [
    "plt.semilogy(efficiency, performance, '.')\n",
    "plt.xlabel(\"Efficiency\")\n",
    "plt.ylabel(\"Performance\")\n",
    "plt.title(\"Pearson r: %0.2f (p=%0.4f)\" % r)"
   ]
  },
  {
   "cell_type": "code",
   "execution_count": null,
   "metadata": {
    "collapsed": false
   },
   "outputs": [],
   "source": []
  }
 ],
 "metadata": {
  "kernelspec": {
   "display_name": "Python 2",
   "language": "python",
   "name": "python2"
  },
  "language_info": {
   "codemirror_mode": {
    "name": "ipython",
    "version": 2
   },
   "file_extension": ".py",
   "mimetype": "text/x-python",
   "name": "python",
   "nbconvert_exporter": "python",
   "pygments_lexer": "ipython2",
   "version": "2.7.6"
  }
 },
 "nbformat": 4,
 "nbformat_minor": 0
}
