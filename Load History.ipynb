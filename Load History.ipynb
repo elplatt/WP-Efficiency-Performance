{
 "metadata": {
  "name": ""
 },
 "nbformat": 3,
 "nbformat_minor": 0,
 "worksheets": [
  {
   "cells": [
    {
     "cell_type": "code",
     "collapsed": false,
     "input": [
      "import csv\n",
      "import calendar\n",
      "import datetime\n",
      "import dateutil.parser\n",
      "import time"
     ],
     "language": "python",
     "metadata": {},
     "outputs": [],
     "prompt_number": 1
    },
    {
     "cell_type": "code",
     "collapsed": false,
     "input": [
      "import sqlalchemy\n",
      "from sqlalchemy.exc import IntegrityError\n",
      "from sqlalchemy.orm import sessionmaker"
     ],
     "language": "python",
     "metadata": {},
     "outputs": [],
     "prompt_number": 2
    },
    {
     "cell_type": "code",
     "collapsed": false,
     "input": [
      "import database\n",
      "from database.schema import (\n",
      "    Article,\n",
      "    Contributor,\n",
      "    Project,\n",
      "    Revision\n",
      ")"
     ],
     "language": "python",
     "metadata": {},
     "outputs": [],
     "prompt_number": 3
    },
    {
     "cell_type": "code",
     "collapsed": false,
     "input": [
      "database.create_tables()"
     ],
     "language": "python",
     "metadata": {},
     "outputs": [],
     "prompt_number": 4
    },
    {
     "cell_type": "code",
     "collapsed": false,
     "input": [
      "Session = sessionmaker()\n",
      "Session.configure(bind=database.engine)"
     ],
     "language": "python",
     "metadata": {},
     "outputs": [],
     "prompt_number": 5
    },
    {
     "cell_type": "code",
     "collapsed": false,
     "input": [],
     "language": "python",
     "metadata": {},
     "outputs": [],
     "prompt_number": 5
    },
    {
     "cell_type": "code",
     "collapsed": false,
     "input": [
      "# Populate database with articles and article revisions\n",
      "start_time = time.time()\n",
      "session = Session()\n",
      "batch_size = 10000\n",
      "row_count = 0\n",
      "with open('data/history_output.csv', 'rb') as f:\n",
      "    r = csv.reader(f)\n",
      "    current = 1\n",
      "    revisions = []\n",
      "    articles = []\n",
      "    articles_added = set()\n",
      "    contributors = []\n",
      "    contributors_added = set()\n",
      "    for row in r:\n",
      "        if len(row) < 13:\n",
      "            # Missing data, skip for now\n",
      "            # Remove before actual analysis\n",
      "            continue\n",
      "        row_count += 1\n",
      "        # Parse timestamp and convert to naive in UTC timezone\n",
      "        ts = dateutil.parser.parse(row[6])\n",
      "        ts = datetime.datetime.fromtimestamp(calendar.timegm(ts.timetuple()))\n",
      "        contributor_id = int(row[8] or 0)\n",
      "        article_id = row[2]\n",
      "        if contributor_id > 0 and contributor_id not in contributors_added:\n",
      "            contributors.append(\n",
      "                Contributor(contributor_id=contributor_id))\n",
      "            contributors_added.add(contributor_id)\n",
      "        if article_id not in articles_added:\n",
      "            articles.append(\n",
      "                Article(\n",
      "                    article_id=(row[2] or 0),\n",
      "                    article_name=(row[0] or 0),\n",
      "                    article_namespace=(row[1]) or 0))\n",
      "            articles_added.add(article_id)\n",
      "        if contributor_id == 0:\n",
      "            contributor_id = None\n",
      "        revisions.append(\n",
      "            Revision(\n",
      "                revision_id=(row[5] or None),\n",
      "                revision_num=(row[4] or None),\n",
      "                article_id=(row[2] or None),\n",
      "                contributor_id=contributor_id,\n",
      "                redirect=row[3],\n",
      "                minor=(row[9] or None),\n",
      "                timestamp=ts))\n",
      "        current += 1\n",
      "        if len(revisions) == batch_size:\n",
      "            session.add_all(contributors)\n",
      "            session.commit()\n",
      "            session.add_all(articles)\n",
      "            session.commit()\n",
      "            session.add_all(revisions)\n",
      "            session.commit()\n",
      "            revisions = []\n",
      "            articles = []\n",
      "            contributors = []\n",
      "            print \"%d processed\" % (current)\n",
      "    if len(revisions) > 0:\n",
      "        session.add_all(contributors)\n",
      "        session.commit()\n",
      "        session.add_all(articles)\n",
      "        session.commit()\n",
      "        session.add_all(revisions)\n",
      "        session.commit()\n",
      "end_time = time.time()\n",
      "print \"%d rows in %s seconds\" % (row_count, end_time - start_time)\n"
     ],
     "language": "python",
     "metadata": {},
     "outputs": [],
     "prompt_number": 6
    },
    {
     "cell_type": "code",
     "collapsed": false,
     "input": [
      "session.rollback()"
     ],
     "language": "python",
     "metadata": {},
     "outputs": [],
     "prompt_number": 32
    },
    {
     "cell_type": "code",
     "collapsed": false,
     "input": [],
     "language": "python",
     "metadata": {},
     "outputs": []
    }
   ],
   "metadata": {}
  }
 ]
}