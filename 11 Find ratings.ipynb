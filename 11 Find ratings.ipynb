{
 "metadata": {
  "name": ""
 },
 "nbformat": 3,
 "nbformat_minor": 0,
 "worksheets": [
  {
   "cells": [
    {
     "cell_type": "code",
     "collapsed": false,
     "input": [
      "import json\n",
      "import time\n",
      "import sys\n",
      "import sqlalchemy\n",
      "from sqlalchemy import func\n",
      "from sqlalchemy.orm import sessionmaker"
     ],
     "language": "python",
     "metadata": {},
     "outputs": [],
     "prompt_number": 7
    },
    {
     "cell_type": "code",
     "collapsed": false,
     "input": [
      "import database\n",
      "from database.schema import Rating"
     ],
     "language": "python",
     "metadata": {},
     "outputs": [],
     "prompt_number": 8
    },
    {
     "cell_type": "code",
     "collapsed": false,
     "input": [
      "exp_name=\"11_find_ratings\"\n",
      "project_map_file = 'data/articles-projects.json'\n",
      "output_file = \"quality.csv\""
     ],
     "language": "python",
     "metadata": {},
     "outputs": [],
     "prompt_number": 9
    },
    {
     "cell_type": "code",
     "collapsed": false,
     "input": [
      "import logbook\n",
      "exp = logbook.Experiment(exp_name)\n",
      "log = exp.get_logger()"
     ],
     "language": "python",
     "metadata": {},
     "outputs": [],
     "prompt_number": 10
    },
    {
     "cell_type": "code",
     "collapsed": false,
     "input": [
      "log.info(\"Loading project json\")\n",
      "project_names = {}\n",
      "with open(project_map_file, \"rb\") as f:\n",
      "    for row in f:\n",
      "        datum = json.loads(row)\n",
      "        project_names[datum[\"project_id\"]] = datum[\"project_name\"]\n",
      "log.info(\"Done loading project json\")"
     ],
     "language": "python",
     "metadata": {},
     "outputs": [],
     "prompt_number": "*"
    },
    {
     "cell_type": "code",
     "collapsed": false,
     "input": [
      "log.info(\"Connecting to database\")\n",
      "Session = sessionmaker()\n",
      "Session.configure(bind=database.engine)\n",
      "session = Session()\n",
      "data = []\n",
      "quality_names = [\n",
      "    \"FA-Class\",\n",
      "    \"GA-Class\",\n",
      "    \"A-Class\",\n",
      "    \"B-Class\",\n",
      "    \"C-Class\",\n",
      "    \"Stub-Class\",\n",
      "    \"Start-Class\",\n",
      "    \"Unassessed-Class\"\n",
      "    \"Category-Class\",\n",
      "    \"List-Class\",\n",
      "    \"Disambig-Class\",\n",
      "    \"Portal-Class\",\n",
      "    \"Template-Class\",\n",
      "    \"Project-Class\",\n",
      "    \"Book-Class\",\n",
      "    \"File-Class\",\n",
      "    \"Image-Class\",\n",
      "    \"NA-Class\"\n",
      "]\n",
      "try:\n",
      "    log.info(\"Calculating quality for all projects\")\n",
      "    for project_id, project_name in project_names.iteritems():\n",
      "        log.info(\n",
      "            \"  Calculating quality for project: %d:%s\" %\n",
      "            (project_id, project_name))\n",
      "        subq = session.query(\n",
      "                Rating.article_name,\n",
      "                Rating.new_quality,\n",
      "                func.max(Rating.timestamp)) \\\n",
      "            .filter(Rating.project_id == project_id) \\\n",
      "            .filter(Rating.action == \"Assessed\") \\\n",
      "            .group_by(Rating.article_name, Rating.project_id) \\\n",
      "            .subquery()\n",
      "        datum = [project_id]\n",
      "        for i, quality in enumerate(quality_names):\n",
      "            count = session.query(func.count()) \\\n",
      "                .filter(subq.c.new_quality == quality).first()[0]\n",
      "            datum.append(count)\n",
      "        data.append(datum)\n",
      "except:\n",
      "    log.error(\"Error: %s\" % sys.exc_info()[0])\n",
      "    raise\n",
      "finally:\n",
      "    session.close()\n",
      "    log.info(\"Database session closed\")\n",
      "log.info(\"Writing quality data to output file\")\n",
      "with open(exp.get_filename(output_file), \"wb\") as out:\n",
      "    out.write(','.join(['project_id'] + quality_names) + \"\\n\")\n",
      "    for row in data:\n",
      "        out.write(\"%s,%s\\n\" % row)"
     ],
     "language": "python",
     "metadata": {},
     "outputs": [],
     "prompt_number": "*"
    },
    {
     "cell_type": "code",
     "collapsed": false,
     "input": [],
     "language": "python",
     "metadata": {},
     "outputs": []
    }
   ],
   "metadata": {}
  }
 ]
}