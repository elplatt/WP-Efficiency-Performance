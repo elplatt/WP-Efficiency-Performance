{
 "metadata": {
  "name": ""
 },
 "nbformat": 3,
 "nbformat_minor": 0,
 "worksheets": [
  {
   "cells": [
    {
     "cell_type": "code",
     "collapsed": false,
     "input": [
      "import json\n",
      "import time\n",
      "import sys\n",
      "import sqlalchemy\n",
      "from sqlalchemy import func\n",
      "from sqlalchemy.orm import sessionmaker"
     ],
     "language": "python",
     "metadata": {},
     "outputs": [],
     "prompt_number": 1
    },
    {
     "cell_type": "code",
     "collapsed": false,
     "input": [
      "import database\n",
      "from database.schema import Rating"
     ],
     "language": "python",
     "metadata": {},
     "outputs": [],
     "prompt_number": 2
    },
    {
     "cell_type": "code",
     "collapsed": false,
     "input": [
      "exp_name=\"11_find_ratings\"\n",
      "project_map_file = 'data/articles-projects.json'\n",
      "output_file = \"quality.csv\""
     ],
     "language": "python",
     "metadata": {},
     "outputs": [],
     "prompt_number": 3
    },
    {
     "cell_type": "code",
     "collapsed": false,
     "input": [
      "import logbook\n",
      "exp = logbook.Experiment(exp_name)\n",
      "log = exp.get_logger()"
     ],
     "language": "python",
     "metadata": {},
     "outputs": [],
     "prompt_number": 4
    },
    {
     "cell_type": "code",
     "collapsed": false,
     "input": [
      "log.info(\"Loading project json\")\n",
      "project_names = {}\n",
      "with open(project_map_file, \"rb\") as f:\n",
      "    for row in f:\n",
      "        datum = json.loads(row)\n",
      "        project_names[datum[\"project_id\"]] = datum[\"project_name\"]\n",
      "log.info(\"Done loading project json\")"
     ],
     "language": "python",
     "metadata": {},
     "outputs": [],
     "prompt_number": "*"
    },
    {
     "cell_type": "code",
     "collapsed": false,
     "input": [
      "log.info(\"Connecting to database\")\n",
      "Session = sessionmaker()\n",
      "Session.configure(bind=database.engine)\n",
      "session = Session()\n",
      "data = []\n",
      "quality_names = [\n",
      "    \"FA-Class\",\n",
      "    \"GA-Class\",\n",
      "    \"A-Class\",\n",
      "    \"B-Class\",\n",
      "    \"C-Class\",\n",
      "    \"Stub-Class\",\n",
      "    \"Start-Class\",\n",
      "    \"Unassessed-Class\"\n",
      "    \"Category-Class\",\n",
      "    \"List-Class\",\n",
      "    \"Disambig-Class\",\n",
      "    \"Portal-Class\",\n",
      "    \"Template-Class\",\n",
      "    \"Project-Class\",\n",
      "    \"Book-Class\",\n",
      "    \"File-Class\",\n",
      "    \"Image-Class\",\n",
      "    \"NA-Class\"\n",
      "]\n",
      "try:\n",
      "    log.info(\"Calculating quality for all projects\")\n",
      "    for project_id, project_name in project_names.iteritems():\n",
      "        log.info(\n",
      "            \"  Calculating quality for project: %d:%s\" %\n",
      "            (project_id, project_name))\n",
      "        article_grades = {}\n",
      "        query = session.query(\n",
      "                Rating.internal_id,\n",
      "                Rating.action,\n",
      "                Rating.article_name,\n",
      "                Rating.new_quality,\n",
      "                Rating.new_article_name) \\\n",
      "            .filter(Rating.project_id == project_id) \\\n",
      "            .filter(Rating.action.in([\"Assessed\", \"Reassessed\", \"Renamed\", \"Removed\"])) \\\n",
      "            .order_by(Rating.timestamp)\n",
      "        for row in query:\n",
      "            if row[1] in [\"Assessed\", \"Reassessed\"]:\n",
      "                article_grades[row[2]] = row[3]\n",
      "            elif row[1] == \"Renamed\":\n",
      "                try:\n",
      "                    article_grades[row[4]] = article_grades[row[2]]\n",
      "                    del article_grades[row[2]]\n",
      "                except KeyError:\n",
      "                    log.error(\"    Renamed unknown article: %d: %s -> %s\" %\n",
      "                        (row[0], row[2], row[4]))\n",
      "            elif row[1] == \"Removed\":\n",
      "                try:\n",
      "                    del article_grades[row[2]]\n",
      "                except KeyError:\n",
      "                    log.error(\"    Removed unknown article: %d: %s\" %\n",
      "                        (row[0], row[2]))\n",
      "        counts = {}\n",
      "        for rating in quality_names:\n",
      "            counts[rating] = 0\n",
      "        for rating in article_grades.itervalues():\n",
      "            counts[rating] += 1\n",
      "        datum = [project_id]\n",
      "        for rating in quality_names:\n",
      "            datum.append(counts[rating])\n",
      "        data.append(datum)\n",
      "except:\n",
      "    log.error(\"Error: %s\" % sys.exc_info()[0])\n",
      "    raise\n",
      "finally:\n",
      "    session.close()\n",
      "    log.info(\"Database session closed\")\n",
      "log.info(\"Writing quality data to output file\")\n",
      "with open(exp.get_filename(output_file), \"wb\") as out:\n",
      "    out.write(','.join(['project_id'] + quality_names) + \"\\n\")\n",
      "    for row in data:\n",
      "        out.write(\"%s,%s\\n\" % row)"
     ],
     "language": "python",
     "metadata": {},
     "outputs": [],
     "prompt_number": "*"
    },
    {
     "cell_type": "code",
     "collapsed": false,
     "input": [],
     "language": "python",
     "metadata": {},
     "outputs": []
    }
   ],
   "metadata": {}
  }
 ]
}