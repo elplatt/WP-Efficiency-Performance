{
 "cells": [
  {
   "cell_type": "code",
   "execution_count": null,
   "metadata": {
    "collapsed": false
   },
   "outputs": [],
   "source": [
    "import json\n",
    "import time\n",
    "import msgpack\n",
    "import logbook\n",
    "import network"
   ]
  },
  {
   "cell_type": "code",
   "execution_count": null,
   "metadata": {
    "collapsed": false
   },
   "outputs": [],
   "source": [
    "exp_name = \"19_find_degree\"\n",
    "project_file = \"data/projects-2016-10-14-dedup.json\"\n",
    "edges_file = \"output/17_create_coeditor/2017-04-26 14:53:15 1b4e2e0/%d-coeditor.mp\"\n",
    "out_file = \"%d-degree.csv\""
   ]
  },
  {
   "cell_type": "code",
   "execution_count": null,
   "metadata": {
    "collapsed": false
   },
   "outputs": [],
   "source": [
    "exp = logbook.Experiment(exp_name)\n",
    "log = exp.get_logger()\n",
    "log.info(\"Beginning\")"
   ]
  },
  {
   "cell_type": "code",
   "execution_count": null,
   "metadata": {
    "collapsed": false
   },
   "outputs": [],
   "source": [
    "log.info(\"Loading projects\")\n",
    "project_ids = []\n",
    "with open(project_file, \"rb\") as f:\n",
    "    for row in f:\n",
    "        data = json.loads(row)\n",
    "        project_ids.append(data[\"project_id\"])"
   ]
  },
  {
   "cell_type": "code",
   "execution_count": null,
   "metadata": {
    "collapsed": false
   },
   "outputs": [],
   "source": [
    "last = time.time()\n",
    "try:\n",
    "    for project_id in project_ids:\n",
    "        with open(exp.get_filename(out_file % project_id), \"wb\") as out:\n",
    "            out.write(\",\".join([\"project_id\", \"contributor_id\", \"in_degree\", \"out_degree\"]) + \"\\n\")\n",
    "            if time.time() - last > 60:\n",
    "                time.sleep(0.1)\n",
    "            log.info(\"Calculating degree for project %d\" % project_id)\n",
    "            all_nodes = set()\n",
    "            in_degree = {}\n",
    "            out_degree = {}\n",
    "            with open(edges_file % project_id, \"rb\") as f:\n",
    "                unpacker = msgpack.Unpacker(f)\n",
    "                for o in unpacker:\n",
    "                    node = o[0][0]\n",
    "                    edges_from = o[1]\n",
    "                    all_nodes.add(node)\n",
    "                    all_nodes |= set(edges_from)\n",
    "                    out_degree[node] = len(edges_from)\n",
    "                    for target in edges_from:\n",
    "                        try:\n",
    "                            in_degree[target] += 1\n",
    "                        except KeyError:\n",
    "                            in_degree[target] = 1\n",
    "            for node in all_nodes:\n",
    "                out.write(\",\".join([\n",
    "                    str(project_id),\n",
    "                    str(node),\n",
    "                    str(in_degree.get(node, 0)),\n",
    "                    str(out_degree.get(node, 0))]) + \"\\n\")\n",
    "            log.info(\"  Done counting degrees\")\n",
    "    log.info(\"Done with all projects\")\n",
    "except:\n",
    "    log.error(str(sys.exc_info()))\n",
    "    raise"
   ]
  },
  {
   "cell_type": "code",
   "execution_count": null,
   "metadata": {
    "collapsed": false
   },
   "outputs": [],
   "source": []
  }
 ],
 "metadata": {
  "kernelspec": {
   "display_name": "Python 2",
   "language": "python",
   "name": "python2"
  },
  "language_info": {
   "codemirror_mode": {
    "name": "ipython",
    "version": 2
   },
   "file_extension": ".py",
   "mimetype": "text/x-python",
   "name": "python",
   "nbconvert_exporter": "python",
   "pygments_lexer": "ipython2",
   "version": "2.7.6"
  }
 },
 "nbformat": 4,
 "nbformat_minor": 0
}
