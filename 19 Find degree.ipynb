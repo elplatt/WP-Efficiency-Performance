{
 "metadata": {
  "name": ""
 },
 "nbformat": 3,
 "nbformat_minor": 0,
 "worksheets": [
  {
   "cells": [
    {
     "cell_type": "code",
     "collapsed": false,
     "input": [
      "import json\n",
      "import time\n",
      "import msgpack\n",
      "import logbook\n",
      "import network"
     ],
     "language": "python",
     "metadata": {},
     "outputs": [],
     "prompt_number": 1
    },
    {
     "cell_type": "code",
     "collapsed": false,
     "input": [
      "exp_name = \"19_find_degree\"\n",
      "project_file = \"data/projects-2016-10-14-dedup.json\"\n",
      "edges_file = \"archive/17_create_coeditor/2016-11-05 16:42:01 8850183/%d-coeditor.mp\"\n",
      "out_file = \"%d-degree.csv\""
     ],
     "language": "python",
     "metadata": {},
     "outputs": [],
     "prompt_number": 2
    },
    {
     "cell_type": "code",
     "collapsed": false,
     "input": [
      "exp = logbook.Experiment(exp_name)\n",
      "log = exp.get_logger()\n",
      "log.info(\"Beginning\")"
     ],
     "language": "python",
     "metadata": {},
     "outputs": [],
     "prompt_number": 3
    },
    {
     "cell_type": "code",
     "collapsed": false,
     "input": [
      "log.info(\"Loading projects\")\n",
      "project_ids = []\n",
      "with open(project_file, \"rb\") as f:\n",
      "    for row in f:\n",
      "        data = json.loads(row)\n",
      "        project_ids.append(data[\"project_id\"])"
     ],
     "language": "python",
     "metadata": {},
     "outputs": [],
     "prompt_number": 4
    },
    {
     "cell_type": "code",
     "collapsed": false,
     "input": [
      "last = time.time()\n",
      "try:\n",
      "    for project_id in project_ids:\n",
      "        with open(exp.get_filename(out_file % project_id), \"wb\") as out:\n",
      "            out.write(\",\".join([\"project_id\", \"contributor_id\", \"in_degree\", \"out_degree\"]) + \"\\n\")\n",
      "            if time.time() - last > 60:\n",
      "                time.sleep(0.1)\n",
      "            log.info(\"Calculating degree for project %d\" % project_id)\n",
      "            all_nodes = set()\n",
      "            in_degree = {}\n",
      "            out_degree = {}\n",
      "            with open(edges_file % project_id, \"rb\") as f:\n",
      "                unpacker = msgpack.Unpacker(f)\n",
      "                for o in unpacker:\n",
      "                    node = o[0][0]\n",
      "                    edges_from = o[1]\n",
      "                    all_nodes.add(node)\n",
      "                    all_nodes |= set(edges_from)\n",
      "                    out_degree[node] = len(edges_from)\n",
      "                    for target in edges_from:\n",
      "                        try:\n",
      "                            in_degree[target] += 1\n",
      "                        except KeyError:\n",
      "                            in_degree[target] = 1\n",
      "            for node in all_nodes:\n",
      "                out.write(\",\".join([\n",
      "                    project_id,\n",
      "                    node,\n",
      "                    in_degree.get(node, 0),\n",
      "                    out_degree.get(node, 0)]) + \"\\n\")\n",
      "            log.info(\"  Done counting degrees\")\n",
      "    log.info(\"Done with all projects\")\n",
      "except:\n",
      "    log.error(str(sys.exc_info()))"
     ],
     "language": "python",
     "metadata": {},
     "outputs": [],
     "prompt_number": 5
    },
    {
     "cell_type": "code",
     "collapsed": false,
     "input": [],
     "language": "python",
     "metadata": {},
     "outputs": []
    }
   ],
   "metadata": {}
  }
 ]
}