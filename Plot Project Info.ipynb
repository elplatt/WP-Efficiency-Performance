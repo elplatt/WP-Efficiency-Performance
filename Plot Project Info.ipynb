{
 "metadata": {
  "name": ""
 },
 "nbformat": 3,
 "nbformat_minor": 0,
 "worksheets": [
  {
   "cells": [
    {
     "cell_type": "code",
     "collapsed": false,
     "input": [
      "import codecs\n",
      "import json\n",
      "import numpy as np\n",
      "import matplotlib.pyplot as plt"
     ],
     "language": "python",
     "metadata": {},
     "outputs": [],
     "prompt_number": 64
    },
    {
     "cell_type": "code",
     "collapsed": false,
     "input": [
      "infile = 'data/articles-projects.json'"
     ],
     "language": "python",
     "metadata": {},
     "outputs": [],
     "prompt_number": 65
    },
    {
     "cell_type": "code",
     "collapsed": false,
     "input": [
      "data = codecs.open(infile, mode='rb', encoding='utf-8')"
     ],
     "language": "python",
     "metadata": {},
     "outputs": [],
     "prompt_number": 66
    },
    {
     "cell_type": "code",
     "collapsed": false,
     "input": [
      "counts = []\n",
      "for project_id, datum in enumerate(data):\n",
      "    p = json.loads(datum)\n",
      "    counts.append(len(p[\"articles\"]))\n",
      "counts = np.array(counts)"
     ],
     "language": "python",
     "metadata": {},
     "outputs": [],
     "prompt_number": 67
    },
    {
     "cell_type": "code",
     "collapsed": false,
     "input": [
      "print np.mean(counts)\n",
      "print np.median(counts)\n",
      "print np.std(counts)\n",
      "print np.max(counts)"
     ],
     "language": "python",
     "metadata": {},
     "outputs": [],
     "prompt_number": 34
    },
    {
     "cell_type": "code",
     "collapsed": false,
     "input": [
      "plt.figure(figsize=(3.25,3))\n",
      "n, bins, patches = hist(np.log10(counts), 35)\n",
      "title('WikiProject Size', fontsize=18)\n",
      "ylabel('Frequency', fontsize=18)\n",
      "xlabel('Number of Articles', fontsize=18)\n",
      "x = np.arange(np.ceil(np.log10(np.max(counts))) + 1, dtype=\"int\")\n",
      "labels = [\"$10^{%d}$\" % round(e) for e in x]\n",
      "plt.xticks(x, labels, fontsize=12)\n",
      "plt.yticks(fontsize=12)\n",
      "plt.subplots_adjust(top=0.9, bottom=0.2, left=0.2, right=0.95)\n",
      "plt.savefig('output/project_size.pdf')"
     ],
     "language": "python",
     "metadata": {},
     "outputs": [],
     "prompt_number": 72
    },
    {
     "cell_type": "code",
     "collapsed": false,
     "input": [
      "labels"
     ],
     "language": "python",
     "metadata": {},
     "outputs": [],
     "prompt_number": 43
    },
    {
     "cell_type": "code",
     "collapsed": false,
     "input": [],
     "language": "python",
     "metadata": {},
     "outputs": []
    }
   ],
   "metadata": {}
  }
 ]
}