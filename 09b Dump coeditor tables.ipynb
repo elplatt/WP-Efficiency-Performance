{
 "metadata": {
  "name": ""
 },
 "nbformat": 3,
 "nbformat_minor": 0,
 "worksheets": [
  {
   "cells": [
    {
     "cell_type": "code",
     "collapsed": false,
     "input": [
      "import json\n",
      "import logging\n",
      "import time\n",
      "import os.path\n",
      "import sys\n",
      "import sqlalchemy\n",
      "from sqlalchemy import desc, func, select\n",
      "from sqlalchemy.orm import sessionmaker"
     ],
     "language": "python",
     "metadata": {},
     "outputs": [],
     "prompt_number": 2
    },
    {
     "cell_type": "code",
     "collapsed": false,
     "input": [
      "import database\n",
      "from database.schema import contributor_table"
     ],
     "language": "python",
     "metadata": {},
     "outputs": [],
     "prompt_number": 3
    },
    {
     "cell_type": "code",
     "collapsed": false,
     "input": [
      "exp_name=\"09b_dump_coeditor_tables\"\n",
      "coeditor_file = \"%d-coeditor.tsv\""
     ],
     "language": "python",
     "metadata": {},
     "outputs": [],
     "prompt_number": 4
    },
    {
     "cell_type": "code",
     "collapsed": false,
     "input": [
      "import logbook"
     ],
     "language": "python",
     "metadata": {},
     "outputs": [],
     "prompt_number": 5
    },
    {
     "cell_type": "code",
     "collapsed": false,
     "input": [
      "# Clear <project_id>_contributor_contributor\n",
      "def clear_coeditor(project_id, log):\n",
      "    log.info(\"Truncating %d_contributor_contributor\" % project_id)\n",
      "    sql = \"TRUNCATE %d_contributor_contributor\" % project_id\n",
      "    database.engine.execute(sql)\n",
      "    log.info(\"Done clearing %d_contributor_contributor\" % project_id)"
     ],
     "language": "python",
     "metadata": {},
     "outputs": [],
     "prompt_number": 6
    },
    {
     "cell_type": "code",
     "collapsed": false,
     "input": [
      "# Write <project_id>_contributor_contributor as a graph edge TSV\n",
      "def write_coeditor_tsv(project_id, exp):\n",
      "    start = time.time()\n",
      "    log = exp.get_logger()\n",
      "    log.info(\"Writing coeditor TSV for project %d\" % project_id)\n",
      "    conn = database.engine.connect()\n",
      "    row_count = 0\n",
      "    try:\n",
      "        fname = exp.get_filename(coeditor_file % project_id)\n",
      "        with open(fname, \"wb\") as f:\n",
      "            table = contributor_table(project_id).__table__\n",
      "            # Use yield_per to have sqlalchemy internally batch the results.\n",
      "            # This also requires setting .enable_eagerloads to False.\n",
      "            sel = select([table.c.source_id, table.c.target_id])\n",
      "            results = conn.execute(sel)\n",
      "            f.write(u\"source_id\\ttarget_id\\n\".encode(\"utf-16-le\"))\n",
      "            for (source_id, target_id) in results:\n",
      "                f.write((u\"%d\\t%d\\n\" % (source_id, target_id)).encode(\"utf-16-le\"))\n",
      "                row_count += 1\n",
      "                if row_count % 10000 == 0:\n",
      "                    f.flush()\n",
      "    finally:\n",
      "        conn.close()\n",
      "        log.info(\"Finished writing coeditor TSV for project %d. %d rows in %f seconds\" % (\n",
      "            project_id, row_count, time.time() - start))"
     ],
     "language": "python",
     "metadata": {},
     "outputs": [],
     "prompt_number": 7
    },
    {
     "cell_type": "code",
     "collapsed": false,
     "input": [
      "skip_to = 86\n",
      "end_with = 86\n",
      "exp = logbook.Experiment(exp_name)\n",
      "log = exp.get_logger()\n",
      "try:\n",
      "    for project_id in range(skip_to, end_with + 1):\n",
      "        write_coeditor_tsv(project_id, exp)\n",
      "        #clear_coeditor(project_id, log)\n",
      "except:\n",
      "    log.error(\"error: %s\" % str(sys.exc_info()))\n",
      "    raise"
     ],
     "language": "python",
     "metadata": {},
     "outputs": [],
     "prompt_number": 8
    },
    {
     "cell_type": "code",
     "collapsed": false,
     "input": [],
     "language": "python",
     "metadata": {},
     "outputs": []
    }
   ],
   "metadata": {}
  }
 ]
}