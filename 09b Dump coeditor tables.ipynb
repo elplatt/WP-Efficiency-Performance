{
 "metadata": {
  "name": ""
 },
 "nbformat": 3,
 "nbformat_minor": 0,
 "worksheets": [
  {
   "cells": [
    {
     "cell_type": "code",
     "collapsed": false,
     "input": [
      "import json\n",
      "import logging\n",
      "import time\n",
      "import os.path\n",
      "import sys\n",
      "import sqlalchemy\n",
      "from sqlalchemy import desc, func, select\n",
      "from sqlalchemy.orm import sessionmaker"
     ],
     "language": "python",
     "metadata": {},
     "outputs": [],
     "prompt_number": 1
    },
    {
     "cell_type": "code",
     "collapsed": false,
     "input": [
      "import database\n",
      "from database.schema import contributor_table"
     ],
     "language": "python",
     "metadata": {},
     "outputs": [],
     "prompt_number": 2
    },
    {
     "cell_type": "code",
     "collapsed": false,
     "input": [
      "exp_name=\"09b_dump_coeditor_tables\"\n",
      "coeditor_file = \"%d-coeditor.tsv\""
     ],
     "language": "python",
     "metadata": {},
     "outputs": [],
     "prompt_number": 3
    },
    {
     "cell_type": "code",
     "collapsed": false,
     "input": [
      "import logbook"
     ],
     "language": "python",
     "metadata": {},
     "outputs": [],
     "prompt_number": 4
    },
    {
     "cell_type": "code",
     "collapsed": false,
     "input": [
      "# Clear <project_id>_contributor_contributor\n",
      "def clear_coeditor(project_id, log):\n",
      "    log.info(\"Truncating %d_contributor_contributor\" % project_id)\n",
      "    sql = \"TRUNCATE %d_contributor_contributor\" % project_id\n",
      "    database.engine.execute(sql)\n",
      "    log.info(\"Done clearing %d_contributor_contributor\" % project_id)"
     ],
     "language": "python",
     "metadata": {},
     "outputs": [],
     "prompt_number": 5
    },
    {
     "cell_type": "code",
     "collapsed": false,
     "input": [
      "# Write <project_id>_contributor_contributor as a graph edge TSV\n",
      "def write_coeditor_tsv(project_id, exp):\n",
      "    start = time.time()\n",
      "    log = exp.get_logger()\n",
      "    log.info(\"Writing coeditor TSV for project %d\" % project_id)\n",
      "    conn = database.engine.connect()\n",
      "    row_count = 0\n",
      "    limit = 10000\n",
      "    offset = 0\n",
      "    try:\n",
      "        fname = exp.get_filename(coeditor_file % project_id)\n",
      "        table = contributor_table(project_id).__table__\n",
      "        sel = select([func.count(table.c.internal_id)])\n",
      "        total = conn.execute(sel).fetch_one()[0]\n",
      "        log.info(\"  Found %d rows\" % total)\n",
      "        with open(fname, \"wb\") as f:\n",
      "            while offset < total:\n",
      "                sel = select([table.c.source_id, table.c.target_id]) \\\n",
      "                    .order_by(table.c.internal_id) \\\n",
      "                    .limit(limit) \\\n",
      "                    .offset(offset)\n",
      "                results = conn.execute(sel)\n",
      "                f.write(u\"source_id\\ttarget_id\\n\".encode(\"utf-16-le\"))\n",
      "                for (source_id, target_id) in results:\n",
      "                    f.write((u\"%d\\t%d\\n\" % (source_id, target_id)).encode(\"utf-16-le\"))\n",
      "                    row_count += 1\n",
      "                f.flush()\n",
      "                offset += limit\n",
      "    finally:\n",
      "        conn.close()\n",
      "        log.info(\"Finished writing coeditor TSV for project %d. %d rows in %f seconds\" % (\n",
      "            project_id, row_count, time.time() - start))"
     ],
     "language": "python",
     "metadata": {},
     "outputs": [],
     "prompt_number": 6
    },
    {
     "cell_type": "code",
     "collapsed": false,
     "input": [
      "skip_to = 86\n",
      "end_with = 86\n",
      "exp = logbook.Experiment(exp_name)\n",
      "log = exp.get_logger()\n",
      "try:\n",
      "    for project_id in range(skip_to, end_with + 1):\n",
      "        write_coeditor_tsv(project_id, exp)\n",
      "        #clear_coeditor(project_id, log)\n",
      "except:\n",
      "    log.error(\"error: %s\" % str(sys.exc_info()))\n",
      "    raise"
     ],
     "language": "python",
     "metadata": {},
     "outputs": [
      {
       "ename": "AttributeError",
       "evalue": "'ResultProxy' object has no attribute 'next'",
       "output_type": "pyerr",
       "traceback": [
        "\u001b[0;31m---------------------------------------------------------------------------\u001b[0m\n\u001b[0;31mAttributeError\u001b[0m                            Traceback (most recent call last)",
        "\u001b[0;32m<ipython-input-7-1b3d9e9e2b24>\u001b[0m in \u001b[0;36m<module>\u001b[0;34m()\u001b[0m\n\u001b[1;32m      5\u001b[0m \u001b[0;32mtry\u001b[0m\u001b[0;34m:\u001b[0m\u001b[0;34m\u001b[0m\u001b[0m\n\u001b[1;32m      6\u001b[0m     \u001b[0;32mfor\u001b[0m \u001b[0mproject_id\u001b[0m \u001b[0;32min\u001b[0m \u001b[0mrange\u001b[0m\u001b[0;34m(\u001b[0m\u001b[0mskip_to\u001b[0m\u001b[0;34m,\u001b[0m \u001b[0mend_with\u001b[0m \u001b[0;34m+\u001b[0m \u001b[0;36m1\u001b[0m\u001b[0;34m)\u001b[0m\u001b[0;34m:\u001b[0m\u001b[0;34m\u001b[0m\u001b[0m\n\u001b[0;32m----> 7\u001b[0;31m         \u001b[0mwrite_coeditor_tsv\u001b[0m\u001b[0;34m(\u001b[0m\u001b[0mproject_id\u001b[0m\u001b[0;34m,\u001b[0m \u001b[0mexp\u001b[0m\u001b[0;34m)\u001b[0m\u001b[0;34m\u001b[0m\u001b[0m\n\u001b[0m\u001b[1;32m      8\u001b[0m         \u001b[0;31m#clear_coeditor(project_id, log)\u001b[0m\u001b[0;34m\u001b[0m\u001b[0;34m\u001b[0m\u001b[0m\n\u001b[1;32m      9\u001b[0m \u001b[0;32mexcept\u001b[0m\u001b[0;34m:\u001b[0m\u001b[0;34m\u001b[0m\u001b[0m\n",
        "\u001b[0;32m<ipython-input-6-87d4e215009d>\u001b[0m in \u001b[0;36mwrite_coeditor_tsv\u001b[0;34m(project_id, exp)\u001b[0m\n\u001b[1;32m     12\u001b[0m         \u001b[0mtable\u001b[0m \u001b[0;34m=\u001b[0m \u001b[0mcontributor_table\u001b[0m\u001b[0;34m(\u001b[0m\u001b[0mproject_id\u001b[0m\u001b[0;34m)\u001b[0m\u001b[0;34m.\u001b[0m\u001b[0m__table__\u001b[0m\u001b[0;34m\u001b[0m\u001b[0m\n\u001b[1;32m     13\u001b[0m         \u001b[0msel\u001b[0m \u001b[0;34m=\u001b[0m \u001b[0mselect\u001b[0m\u001b[0;34m(\u001b[0m\u001b[0;34m[\u001b[0m\u001b[0mfunc\u001b[0m\u001b[0;34m.\u001b[0m\u001b[0mcount\u001b[0m\u001b[0;34m(\u001b[0m\u001b[0mtable\u001b[0m\u001b[0;34m.\u001b[0m\u001b[0mc\u001b[0m\u001b[0;34m.\u001b[0m\u001b[0minternal_id\u001b[0m\u001b[0;34m)\u001b[0m\u001b[0;34m]\u001b[0m\u001b[0;34m)\u001b[0m\u001b[0;34m\u001b[0m\u001b[0m\n\u001b[0;32m---> 14\u001b[0;31m         \u001b[0mtotal\u001b[0m \u001b[0;34m=\u001b[0m \u001b[0mconn\u001b[0m\u001b[0;34m.\u001b[0m\u001b[0mexecute\u001b[0m\u001b[0;34m(\u001b[0m\u001b[0msel\u001b[0m\u001b[0;34m)\u001b[0m\u001b[0;34m.\u001b[0m\u001b[0mnext\u001b[0m\u001b[0;34m(\u001b[0m\u001b[0;34m)\u001b[0m\u001b[0;34m[\u001b[0m\u001b[0;36m0\u001b[0m\u001b[0;34m]\u001b[0m\u001b[0;34m\u001b[0m\u001b[0m\n\u001b[0m\u001b[1;32m     15\u001b[0m         \u001b[0mlog\u001b[0m\u001b[0;34m.\u001b[0m\u001b[0minfo\u001b[0m\u001b[0;34m(\u001b[0m\u001b[0;34m\"  Found %d rows\"\u001b[0m \u001b[0;34m%\u001b[0m \u001b[0mtotal\u001b[0m\u001b[0;34m)\u001b[0m\u001b[0;34m\u001b[0m\u001b[0m\n\u001b[1;32m     16\u001b[0m         \u001b[0;32mwith\u001b[0m \u001b[0mopen\u001b[0m\u001b[0;34m(\u001b[0m\u001b[0mfname\u001b[0m\u001b[0;34m,\u001b[0m \u001b[0;34m\"wb\"\u001b[0m\u001b[0;34m)\u001b[0m \u001b[0;32mas\u001b[0m \u001b[0mf\u001b[0m\u001b[0;34m:\u001b[0m\u001b[0;34m\u001b[0m\u001b[0m\n",
        "\u001b[0;31mAttributeError\u001b[0m: 'ResultProxy' object has no attribute 'next'"
       ]
      }
     ],
     "prompt_number": 7
    },
    {
     "cell_type": "code",
     "collapsed": false,
     "input": [],
     "language": "python",
     "metadata": {},
     "outputs": []
    }
   ],
   "metadata": {}
  }
 ]
}