{
 "cells": [
  {
   "cell_type": "code",
   "execution_count": null,
   "metadata": {
    "collapsed": false
   },
   "outputs": [],
   "source": [
    "import calendar\n",
    "import datetime\n",
    "import json\n",
    "import numpy as np\n",
    "from matplotlib import pyplot as plt\n",
    "import pandas as pd\n",
    "import scipy.stats as spstats\n",
    "from sqlalchemy import distinct, func, select, sql\n",
    "import database\n",
    "from database.schema import Rating, revision_table\n",
    "import logbook"
   ]
  },
  {
   "cell_type": "code",
   "execution_count": null,
   "metadata": {
    "collapsed": false
   },
   "outputs": [],
   "source": [
    "exp_name = \"24i_find_imp_controls\"\n",
    "exp = logbook.Experiment(exp_name)\n",
    "project_file = \"data/projects-2016-10-14-dedup.json\"\n",
    "out_file = \"controls.csv\""
   ]
  },
  {
   "cell_type": "code",
   "execution_count": null,
   "metadata": {
    "collapsed": false
   },
   "outputs": [],
   "source": [
    "project_ids = []\n",
    "with open(project_file, \"rb\") as f:\n",
    "    for row in f:\n",
    "        data = json.loads(row)\n",
    "        project_ids.append(data[\"project_id\"])"
   ]
  },
  {
   "cell_type": "code",
   "execution_count": null,
   "metadata": {
    "collapsed": false
   },
   "outputs": [],
   "source": [
    "conn = database.engine.connect()\n",
    "try:\n",
    "    timestamps = {}\n",
    "    article_count = {}\n",
    "    contributor_count = {}\n",
    "    revision_count = {}\n",
    "    article_age = {}\n",
    "    mean_editors = {}\n",
    "    most_recent_timestamp = None\n",
    "    for project_id in project_ids:\n",
    "        tab = revision_table(project_id).__table__\n",
    "        # Revision count\n",
    "        stmt = select([func.count(tab.c.internal_id)]) \\\n",
    "            .where(tab.c.important == True)\n",
    "        result = conn.execute(stmt)\n",
    "        count = result.fetchone()[0]\n",
    "        if (count == 0):\n",
    "            continue\n",
    "        revision_count[project_id] = count\n",
    "        # Article count\n",
    "        stmt = select([func.count(distinct(tab.c.article_id))]) \\\n",
    "            .where(tab.c.important == True)        \n",
    "        result = conn.execute(stmt)\n",
    "        article_count[project_id] = result.fetchone()[0]\n",
    "        # Total editor count\n",
    "        stmt = select([func.count(distinct(tab.c.contributor_id))])\n",
    "            .where(tab.c.important == True)\n",
    "        result = conn.execute(stmt)\n",
    "        contributor_count[project_id] = result.fetchone()[0]\n",
    "        # Editors per article\n",
    "        stmt = select([func.count(distinct(tab.c.contributor_id))]) \\\n",
    "            .group_by(tab.c.article_id) \\\n",
    "            .where(tab.c.important == True)\n",
    "        result = conn.execute(stmt)\n",
    "        count = 0\n",
    "        total = 0\n",
    "        for row in result:\n",
    "            count += 1\n",
    "            total += row[0]\n",
    "        mean_editors[project_id] = float(total) / float(count)\n",
    "        # Article age\n",
    "        first_ts = func.min(tab.c.timestamp).label(\"first\")\n",
    "        subq = select([first_ts]) \\\n",
    "            .group_by(tab.c.article_id).alias('subq') \\\n",
    "            .where(tab.c.important == True)\n",
    "        stmt = select([subq.c.first])\n",
    "        result = conn.execute(stmt)\n",
    "        article_age[project_id] = result.fetchone()[0]\n",
    "        # Get most recent timestamp in project for age calcluation\n",
    "        stmt = select([func.max(tab.c.timestamp)]) \\\n",
    "            .where(tab.c.important == True)\n",
    "        result = conn.execute(stmt)\n",
    "        ts = result.fetchone()[0]\n",
    "        if most_recent_timestamp is None or ts > most_recent_timestamp:\n",
    "            most_recent_timestamp = ts\n",
    "        # Get earliest rating\n",
    "        tab = Rating.__table__\n",
    "        stmt = select([tab.c.timestamp]) \\\n",
    "            .where(\n",
    "                sql.and_(\n",
    "                    tab.c.project_id == project_id\n",
    "                    tab.c.important == True)) \\\n",
    "            .order_by(tab.c.timestamp).limit(1)\n",
    "        result = conn.execute(stmt)\n",
    "        try:\n",
    "            timestamps[project_id] = result.fetchone()[0]\n",
    "        except TypeError:\n",
    "            pass\n",
    "    # Change datetime to age in seconds\n",
    "    for project_id in project_ids:\n",
    "        try:\n",
    "            article_age[project_id] = most_recent_timestamp - article_age[project_id]\n",
    "        except KeyError:\n",
    "            pass\n",
    "finally:\n",
    "    conn.close()"
   ]
  },
  {
   "cell_type": "code",
   "execution_count": null,
   "metadata": {
    "collapsed": false
   },
   "outputs": [],
   "source": [
    "df_control = pd.DataFrame({\n",
    "    'project_id':dict([(x,x) for x in project_ids]),\n",
    "    'first_assessment':timestamps,\n",
    "    'article_count':article_count,\n",
    "    'contributor_count':contributor_count,\n",
    "    'revision_count':revision_count,\n",
    "    'mean_article_age':article_age,\n",
    "    'mean_editors':mean_editors})\n",
    "df_control = df_control.set_index('project_id')\n",
    "df_control.to_csv(exp.get_filename(out_file))"
   ]
  },
  {
   "cell_type": "code",
   "execution_count": null,
   "metadata": {
    "collapsed": false
   },
   "outputs": [],
   "source": []
  }
 ],
 "metadata": {
  "kernelspec": {
   "display_name": "Python 2",
   "language": "python",
   "name": "python2"
  },
  "language_info": {
   "codemirror_mode": {
    "name": "ipython",
    "version": 2
   },
   "file_extension": ".py",
   "mimetype": "text/x-python",
   "name": "python",
   "nbconvert_exporter": "python",
   "pygments_lexer": "ipython2",
   "version": "2.7.6"
  }
 },
 "nbformat": 4,
 "nbformat_minor": 0
}
