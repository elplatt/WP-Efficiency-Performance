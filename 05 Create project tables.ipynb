{
 "metadata": {
  "name": ""
 },
 "nbformat": 3,
 "nbformat_minor": 0,
 "worksheets": [
  {
   "cells": [
    {
     "cell_type": "code",
     "collapsed": false,
     "input": [
      "import json\n",
      "import sqlalchemy\n",
      "from sqlalchemy.exc import IntegrityError\n",
      "from sqlalchemy.orm import sessionmaker"
     ],
     "language": "python",
     "metadata": {},
     "outputs": [],
     "prompt_number": 4
    },
    {
     "cell_type": "code",
     "collapsed": false,
     "input": [
      "project_file = \"data/articles-projects.json\""
     ],
     "language": "python",
     "metadata": {},
     "outputs": [],
     "prompt_number": 5
    },
    {
     "cell_type": "code",
     "collapsed": false,
     "input": [
      "import database\n",
      "from database.schema import (\n",
      "    revision_table\n",
      ")"
     ],
     "language": "python",
     "metadata": {},
     "outputs": [],
     "prompt_number": 6
    },
    {
     "cell_type": "code",
     "collapsed": false,
     "input": [
      "revision_shards = {}\n",
      "with open(project_file, 'rb') as f:\n",
      "    for i, row in enumerate(f):\n",
      "        data = json.loads(row)\n",
      "        project_id = data['project_id']\n",
      "        print \"%d: %s\" % (i, data['project_name'])\n",
      "        t = revision_table(project_id)\n",
      "        revision_shards[project_id] = t"
     ],
     "language": "python",
     "metadata": {},
     "outputs": [
      {
       "output_type": "stream",
       "stream": "stdout",
       "text": [
        "0: Wikipedia:WikiProject Electronics\n",
        "1: Wikipedia:WikiProject Beauty Pageants\n",
        "2: Wikipedia:WikiProject National Football League/Tampa Bay Buccaneers subproject\n",
        "3: Wikipedia:WikiProject Colorado road transport\n",
        "4: People and culture of Ethiopia\n",
        "5: Wikipedia:WikiProject Crime fiction task force"
       ]
      },
      {
       "output_type": "stream",
       "stream": "stdout",
       "text": [
        "\n",
        "6: York Museums Trust-related\n",
        "7: Wikipedia:WikiProject Geocaching\n",
        "8: Wikipedia:WikiProject Fantasy fiction\n",
        "9: Climbing\n",
        "10: Wikipedia:WikiProject Uganda\n",
        "11: United States Territories\n",
        "12: Wikipedia:WikiProject Occult\n",
        "13: Wikipedia:WikiProject Christianity/Jesus work group\n",
        "14: Wikipedia:WikiProject Socialism\n",
        "15: Wikipedia:WikiProject Christmas"
       ]
      },
      {
       "output_type": "stream",
       "stream": "stdout",
       "text": [
        "\n",
        "16: US State Legislatures\n",
        "17: Wikipedia:WikiProject London\n",
        "18: Wikipedia:WikiProject Music venues\n",
        "19: Smithsonian Institution-related\n",
        "20: Bacon\n",
        "21: Israel Museum, Jerusalem\n",
        "22: Wikipedia:WikiProject Video games/Blizzard\n",
        "23: Wikipedia:WikiProject Nevada"
       ]
      },
      {
       "output_type": "stream",
       "stream": "stdout",
       "text": [
        "\n",
        "24: Wikipedia:WikiProject Animation/Computer animation work group\n",
        "25: Wikipedia:WikiProject Statistics\n",
        "26: Military science\n",
        "27: Wikipedia:WikiProject Pennsylvania State University\n",
        "28: Colonialism\n",
        "29: Wikipedia:WikiProject Explosives\n",
        "30: Wikipedia:WikiProject Food and drink/Beverages Task Force\n",
        "31: Wikipedia:WikiProject Westerns\n",
        "32: Wikipedia:WikiProject Freemasonry\n",
        "33: Wikipedia:WikiProject New Mexico\n",
        "34: Wikipedia:WikiProject Dogs\n",
        "35: Wikipedia:WikiProject Military history/Military historiography task force"
       ]
      },
      {
       "output_type": "stream",
       "stream": "stdout",
       "text": [
        "\n",
        "36: Wikipedia:WikiProject Niue\n",
        "37: Wikipedia:WikiProject Human rights\n",
        "38: Wikipedia:WikiProject Green Bay Packers\n",
        "39: Wikipedia:WikiProject Ayyavazhi\n",
        "40: Pipe organ\n",
        "41: Wikipedia:WikiProject Central Asia\n",
        "42: Wikipedia:WikiProject Holiness Movement\n",
        "43: Public Art"
       ]
      },
      {
       "output_type": "stream",
       "stream": "stdout",
       "text": [
        "\n",
        "44: Wikipedia:WikiProject Persepolis F.C.\n",
        "45: Wikipedia:WikiProject Women's History\n",
        "46: JoburgpediA-related\n",
        "47: Wikipedia:WikiProject Merseyside\n",
        "48: Wikipedia:WikiProject Non-tropical storms\n",
        "49: Wikipedia:WikiProject China"
       ]
      },
      {
       "output_type": "stream",
       "stream": "stdout",
       "text": [
        "\n",
        "50: Wikipedia:WikiProject South America\n",
        "51: Wikipedia:WikiProject Biota of Great Britain and Ireland\n",
        "52: Wikipedia:WikiProject Reggae\n",
        "53: Wikipedia:WikiProject Novels/Chronicles of Narnia task force\n",
        "54: Northern Virginia\n",
        "55: Wikipedia:WikiProject Softball\n",
        "56: Wikipedia:WikiProject American Samoa\n",
        "57: Wikipedia:WikiProject Darts\n",
        "58: Wikipedia:WikiProject Andorra\n",
        "59: Eastern Washington task force\n",
        "60: Wikipedia:WikiProject Brazil/History of Brazil task force\n",
        "61: Wikipedia:WikiProject Geography of Canada"
       ]
      },
      {
       "output_type": "stream",
       "stream": "stdout",
       "text": [
        "\n",
        "62: Wikipedia:WikiProject District of Columbia road transport\n",
        "63: Wikipedia:WikiProject Sharks\n",
        "64: Wikipedia:WikiProject Mecca\n",
        "65: Wikipedia:WikiProject Military history/American Revolutionary War task force\n",
        "66: United States presidential elections\n",
        "67: Cephalopod\n",
        "68: Eastern Mountain Coal Fields task force\n",
        "69: Wikipedia:WikiProject Micronations\n",
        "70: Wikipedia:WikiProject Websites\n",
        "71: Wikipedia:WikiProject Northern Ireland\n",
        "72: Wikipedia:WikiProject Herefordshire\n",
        "73: Wikipedia:WikiProject Montenegro\n",
        "74: Wikipedia:WikiProject Fire Service"
       ]
      },
      {
       "output_type": "stream",
       "stream": "stdout",
       "text": [
        "\n",
        "75: Wikipedia:WikiProject Musical Instruments\n",
        "76: Wikipedia:WikiProject Films/Canadian cinema task force\n",
        "77: Wikipedia:WikiProject Sex work\n",
        "78: Wikipedia:WikiProject Bangladesh\n",
        "79: Wikipedia:WikiProject United Arab Emirati history\n",
        "80: Wikipedia:WikiProject Meteorology\n",
        "81: Wikipedia:WikiProject Middle-earth\n",
        "82: Wikipedia:WikiProject Russia"
       ]
      },
      {
       "output_type": "stream",
       "stream": "stdout",
       "text": [
        "\n",
        "83: Wikipedia:WikiProject Highways/Oceania\n",
        "84: Wikipedia:WikiProject South Australia\n",
        "85: Wikipedia:WikiProject Comedy\n",
        "86: Blu-ray\n",
        "87: Wikipedia:WikiProject Michigan/Detroit\n",
        "88: Russia (performing arts)\n",
        "89: Derby Museum and Art Gallery-related\n",
        "90: Wikipedia:WikiProject Good Charlotte\n",
        "91: Wikipedia:WikiProject Primates\n",
        "92: Wikipedia:WikiProject Mathematics Competitions\n",
        "93: Libraries\n",
        "94: Wikipedia:WikiProject Lakshadweep\n",
        "95: Wikipedia:WikiProject Terrorism"
       ]
      },
      {
       "output_type": "stream",
       "stream": "stdout",
       "text": [
        "\n",
        "96: U.S. counties\n",
        "97: Wikipedia:WikiProject SFBA\n",
        "98: Wikipedia:WikiProject Mills\n",
        "99: Wikipedia:WikiProject U.S. Roads/Illinois\n",
        "100: Wikipedia:WikiProject Tamil Eelam\n",
        "101: Globalization\n",
        "102: Wikipedia:WikiProject Brighton\n",
        "103: Marxism\n",
        "104: Wikipedia:WikiProject Middle Ages\n",
        "105: Wikipedia:WikiProject Mississippi road transport\n",
        "106: Australian road transport"
       ]
      },
      {
       "output_type": "stream",
       "stream": "stdout",
       "text": [
        "\n",
        "107: Wikipedia:WikiProject Wikipedia-Books\n",
        "108: Messianic Judaism\n",
        "109: Indian military history\n",
        "110: Miles Davis\n",
        "111: Wikipedia:WikiProject Hello! Project\n",
        "112: Wikipedia:WikiProject Delhi\n",
        "113: Wikipedia:WikiProject Kansas\n",
        "114: Wikipedia:WikiProject Brazil"
       ]
      },
      {
       "output_type": "stream",
       "stream": "stdout",
       "text": [
        "\n",
        "115: Swami Vivekananda\n",
        "116: Wikipedia:WikiProject Tennessee\n",
        "117: Wikipedia:WikiProject Disability\n",
        "118: Wikipedia:WikiProject Southeast Asia/Brunei work group\n",
        "119: Wikipedia:WikiProject Australian literature\n",
        "120: Hungarian sports\n",
        "121: Wikipedia:WikiProject Western Asia\n",
        "122: Wikipedia:WikiProject Media\n",
        "123: Wikipedia:WikiProject Venezuela"
       ]
      },
      {
       "output_type": "stream",
       "stream": "stdout",
       "text": [
        "\n",
        "124: Wikipedia:WikiProject Ships\n",
        "125: Wikipedia:WikiProject Munich\n",
        "126: Alphabet\n",
        "127: Wikipedia:WikiProject Latin music/Tropical music\n",
        "128: Wikipedia:WikiProject Anglicanism\n",
        "129: Wikipedia:WikiProject U.S. Interstate Highways\n",
        "130: Wikipedia:WikiProject Chinese-language entertainment"
       ]
      },
      {
       "output_type": "stream",
       "stream": "stdout",
       "text": [
        "\n",
        "131: Wikipedia:WikiProject Philosophy/Aesthetics\n",
        "132: Wikipedia:WikiProject Swaziland\n",
        "133: Wikipedia:WikiProject Massachusetts state highways\n",
        "134: Wikipedia:WikiProject Faroe Islands\n",
        "135: Wikipedia:WikiProject Minnesota Vikings\n",
        "136: Wikipedia:WikiProject Belgrade\n",
        "137: Wikipedia:WikiProject Egyptian Religion"
       ]
      },
      {
       "output_type": "stream",
       "stream": "stdout",
       "text": [
        "\n",
        "138: Wikipedia:WikiProject Methodism work group\n",
        "139: Wikipedia:WikiProject Tunisia\n",
        "140: Wikipedia:WikiProject Montreal\n",
        "141: Wikipedia:WikiProject Figure Skating\n",
        "142: Wikipedia:WikiProject Quebec\n",
        "143: Wikipedia:WikiProject Comics/European comics work group\n",
        "144: Wikipedia:WikiProject Spectroscopy\n",
        "145: Librarians\n",
        "146: Wikipedia:WikiProject Samoa\n",
        "147: Wikipedia:WikiProject Theatre"
       ]
      },
      {
       "output_type": "stream",
       "stream": "stdout",
       "text": [
        "\n",
        "148: Latin American military history\n",
        "149: Wikipedia:WikiProject Monotremes and marsupials\n",
        "150: Wikipedia:WikiProject Birds\n",
        "151: Wikipedia:WikiProject Paintball\n",
        "152: Wikipedia:WikiProject Tirana\n",
        "153: Shakira\n",
        "154: Wikipedia:WikiProject Fungi\n",
        "155: Hong Kong road transport"
       ]
      },
      {
       "output_type": "stream",
       "stream": "stdout",
       "text": [
        "\n",
        "156: Wikipedia:WikiProject Protected areas of India\n",
        "157: Wikipedia:WikiProject University of Houston\n",
        "158: Wikipedia:WikiProject Germany/GDR task force\n",
        "159: Wikipedia:WikiProject Video games/Nintendo\n",
        "160: Wikipedia:WikiProject East Carolina University\n",
        "161: Wikipedia:WikiProject Santa Barbara County\n",
        "162: Wikipedia:WikiProject Military history/Review\n",
        "163: Feminism\n",
        "164: WP:GLAM/Pritzker\n",
        "165: Wikipedia:WikiProject Novels"
       ]
      },
      {
       "output_type": "stream",
       "stream": "stdout",
       "text": [
        "\n",
        "166: Wikipedia:WikiProject Christian music/Contemporary Christian music\n",
        "167: Wikipedia:WikiProject Kansas State Highways\n",
        "168: Wikipedia:WikiProject Barack Obama\n",
        "169: Wikipedia:WikiProject Houston\n",
        "170: South Korea-related\n",
        "171: Cedar Fair Entertainment Company\n",
        "172: Wikipedia:WikiProject Algae\n",
        "173: Wikipedia:WikiProject Antarctica/Brazilian Antarctica work group\n",
        "174: Wikipedia:WikiProject U.S. Congress\n",
        "175: Wikipedia:WikiProject Films/Spanish cinema task force"
       ]
      },
      {
       "output_type": "stream",
       "stream": "stdout",
       "text": [
        "\n",
        "176: Wikipedia:WikiProject Computer graphics\n",
        "177: Wikipedia:WikiProject Military history"
       ]
      },
      {
       "output_type": "stream",
       "stream": "stdout",
       "text": [
        "\n",
        "178: Wikipedia:WikiProject Saivism\n",
        "179: Conan O'Brien\n",
        "180: Wikipedia:WikiProject Lincolnshire\n",
        "181: Wikipedia:WikiProject China/Transportation task force\n",
        "182: Wikipedia:WikiProject Roads in Maryland\n",
        "183: Wikipedia:WikiProject Wyoming\n",
        "184: Women's basketball\n",
        "185: Wikipedia:WikiProject Biathlon\n",
        "186: Wikipedia:WikiProject Michigan"
       ]
      },
      {
       "output_type": "stream",
       "stream": "stdout",
       "text": [
        "\n",
        "187: Systemic functional linguistics\n",
        "188: Wikipedia:WikiProject Romania\n",
        "189: Wikipedia:WikiProject Erie\n",
        "190: Wikipedia:WikiProject Nickelodeon/Nicktoons task force\n",
        "191: U.S. Presidents\n",
        "192: Wikipedia:WikiProject Wisconsin Highways\n",
        "193: Wikipedia:WikiProject Hampshire\n",
        "194: Stanford University\n",
        "195: Wikipedia:WikiProject England"
       ]
      },
      {
       "output_type": "stream",
       "stream": "stdout",
       "text": [
        "\n",
        "196: Wikipedia:WikiProject Mixed martial arts\n",
        "197: CHERUB and Henderson's Boys\n",
        "198: Wikipedia:WikiProject Hudson Valley\n",
        "199: Wikipedia:WikiProject Podcasting\n",
        "200: Museum of Modern Art-related\n",
        "201: Pirate politics\n",
        "202: Wikipedia:WikiProject Cricket/Women's cricket task force\n",
        "203: Wikipedia:WikiProject United Arab Emirati politics\n",
        "204: Wikipedia:WikiProject Films/Korean cinema task force\n",
        "205: Wikipedia:WikiProject The Kinks"
       ]
      },
      {
       "output_type": "stream",
       "stream": "stdout",
       "text": [
        "\n",
        "206: C/C++\n",
        "207: Wikipedia:WikiProject Toronto\n",
        "208: South Asian military history\n",
        "209: Wikipedia:WikiProject Africa/Saint Helena work group\n",
        "210: Wikipedia:WikiProject Iran"
       ]
      },
      {
       "output_type": "stream",
       "stream": "stdout",
       "text": [
        "\n",
        "211: Wikipedia:WikiProject Sicily\n",
        "212: Wikipedia:WikiProject Martial arts\n",
        "213: Wikipedia:WikiProject Philippine History\n",
        "214: Stanford Athletics\n",
        "215: South American military history\n",
        "216: Wikipedia:WikiProject Military history/African military history task force\n",
        "217: Wikipedia:WikiProject Comics/Webcomics work group\n",
        "218: Cognitive science\n",
        "219: Adele\n",
        "220: Wikipedia:WikiProject Animation/Machinima work group"
       ]
      },
      {
       "output_type": "stream",
       "stream": "stdout",
       "text": [
        "\n",
        "221: Wikipedia:WikiProject Wallis and Futuna\n",
        "222: Wikipedia:WikiProject Highways/Asia\n",
        "223: Wikipedia:WikiProject Jewish Christianity\n",
        "224: Dyslexia\n",
        "225: Wikipedia:WikiProject Capital District\n",
        "226: Wikipedia:WikiProject Robotics\n",
        "227: Wikipedia:WikiProject Malaysia\n",
        "228: Wikipedia:WikiProject Kent\n",
        "229: Wikipedia:WikiProject Louisiana\n",
        "230: Wikipedia:WikiProject Uttar Pradesh\n",
        "231: Unitarian Universalism\n",
        "232: Wikipedia:WikiProject Classical League"
       ]
      },
      {
       "output_type": "stream",
       "stream": "stdout",
       "text": [
        "\n",
        "233: Wikipedia:WikiProject Central America/Costa Rica work group\n",
        "234: Wikipedia:WikiProject Missouri\n",
        "235: Wikipedia:WikiProject Christianity/Syriac Christianity work group\n",
        "236: Wikipedia:WikiProject Buddhism\n",
        "237: Wikipedia:WikiProject Pennsylvania\n",
        "238: Wikipedia:WikiProject Lighthouses\n"
       ]
      },
      {
       "output_type": "stream",
       "stream": "stdout",
       "text": [
        "239: Wikipedia:WikiProject Criminal Biography/Serial Killer task force\n",
        "240: Wikipedia:WikiProject Medicine/Medical genetics task force\n",
        "241: Wikipedia:WikiProject UK Trams\n",
        "242: Wikipedia:WikiProject Turkey\n",
        "243: Wikipedia:WikiProject Mountains of the Alps\n",
        "244: Wikipedia:WikiProject Peerage and Baronetage\n",
        "245: Wikipedia:WikiProject Rajasthan"
       ]
      },
      {
       "output_type": "stream",
       "stream": "stdout",
       "text": [
        "\n",
        "246: Wikipedia:WikiProject Short story task force\n",
        "247: Wikipedia:WikiProject European Microstates/Vatican City work group\n",
        "248: Wikipedia:WikiProject Film"
       ]
      },
      {
       "output_type": "stream",
       "stream": "stdout",
       "text": [
        "\n",
        "249: Wikipedia:WikiProject Military history/World War I task force\n",
        "250: Wikipedia:WikiProject Bell System\n",
        "251: Wikipedia:WikiProject Animation/European animation work group\n",
        "252: Russia (sports and games)\n",
        "253: Wikipedia:WikiProject Seinfeld\n",
        "254: Wikipedia:WikiProject Woodworking\n",
        "255: Wikipedia:WikiProject Films/Christian films task force\n",
        "256: Wikipedia:WikiProject College Ice Hockey task force"
       ]
      },
      {
       "output_type": "stream",
       "stream": "stdout",
       "text": [
        "\n",
        "257: Wikipedia:WikiProject Video games/Indie\n",
        "258: Wikipedia:WikiProject Republika Srpska\n",
        "259: Wikipedia:WikiProject Swaminarayan\n",
        "260: Wikipedia:WikiProject Pakistan\n",
        "261: Wikipedia:WikiProject Kansas City\n",
        "262: Wikipedia:WikiProject Pok\u00c3\u00a9mon\n",
        "263: Wikipedia:WikiProject Washington Metro\n",
        "264: Yoruba\n",
        "265: Wikipedia:WikiProject History of Canada\n",
        "266: Biophysics\n",
        "267: Meteorites"
       ]
      },
      {
       "output_type": "stream",
       "stream": "stdout",
       "text": [
        "\n",
        "268: Wikipedia:WikiProject Christian music\n",
        "269: Bibliographies\n",
        "270: Wikipedia:WikiProject Physics/Taskforces/Relativity\n",
        "271: Wikipedia:WikiProject San Diego Padres\n",
        "272: Wikipedia:WikiProject Paul McCartney\n",
        "273: Wikipedia:WikiProject Amusement Parks/Task Forces/Herschend\n",
        "274: Wikipedia:WikiProject Columbus Blue Jackets task force\n",
        "275: Wikipedia:WikiProject Software"
       ]
      },
      {
       "output_type": "stream",
       "stream": "stdout",
       "text": [
        "\n",
        "276: Wikipedia:WikiProject Home Living\n",
        "277: United States governors\n",
        "278: Wikipedia:WikiProject Warwickshire\n",
        "279: Jupiter\n",
        "280: Wikipedia:WikiProject Ireland\n",
        "281: Dutch municipalities"
       ]
      },
      {
       "output_type": "stream",
       "stream": "stdout",
       "text": [
        "\n",
        "282: National football team\n",
        "283: Hospital\n",
        "284: Glee\n",
        "285: Wikipedia:WikiProject Cleveland\n",
        "286: Wikipedia:WikiProject Films/Nordic cinema task force\n",
        "287: Wikipedia:WikiProject Seventh-day Adventist Church\n",
        "288: Wikipedia:WikiProject Television/The Amazing Race task force\n",
        "289: Wikipedia:WikiProject East Timor/Assessment\n",
        "290: Wikipedia:WikiProject Philosophy/Science\n",
        "291: Wikipedia:WikiProject Hawaii\n",
        "292: Wikipedia:WikiProject Engineering"
       ]
      },
      {
       "output_type": "stream",
       "stream": "stdout",
       "text": [
        "\n",
        "293: Wikipedia:WikiProject Media franchises\n",
        "294: Wikipedia:WikiProject U.S. Roads/Louisiana\n",
        "295: Wikipedia:WikiProject Botswana\n",
        "296: Wikipedia:WikiProject Africa/Spanish Africa work group\n",
        "297: Wikipedia:WikiProject Kabbalah\n",
        "298: Wikipedia:WikiProject Baseball Hall of Fame\n",
        "299: Wikipedia:WikiProject His Dark Materials task force\n",
        "300: Wikipedia:WikiProject Johnston Atoll\n",
        "301: Reggaeton\n",
        "302: Wikipedia:WikiProject Government of Canada"
       ]
      },
      {
       "output_type": "stream",
       "stream": "stdout",
       "text": [
        "\n",
        "303: Wikipedia:WikiProject Rave\n",
        "304: Wikipedia:WikiProject Television"
       ]
      },
      {
       "output_type": "stream",
       "stream": "stdout",
       "text": [
        "\n",
        "305: Wikipedia:WikiProject Vietnam\n",
        "306: Wikipedia:WikiProject Philosophy/Ethics\n",
        "307: Wikipedia:WikiProject Poland"
       ]
      },
      {
       "output_type": "stream",
       "stream": "stdout",
       "text": [
        "\n",
        "308: Wikipedia:WikiProject Sociology\n",
        "309: Wikipedia:WikiProject Archaeology\n",
        "310: Wikipedia:WikiProject Northern Territory\n",
        "311: Wikipedia:WikiProject NZR\n",
        "312: Wikipedia:WikiProject Politics/Political parties\n",
        "313: Wikipedia:WikiProject Cheshire\n",
        "314: Wikipedia:WikiProject Brazil/Sports in Brazil task force\n",
        "315: Wikipedia:WikiProject Football/Netherlands task force\n",
        "316: Wikipedia:WikiProject Melanesia"
       ]
      },
      {
       "output_type": "stream",
       "stream": "stdout",
       "text": [
        "\n",
        "317: Wikipedia:WikiProject Togo\n",
        "318: St. John's, Newfoundland and Labrador\n",
        "319: Earth science\n",
        "320: Wikipedia:WikiProject Youngstown\n",
        "321: Wikipedia:WikiProject Falun Gong\n",
        "322: Wikipedia:WikiProject Roots music/Chicago folk task force\n",
        "323: Wikipedia:WikiProject Football/D.C. United task force\n",
        "324: Wikipedia:WikiProject Philosophy/Eastern\n",
        "325: Wikipedia:WikiProject Benin\n",
        "326: Wikipedia:WikiProject Atlanta\n",
        "327: Wikipedia:WikiProject Guinea\n",
        "328: Wikipedia:WikiProject Italy"
       ]
      },
      {
       "output_type": "stream",
       "stream": "stdout",
       "text": [
        "\n",
        "329: Wikipedia:WikiProject Chile\n",
        "330: Wikipedia:WikiProject Thames\n",
        "331: Wikipedia:WikiProject Systems\n",
        "332: Wikipedia:WikiProject Panama\n",
        "333: Wikipedia:WikiProject United States/Hispanic and Latino Americans task force\n",
        "334: Wikipedia:WikiProject British Columbia\n",
        "335: Wikipedia:WikiProject U.S. auto trails\n",
        "336: Wikipedia:WikiProject Halo\n",
        "337: Wikipedia:WikiProject Animation/Canadian animation work group"
       ]
      },
      {
       "output_type": "stream",
       "stream": "stdout",
       "text": [
        "\n",
        "338: Wikipedia:WikiProject Military history/Italian military history task force\n",
        "339: Wikipedia:WikiProject Law & Order\n",
        "340: Wikipedia:WikiProject Mining\n",
        "341: Russia (demographics and ethnography)\n",
        "342: Yellowstone task force\n",
        "343: Wikipedia:WikiProject Former countries/AH task force\n",
        "344: Wikipedia:WikiProject Channel Islands\n",
        "345: Wikipedia:WikiProject Films/Chinese cinema task force\n",
        "346: Wikipedia:WikiProject Trains/Rail transport in Germany task force\n",
        "347: Wikipedia:WikiProject Newfoundland and Labrador\n",
        "348: Wikipedia:WikiProject South Park\n",
        "349: Wikipedia:WikiProject Animation/Family Guy work group"
       ]
      },
      {
       "output_type": "stream",
       "stream": "stdout",
       "text": [
        "\n",
        "350: Wikipedia:WikiProject Coronation Street\n",
        "351: Wikipedia:WikiProject University of Cambridge\n",
        "352: Illyria\n",
        "353: Wikipedia:WikiProject Equatorial Guinea\n",
        "354: Wikipedia:WikiProject Azawad\n",
        "355: Wikipedia:WikiProject Record Labels\n",
        "356: Visual novel\n",
        "357: Wikipedia:WikiProject Tripura\n",
        "358: Pakistani military history\n",
        "359: Wikipedia:WikiProject Religious Society of Friends (Quakers)"
       ]
      },
      {
       "output_type": "stream",
       "stream": "stdout",
       "text": [
        "\n",
        "360: Wikipedia:WikiProject Futures studies\n",
        "361: Wikipedia:WikiProject Neuroscience\n",
        "362: Wikipedia:WikiProject European history\n",
        "363: Wikipedia:WikiProject Spirits\n",
        "364: Wikipedia:WikiProject Marine life\n",
        "365: Wikipedia:WikiProject Gabon\n",
        "366: Wikipedia:WikiProject Afghanistan\n",
        "367: Tijuana\n",
        "368: Wikipedia:WikiProject Florida State Roads\n",
        "369: Wikipedia:WikiProject Canadian Territories\n",
        "370: Wikipedia:WikiProject Television Game Shows\n",
        "371: Wikipedia:WikiProject Constructed languages/Esperanto task force\n",
        "372: Wikipedia:WikiProject Australian law"
       ]
      },
      {
       "output_type": "stream",
       "stream": "stdout",
       "text": [
        "\n",
        "373: Wikipedia:WikiProject Occupations\n",
        "374: Wikipedia:WikiProject San Jose Sharks task force\n",
        "375: Vespidae\n",
        "376: Wikipedia:WikiProject Seattle Mariners\n",
        "377: Wikipedia:WikiProject Water sports\n",
        "378: Wikipedia:WikiProject Constructed languages\n",
        "379: Yoga\n",
        "380: Wikipedia:WikiProject Saint Lucia\n",
        "381: Wikipedia:WikiProject Alaska road transport\n",
        "382: Wikipedia:WikiProject NCSU\n",
        "383: Wikipedia:WikiProject Halloween\n",
        "384: Wikipedia:WikiProject Lucknow\n",
        "385: Wikipedia:WikiProject Medieval Scotland"
       ]
      },
      {
       "output_type": "stream",
       "stream": "stdout",
       "text": [
        "\n",
        "386: Wikipedia:WikiProject Football/Liverpool task force\n",
        "387: Wikipedia:WikiProject Canadian communities\n",
        "388: Wikipedia:WikiProject Asian Americans\n",
        "389: Wikipedia:WikiProject Moon\n",
        "390: Wikipedia:WikiProject South Asia"
       ]
      },
      {
       "output_type": "stream",
       "stream": "stdout",
       "text": [
        "\n",
        "391: Wikipedia:WikiProject NASCAR\n",
        "392: United States Public Policy\n",
        "393: Wikipedia:WikiProject House\n",
        "394: Wikipedia:WikiProject Taiwan\n",
        "395: Wikipedia:WikiProject Seattle\n",
        "396: Wikipedia:WikiProject James Bond\n",
        "397: Wikipedia:WikiProject Transformers\n",
        "398: Wikipedia:WikiProject Tasmania\n",
        "399: Wikipedia:WikiProject International development\n",
        "400: Wikipedia:WikiProject Politics/Liberalism\n",
        "401: Wikipedia:WikiProject Haryana"
       ]
      },
      {
       "output_type": "stream",
       "stream": "stdout",
       "text": [
        "\n",
        "402: Wikipedia:WikiProject Yugoslavia\n",
        "403: Wikipedia:WikiProject Greece\n",
        "404: Wikipedia:WikiProject Magic: The Gathering\n",
        "405: Wikipedia:WikiProject Saint Vincent and the Grenadines\n",
        "406: Wikipedia:WikiProject American football\n",
        "407: Wikipedia:WikiProject Michael Jackson\n",
        "408: Wikipedia:WikiProject Food and drink/Herbs and Spices task force\n",
        "409: Prem Rawat\n",
        "410: Wikipedia:WikiProject Burundi\n",
        "411: Wikipedia:WikiProject Indiana"
       ]
      },
      {
       "output_type": "stream",
       "stream": "stdout",
       "text": [
        "\n",
        "412: Wikipedia:WikiProject Interfaith\n",
        "413: Wikipedia:WikiProject Fishing\n",
        "414: Wikipedia:WikiProject World's Oldest People\n",
        "415: Wikipedia:WikiProject Babism\n",
        "416: Wikipedia:WikiProject Himachal Pradesh\n",
        "417: Wikipedia:WikiProject Football/Wales task force\n",
        "418: Wikipedia:WikiProject St. Louis Cardinals\n",
        "419: Wikipedia:WikiProject Seychelles\n",
        "420: Wikipedia:WikiProject Hong Kong\n",
        "421: Wikipedia:WikiProject Sri Lanka\n",
        "422: Wikipedia:WikiProject Glass"
       ]
      },
      {
       "output_type": "stream",
       "stream": "stdout",
       "text": [
        "\n",
        "423: Wikipedia:WikiProject City of Rome\n",
        "424: Wikipedia:WikiProject Star Wars\n",
        "425: Wikipedia:WikiProject Political parties and politicians in Canada\n",
        "426: Wikipedia:WikiProject Fiji\n",
        "427: Wikipedia:WikiProject Austin\n",
        "428: Wikipedia:WikiProject Chemistry\n",
        "429: Wikipedia:WikiProject Oklahoma State Highways\n",
        "430: Wikipedia:WikiProject Rivers"
       ]
      },
      {
       "output_type": "stream",
       "stream": "stdout",
       "text": [
        "\n",
        "431: Wikipedia:WikiProject Computer networking\n",
        "432: Wikipedia:WikiProject Doctor Who\n",
        "433: Wikipedia:WikiProject London Transport\n",
        "434: Essex\n",
        "435: Wikipedia:WikiProject Writing systems\n",
        "436: WikiProject Gloucestershire\n",
        "437: Wikipedia:WikiProject Armenia/Nagorno-Karabakh\n",
        "438: WikiProject Elections and Referendums"
       ]
      },
      {
       "output_type": "stream",
       "stream": "stdout",
       "text": [
        "\n",
        "439: Wikipedia:WikiProject Ice Hockey/Philadelphia Flyers task force\n",
        "440: Wikipedia:WikiProject Veterinary medicine\n",
        "441: Wikipedia:WikiProject Islam\n",
        "442: Wikipedia:WikiProject Football/Celtic F.C. task force\n",
        "443: Wikipedia:WikiProject Industrial\n",
        "444: Wikipedia:WikiProject Atheism\n",
        "445: WP:GLAM/AAA\n",
        "446: Wikipedia:WikiProject Islam/Sunni Islam task force\n",
        "447: Wikipedia:WikiProject Pornography"
       ]
      },
      {
       "output_type": "stream",
       "stream": "stdout",
       "text": [
        "\n",
        "448: Wikipedia:WikiProject Trucks\n",
        "449: Wikipedia:WikiProject Parliamentary Procedure\n",
        "450: Wikipedia:WikiProject West Bengal\n",
        "451: Wikipedia:WikiProject California/Los Angeles task force\n",
        "452: Wikipedia:WikiProject New Zealand/M\u00c4\u0081ori task force\n",
        "453: Wikipedia:WikiProject San Francisco 49ers\n",
        "454: Wikipedia:WikiProject Artemis Fowl\n",
        "455: Wikipedia:WikiProject Chennai\n",
        "456: Wikipedia:WikiProject Daman and Diu\n",
        "457: Theology\n",
        "458: Wikipedia:WikiProject History of photography"
       ]
      },
      {
       "output_type": "stream",
       "stream": "stdout",
       "text": [
        "\n",
        "459: Wikipedia:WikiProject Minnesota State Highways\n",
        "460: Wikipedia:WikiProject Sword of Truth task force\n",
        "461: Wikipedia:WikiProject Military history/Ottoman military history task force\n",
        "462: Wikipedia:WikiProject South Carolina\n",
        "463: Scottish castle\n",
        "464: Wikipedia:WikiProject Jharkhand\n",
        "465: Wikipedia:WikiProject European Microstates\n",
        "466: Wikipedia:WikiProject Transhumanism\n",
        "467: Wikipedia:WikiProject West Virginia"
       ]
      },
      {
       "output_type": "stream",
       "stream": "stdout",
       "text": [
        "\n",
        "468: Wikipedia:WikiProject Psychedelics, Dissociatives and Deliriants\n",
        "469: Wikipedia:WikiProject Games\n",
        "470: Wikipedia:WikiProject Lower Saxony\n",
        "471: Wikipedia:WikiProject Wight\n",
        "472: Wikipedia:WikiProject Manitoba\n",
        "473: Wikipedia:WikiProject Tokelau\n",
        "474: Wikipedia:WikiProject Alternative music/Pixies\n",
        "475: Wikipedia:WikiProject Football/Argentina task force\n",
        "476: Wikipedia:WikiProject Video games/Rockstar"
       ]
      },
      {
       "output_type": "stream",
       "stream": "stdout",
       "text": [
        "\n",
        "477: Wikipedia:WikiProject Abkhazia\n",
        "478: Wikipedia:WikiProject Emmerdale\n",
        "479: Espionage\n",
        "480: Russia (religion)\n",
        "481: Wikipedia:WikiProject Scouting\n",
        "482: Wikipedia:WikiProject Agriculture\n",
        "483: Wikipedia:WikiProject North Dakota road transport\n",
        "484: Wikipedia:WikiProject Charismatic Christianity\n",
        "485: Wikipedia:WikiProject Gemology and Jewelry\n",
        "486: Wikipedia:WikiProject Industrial design\n",
        "487: Running\n",
        "488: Wikipedia:WikiProject Volleyball"
       ]
      },
      {
       "output_type": "stream",
       "stream": "stdout",
       "text": [
        "\n",
        "489: Wikipedia:WikiProject Military history/Napoleonic era task force\n",
        "490: Wikipedia:WikiProject Metal\n",
        "491: Wikipedia:WikiProject Science pearls\n",
        "492: Wikipedia:WikiProject Basic Income\n",
        "493: Wikipedia:WikiProject Olympics"
       ]
      },
      {
       "output_type": "stream",
       "stream": "stdout",
       "text": [
        "\n",
        "494: Wikipedia:WikiProject Religion\n",
        "495: Wikipedia:WikiProject Little League\n",
        "496: Wikipedia:WikiProject South Africa\n",
        "497: Wikipedia:WikiProject Thelema\n",
        "498: Wikipedia:Help Project\n",
        "499: Wikipedia:WikiProject Athletics"
       ]
      },
      {
       "output_type": "stream",
       "stream": "stdout",
       "text": [
        "\n",
        "500: Wikipedia:WikiProject UK geography\n",
        "501: George Washington University-related\n",
        "502: Wikipedia:WikiProject Films/Soviet and post-Soviet cinema task force\n",
        "503: Wikipedia:WikiProject University of Oklahoma\n",
        "504: Wikipedia:Jewish Labour Bund Task Force\n",
        "505: Wikipedia:WikiProject Moldova/Chi\u00c5\u009fin\u00c4\u0083u task force\n",
        "506: Wikipedia:WikiProject Rugby league (State of Origin)\n",
        "507: Wikipedia:WikiProject Animation/Animated films work group\n",
        "508: Wikipedia:WikiProject Star Trek"
       ]
      },
      {
       "output_type": "stream",
       "stream": "stdout",
       "text": [
        "\n",
        "509: Wikipedia:WikiProject Wales\n",
        "510: Wikipedia:WikiProject Korn\n",
        "511: Wikipedia:WikiProject Japanese baseball\n",
        "512: Wikipedia:WikiProject Internet\n",
        "513: Wikipedia:WikiProject Bermuda\n",
        "514: Wikipedia:WikiProject Anguilla\n",
        "515: Wikipedia:WikiProject Skyscrapers\n",
        "516: Wikipedia:WikiProject Eastern Orthodoxy"
       ]
      },
      {
       "output_type": "stream",
       "stream": "stdout",
       "text": [
        "\n",
        "517: Wikipedia:WikiProject Brian Epstein\n",
        "518: Korean Mythology\n",
        "519: Wikipedia:WikiProject Indian television\n",
        "520: Wikipedia:WikiProject Astronomy\n",
        "521: French Overseas Departments"
       ]
      },
      {
       "output_type": "stream",
       "stream": "stdout",
       "text": [
        "\n",
        "522: Canada Roads\n",
        "523: Wikipedia:WikiProject Molecular and Cellular Biology\n",
        "524: Wikipedia:WikiProject Finance\n",
        "525: Wikipedia:WikiProject The KLF\n",
        "526: Wikipedia:WikiProject Mountain Biking\n",
        "527: Wikipedia:WikiProject New Hampshire\n",
        "528: Wikipedia:WikiProject Boston\n",
        "529: Wikipedia:WikiProject Sports"
       ]
      },
      {
       "output_type": "stream",
       "stream": "stdout",
       "text": [
        "\n",
        "530: Wikipedia:WikiProject Military history/British military history task force\n",
        "531: Wikipedia:WikiProject Geology\n",
        "532: Wikipedia:WikiProject Pharmacology\n",
        "533: Wikipedia:WikiProject Sikhism\n",
        "534: Paleontologist\n",
        "535: Wikipedia:WikiProject Football/France task force"
       ]
      },
      {
       "output_type": "stream",
       "stream": "stdout",
       "text": [
        "\n",
        "536: Wikipedia:WikiProject Animation/Web animation work group\n",
        "537: Canadian music\n",
        "538: Wikipedia:WikiProject New York City\n",
        "539: Wikipedia:WikiProject Military history/Maritime warfare task force"
       ]
      },
      {
       "output_type": "stream",
       "stream": "stdout",
       "text": [
        "\n",
        "540: Toronto Blue Jays\n",
        "541: Wikipedia:WikiProject Brazil/Arts in Brazil task force\n",
        "542: Queensland road transport\n",
        "543: Wikipedia:WikiProject Finland\n",
        "544: Wikipedia:WikiProject Comics\n",
        "545: Wikipedia:WikiProject Rugby league\n",
        "546: Wikipedia:WikiProject Animation/American animation work group"
       ]
      },
      {
       "output_type": "stream",
       "stream": "stdout",
       "text": [
        "\n",
        "547: Wikipedia:WikiProject Skateboarding\n",
        "548: Wikipedia:WikiProject Riverina\n",
        "549: Wikipedia:WikiProject Missouri State Highways\n",
        "550: Wikipedia:WikiProject U.S. Roads/U.S. Routes\n",
        "551: Wikipedia:WikiProject Boston Red Sox\n",
        "552: Wikipedia:WikiProject Culture\n",
        "553: Wikipedia:WikiProject Assam\n",
        "554: Wikipedia:WikiProject Medicine/Pathology task force\n",
        "555: Wikipedia:WikiProject Kansas City Chiefs\n",
        "556: Australia road transport\n",
        "557: Wikipedia:WikiProject Runes\n",
        "558: Wikipedia:WikiProject Karachi"
       ]
      },
      {
       "output_type": "stream",
       "stream": "stdout",
       "text": [
        "\n",
        "559: Wikipedia:WikiProject Science Fiction\n",
        "560: Wikipedia:WikiProject Delaware\n",
        "561: Wikipedia:WikiProject Alabama\n",
        "562: Wikipedia:WikiProject Football/Germany task force\n",
        "563: Wikipedia:WikiProject Philosophy/Analytic\n",
        "564: Wikipedia:WikiProject Big Brother\n",
        "565: Wikipedia:WikiProject French Guiana\n",
        "566: Wikipedia:WikiProject SUNY"
       ]
      },
      {
       "output_type": "stream",
       "stream": "stdout",
       "text": [
        "\n",
        "567: Wikipedia:WikiProject Business/Accounting task force\n",
        "568: Wikipedia:WikiProject Biology\n",
        "569: Wikipedia:WikiProject Guam road transport\n",
        "570: Roman Curia\n",
        "571: Wikipedia:WikiProject Food and drink/Desserts task force\n",
        "572: Wikipedia:WikiProject Mali\n",
        "573: Maine\n",
        "574: Wikipedia:WikiProject Films/Japanese cinema task force\n",
        "575: Wikipedia:WikiProject Perl\n",
        "576: Wikipedia:WikiProject Military history/Chinese military history task force\n",
        "577: Wikipedia:WikiProject Zoo"
       ]
      },
      {
       "output_type": "stream",
       "stream": "stdout",
       "text": [
        "\n",
        "578: Wikipedia:WikiProject Chinese politics\n",
        "579: American Open Wheel Racing\n",
        "580: Wikipedia:WikiProject Myanmar (Burma)\n",
        "581: Wikipedia:WikiProject Peru\n",
        "582: Wikipedia:WikiProject Football/Arsenal F.C. task force\n",
        "583: Wikipedia:WikiProject Montana road transport\n",
        "584: Wikipedia:WikiProject Guitarists/Buckethead task force\n",
        "585: Wikipedia:WikiProject Football/Taiwan task force\n",
        "586: Wikipedia:WikiProject Roller Coasters\n",
        "587: Wikipedia:WikiProject Korea/North Korea\n",
        "588: Fictional character"
       ]
      },
      {
       "output_type": "stream",
       "stream": "stdout",
       "text": [
        "\n",
        "589: Wikipedia:WikiProject The X-Files\n",
        "590: Wikipedia:WikiProject Puerto Rico road transport\n",
        "591: Wiki Loves Monuments 2011\n",
        "592: Northern Territory road transport\n",
        "593: Wikipedia:WikiProject September 11, 2001\n",
        "594: Wikipedia:WikiProject U.S. Supreme Court\n",
        "595: Wikipedia:WikiProject Sharjah\n",
        "596: Wikipedia:WikiProject Latin America\n",
        "597: Wikipedia:WikiProject Burkina Faso"
       ]
      },
      {
       "output_type": "stream",
       "stream": "stdout",
       "text": [
        "\n",
        "598: British Overseas Territories\n",
        "599: Epilepsy\n",
        "600: Wikipedia:WikiProject Georgia State Routes\n",
        "601: Wikipedia:WikiProject Films/American cinema task force\n",
        "602: Wikipedia:WikiProject Tibetan Buddhism\n",
        "603: Wikipedia:WikiProject Brigham Young University\n",
        "604: Wikipedia:WikiProject ESA\n",
        "605: Wikipedia:WikiProject Philosophy/Metaphysics\n",
        "606: Wikipedia:WikiProject European Union"
       ]
      },
      {
       "output_type": "stream",
       "stream": "stdout",
       "text": [
        "\n",
        "607: Australian Capital Territory road transport\n",
        "608: Wikipedia:WikiProject Florida State University\n",
        "609: Wikipedia:WikiProject Las Vegas\n",
        "610: Taylor Swift\n",
        "611: Wikipedia:WikiProject Kentucky State Highways\n",
        "612: Wikipedia:WikiProject Color\n",
        "613: Wikipedia:WikiProject Spirituality\n",
        "614: Wikipedia:WikiProject IRC\n",
        "615: Wikipedia:WikiProject Military history/Military biography task force"
       ]
      },
      {
       "output_type": "stream",
       "stream": "stdout",
       "text": [
        "\n",
        "616: Wikipedia:WikiProject Tennis\n",
        "617: Wikipedia:WikiProject Ontario Roads\n",
        "618: Wikipedia:WikiProject Moldova\n",
        "619: Merlin Entertainments\n",
        "620: Wikipedia:WikiProject Polynesia"
       ]
      },
      {
       "output_type": "stream",
       "stream": "stdout",
       "text": [
        "\n",
        "621: Wikipedia:WikiProject Scotland\n",
        "622: African protected areas\n",
        "623: Wikipedia:WikiProject International relations\n",
        "624: Wikipedia:WikiProject Mauritania\n",
        "625: Wikipedia:WikiProject New Zealand"
       ]
      },
      {
       "output_type": "stream",
       "stream": "stdout",
       "text": [
        "\n",
        "626: Wikipedia:WikiProject Technology\n",
        "627: Wikipedia:WikiProject Chinese surnames\n",
        "628: Wikipedia:WikiProject Ringo Starr\n",
        "629: Wikipedia:WikiProject Music of the United Kingdom\n",
        "630: Wikipedia:WikiProject Solomon Islands\n",
        "631: Wikipedia:WikiProject Germany"
       ]
      },
      {
       "output_type": "stream",
       "stream": "stdout",
       "text": [
        "\n",
        "632: Wikipedia:WikiProject Films/Mexican cinema task force\n",
        "633: Wikipedia:WikiProject American music\n",
        "634: WikiProject Oceania\n",
        "635: Wikipedia:WikiProject Tonga\n",
        "636: Wikipedia:WikiProject Ohio Wesleyan University\n",
        "637: Wikipedia:WikiProject Ancient Germanic studies\n",
        "638: Rihanna\n",
        "639: Indian Premier League\n",
        "640: A Song of Ice and Fire\n",
        "641: Wikipedia:WikiProject Dietary Supplements\n",
        "642: Wikipedia:WikiProject Tel Aviv"
       ]
      },
      {
       "output_type": "stream",
       "stream": "stdout",
       "text": [
        "\n",
        "643: Wikipedia:WikiProject U.S. Roads/Nevada\n",
        "644: Wikipedia:WikiProject Tree of Life\n",
        "645: Wikipedia:WikiProject Visual arts\n",
        "646: United States Constitution\n",
        "647: Guatemala\n",
        "648: Wikipedia:WikiProject Motorsport\n",
        "649: Wikipedia:WikiProject Psychopathic Records"
       ]
      },
      {
       "output_type": "stream",
       "stream": "stdout",
       "text": [
        "\n",
        "650: University of Belgrade\n",
        "651: Wikipedia:WikiProject Aviation/Aircraft engine task force\n",
        "652: Wikipedia:WikiProject Chinese history\n",
        "653: Wikipedia:WikiProject Medicine/Radiology task force\n",
        "654: Wikipedia:WikiProject Western Australia\n",
        "655: Wikipedia:WikiProject Antarctica\n",
        "656: Wikipedia:WikiProject Punk music\n",
        "657: Wikipedia:WikiProject Ice Hockey/Vancouver Canucks task force\n",
        "658: Wikipedia:WikiProject Indonesia"
       ]
      },
      {
       "output_type": "stream",
       "stream": "stdout",
       "text": [
        "\n",
        "659: Wikipedia:WikiProject North America\n",
        "660: Wikipedia:WikiProject Equine\n",
        "661: Wikipedia:WikiProject Animation/Animated television work group\n",
        "662: Wikipedia:WikiProject Philippine-related\n",
        "663: Wikipedia:WikiProject Aruba"
       ]
      },
      {
       "output_type": "stream",
       "stream": "stdout",
       "text": [
        "\n",
        "664: Wikipedia:WikiProject Carnivorous plants\n",
        "665: Wikipedia:WikiProject Cetaceans\n",
        "666: Wikipedia:WikiProject Medicine/Neurology task force\n",
        "667: Wikipedia:WikiProject Pittsburgh\n",
        "668: Wikipedia:WikiProject Football/Iran task force\n",
        "669: Wikipedia:WikiProject Popular Culture\n",
        "670: San Jose Earthquakes\n",
        "671: Wikipedia:WikiProject Disney"
       ]
      },
      {
       "output_type": "stream",
       "stream": "stdout",
       "text": [
        "\n",
        "672: Wikipedia:WikiProject Ethiopia\n",
        "673: Wikipedia:WikiProject Aviation/Aerospace biography task force\n",
        "674: Wikipedia:WikiProject Universities\n",
        "675: Wikipedia:WikiProject Textile Arts\n",
        "676: Wikipedia:WikiProject Scottish Islands\n",
        "677: Wikipedia:WikiProject iOS\n",
        "678: Wikipedia:WikiProject Alternative music/Nirvana\n",
        "679: Wikipedia:WikiProject UK Roads\n",
        "680: Wikipedia:WikiProject University of Oxford"
       ]
      },
      {
       "output_type": "stream",
       "stream": "stdout",
       "text": [
        "\n",
        "681: Wikipedia:WikiProject Ice Hockey\n",
        "682: Wikipedia:WikiProject Geography"
       ]
      },
      {
       "output_type": "stream",
       "stream": "stdout",
       "text": [
        "\n",
        "683: Wikipedia:WikiProject Softball/College softball task force\n",
        "684: Wikipedia:WikiProject Football/Spain task force\n",
        "685: Wikipedia:WikiProject Food and drink/Bartending Task Force\n",
        "686: Wikipedia:WikiProject Ukraine\n",
        "687: Wikipedia:WikiProject Tamagotchi\n",
        "688: Wikipedia:WikiProject Martinique\n",
        "689: Wikipedia:WikiProject Latin music"
       ]
      },
      {
       "output_type": "stream",
       "stream": "stdout",
       "text": [
        "\n",
        "690: Wikipedia:WikiProject Magazines\n",
        "691: Wikipedia:WikiProject George Harrison\n",
        "692: Wikipedia:WikiProject Rock music\n",
        "693: Wikipedia:WikiProject Aquarium Fishes\n",
        "694: Wikipedia:WikiProject Gender Studies\n",
        "695: Teylers\n",
        "696: Wikipedia:WikiProject Protected areas\n",
        "697: Wikipedia:WikiProject North Dakota"
       ]
      },
      {
       "output_type": "stream",
       "stream": "stdout",
       "text": [
        "\n",
        "698: The X Factor\n",
        "699: Wikipedia:WikiProject Rhodesia\n",
        "700: Wikipedia:WikiProject British Antarctic Territory\n",
        "701: Wikipedia:WikiProject Amusement Parks\n",
        "702: District of Columbia\n",
        "703: Stanford biography\n",
        "704: Wikipedia:WikiProject Rowing\n",
        "705: Suicide\n",
        "706: Wikipedia:WikiProject Alternative music/The Smashing Pumpkins\n",
        "707: Wikipedia:WikiProject Hyderabad\n",
        "708: Wikipedia:WikiProject Soap Operas"
       ]
      },
      {
       "output_type": "stream",
       "stream": "stdout",
       "text": [
        "\n",
        "709: Asia\n",
        "710: Wikipedia:WikiProject Oriental Orthodoxy\n",
        "711: Wikipedia:WikiProject Japan/Mythology\n",
        "712: Wikipedia:WikiProject Argentina\n",
        "713: Mozilla\n",
        "714: Wikipedia:WikiProject The Apprentice UK\n",
        "715: Wikipedia:WikiProject Maryland\n",
        "716: Wikipedia:WikiProject Rocketry"
       ]
      },
      {
       "output_type": "stream",
       "stream": "stdout",
       "text": [
        "\n",
        "717: Wikipedia:WikiProject Animal rights\n",
        "718: Wikipedia:WikiProject Sailing\n",
        "719: Wikipedia:WikiProject Australian history\n",
        "720: Wikipedia:WikiProject Japan"
       ]
      },
      {
       "output_type": "stream",
       "stream": "stdout",
       "text": [
        "\n",
        "721: WP:GLAM/NRM\n",
        "722: Wikipedia:WikiProject Medicine/Toxicology task force\n",
        "723: Colorado\n",
        "724: Wikipedia:WikiProject Algeria\n",
        "725: Wikipedia:WikiProject Anime and manga\n",
        "726: Wikipedia:WikiProject Cape Verde\n",
        "727: Wikipedia:WikiProject Andhra Pradesh\n",
        "728: Wikipedia:WikiProject Turks and Caicos Islands\n",
        "729: Wikipedia:WikiProject Urban studies and planning\n",
        "730: Wikipedia:WikiProject Spiders\n",
        "731: Wikipedia:WikiProject Bob Dylan"
       ]
      },
      {
       "output_type": "stream",
       "stream": "stdout",
       "text": [
        "\n",
        "732: Wikipedia:WikiProject Dance\n",
        "733: Wikipedia:WikiProject Rufus Wainwright\n",
        "734: Wikipedia:WikiProject Australian music\n",
        "735: Australian military history\n",
        "736: Wikipedia:WikiProject Lagos\n",
        "737: Idaho\n",
        "738: SeaWorld Entertainment\n",
        "739: Wikipedia:WikiProject Animation/Pixar work group"
       ]
      },
      {
       "output_type": "stream",
       "stream": "stdout",
       "text": [
        "\n",
        "740: Wikipedia:WikiProject Films/Comic book films task force\n",
        "741: Wikipedia:WikiProject Lutheranism\n",
        "742: Wikipedia:WikiProject Micronesia\n",
        "743: Wikipedia:WikiProject Military history/Canadian military history task force\n",
        "744: Wikipedia:WikiProject Nagaland\n",
        "745: Wikipedia:WikiProject Politics/American politics\n",
        "746: Wikipedia:WikiProject Astrology"
       ]
      },
      {
       "output_type": "stream",
       "stream": "stdout",
       "text": [
        "\n",
        "747: Kazakhstan\n",
        "748: Wikipedia:WikiProject Education\n",
        "749: Poultry\n",
        "750: Wikipedia:WikiProject Turtles\n",
        "751: Wikipedia:WikiProject Animation/Warner Bros. Animation work group\n",
        "752: Wikipedia:WikiProject Philosophy/Religion\n",
        "753: Wikipedia:WikiProject Desperate Housewives\n",
        "754: Wikipedia:WikiProject Central America"
       ]
      },
      {
       "output_type": "stream",
       "stream": "stdout",
       "text": [
        "\n",
        "755: Wikipedia:WikiProject Gymnastics\n",
        "756: Wikipedia:WikiProject Shakespeare\n",
        "757: Wikipedia:WikiProject Bristol\n",
        "758: Wikipedia:WikiProject Trade\n",
        "759: Wikipedia:WikiProject Libya\n",
        "760: Wikipedia:WikiProject American Old West\n",
        "761: Wikipedia:WikiProject Kenya\n",
        "762: Wikipedia:WikiProject Syracuse, New York\n",
        "763: Wikipedia:WikiProject Sheffield\n",
        "764: Ski"
       ]
      },
      {
       "output_type": "stream",
       "stream": "stdout",
       "text": [
        "\n",
        "765: Wikipedia:WikiProject Sheffield Wednesday\n",
        "766: Wikipedia:WikiProject Philosophy/Continental\n",
        "767: Wikipedia:WikiProject Rapid transit\n",
        "768: Wikipedia:WikiProject Ice Hockey/Sweden Ice Hockey task force\n",
        "769: Wikipedia:WikiProject Music genres\n",
        "770: Wikipedia:WikiProject Eurovision\n",
        "771: Wikipedia:WikiProject Military history/Military land vehicles task force\n",
        "772: Wikipedia:WikiProject Dartmouth College\n",
        "773: Wikipedia:WikiProject Electronic music\n",
        "774: Wikipedia:WikiProject UK Railways"
       ]
      },
      {
       "output_type": "stream",
       "stream": "stdout",
       "text": [
        "\n",
        "775: Wikipedia:WikiProject Floorball\n",
        "776: Wikipedia:WikiProject Arthropods\n",
        "777: Wikipedia:WikiProject Iowa\n",
        "778: Wikipedia:WikiProject Chess\n",
        "779: Wikipedia:WikiProject Christianity/Anabaptist work group\n",
        "780: Education in India"
       ]
      },
      {
       "output_type": "stream",
       "stream": "stdout",
       "text": [
        "\n",
        "781: Wikipedia:WikiProject Countries\n",
        "782: Wikipedia:WikiProject Comics/Comics creators work group\n",
        "783: Wikipedia:WikiProject Physics/Taskforces/Fluid dynamics\n",
        "784: Wikipedia:WikiProject United Kingdom\n",
        "785: Wikipedia:WikiProject Films/French cinema task force"
       ]
      },
      {
       "output_type": "stream",
       "stream": "stdout",
       "text": [
        "\n",
        "786: RISC OS\n",
        "787: Wikipedia:WikiProject Dominican Republic\n",
        "788: Wikipedia:WikiProject Ice Hockey/Boston Bruins task force\n",
        "789: Wikipedia:WikiProject Military history/Nordic military history task force\n",
        "790: MonmouthpediA-related\n",
        "791: Wikipedia:WikiProject Rutgers\n",
        "792: Wikipedia:WikiProject Arunachal Pradesh\n",
        "793: Wikipedia:WikiProject Chicago Bears\n",
        "794: Wikipedia:WikiProject Andaman and Nicobar Islands\n",
        "795: Wikipedia:WikiProject Canadian law\n",
        "796: Wikipedia:WikiProject New Jersey State and County Routes\n",
        "797: Wikipedia:WikiProject Victoria"
       ]
      },
      {
       "output_type": "stream",
       "stream": "stdout",
       "text": [
        "\n",
        "798: Wikipedia:WikiProject Roots music\n",
        "799: Apps\n",
        "800: Mongols\n",
        "801: Wikipedia:WikiProject New Jersey\n",
        "802: Wikipedia:WikiProject Senegal\n",
        "803: Wikipedia:WikiProject British Virgin Islands\n",
        "804: Wikipedia:WikiProject Computing"
       ]
      },
      {
       "output_type": "stream",
       "stream": "stdout",
       "text": [
        "\n",
        "805: Wikipedia:WikiProject Creationism\n",
        "806: Plan 9\n",
        "807: Wikipedia:WikiProject Ice Hockey/New Jersey Devils task force\n",
        "808: Pipe Bands\n",
        "809: Wikipedia:WikiProject Animation/Animation people work group\n",
        "810: Fascism\n",
        "811: Wikipedia:WikiProject British Indian Ocean Territory\n",
        "812: Wikipedia:WikiProject Video games/Valve\n",
        "813: Wikipedia:WikiProject Former countries/HRE task force\n",
        "814: Wikipedia:WikiProject Animation/DreamWorks Animation work group\n",
        "815: Six Flags\n",
        "816: Walt Disney Parks and Resorts"
       ]
      },
      {
       "output_type": "stream",
       "stream": "stdout",
       "text": [
        "\n",
        "817: Wikipedia:WikiProject Northamptonshire\n",
        "818: Wikipedia:WikiProject Films/Persian cinema task force\n",
        "819: Wikipedia:WikiProject Royalty and Nobility\n",
        "820: Wikipedia:WikiProject Mizzou\n",
        "821: Wikipedia:WikiProject Adoption, fostering, orphan care and displacement\n",
        "822: Wikipedia:WikiProject Women\n",
        "823: Wikipedia:WikiProject Alberta"
       ]
      },
      {
       "output_type": "stream",
       "stream": "stdout",
       "text": [
        "\n",
        "824: Christina Aguilera\n",
        "825: Wikipedia:WikiProject Composers\n",
        "826: Wikipedia:WikiProject Plants"
       ]
      },
      {
       "output_type": "stream",
       "stream": "stdout",
       "text": [
        "\n",
        "827: Wikipedia:WikiProject Georgia Tech\n",
        "828: Wikipedia:WikiProject Dallas-Fort Worth\n",
        "829: Wikipedia:WikiProject Films/Southeast Asian cinema task force\n",
        "830: Wikipedia:WikiProject Comics/United States comics work group"
       ]
      },
      {
       "output_type": "stream",
       "stream": "stdout",
       "text": [
        "\n",
        "831: Indian women and gender issues\n",
        "832: Wikipedia:WikiProject Texas Tech University\n",
        "833: Wikipedia:WikiProject West Virginia Routes\n",
        "834: Wikipedia:WikiProject Micronesia/Guam work group\n",
        "835: Wikipedia:WikiProject Mozambique\n",
        "836: Wikipedia:WikiProject Croatia/Zagreb\n",
        "837: Wikipedia:WikiProject Malawi\n",
        "838: Wikipedia:WikiProject Texas\n",
        "839: Wikipedia:WikiProject Physics/Taskforces/BPH"
       ]
      },
      {
       "output_type": "stream",
       "stream": "stdout",
       "text": [
        "\n",
        "840: Wikipedia:WikiProject Massachusetts\n",
        "841: Wikipedia:WikiProject Latin\n",
        "842: Wikipedia:WikiProject Medicine/Pulmonology task force\n",
        "843: Wikipedia:WikiProject University of Virginia\n",
        "844: Wikipedia:WikiProject Bulgaria\n",
        "845: Wikipedia:WikiProject Calvinism\n",
        "846: Wikipedia:WikiProject Lebanon"
       ]
      },
      {
       "output_type": "stream",
       "stream": "stdout",
       "text": [
        "\n",
        "847: Asian Games\n",
        "848: Wikipedia:WikiProject Auckland\n",
        "849: WP:GLAM/HAGAM\n",
        "850: Chemical Heritage Foundation\n",
        "851: Wikipedia:WikiProject Egypt\n",
        "852: Wikipedia:WikiProject Madhya Pradesh\n",
        "853: Wikipedia:WikiProject Films/Indian cinema task force"
       ]
      },
      {
       "output_type": "stream",
       "stream": "stdout",
       "text": [
        "\n",
        "854: Wikipedia:WikiProject Databases\n",
        "855: Bivalves\n",
        "856: Wikipedia:WikiProject Bangladeshi Universities\n",
        "857: Wikipedia:WikiProject New Zealand/Music task force\n",
        "858: Wikipedia:WikiProject Sweden\n",
        "859: Wikipedia:WikiProject Mars"
       ]
      },
      {
       "output_type": "stream",
       "stream": "stdout",
       "text": [
        "\n",
        "860: Wikipedia:WikiProject Films/Core\n",
        "861: Wikipedia:WikiProject Australian motorsport\n",
        "862: Wikipedia:WikiProject Jamaica\n",
        "863: South Australia road transport\n",
        "864: Wikipedia:WikiProject Aramea\n",
        "865: Wikipedia:WikiProject Marshall Islands\n",
        "866: Wikipedia:WikiProject Medicine/Ophthalmology task force\n",
        "867: University of the Philippines\n",
        "868: Wikipedia:WikiProject Christianity/Theology work group\n",
        "869: University of Texas at Austin\n",
        "870: Wikipedia:WikiProject Cape Cod and the Islands"
       ]
      },
      {
       "output_type": "stream",
       "stream": "stdout",
       "text": [
        "\n",
        "871: Wikipedia:WikiProject Jazz\n",
        "872: Wikipedia:WikiProject Dravidian people\n",
        "873: Wikipedia:WikiProject Kayaking\n",
        "874: Wikipedia:WikiProject New York"
       ]
      },
      {
       "output_type": "stream",
       "stream": "stdout",
       "text": [
        "\n",
        "875: Wikipedia:WikiProject Washington\n",
        "876: Wikipedia:WikiProject Romance\n",
        "877: Power in international relations\n",
        "878: Wikipedia:WikiProject University of Florida/Florida Gators subproject\n",
        "879: Wikipedia:WikiProject Motorsport/History of Motorsport"
       ]
      },
      {
       "output_type": "stream",
       "stream": "stdout",
       "text": [
        "\n",
        "880: Wikipedia:WikiProject Motorsport/Formula E\n",
        "881: Wikipedia:WikiProject Central America/Nicaragua work group\n",
        "882: Wikipedia:WikiProject Papua New Guinea\n",
        "883: Wikipedia:WikiProject Cardiff\n",
        "884: Wikipedia:WikiProject Worcestershire\n",
        "885: Wikipedia:WikiProject New York Giants\n",
        "886: Wikipedia:WikiProject Business\n",
        "887: Wikipedia:WikiProject Maryland/Baltimore"
       ]
      },
      {
       "output_type": "stream",
       "stream": "stdout",
       "text": [
        "\n",
        "888: Wikipedia:WikiProject Homeschooling\n",
        "889: Wikipedia:WikiProject Metros of the former Soviet Union\n",
        "890: Wikipedia:WikiProject Kosovo\n",
        "891: Graffiti\n",
        "892: Collections Care\n",
        "893: Wikipedia:WikiProject Western Sahara\n",
        "894: Wikipedia:WikiProject Mythology\n",
        "895: Wikipedia:WikiProject Nottinghamshire"
       ]
      },
      {
       "output_type": "stream",
       "stream": "stdout",
       "text": [
        "\n",
        "896: Wikipedia:WikiProject Apple Inc.\n",
        "897: Wikipedia:WikiProject Bible\n",
        "898: Wikipedia:WikiProject Catholicism\n",
        "899: Wikipedia:WikiProject Anthropology\n",
        "900: Wikipedia:WikiProject Melbourne"
       ]
      },
      {
       "output_type": "stream",
       "stream": "stdout",
       "text": [
        "\n",
        "901: International law\n",
        "902: Concert tour\n",
        "903: Wikipedia:WikiProject Football/Hong Kong task force\n",
        "904: Wikipedia:WikiProject Sudan\n",
        "905: Wikipedia:WikiProject Black metal\n",
        "906: Wikipedia:WikiProject Agriculture/Livestock task force\n",
        "907: Wikipedia:WikiProject Military history/Military aviation task force"
       ]
      },
      {
       "output_type": "stream",
       "stream": "stdout",
       "text": [
        "\n",
        "908: Wikipedia:WikiProject Linguistics/Theoretical\n",
        "909: Wikipedia:WikiProject Rocks and minerals\n",
        "910: Wikipedia:WikiProject Science fiction novels\n",
        "911: Wikipedia:WikiProject College baseball\n",
        "912: Wikipedia:WikiProject Professional wrestling\n",
        "913: Wikipedia:WikiProject Philosophy\n",
        "914: Wikipedia:WikiProject Evolutionary biology\n",
        "915: Wikipedia:WikiProject Coventry"
       ]
      },
      {
       "output_type": "stream",
       "stream": "stdout",
       "text": [
        "\n",
        "916: Wikipedia:WikiProject Sexology and sexuality\n",
        "917: Wikipedia:WikiProject Powderfinger\n",
        "918: Wikipedia:WikiProject Organismal Biomechanics\n",
        "919: Wikipedia:WikiProject Football/Manchester United task force\n",
        "920: Wikipedia:WikiProject Gujarat\n",
        "921: Wikipedia:WikiProject Tibet\n",
        "922: Hudson County in New Jersey\n",
        "923: Wikipedia:WikiProject The Clash\n",
        "924: Wikipedia:WikiProject Indigenous peoples of North America"
       ]
      },
      {
       "output_type": "stream",
       "stream": "stdout",
       "text": [
        "\n",
        "925: Wikipedia:WikiProject Lepidoptera"
       ]
      },
      {
       "output_type": "stream",
       "stream": "stdout",
       "text": [
        "\n",
        "926: Wikipedia:WikiProject Laos\n",
        "927: Wikipedia:WikiProject Harry Potter\n",
        "928: Wikipedia:WikiProject Armenia\n",
        "929: Wikipedia:WikiProject Trains"
       ]
      },
      {
       "output_type": "stream",
       "stream": "stdout",
       "text": [
        "\n",
        "930: Wikipedia:WikiProject Football/Ireland task force\n",
        "931: Wikipedia:WikiProject France"
       ]
      },
      {
       "output_type": "stream",
       "stream": "stdout",
       "text": [
        "\n",
        "932: Wikipedia:WikiProject Mainz\n",
        "933: Wikipedia:WikiProject Arab world\n",
        "934: Animals in media\n",
        "935: Wikipedia:WikiProject Bowling\n",
        "936: Wikipedia:WikiProject Neopaganism\n",
        "937: Wikipedia:WikiProject Tamil civilization\n",
        "938: Wikipedia:WikiProject George Martin\n",
        "939: Delaware Art Museum-related\n",
        "940: Wikipedia:WikiProject New York City Public Transportation"
       ]
      },
      {
       "output_type": "stream",
       "stream": "stdout",
       "text": [
        "\n",
        "941: Wikipedia:WikiProject Life on Mars\n",
        "942: Wikipedia:WikiProject Kuwait\n",
        "943: Wikipedia:WikiProject Chinese cities\n",
        "944: Wikipedia:WikiProject Alaska\n",
        "945: Wikipedia:WikiProject Square Enix\n",
        "946: Wikipedia:WikiProject Clans of Scotland\n",
        "947: Wikipedia:WikiProject Real Madrid\n",
        "948: Wikipedia:WikiProject University of California\n",
        "949: Wikipedia:WikiProject Spaceflight"
       ]
      },
      {
       "output_type": "stream",
       "stream": "stdout",
       "text": [
        "\n",
        "950: Wikipedia:WikiProject Frank Zappa\n",
        "951: Wikipedia:WikiProject Mizoram\n",
        "952: Wikipedia:WikiProject Lost\n",
        "953: The Twilight Zone\n",
        "954: Wikipedia:WikiProject Tanzania\n",
        "955: Wikipedia:WikiProject Ross Dependency\n",
        "956: Wikipedia:WikiProject Animation/Asian animation work group\n",
        "957: Streetcars\n",
        "958: Sports Car Racing\n",
        "959: Wikipedia:WikiProject Hong Kong Transport"
       ]
      },
      {
       "output_type": "stream",
       "stream": "stdout",
       "text": [
        "\n",
        "960: Wikipedia:WikiProject Ballet\n",
        "961: Wikipedia:WikiProject Bavaria\n",
        "962: Wikipedia:WikiProject Percussion\n",
        "963: Wikipedia:WikiProject French communes\n",
        "964: Education in Georgia (U.S. state)"
       ]
      },
      {
       "output_type": "stream",
       "stream": "stdout",
       "text": [
        "\n",
        "965: Wikipedia:WikiProject Grenada\n",
        "966: Wikipedia:WikiProject Green Day\n",
        "967: Wikipedia:WikiProject Military history/Middle Eastern military history task force\n",
        "968: Wikipedia:WikiProject Maldives\n",
        "969: Computational Biology\n",
        "970: Wikipedia:WikiProject SCUBA\n",
        "971: Wikipedia:WikiProject International criminal law\n",
        "972: United States courts and judges\n",
        "973: Wikipedia:WikiProject Southeast Asia"
       ]
      },
      {
       "output_type": "stream",
       "stream": "stdout",
       "text": [
        "\n",
        "974: Wikipedia:WikiProject Swimming\n",
        "975: Wikipedia:WikiProject Radio\n",
        "976: Wikipedia:WikiProject Literature\n",
        "977: Wikipedia:WikiProject Palau"
       ]
      },
      {
       "output_type": "stream",
       "stream": "stdout",
       "text": [
        "\n",
        "978: Indian railways\n",
        "979: Library of Congress\n",
        "980: Wikipedia:WikiProject Illinois"
       ]
      },
      {
       "output_type": "stream",
       "stream": "stdout",
       "text": [
        "\n",
        "981: FBI\n",
        "982: Ice cream"
       ]
      },
      {
       "output_type": "stream",
       "stream": "stdout",
       "text": [
        "\n",
        "983: Wikipedia:WikiProject Mammals/Mustelids work group\n",
        "984: Wikipedia:WikiProject Cricket"
       ]
      },
      {
       "output_type": "stream",
       "stream": "stdout",
       "text": [
        "\n",
        "985: Wikipedia:WikiProject buses\n",
        "986: Wikipedia:WikiProject Washington University in St. Louis\n",
        "987: Wikipedia:WikiProject Philately\n",
        "988: Wikipedia:WikiProject Jersey"
       ]
      },
      {
       "output_type": "stream",
       "stream": "stdout",
       "text": [
        "\n",
        "989: Wikipedia:WikiProject Britney Spears\n",
        "990: Wikipedia:WikiProject Comics/DC Comics work group\n",
        "991: Wikipedia:WikiProject Fencing\n",
        "992: Wikipedia:WikiProject Gastropods"
       ]
      },
      {
       "output_type": "stream",
       "stream": "stdout",
       "text": [
        "\n",
        "993: Wikipedia:WikiProject Hip hop\n",
        "994: Wikipedia:WikiProject Tuvalu"
       ]
      },
      {
       "output_type": "stream",
       "stream": "stdout",
       "text": [
        "\n",
        "995: Wikipedia:WikiProject Guitarists\n",
        "996: Wikipedia:WikiProject Beer/Pub Taskforce\n",
        "997: Wikipedia:WikiProject Bible/Biblical criticism work group\n",
        "998: Wikipedia:WikiProject Philadelphia Phillies\n",
        "999: Wikipedia:WikiProject Films/Italian cinema task force"
       ]
      },
      {
       "output_type": "stream",
       "stream": "stdout",
       "text": [
        "\n",
        "1000: Wikipedia:WikiProject Omaha\n",
        "1001: Wikipedia:WikiProject New York State routes\n",
        "1002: Wikipedia:WikiProject Federated States of Micronesia\n",
        "1003: Wikipedia:WikiProject Firefly\n",
        "1004: Wikipedia:WikiProject Tamil Nadu"
       ]
      },
      {
       "output_type": "stream",
       "stream": "stdout",
       "text": [
        "\n",
        "1005: Georgia Tech Athletics\n",
        "1006: Wikipedia:WikiProject Christianity in China work group\n",
        "1007: Wikipedia:WikiProject Cartoon Network/Aqua Teen Hunger Force task force\n",
        "1008: Wikipedia:WikiProject Medicine/Dermatology task force"
       ]
      },
      {
       "output_type": "stream",
       "stream": "stdout",
       "text": [
        "\n",
        "1009: Sports facilities\n",
        "1010: Wikipedia:WikiProject Regional and national music\n",
        "1011: Wikipedia:WikiProject Richard Wagner\n",
        "1012: Wikipedia:WikiProject Former countries"
       ]
      },
      {
       "output_type": "stream",
       "stream": "stdout",
       "text": [
        "\n",
        "1013: Wikipedia:WikiProject Toys\n",
        "1014: Iowa (communities)\n",
        "1015: Wikipedia:WikiProject Hinduism\n",
        "1016: Wikipedia:WikiProject Military history/Korean military history task force"
       ]
      },
      {
       "output_type": "stream",
       "stream": "stdout",
       "text": [
        "\n",
        "1017: Wikipedia:WikiProject Circus\n",
        "1018: Wikipedia:WikiProject Minnesota\n",
        "1019: Wikipedia:WikiProject New South Wales"
       ]
      },
      {
       "output_type": "stream",
       "stream": "stdout",
       "text": [
        "\n",
        "1020: Wikipedia:WikiProject Colombia\n",
        "1021: Wikipedia:WikiProject Creationism/Intelligent design"
       ]
      },
      {
       "output_type": "stream",
       "stream": "stdout",
       "text": [
        "\n",
        "1022: Wikipedia:WikiProject Military history/Dutch military history task force\n",
        "1023: Wikipedia:WikiProject KYOVA Region\n",
        "1024: Wikipedia:WikiProject Computing/Early computers task force"
       ]
      },
      {
       "output_type": "stream",
       "stream": "stdout",
       "text": [
        "\n",
        "1025: Wikipedia:WikiProject Southern California\n",
        "1026: Wikipedia:WikiProject OWS\n",
        "1027: Wikipedia:WikiProject Scientology\n",
        "1028: Wikipedia:WikiProject Agriculture/Beekeeping task force\n",
        "1029: Wikipedia:WikiProject Tennessee State Routes"
       ]
      },
      {
       "output_type": "stream",
       "stream": "stdout",
       "text": [
        "\n",
        "1030: Wikipedia:WikiProject State University System of Florida\n",
        "1031: Watches\n",
        "1032: Wikipedia:WikiProject Comics/Comic strips work group\n",
        "1033: Wikipedia:WikiProject Liberia"
       ]
      },
      {
       "output_type": "stream",
       "stream": "stdout",
       "text": [
        "\n",
        "1034: Wikipedia:WikiProject Biography/Arts and entertainment/Musicians"
       ]
      },
      {
       "output_type": "stream",
       "stream": "stdout",
       "text": [
        "\n",
        "1035: Wikipedia:WikiProject Vaishnavism\n",
        "1036: Wikipedia:WikiProject Firearms\n",
        "1037: Wikipedia:WikiProject Philosophy/Mind\n",
        "1038: Wikipedia:WikiProject Three Kingdoms\n",
        "1039: Wikipedia:WikiProject NBL Canada"
       ]
      },
      {
       "output_type": "stream",
       "stream": "stdout",
       "text": [
        "\n",
        "1040: Archives of American Art task force\n",
        "1041: Wikipedia:WikiProject Community\n",
        "1042: Normandy\n",
        "1043: Wikipedia:WikiProject Biography/Politics and government"
       ]
      },
      {
       "output_type": "stream",
       "stream": "stdout",
       "text": [
        "\n",
        "1044: Wikipedia:WikiProject Madonna\n",
        "1045: Breakfast\n",
        "1046: GTRI\n",
        "1047: Wikipedia:WikiProject Canada Streets\n",
        "1048: Broadcast engineering and technology\n",
        "1049: Wikipedia:WikiProject Philosophy/Anarchism\n",
        "1050: Chechnya"
       ]
      },
      {
       "output_type": "stream",
       "stream": "stdout",
       "text": [
        "\n",
        "1051: Wikipedia:WikiProject French Polynesia\n",
        "1052: Wikipedia:WikiProject Comics/Superman work group\n",
        "1053: Wikipedia:WikiProject Catholicism/Canon law Task Force\n",
        "1054: Wikipedia:WikiProject Electrical engineering\n",
        "1055: Wikipedia:WikiProject New Caledonia work group\n",
        "1056: Wikipedia:WikiProject Shropshire\n",
        "1057: Wikipedia:WikiProject Reproductive medicine\n",
        "1058: Wikipedia:WikiProject Antarctic Chilean Territory\n",
        "1059: Wikipedia:WikiProject India/History"
       ]
      },
      {
       "output_type": "stream",
       "stream": "stdout",
       "text": [
        "\n",
        "1060: Wikipedia:WikiProject Politics/Corporatism\n",
        "1061: Russia (science and education)\n",
        "1062: Wikipedia:WikiProject Albania\n",
        "1063: Townsville\n",
        "1064: Wikipedia:WikiProject Bahamas\n",
        "1065: Wikipedia:WikiProject Organizations\n",
        "1066: Capitalism-related\n",
        "1067: WP:GLAM/BM"
       ]
      },
      {
       "output_type": "stream",
       "stream": "stdout",
       "text": [
        "\n",
        "1068: WP:GLAM/BL\n",
        "1069: Russia (politics and law)\n",
        "1070: Wikipedia:WikiProject The Rolling Stones\n",
        "1071: Wikipedia:WikiProject Norse history and culture\n",
        "1072: Wikipedia:WikiProject Taxation\n",
        "1073: Wikipedia:WikiProject Highways/Latin America\n",
        "1074: Wikipedia:WikiProject Religious leaders\n",
        "1075: WP:GLAM/BP\n",
        "1076: Wikipedia:WikiProject Eclipses\n",
        "1077: Wikipedia:WikiProject Books"
       ]
      },
      {
       "output_type": "stream",
       "stream": "stdout",
       "text": [
        "\n",
        "1078: Wikipedia:WikiProject .NET\n",
        "1079: Wikipedia:WikiProject Water supply and sanitation\n",
        "1080: Wikipedia:WikiProject Cats\n",
        "1081: Romanian military history\n",
        "1082: Wikipedia:WikiProject Latvia\n",
        "1083: Wikipedia:WikiProject West Midlands\n",
        "1084: Wikipedia:WikiProject Horror/Saw task force\n",
        "1085: Wikipedia:WikiProject India"
       ]
      },
      {
       "output_type": "stream",
       "stream": "stdout",
       "text": [
        "\n",
        "1086: Wikipedia:WikiProject Gambia\n",
        "1087: Wikipedia:WikiProject Films/Filmmaking task force\n",
        "1088: Wikipedia:WikiProject Baseball/Players\n",
        "1089: Event Venues\n",
        "1090: WP:GLAM/TCMI\n",
        "1091: Wikipedia:WikiProject New York Jets\n",
        "1092: Wikipedia:WikiProject Linguistics/Etymology\n",
        "1093: Wikipedia:WikiProject Maharashtra\n",
        "1094: Wikipedia:WikiProject Numismatics"
       ]
      },
      {
       "output_type": "stream",
       "stream": "stdout",
       "text": [
        "\n",
        "1095: Wikipedia:WikiProject History\n",
        "1096: Wikipedia:WikiProject Indianapolis Colts\n",
        "1097: Russia (mass media)\n",
        "1098: Wikipedia:WikiProject Texas/San Antonio\n",
        "1099: Wikipedia:WikiProject Berkshire\n",
        "1100: Wikipedia:WikiProject Military history/Weaponry task force"
       ]
      },
      {
       "output_type": "stream",
       "stream": "stdout",
       "text": [
        "\n",
        "1101: Intel\n",
        "1102: Wikipedia:WikiProject University of North Carolina at Chapel Hill\n",
        "1103: Wikipedia:WikiProject Latinos\n",
        "1104: Wikipedia:WikiProject Cycling\n",
        "1105: Wikipedia:WikiProject Montana\n",
        "1106: G.I. Joe\n",
        "1107: Wikipedia:WikiProject Military history/Intelligence task force\n",
        "1108: Wikipedia:WikiProject Demographics of Australia"
       ]
      },
      {
       "output_type": "stream",
       "stream": "stdout",
       "text": [
        "\n",
        "1109: Wikipedia:WikiProject Business/Accountancy Taskforce\n",
        "1110: Russia (visual arts)\n",
        "1111: Wikipedia:WikiProject Education in Australia\n",
        "1112: Wikipedia:WikiProject Human Computer Interaction\n",
        "1113: Football in Sweden\n",
        "1114: Anglo-Saxon Kingdoms"
       ]
      },
      {
       "output_type": "stream",
       "stream": "stdout",
       "text": [
        "\n",
        "1115: Wikipedia:WikiProject Alternative music\n",
        "1116: Wikipedia:WikiProject Palaeontology\n",
        "1117: Wikipedia:WikiProject Carriacou and Petite Martinique\n",
        "1118: Central and South American military history\n",
        "1119: Wikipedia:WikiProject New Brunswick\n",
        "1120: Bonnie Tyler\n",
        "1121: Cambrian explosion\n",
        "1122: Wikipedia:WikiProject Miami\n",
        "1123: Wikipedia:WikiProject Idaho road transport"
       ]
      },
      {
       "output_type": "stream",
       "stream": "stdout",
       "text": [
        "\n",
        "1124: Wikipedia:WikiProject Numismatics/Cryptocurrency task force\n",
        "1125: Wikipedia:WikiProject Heraldry and vexillology\n",
        "1126: Wikipedia:WikiProject Soviet Union\n",
        "1127: British television\n",
        "1128: Akan\n",
        "1129: South Georgia (U.S. state)\n",
        "1130: Wikipedia:WikiProject Cricket/Somerset cricket task force\n",
        "1131: Nebraska\n",
        "1132: Wikipedia:WikiProject Bangladeshi Colleges\n",
        "1133: Wikipedia:WikiProject Elvis Presley"
       ]
      },
      {
       "output_type": "stream",
       "stream": "stdout",
       "text": [
        "\n",
        "1134: Wikipedia:WikiProject Linkin Park\n",
        "1135: Wikipedia:WikiProject Objectivism\n",
        "1136: Wikipedia:WikiProject Basketball\n",
        "1137: Wikipedia:WikiProject Uttarakhand\n",
        "1138: Wikipedia:WikiProject Somerset\n",
        "1139: Wikipedia:WikiProject Food and drink"
       ]
      },
      {
       "output_type": "stream",
       "stream": "stdout",
       "text": [
        "\n",
        "1140: Wikipedia:WikiProject Iceland\n",
        "1141: Wikipedia:WikiProject Africa\n",
        "1142: Wikipedia:WikiProject University of North Texas\n",
        "1143: Wikipedia:WikiProject Australian maritime history\n",
        "1144: Wikipedia:WikiProject Hollyoaks\n",
        "1145: Wikipedia:WikiProject Wine\n",
        "1146: Wikipedia:WikiProject Manipur\n",
        "1147: Wikipedia:WikiProject Football/Italy task force\n",
        "1148: Wikipedia:WikiProject Ethiopia/Climate and environment"
       ]
      },
      {
       "output_type": "stream",
       "stream": "stdout",
       "text": [
        "\n",
        "1149: Wikipedia:WikiProject Columbia, Missouri\n",
        "1150: Wikipedia:WikiProject Libertarianism\n",
        "1151: Wikipedia:WikiProject Micronesia/Northern Mariana Islands work group\n",
        "1152: Veronica Mars\n",
        "1153: Wikipedia:WikiProject Hanseatic League\n",
        "1154: Wikipedia:WikiProject Psychology\n",
        "1155: Dad's Army\n",
        "1156: Wikipedia:WikiProject Philosophy/Language\n",
        "1157: Wars of the Three Kingdoms\n",
        "1158: Wikipedia:WikiProject Piracy\n",
        "1159: Wikipedia:WikiProject Birmingham"
       ]
      },
      {
       "output_type": "stream",
       "stream": "stdout",
       "text": [
        "\n",
        "1160: Wikipedia:WikiProject Albums\n",
        "1161: Wikipedia:WikiProject Arkansas\n",
        "1162: Wikipedia:WikiProject Lower Assam\n",
        "1163: Wikipedia:WikiProject Body Modification\n",
        "1164: Wikipedia:WikiProject Scouting for Girls\n",
        "1165: Wikipedia:WikiProject Goa\n",
        "1166: Wikipedia:WikiProject Furry\n",
        "1167: Wikipedia:WikiProject Washington State Highways\n",
        "1168: Wikipedia:WikiProject National Football League"
       ]
      },
      {
       "output_type": "stream",
       "stream": "stdout",
       "text": [
        "\n",
        "1169: Orders, Decorations, and Medals\n",
        "1170: Wikipedia:WikiProject Warriors"
       ]
      },
      {
       "output_type": "stream",
       "stream": "stdout",
       "text": [
        "\n",
        "1171: Wikipedia:WikiProject Africa/French Africa work group\n",
        "1172: Wikipedia:WikiProject Health and fitness\n",
        "1173: Wikipedia:WikiProject Ohio State Highways\n",
        "1174: Wikipedia:WikiProject Palestine\n",
        "1175: Kickboxing\n",
        "1176: Wikipedia:WikiProject Skepticism\n",
        "1177: Wikipedia:WikiProject Notre Dame\n",
        "1178: Wikipedia:WikiProject Jewish culture"
       ]
      },
      {
       "output_type": "stream",
       "stream": "stdout",
       "text": [
        "\n",
        "1179: Wikipedia:WikiProject Hampshire County, West Virginia\n",
        "1180: Wikipedia:WikiProject Musical Theatre\n",
        "1181: Wikipedia:WikiProject Christianity"
       ]
      },
      {
       "output_type": "stream",
       "stream": "stdout",
       "text": [
        "\n",
        "1182: Wikipedia:WikiProject Science\n",
        "1183: Wikipedia:WikiProject Arena Football League\n",
        "1184: Wikipedia:WikiProject Shopping Centers\n",
        "1185: Wikipedia:WikiProject Children's literature\n",
        "1186: Wikipedia:WikiProject Saints\n",
        "1187: Wikipedia:WikiProject Wikipedia\n",
        "1188: Wikipedia:WikiProject Bridges\n",
        "1189: Wikipedia:WikiProject Reenactment"
       ]
      },
      {
       "output_type": "stream",
       "stream": "stdout",
       "text": [
        "\n",
        "1190: Wikipedia:WikiProject Al Ain\n",
        "1191: Wikipedia:WikiProject Austria\n",
        "1192: Wikipedia:WikiProject Dadra and Nagar Haveli\n",
        "1193: Wikipedia:WikiProject Graphic design\n",
        "1194: Wikipedia:WikiProject Michigan State Highways\n",
        "1195: Wikipedia:WikiProject Australia"
       ]
      },
      {
       "output_type": "stream",
       "stream": "stdout",
       "text": [
        "\n",
        "1196: Wikipedia:WikiProject Florida\n",
        "1197: Wikipedia:WikiProject Cuba\n",
        "1198: Wikipedia:WikiProject Kurdistan\n",
        "1199: Wikipedia:WikiProject American television\n",
        "1200: Wikipedia:WikiProject Rugby union\n",
        "1201: Wikipedia:WikiProject Cincinnati Reds"
       ]
      },
      {
       "output_type": "stream",
       "stream": "stdout",
       "text": [
        "\n",
        "1202: Wikipedia:WikiProject South Dakota road transport\n",
        "1203: Wikipedia:WikiProject Journalism\n",
        "1204: Women scientists\n",
        "1205: Wikipedia:WikiProject Linguistics\n",
        "1206: Wikipedia:WikiProject Computing/Computer Hardware task force\n",
        "1207: Wikipedia:WikiProject Highways"
       ]
      },
      {
       "output_type": "stream",
       "stream": "stdout",
       "text": [
        "\n",
        "1208: Western Australia road transport\n",
        "1209: Wikipedia:WikiProject Indian districts\n",
        "1210: Wikipedia:WikiProject Prussia\n",
        "1211: WikiProject Medicine Translation Task Force\n",
        "1212: Wikipedia:WikiProject Nickelodeon/Invader Zim task force\n",
        "1213: University of California Riverside Libraries-related\n",
        "1214: Wikipedia:WikiProject Tool\n",
        "1215: Wikipedia:WikiProject Taiwanese baseball\n",
        "1216: Igbo\n",
        "1217: Wikipedia:WikiProject Puerto Rico"
       ]
      },
      {
       "output_type": "stream",
       "stream": "stdout",
       "text": [
        "\n",
        "1218: Wikipedia:WikiProject Caribbean\n",
        "1219: Wikipedia:WikiProject Ohio\n",
        "1220: GTA\n",
        "1221: Wikipedia:WikiProject Military history/National militaries task force\n",
        "1222: Wikipedia:WikiProject Australian television\n",
        "1223: Wikipedia:WikiProject Queen\n",
        "1224: Wikipedia:WikiProject Poetry"
       ]
      },
      {
       "output_type": "stream",
       "stream": "stdout",
       "text": [
        "\n",
        "1225: Wikipedia:WikiProject Animals\n",
        "1226: Wikipedia:WikiProject Belgium\n",
        "1227: Wikipedia:WikiProject Military history/Early Muslim military history task force\n",
        "1228: Wikipedia:WikiProject Cooperatives\n",
        "1229: Wikipedia:WikiProject Former countries/Italian task force\n",
        "1230: Cultural Property of Great Importance\n",
        "1231: Wikipedia:WikiProject iPhone OS\n",
        "1232: U.S. Route 66"
       ]
      },
      {
       "output_type": "stream",
       "stream": "stdout",
       "text": [
        "\n",
        "1233: Occupational Safety and Health\n",
        "1234: Wikipedia:WikiProject Dams\n",
        "1235: Wikipedia:WikiProject New Orleans\n",
        "1236: Wikipedia:WikiProject China/Chinese provinces workgroup\n",
        "1237: Wikipedia:WikiProject Solar System"
       ]
      },
      {
       "output_type": "stream",
       "stream": "stdout",
       "text": [
        "\n",
        "1238: Wikipedia:WikiProject Video games/Sega\n",
        "1239: Extinction\n",
        "1240: Wikipedia:WikiProject Queensland\n",
        "1241: Wikipedia:WikiProject Falkland Islands\n",
        "1242: Wikipedia:WikiProject Slovenia\n",
        "1243: Wikipedia:WikiProject Mexico"
       ]
      },
      {
       "output_type": "stream",
       "stream": "stdout",
       "text": [
        "\n",
        "1244: Wikipedia:WikiProject Electoral districts in Canada\n",
        "1245: Operation Majestic Titan (Phase V)\n",
        "1246: Wikipedia:WikiProject Slipknot\n",
        "1247: Indigenous languages of California\n",
        "1248: Wikipedia:WikiProject Beer\n",
        "1249: Wikipedia:WikiProject Oregon State Highways\n",
        "1250: Wikipedia:WikiProject Deaf\n",
        "1251: Wikipedia:WikiProject Mammals\n",
        "1252: Wikipedia:WikiProject The O.C.\n",
        "1253: Wikipedia:WikiProject Nursing"
       ]
      },
      {
       "output_type": "stream",
       "stream": "stdout",
       "text": [
        "\n",
        "1254: Wikipedia:WikiProject National Football League/Washington Redskins subproject\n",
        "1255: East Anglia\n",
        "1256: Ant task force\n",
        "1257: Kyrgyzstan\n",
        "1258: Wikipedia:WikiProject World Rally\n",
        "1259: Wikipedia:WikiProject Bhutan\n",
        "1260: Wikipedia:WikiProject Ecuador"
       ]
      },
      {
       "output_type": "stream",
       "stream": "stdout",
       "text": [
        "\n",
        "1261: Ottawa\n",
        "1262: New England Public Transit\n",
        "1263: Google\n",
        "1264: Wikipedia:WikiProject Films/War films task force\n",
        "1265: Wikipedia:WikiProject Video games"
       ]
      },
      {
       "output_type": "stream",
       "stream": "stdout",
       "text": [
        "\n",
        "1266: Wikipedia:WikiProject American Samoa road transport\n",
        "1267: Wikipedia:WikiProject Blogging\n",
        "1268: Wikipedia:WikiProject Nigeria\n",
        "1269: Mass surveillance\n",
        "1270: Wikipedia:WikiProject Philosophy/Epistemology\n",
        "1271: Digital Preservation"
       ]
      },
      {
       "output_type": "stream",
       "stream": "stdout",
       "text": [
        "\n",
        "1272: Contract bridge\n",
        "1273: Wikipedia:WikiProject Architecture\n",
        "1274: Wikipedia:WikiProject Arizona road transport\n",
        "1275: Wikipedia:WikiProject Physics/Taskforces/Acoustics\n",
        "1276: Wikipedia:WikiProject Stephen King"
       ]
      },
      {
       "output_type": "stream",
       "stream": "stdout",
       "text": [
        "\n",
        "1277: Russia (economy)\n",
        "1278: Wikipedia:WikiProject Chicago Cubs\n",
        "1279: Wikipedia:WikiProject Military history/Classical warfare task force\n",
        "1280: Wikipedia:WikiProject Films/Documentary films task force\n",
        "1281: Wikipedia:WikiProject Taoism\n",
        "1282: Wikipedia:WikiProject Computer science"
       ]
      },
      {
       "output_type": "stream",
       "stream": "stdout",
       "text": [
        "\n",
        "1283: Wikipedia:WikiProject Iraq\n",
        "1284: Wikipedia:WikiProject Forestry\n",
        "1285: Wikipedia:WikiProject Saskatchewan\n",
        "1286: Wikipedia:WikiProject Transport in Scotland\n",
        "1287: Wikipedia:WikiProject South Dakota"
       ]
      },
      {
       "output_type": "stream",
       "stream": "stdout",
       "text": [
        "\n",
        "1288: Wikipedia:WikiProject Insects\n",
        "1289: Wikipedia:WikiProject Jacksonville"
       ]
      },
      {
       "output_type": "stream",
       "stream": "stdout",
       "text": [
        "\n",
        "1290: Wikipedia:WikiProject University of Massachusetts\n",
        "1291: Wikipedia:WikiProject Physiology"
       ]
      },
      {
       "output_type": "stream",
       "stream": "stdout",
       "text": [
        "\n",
        "1292: Wikipedia:WikiProject Los Angeles Dodgers\n",
        "1293: Wikipedia:WikiProject Football/Women's football task force\n",
        "1294: Wikipedia:WikiProject Madagascar"
       ]
      },
      {
       "output_type": "stream",
       "stream": "stdout",
       "text": [
        "\n",
        "1295: Wikipedia:WikiProject Films/Australian cinema task force\n",
        "1296: Men's Issues\n",
        "1297: Katy Perry\n",
        "1298: Wikipedia:WikiProject Record Production\n",
        "1299: Freedom of speech\n",
        "1300: Television episode\n",
        "1301: Wikipedia:WikiProject Antarctica/Adelie Land work group"
       ]
      },
      {
       "output_type": "stream",
       "stream": "stdout",
       "text": [
        "\n",
        "1302: Wikipedia:WikiProject Museums\n",
        "1303: Wikipedia:WikiProject Disaster management\n",
        "1304: Wikipedia:WikiProject Mesoamerica\n",
        "1305: Wikipedia:WikiProject Bosnia and Herzegovina\n",
        "1306: San Francisco Bay Area"
       ]
      },
      {
       "output_type": "stream",
       "stream": "stdout",
       "text": [
        "\n",
        "1307: Wikipedia:WikiProject Skiing and Snowboarding\n",
        "1308: Wikipedia:WikiProject Chhattisgarh\n",
        "1309: Wikipedia:WikiProject Aircraft\n",
        "1310: Wikipedia:WikiProject Degrassi\n",
        "1311: Wikipedia:WikiProject St. Louis\n",
        "1312: Wikipedia:WikiProject United Arab Emirates\n",
        "1313: Wikipedia:WikiProject Hindu philosophy"
       ]
      },
      {
       "output_type": "stream",
       "stream": "stdout",
       "text": [
        "\n",
        "1314: Wikipedia:WikiProject Football"
       ]
      },
      {
       "output_type": "stream",
       "stream": "stdout",
       "text": [
        "\n",
        "1315: Wikipedia:WikiProject Janet Jackson\n",
        "1316: Wikipedia:WikiProject Cities"
       ]
      },
      {
       "output_type": "stream",
       "stream": "stdout",
       "text": [
        "\n",
        "1317: Wikipedia:WikiProject Philosophy/Philosophers\n",
        "1318: Wikipedia:WikiProject Civil engineering\n",
        "1319: Wikipedia:WikiProject Lehigh Valley\n",
        "1320: Wikipedia:WikiProject Queens of the Stone Age\n",
        "1321: Wikipedia:WikiProject South Carolina road transport\n",
        "1322: Wikipedia:WikiProject Lacrosse"
       ]
      },
      {
       "output_type": "stream",
       "stream": "stdout",
       "text": [
        "\n",
        "1323: Wikipedia:WikiProject Songs"
       ]
      },
      {
       "output_type": "stream",
       "stream": "stdout",
       "text": [
        "\n",
        "1324: Wikipedia:WikiProject Ontario\n",
        "1325: Wikipedia:WikiProject Featured topics\n",
        "1326: Wikipedia:WikiProject Pennsylvania State Highways\n",
        "1327: Wikipedia:WikiProject Rhode Island\n",
        "1328: Women's health"
       ]
      },
      {
       "output_type": "stream",
       "stream": "stdout",
       "text": [
        "\n",
        "1329: Wikipedia:WikiProject Indiana State Roads\n",
        "1330: Wikipedia:WikiProject Jewish history\n",
        "1331: Southern Gospel\n",
        "1332: Wikipedia:WikiProject Indigenous peoples of the Americas\n",
        "1333: Wikipedia:WikiProject Earthquakes\n",
        "1334: Wikipedia:WikiProject Scotland/Scottish Gaelic task force\n",
        "1335: Wikipedia:WikiProject Central African Republic"
       ]
      },
      {
       "output_type": "stream",
       "stream": "stdout",
       "text": [
        "\n",
        "1336: Tasmania road transport\n",
        "1337: Russian and Soviet military history\n",
        "1338: Gibraltar\n",
        "1339: Wikipedia:WikiProject Novels/19th century task force\n",
        "1340: Wikipedia:WikiProject Kerala\n",
        "1341: Wikipedia:WikiProject Celts\n",
        "1342: Wikipedia:WikiProject Fraternities and Sororities"
       ]
      },
      {
       "output_type": "stream",
       "stream": "stdout",
       "text": [
        "\n",
        "1343: Wikipedia:WikiProject Parapsychology\n",
        "1344: Wikipedia:WikiProject Saint Kitts and Nevis\n",
        "1345: Flight Simulation\n",
        "1346: Wikipedia:WikiProject Virginia\n",
        "1347: Wikipedia:WikiProject Yemen\n",
        "1348: Wikipedia:WikiProject Linux\n",
        "1349: Heroes"
       ]
      },
      {
       "output_type": "stream",
       "stream": "stdout",
       "text": [
        "\n",
        "1350: Wikipedia:WikiProject Indian literature\n",
        "1351: Wikipedia:WikiProject Wyoming road transport\n",
        "1352: Wikipedia:WikiProject University of Pittsburgh\n",
        "1353: Wikipedia:WikiProject Arminianism\n",
        "1354: Wikipedia:WikiProject Canberra\n",
        "1355: Wikipedia:WikiProject Yu-Gi-Oh!\n",
        "1356: Wikipedia:WikiProject Saskatchewan Roads/\n",
        "1357: Wikipedia:WikiProject Indiana Historical Society"
       ]
      },
      {
       "output_type": "stream",
       "stream": "stdout",
       "text": [
        "\n",
        "1358: Wikipedia:WikiProject Airlines/Defunct Airlines task force\n",
        "1359: Wikipedia:WikiProject Latter Day Saint movement\n",
        "1360: Wikipedia:WikiProject Snooker\n",
        "1361: Wikipedia:WikiProject U.S. Roads/Utah\n",
        "1362: Wikipedia:WikiProject Nebraska Highways\n",
        "1363: Wikipedia:WikiProject Spooks\n",
        "1364: Wikipedia:WikiProject Canada"
       ]
      },
      {
       "output_type": "stream",
       "stream": "stdout",
       "text": [
        "\n",
        "1365: Wikipedia:WikiProject Australian crime\n",
        "1366: Wikipedia:WikiProject College Basketball\n",
        "1367: Wikipedia:WikiProject Animation/World animation work group\n",
        "1368: Wikipedia:WikiProject Swimming/Water polo work group\n",
        "1369: Wikipedia:WikiProject Ethnic groups"
       ]
      },
      {
       "output_type": "stream",
       "stream": "stdout",
       "text": [
        "\n",
        "1370: Wikipedia:WikiProject Board and table games\n",
        "1371: Wikipedia:WikiProject Argentine Antarctica\n",
        "1372: Wikipedia:WikiProject Connecticut Routes\n",
        "1373: Wikipedia:WikiProject John Lennon\n",
        "1374: Wikipedia:WikiProject Reality TV\n",
        "1375: Wikipedia:WikiProject LGBT studies"
       ]
      },
      {
       "output_type": "stream",
       "stream": "stdout",
       "text": [
        "\n",
        "1376: Wikipedia:WikiProject Philosophy/Philosophical literature\n",
        "1377: Wikipedia:WikiProject History of Science\n",
        "1378: Wikipedia:WikiProject Virginia Tech\n",
        "1379: Wikipedia:WikiProject Shipwrecks\n",
        "1380: Lebanese military history\n",
        "1381: Jennifer Lopez\n",
        "1382: Historic houses"
       ]
      },
      {
       "output_type": "stream",
       "stream": "stdout",
       "text": [
        "\n",
        "1383: Wikipedia:WikiProject Comics/World comics work group\n",
        "1384: Wikipedia:WikiProject Shannara\n",
        "1385: Russia (human geography)\n",
        "1386: Wikipedia:WikiProject Islam/Salaf task force\n",
        "1387: Leona Lewis\n",
        "1388: Wikipedia:WikiProject Linguistics/Phonetics\n",
        "1389: Wikipedia:WikiProject Films/British cinema task force"
       ]
      },
      {
       "output_type": "stream",
       "stream": "stdout",
       "text": [
        "\n",
        "1390: Football in Scotland\n",
        "1391: Wikipedia:WikiProject Holidays\n",
        "1392: Lanark\n",
        "1393: Wikipedia:WikiProject Military history/Russian, Soviet and CIS military history task force\n",
        "1394: Wikipedia:WikiProject Films/New Zealand cinema task force\n",
        "1395: Russia (physical geography)\n",
        "1396: Wikipedia:WikiProject New Mexico road transport"
       ]
      },
      {
       "output_type": "stream",
       "stream": "stdout",
       "text": [
        "\n",
        "1397: Wikipedia:WikiProject Malta\n",
        "1398: Wikipedia:WikiProject Honduras\n",
        "1399: Wikipedia:WikiProject U2\n",
        "1400: Wikipedia:WikiProject Airlines\n",
        "1401: Wikipedia:WikiProject Medicine/Emergency medicine and EMS task force\n",
        "1402: Wikipedia:WikiProject Oregon\n",
        "1403: Football in India\n",
        "1404: Wikipedia:WikiProject Opera"
       ]
      },
      {
       "output_type": "stream",
       "stream": "stdout",
       "text": [
        "\n",
        "1405: Wikipedia:WikiProject Macau\n",
        "1406: Wikipedia:WikiProject Food and drink/Cheeses task force\n",
        "1407: Wikipedia:WikiProject U.S. Streets"
       ]
      },
      {
       "output_type": "stream",
       "stream": "stdout",
       "text": [
        "\n",
        "1408: Wikipedia:WikiProject Germany/Hamburg task force\n",
        "1409: Wikipedia:WikiProject Medicine/Nephrology task force\n",
        "1410: National Archives and Records Administration-related\n",
        "1411: Wikipedia:WikiProject Autism\n",
        "1412: Brands"
       ]
      },
      {
       "output_type": "stream",
       "stream": "stdout",
       "text": [
        "\n",
        "1413: Wikipedia:WikiProject Cook Islands\n",
        "1414: American Football League\n",
        "1415: Wikipedia:WikiProject Derbyshire\n",
        "1416: Wikipedia:WikiProject Cambodia\n",
        "1417: Wikipedia:WikiProject North Carolina State Highways\n",
        "1418: Wikipedia:WikiProject Dubai\n",
        "1419: Wikipedia:WikiProject California"
       ]
      },
      {
       "output_type": "stream",
       "stream": "stdout",
       "text": [
        "\n",
        "1420: Wikipedia:WikiProject Cartoon Network/Adult Swim task force\n",
        "1421: Oz\n",
        "1422: Wikipedia:United Arab Emirati sport\n",
        "1423: Wikipedia:WikiProject Awake\n",
        "1424: Military technology and engineering\n",
        "1425: Wikipedia:WikiProject Namibia\n",
        "1426: Wikipedia:WikiProject Gilbert and Sullivan"
       ]
      },
      {
       "output_type": "stream",
       "stream": "stdout",
       "text": [
        "\n",
        "1427: Wikipedia:WikiProject Chemical and Bio Engineering\n",
        "1428: Wikipedia:WikiProject Indian politics\n",
        "1429: Wikipedia:WikiProject Speed Skating \n",
        "1430: Wikipedia:WikiProject Edinburgh\n",
        "1431: Wikipedia:WikiProject Religious texts\n",
        "1432: Wikipedia:WikiProject Films/Film awards task force"
       ]
      },
      {
       "output_type": "stream",
       "stream": "stdout",
       "text": [
        "\n",
        "1433: Operation Majestic Titan (Phase III)\n",
        "1434: Wikipedia:WikiProject Hotels\n",
        "1435: Wikipedia:WikiProject Films/Film festivals task force\n",
        "1436: Wikipedia:WikiProject Northern Emirates\n",
        "1437: WP:GLAM/SIA\n",
        "1438: Cryptography\n",
        "1439: Wikipedia:WikiProject Education in the United Arab Emirates\n",
        "1440: Wikipedia:WikiProject Java\n",
        "1441: Wikipedia:WikiProject Christian history\n",
        "1442: Durham"
       ]
      },
      {
       "output_type": "stream",
       "stream": "stdout",
       "text": [
        "\n",
        "1443: Wikipedia:WikiProject Rwanda\n",
        "1444: Wikipedia:WikiProject Nickelodeon/The Fairly OddParents task force\n",
        "1445: Applied linguistics\n",
        "1446: Wikipedia:WikiProject Czech Republic\n",
        "1447: Wikipedia:WikiProject Punjab\n",
        "1448: Wikipedia:WikiProject Ras al-Khaimah"
       ]
      },
      {
       "output_type": "stream",
       "stream": "stdout",
       "text": [
        "\n",
        "1449: Wikipedia:WikiProject Barbados\n",
        "1450: Wikipedia:WikiProject Comics/British comics work group\n",
        "1451: Wikipedia:WikiProject Seamounts\n",
        "1452: Wikipedia:WikiProject Emo/My Chemical Romance task force\n",
        "1453: Wikipedia:WikiProject UK Theme Parks\n",
        "1454: Wikipedia:WikiProject Cartoon Network/Ben 10 task force\n",
        "1455: Wikipedia:WikiProject Automobiles\n",
        "1456: Wikipedia:WikiProject Metalworking\n",
        "1457: Wikipedia:WikiProject United States"
       ]
      },
      {
       "output_type": "stream",
       "stream": "stdout",
       "text": [
        "\n",
        "1458: Wikipedia:WikiProject Islam/Muslim history task force\n",
        "1459: Beetle\n",
        "1460: Wikipedia:WikiProject Caucasia\n",
        "1461: South African politics\n",
        "1462: Victoria road transport"
       ]
      },
      {
       "output_type": "stream",
       "stream": "stdout",
       "text": [
        "\n",
        "1463: Wikipedia:WikiProject Indian states\n",
        "1464: Wikipedia:WikiProject Cold War\n",
        "1465: Wikipedia:WikiProject Fujairah\n",
        "1466: Wikipedia:WikiProject Comics/Batman work group\n",
        "1467: Wikipedia:WikiProject Television Stations\n",
        "1468: Wikipedia:WikiProject Comics/Canadian comics work group\n",
        "1469: Wikipedia:WikiProject Rail transport in Jamaica"
       ]
      },
      {
       "output_type": "stream",
       "stream": "stdout",
       "text": [
        "\n",
        "1470: Wikipedia:WikiProject Evanescence\n",
        "1471: Wikipedia:WikiProject Cornell University\n",
        "1472: Buffyverse\n",
        "1473: Wikipedia:WikiProject Avatar: The Last Airbender\n",
        "1474: Operation Majestic Titan\n",
        "1475: Wikipedia:WikiProject Environment\n",
        "1476: Albemarle County"
       ]
      },
      {
       "output_type": "stream",
       "stream": "stdout",
       "text": [
        "\n",
        "1477: Wikipedia:WikiProject Umm al-Quwain\n",
        "1478: Wikipedia:WikiProject Sherlock Holmes\n",
        "1479: Okanagan\n",
        "1480: Wikipedia:WikiProject Radio stations\n",
        "1481: Wikipedia:WikiProject Arizona\n",
        "1482: Wikipedia:WikiProject Christianity in India\n",
        "1483: Wikipedia:WikiProject Rhode Island Routes\n",
        "1484: Wikipedia:WikiProject California State Highways"
       ]
      },
      {
       "output_type": "stream",
       "stream": "stdout",
       "text": [
        "\n",
        "1485: Wikipedia:WikiProject Aerosmith\n",
        "1486: Wikipedia:WikiProject Years\n",
        "1487: Wikipedia:WikiProject Western New York\n",
        "1488: Wikipedia:WikiProject Nortel\n",
        "1489: Wikipedia:WikiProject ACC\n",
        "1490: Wikipedia:WikiProject Meghalaya\n",
        "1491: Wikipedia:WikiProject Fishes"
       ]
      },
      {
       "output_type": "stream",
       "stream": "stdout",
       "text": [
        "\n",
        "1492: Wikipedia:WikiProject Luxembourg\n",
        "1493: Wikipedia:WikiProject University of Arkansas\n",
        "1494: Wikipedia:WikiProject Mauritius\n",
        "1495: Tokusatsu\n",
        "1496: Russia (language and literature)\n",
        "1497: Hiking trails\n",
        "1498: Wikipedia:WikiProject United Nations\n",
        "1499: Wikipedia:WikiProject Georgia (U.S. state)"
       ]
      },
      {
       "output_type": "stream",
       "stream": "stdout",
       "text": [
        "\n",
        "1500: Wikipedia:WikiProject Azerbaijan\n",
        "1501: Wikipedia:WikiProject Alternative medicine\n",
        "1502: Australia, New Zealand and South Pacific military history\n",
        "1503: Wikipedia:WikiProject Croatia\n",
        "1504: Wikipedia:WikiProject Alternative Education\n",
        "1505: Wikipedia:WikiProject Golf"
       ]
      },
      {
       "output_type": "stream",
       "stream": "stdout",
       "text": [
        "\n",
        "1506: Wikipedia:WikiProject Orienteering\n",
        "1507: Wikipedia:WikiProject Angola\n",
        "1508: Wikipedia:WikiProject Democratic Republic of the Congo\n",
        "1509: Wikipedia:WikiProject Nauru\n",
        "1510: Wikipedia:WikiProject Military history/United States military history task force"
       ]
      },
      {
       "output_type": "stream",
       "stream": "stdout",
       "text": [
        "\n",
        "1511: Wikipedia:WikiProject Saint Barthelemy\n",
        "1512: Wikipedia:WikiProject Antigua and Barbuda\n",
        "1513: Wikipedia:WikiProject Oman\n",
        "1514: Wikipedia:WikiProject Saskatchewan communities and neighbourhoods"
       ]
      },
      {
       "output_type": "stream",
       "stream": "stdout",
       "text": [
        "\n",
        "1515: Wikipedia:WikiProject Screenwriters\n",
        "1516: Wikipedia:WikiProject Horse racing\n",
        "1517: The Who\n",
        "1518: Wikipedia:WikiProject Cannabis\n",
        "1519: Wikipedia:WikiProject Academic Journals\n",
        "1520: Wikipedia:WikiProject Philosophy/Medieval\n",
        "1521: Wikipedia:WikiProject Dentistry"
       ]
      },
      {
       "output_type": "stream",
       "stream": "stdout",
       "text": [
        "\n",
        "1522: Wikipedia:WikiProject Political culture/Oligarchy\n",
        "1523: Wikipedia:WikiProject 24\n",
        "1524: Wikipedia:WikiProject Indiana Jones\n",
        "1525: Wikipedia:WikiProject Massachusetts/Salem Witch Trials Task Force\n",
        "1526: Stamford\n",
        "1527: Wikipedia:WikiProject Banksia\n",
        "1528: Wikipedia:WikiProject Comoros\n",
        "1529: Wikipedia:WikiProject Aviation/Rotorcraft task force\n",
        "1530: Wikipedia:WikiProject Travel and Tourism\n",
        "1531: Wikipedia:WikiProject Nepal"
       ]
      },
      {
       "output_type": "stream",
       "stream": "stdout",
       "text": [
        "\n",
        "1532: Wikipedia:WikiProject Severe weather\n",
        "1533: Wikipedia:WikiProject Canadian football\n",
        "1534: Wikipedia:WikiProject Football/Association football variants task force\n",
        "1535: Wikipedia:WikiProject Norway\n",
        "1536: Wikipedia:WikiProject Biography"
       ]
      },
      {
       "output_type": "stream",
       "stream": "stdout",
       "text": [
        "\n",
        "1537: Wikipedia:WikiProject British royalty"
       ]
      },
      {
       "output_type": "stream",
       "stream": "stdout",
       "text": [
        "\n",
        "1538: Wikipedia:WikiProject Ancient Near East\n",
        "1539: Wikipedia:WikiProject Aviation\n",
        "1540: Wikipedia:WikiProject BBC\n",
        "1541: Wikipedia:WikiProject Software/Free Software"
       ]
      },
      {
       "output_type": "stream",
       "stream": "stdout",
       "text": [
        "\n",
        "1542: Wikipedia:WikiProject Cornwall\n",
        "1543: Eminem\n",
        "1544: Wikipedia:WikiProject Philadelphia\n",
        "1545: Wikipedia:WikiProject Military history/World War II task force\n",
        "1546: Wikipedia:WikiProject Australian rules football"
       ]
      },
      {
       "output_type": "stream",
       "stream": "stdout",
       "text": [
        "\n",
        "1547: Taiwanese military history\n",
        "1548: Wikipedia:WikiProject Anatomy\n",
        "1549: Wikipedia:WikiProject Saudi Arabia\n",
        "1550: Wikipedia:WikiProject Boston Celtics\n",
        "1551: Intelligence or espionage related\n",
        "1552: Wikipedia:WikiProject Indian music\n",
        "1553: Wikipedia:WikiProject Guadeloupe\n",
        "1554: Wikipedia:WikiProject Europe"
       ]
      },
      {
       "output_type": "stream",
       "stream": "stdout",
       "text": [
        "\n",
        "1555: Wikipedia:WikiProject British and Irish hills\n",
        "1556: Shreveport task force\n",
        "1557: X Factor\n",
        "1558: Brisbane\n",
        "1559: Wikipedia:WikiProject Mumbai\n",
        "1560: Wikipedia:WikiProject Amphibian and reptile\n",
        "1561: Invention\n",
        "1562: Wikipedia:WikiProject Pinball\n",
        "1563: Wikipedia:WikiProject Gambling"
       ]
      },
      {
       "output_type": "stream",
       "stream": "stdout",
       "text": [
        "\n",
        "1564: Beyonc\u00e9\n",
        "1565: Wikipedia:WikiProject Game theory\n",
        "1566: Discrimination\n",
        "1567: Greater Boston Public Transit\n",
        "1568: Wikipedia:WikiProject Philosophy/Ancient\n",
        "1569: Mixed Drinks\n",
        "1570: Wikipedia:WikiProject Historic sites"
       ]
      },
      {
       "output_type": "stream",
       "stream": "stdout",
       "text": [
        "\n",
        "1571: Wikipedia:WikiProject Brazil/Transportation in Brazil task force\n",
        "1572: Wikipedia:WikiProject Philosophy/Modern\n",
        "1573: Lancashire and Cumbria\n",
        "1574: San Diego\n",
        "1575: Wikipedia:WikiProject Football/England task force"
       ]
      },
      {
       "output_type": "stream",
       "stream": "stdout",
       "text": [
        "\n",
        "1576: Wikipedia:WikiProject Education in New Jersey\n",
        "1577: Wikipedia:WikiProject North Carolina\n",
        "1578: Wikipedia:WikiProject Islam/Shi'a Islam task force\n",
        "1579: New Zealand military history\n",
        "1580: Wikipedia:WikiProject Netball\n",
        "1581: Wikipedia:WikiProject National Football League/Pittsburgh Steelers subproject\n",
        "1582: Wikipedia:WikiProject Indian roads"
       ]
      },
      {
       "output_type": "stream",
       "stream": "stdout",
       "text": [
        "\n",
        "1583: Wikipedia:WikiProject Mississippi\n",
        "1584: Wikipedia:WikiProject Paraguay\n",
        "1585: Kingdom of Hungary\n",
        "1586: Wikipedia:WikiProject El Salvador\n",
        "1587: Wikipedia:WikiProject National Register of Historic Places"
       ]
      },
      {
       "output_type": "stream",
       "stream": "stdout",
       "text": [
        "\n",
        "1588: Wikipedia:WikiProject Amateur radio\n",
        "1589: Wikipedia:WikiProject Morocco\n",
        "1590: Wikipedia:WikiProject Assyria\n",
        "1591: Wikipedia:WikiProject Denmark\n",
        "1592: Wikipedia:WikiProject The Dark Tower\n",
        "1593: Wikipedia:WikiProject Death"
       ]
      },
      {
       "output_type": "stream",
       "stream": "stdout",
       "text": [
        "\n",
        "1594: Wikipedia:WikiProject Iowa State Highways\n",
        "1595: Wikipedia:WikiProject Internet culture\n",
        "1596: Wikipedia:WikiProject Haiti\n",
        "1597: Justin Timberlake\n",
        "1598: Wikipedia:WikiProject Marching band\n",
        "1599: Wikipedia:WikiProject Medicine/Cardiology task force\n",
        "1600: Wikipedia:WikiProject Greenland\n",
        "1601: Wikipedia:WikiProject Military history/Japanese military history task force"
       ]
      },
      {
       "output_type": "stream",
       "stream": "stdout",
       "text": [
        "\n",
        "1602: Roald Dahl task force\n",
        "1603: Wikipedia:WikiProject Organized Labour\n",
        "1604: Wikipedia:WikiProject Baseball\n",
        "1605: Education in the United Kingdom\n",
        "1606: Wikipedia:WikiProject Alien"
       ]
      },
      {
       "output_type": "stream",
       "stream": "stdout",
       "text": [
        "\n",
        "1607: Wikipedia:WikiProject Australian places\n",
        "1608: Wikipedia:WikiProject Surrey\n",
        "1609: Wikipedia:WikiProject Actors and Filmmakers\n",
        "1610: Wikipedia:WikiProject Role-playing games"
       ]
      },
      {
       "output_type": "stream",
       "stream": "stdout",
       "text": [
        "\n",
        "1611: Wikipedia:WikiProject Australian biota\n",
        "1612: Wikipedia:WikiProject Los Angeles Angels of Anaheim\n",
        "1613: Wikipedia:WikiProject World Heritage Sites\n",
        "1614: Wikipedia:WikiProject U.S. Virgin Islands road transport\n",
        "1615: Wikipedia:WikiProject Cryptozoology\n",
        "1616: Estonia\n",
        "1617: Inheritance Cycle\n",
        "1618: Wikipedia:WikiProject Belarus"
       ]
      },
      {
       "output_type": "stream",
       "stream": "stdout",
       "text": [
        "\n",
        "1619: Wikipedia:WikiProject Companies\n",
        "1620: Wikipedia:WikiProject Cell Signaling\n",
        "1621: Wikipedia:WikiProject Spain"
       ]
      },
      {
       "output_type": "stream",
       "stream": "stdout",
       "text": [
        "\n",
        "1622: Wikipedia:WikiProject Military history/Balkan military history task force\n",
        "1623: Wikipedia:WikiProject Romani people\n",
        "1624: Wikipedia:WikiProject Holby\n",
        "1625: Wikipedia:WikiProject Biography/Sports and games"
       ]
      },
      {
       "output_type": "stream",
       "stream": "stdout",
       "text": [
        "\n",
        "1626: Wikipedia:WikiProject Medicine/Psychiatry task force\n",
        "1627: Wikipedia:WikiProject Comics/Spider-Man work group\n",
        "1628: Wikipedia:WikiProject South Sudan\n",
        "1629: Wikipedia:WikiProject Cayman Islands\n",
        "1630: Wikipedia:WikiProject African diaspora"
       ]
      },
      {
       "output_type": "stream",
       "stream": "stdout",
       "text": [
        "\n",
        "1631: Wikipedia:WikiProject Wisconsin\n",
        "1632: Wikipedia:WikiProject Geelong\n",
        "1633: Wikipedia:WikiProject Belize\n",
        "1634: Wikipedia:WikiProject Paranormal\n",
        "1635: Wikipedia:WikiProject Australian politics\n",
        "1636: Wikipedia:WikiProject Mangalore"
       ]
      },
      {
       "output_type": "stream",
       "stream": "stdout",
       "text": [
        "\n",
        "1637: Friends\n",
        "1638: Wikipedia:WikiProject Monaco\n",
        "1639: Wikipedia:WikiProject Frisia\n",
        "1640: Wikipedia:WikiProject Grey's Anatomy/Private Practice task force\n",
        "1641: Wikipedia:WikiProject Pashtun\n",
        "1642: Conservatism\n",
        "1643: Wikipedia:WikiProject South Georgia and the South Sandwich Islands\n",
        "1644: Wikipedia:WikiProject Military history/Military memorials and cemeteries task force\n",
        "1645: Wikipedia:WikiProject Seton Hall University"
       ]
      },
      {
       "output_type": "stream",
       "stream": "stdout",
       "text": [
        "\n",
        "1646: Wikipedia:WikiProject Airports\n",
        "1647: Wikipedia:WikiProject Greater Manchester\n",
        "1648: Wikipedia:WikiProject Serbia\n",
        "1649: Wikipedia:WikiProject Guinea-Bissau\n",
        "1650: Carrom\n",
        "1651: Wikipedia:WikiProject Animation/Looney Tunes work group"
       ]
      },
      {
       "output_type": "stream",
       "stream": "stdout",
       "text": [
        "\n",
        "1652: Wikipedia:WikiProject Football/USA and Canada task force\n",
        "1653: Wikipedia:WikiProject Korea\n",
        "1654: Wikipedia:WikiProject Hungary\n",
        "1655: Wikipedia:WikiProject Australian baseball\n",
        "1656: Wikipedia:WikiProject Netherlands Antilles"
       ]
      },
      {
       "output_type": "stream",
       "stream": "stdout",
       "text": [
        "\n",
        "1657: Wikipedia:WikiProject Syria\n",
        "1658: Wikipedia:WikiProject Norwegian Antarctica\n",
        "1659: Wikipedia:WikiProject Jewish Women\n",
        "1660: Wikipedia:WikiProject Aviation/Air sports task force\n",
        "1661: Wikipedia:WikiProject The Simpsons\n",
        "1662: Wikipedia:WikiProject Highways/Africa\n",
        "1663: Wikipedia:WikiProject ER\n",
        "1664: Wikipedia:WikiProject Geography of the United Arab Emirates\n",
        "1665: Wikipedia:WikiProject Hindu Mythology"
       ]
      },
      {
       "output_type": "stream",
       "stream": "stdout",
       "text": [
        "\n",
        "1666: Wikipedia:WikiProject Dravidian civilizations\n",
        "1667: Wikipedia:WikiProject Films/Argentine cinema task force\n",
        "1668: Wikipedia:WikiProject Telangana\n",
        "1669: Wikipedia:WikiProject Israel\n",
        "1670: Wikipedia:WikiProject Bedfordshire\n",
        "1671: Wikipedia:WikiProject Pink Floyd\n",
        "1672: Wikipedia:WikiProject Astronomical Objects"
       ]
      },
      {
       "output_type": "stream",
       "stream": "stdout",
       "text": [
        "\n",
        "1673: Wikipedia:WikiProject University of Central Florida\n",
        "1674: Wikipedia:WikiProject Dinosaurs\n",
        "1675: Wikipedia:WikiProject Animation/Hanna-Barbera work group\n",
        "1676: University of Pennsylvania\n",
        "1677: Mexican-American\n",
        "1678: Wikipedia:WikiProject Oklahoma"
       ]
      },
      {
       "output_type": "stream",
       "stream": "stdout",
       "text": [
        "\n",
        "1679: Wikipedia:WikiProject Djibouti\n",
        "1680: Sindh\n",
        "1681: Wikipedia:WikiProject Pondicherry\n",
        "1682: Wikipedia:WikiProject Indianapolis\n",
        "1683: Wikipedia:WikiProject Arctic\n",
        "1684: Wikipedia:WikiProject Yorkshire\n",
        "1685: Wikipedia:WikiProject \u00c3\u0085",
        "land Islands\n",
        "1686: Wikipedia:WikiProject Bolivia"
       ]
      },
      {
       "output_type": "stream",
       "stream": "stdout",
       "text": [
        "\n",
        "1687: Wikipedia:WikiProject Slovakia\n",
        "1688: Wikipedia:WikiProject Bihar\n",
        "1689: Wikipedia:WikiProject Aviation/Aviation accident task force\n",
        "1690: Wikipedia:WikiProject ROMacedonia\n",
        "1691: Wikipedia:WikiProject Medicine/Hematology-oncology task force\n",
        "1692: Wikipedia:WikiProject Guyana\n",
        "1693: Wikipedia:WikiProject Somalia\n",
        "1694: Wikipedia:WikiProject Military history/Medieval warfare task force"
       ]
      },
      {
       "output_type": "stream",
       "stream": "stdout",
       "text": [
        "\n",
        "1695: Bj\u00f6rk\n",
        "1696: Wikipedia:WikiProject Drum Corps\n",
        "1697: Wikipedia:WikiProject Novels\\Military fiction task force\n",
        "1698: SRI International\n",
        "1699: Wikipedia:WikiProject NBA\n",
        "1700: Wikipedia:WikiProject Bernini\n",
        "1701: Wikipedia:WikiProject Cultural Heritage of Serbia\n",
        "1702: Wikipedia:WikiProject Jordan"
       ]
      },
      {
       "output_type": "stream",
       "stream": "stdout",
       "text": [
        "\n",
        "1703: Wikipedia:WikiProject Medicine/Gastroenterology task force\n",
        "1704: CSI\n",
        "1705: Wikipedia:WikiProject Television/Dexter task force\n",
        "1706: Wikipedia:WikiProject Military history/Crusades task force\n",
        "1707: Wikipedia:WikiProject Idol series\n",
        "1708: Wikipedia:WikiProject Military history/French military history task force\n",
        "1709: Wikipedia:WikiProject EastEnders\n",
        "1710: Wikipedia:WikiProject Isle of Man"
       ]
      },
      {
       "output_type": "stream",
       "stream": "stdout",
       "text": [
        "\n",
        "1711: Wikipedia:WikiProject Slayer\n",
        "1712: Wikipedia:WikiProject Singapore\n",
        "1713: Wikipedia:WikiProject Hawaii road transport\n",
        "1714: Osaka University\n",
        "1715: Wikipedia:WikiProject Animation\n",
        "1716: Wikipedia:WikiProject Military history/Spanish military history task force\n",
        "1717: Operation Majestic Titan (Phase I)\n",
        "1718: Wikipedia:WikiProject Saint Martin"
       ]
      },
      {
       "output_type": "stream",
       "stream": "stdout",
       "text": [
        "\n",
        "1719: Wikipedia:WikiProject India/Cities\n",
        "1720: Wikipedia:WikiProject Crime and Criminal Biography\n",
        "1721: Wikipedia:WikiProject Sao Tome and Principe\n",
        "1722: Wikipedia:WikiProject Mass spectrometry\n",
        "1723: Wikipedia:WikiProject Languages\n",
        "1724: Wikipedia:WikiProject Viruses\n",
        "1725: Wikipedia:WikiProject Zoroastrianism"
       ]
      },
      {
       "output_type": "stream",
       "stream": "stdout",
       "text": [
        "\n",
        "1726: Wikipedia:WikiProject Polynesia/Pitcairn Islands work group\n",
        "1727: Wikipedia:WikiProject Virginia Highways\n",
        "1728: Wikipedia:WikiProject Jehovah's Witnesses\n",
        "1729: Wikipedia:WikiProject The Beatles\n",
        "1730: Wikipedia:WikiProject Georgia (country)\n",
        "1731: WikiProject Appalachia\n",
        "1732: University of Southern California\n",
        "1733: Wikipedia:WikiProject Football/Season article task force"
       ]
      },
      {
       "output_type": "stream",
       "stream": "stdout",
       "text": [
        "\n",
        "1734: Wikipedia:WikiProject East Asia\n",
        "1735: Wikipedia:WikiProject Karnataka\n",
        "1736: Wikipedia:WikiProject Tajikistan\n",
        "1737: Wikipedia:WikiProject National Basketball Association/WNBA task force\n",
        "1738: Wikipedia:WikiProject Politics of the United Kingdom"
       ]
      },
      {
       "output_type": "stream",
       "stream": "stdout",
       "text": [
        "\n",
        "1739: Wikipedia:WikiProject Articles for creation\n",
        "1740: The Office\n",
        "1741: Wikipedia:WikiProject Utah\n",
        "1742: Wikipedia:WikiProject Charlotte\n",
        "1743: Wikipedia:WikiProject Louisville\n",
        "1744: Wikipedia:WikiProject Bahrain"
       ]
      },
      {
       "output_type": "stream",
       "stream": "stdout",
       "text": [
        "\n",
        "1745: Bodybuilding\n",
        "1746: Wikipedia:WikiProject Chandigarh\n",
        "1747: Wikipedia:WikiProject WPChem worklist\n",
        "1748: Wikipedia:WikiProject Contemporary Christian music\n",
        "1749: Wikipedia:WikiProject Mathematics\n",
        "1750: Wikipedia:WikiProject Arkansas road transport"
       ]
      },
      {
       "output_type": "stream",
       "stream": "stdout",
       "text": [
        "\n",
        "1751: Wikipedia:WikiProject Physics\n",
        "1752: Wikipedia:WikiProject Biography/Arts and entertainment"
       ]
      },
      {
       "output_type": "stream",
       "stream": "stdout",
       "text": [
        "\n",
        "1753: Wikipedia:WikiProject Portugal\n",
        "1754: Requested\n",
        "1755: Wikipedia:WikiProject Pop music\n",
        "1756: Wikipedia:WikiProject Ecology\n",
        "1757: Wikipedia:WikiProject Association Football in Australia\n",
        "1758: Transcendental Meditation movement"
       ]
      },
      {
       "output_type": "stream",
       "stream": "stdout",
       "text": [
        "\n",
        "1759: Operation Majestic Titan (Phase II)\n",
        "1760: Wikipedia:WikiProject Cyprus\n",
        "1761: Wikipedia:WikiProject Silesia\n",
        "1762: Wikipedia:WikiProject Cartoon Network/Ed, Edd n Eddy task force\n",
        "1763: Wikipedia:WikiProject Foodservice\n",
        "1764: Wikipedia:WikiProject Sussex\n",
        "1765: Wikipedia:WikiProject Switzerland"
       ]
      },
      {
       "output_type": "stream",
       "stream": "stdout",
       "text": [
        "\n",
        "1766: Wikipedia:WikiProject Philosophy/Social and political\n",
        "1767: Wikipedia:WikiProject Motorcycling\n",
        "1768: Wikipedia:WikiProject Vancouver\n",
        "1769: African diaspora visual arts\n",
        "1770: Wikipedia:WikiProject Niger\n",
        "1771: Wikipedia:WikiProject Atlanta Braves\n",
        "1772: GibraltarpediA-related\n",
        "1773: Wikipedia:WikiProject Olympics/Paralympics"
       ]
      },
      {
       "output_type": "stream",
       "stream": "stdout",
       "text": [
        "\n",
        "1774: Wikipedia:WikiProject Unionism in Ireland/Assessment\n",
        "1775: Wikipedia:WikiProject Fashion\n",
        "1776: Wikipedia:WikiProject Berbers\n",
        "1777: Wikipedia:WikiProject College football\n",
        "1778: Wikipedia:WikiProject Northwestern Hawaiian Islands"
       ]
      },
      {
       "output_type": "stream",
       "stream": "stdout",
       "text": [
        "\n",
        "1779: Wikipedia:WikiProject Thailand\n",
        "1780: Wikipedia:WikiProject Australian basketball\n",
        "1781: Turkmenistan\n",
        "1782: University of Connecticut\n",
        "1783: Wikipedia:WikiProject Suriname\n",
        "1784: Wikipedia:WikiProject Republic of the Congo\n",
        "1785: Wikipedia:WikiProject Animation/Stop motion work group\n",
        "1786: Wikipedia:WikiProject Women's sport"
       ]
      },
      {
       "output_type": "stream",
       "stream": "stdout",
       "text": [
        "\n",
        "1787: Tampa Bay\n",
        "1788: Wikipedia:WikiProject Debating\n",
        "1789: Wikipedia:WikiProject Cosmology\n",
        "1790: Wikipedia:WikiProject Jainism\n",
        "1791: Wikipedia:WikiProject Islam/Hadith task force\n",
        "1792: Wikipedia:WikiProject Vanuatu\n",
        "1793: New South Wales road transport\n",
        "1794: Wikipedia:WikiProject Christian Metal\n",
        "1795: Courage"
       ]
      },
      {
       "output_type": "stream",
       "stream": "stdout",
       "text": [
        "\n",
        "1796: Wikipedia:WikiProject Country Music\n",
        "1797: Wikipedia:WikiProject Canada/Kawartha Lakes\n",
        "1798: Wikipedia:WikiProject Odisha\n",
        "1799: Wikipedia:WikiProject Politics\n",
        "1800: Wikipedia:WikiProject Medicine/Society and medicine task force"
       ]
      },
      {
       "output_type": "stream",
       "stream": "stdout",
       "text": [
        "\n",
        "1801: Wikipedia:WikiProject Moldova/Chi\u00c8\u0099in\u00c4\u0083u task force\n",
        "1802: Wikipedia:WikiProject Maine road transport\n",
        "1803: Wikipedia:WikiProject Qatar\n",
        "1804: Wikipedia:WikiProject Economics\n",
        "1805: Wikipedia:WikiProject Canadian TV shows\n",
        "1806: Wikipedia:WikiProject Eastern Europe\n",
        "1807: Bangladesh Premier League"
       ]
      },
      {
       "output_type": "stream",
       "stream": "stdout",
       "text": [
        "\n",
        "1808: Wikipedia:WikiProject Retailing\n",
        "1809: Wikipedia:WikiProject Telecommunications\n",
        "1810: Wikipedia:WikiProject Cameroon\n",
        "1811: Wikipedia:WikiProject Curling\n",
        "1812: Wikipedia:WikiProject Madeira\n",
        "1813: Wikipedia:WikiProject Hertfordshire\n",
        "1814: Wikipedia:WikiProject Lesotho"
       ]
      },
      {
       "output_type": "stream",
       "stream": "stdout",
       "text": [
        "\n",
        "1815: Wikipedia:WikiProject Psychoactive and Recreational Drugs\n",
        "1816: Wikipedia:WikiProject Squash\n",
        "1817: Wikipedia:WikiProject Minnesota Twins\n",
        "1818: Wikipedia:WikiProject Ajman\n",
        "1819: Wikipedia:WikiProject Twilight task force\n",
        "1820: Wikipedia:WikiProject Transport\n",
        "1821: Newcomb Archives and Vorhoff Library-related\n",
        "1822: Wikipedia:WikiProject Ice Hockey/European Ice Hockey task force\n",
        "1823: Wikipedia:WikiProject Test cards"
       ]
      },
      {
       "output_type": "stream",
       "stream": "stdout",
       "text": [
        "\n",
        "1824: Wikipedia:WikiProject Education in Canada\n",
        "1825: Wikipedia:WikiProject Soil\n",
        "1826: Wikipedia:WikiProject Lemony Snicket task force\n",
        "1827: Wikipedia:WikiProject Lego\n",
        "1828: Wikipedia:WikiProject Liechtenstein\n",
        "1829: Wikipedia:WikiProject Philosophy/Contemporary\n",
        "1830: History of the Paralympic movement in Australia-related\n",
        "1831: Wikipedia:WikiProject Led Zeppelin"
       ]
      },
      {
       "output_type": "stream",
       "stream": "stdout",
       "text": [
        "\n",
        "1832: Wikipedia:WikiProject Hillary Rodham Clinton\n",
        "1833: Wikipedia:WikiProject U.S. Roads/Alabama\n",
        "1834: Wikipedia:WikiProject New Hampshire Mountains\n",
        "1835: Wikipedia:WikiProject Boxing\n",
        "1836: Wikipedia:WikiProject Patna\n",
        "1837: Wikipedia:WikiProject Nigeria/Rivers State work group\n",
        "1838: Wikipedia:WikiProject Mountains"
       ]
      },
      {
       "output_type": "stream",
       "stream": "stdout",
       "text": [
        "\n",
        "1839: Wikipedia:WikiProject Taiwan/Taiwanese townships task force\n",
        "1840: Wikipedia:WikiProject Korean baseball\n",
        "1841: Wikipedia:WikiProject Louisiana Tech\n",
        "1842: Wikipedia:WikiProject Horror\n",
        "1843: Wikipedia:WikiProject Eritrea\n",
        "1844: Wikipedia:WikiProject Volcanoes\n",
        "1845: Wikipedia:WikiProject Bah\u00c3\u00a1'\u00c3\u00ad Faith"
       ]
      },
      {
       "output_type": "stream",
       "stream": "stdout",
       "text": [
        "\n",
        "1846: Wikipedia:WikiProject Military history/Early Modern warfare task force\n",
        "1847: Wikipedia:WikiProject Adelaide\n",
        "1848: Wikipedia:WikiProject Progressive Rock\n",
        "1849: Geological periods\n",
        "1850: Wikipedia:WikiProject Punjab (India)\n",
        "1851: Wikipedia:WikiProject Nickelodeon"
       ]
      },
      {
       "output_type": "stream",
       "stream": "stdout",
       "text": [
        "\n",
        "1852: Operation Majestic Titan (Phase IV)\n",
        "1853: Wikipedia:WikiProject Phoenix Suns\n",
        "1854: Wikipedia:WikiProject Medicine\n",
        "1855: Wikipedia:WikiProject New Zealand/politics\n",
        "1856: Wikipedia:WikiProject Ethiopia/History and politics"
       ]
      },
      {
       "output_type": "stream",
       "stream": "stdout",
       "text": [
        "\n",
        "1857: Wikipedia:WikiProject Ghana\n",
        "1858: Squatting\n",
        "1859: English non-league football\n",
        "1860: Wikipedia:WikiProject Military history/Southeast Asian military history task force\n",
        "1861: Wikipedia:WikiProject Former countries/Empire of Brazil task force\n",
        "1862: Wikipedia:WikiProject Oklahoma/Tulsa\n",
        "1863: Wikipedia:WikiProject Ancient Egypt\n",
        "1864: Wikipedia:WikiProject Arts"
       ]
      },
      {
       "output_type": "stream",
       "stream": "stdout",
       "text": [
        "\n",
        "1865: Wikipedia:WikiProject Latin music/Regional Mexican music\n",
        "1866: Wikipedia:WikiProject Netherlands\n",
        "1867: Wikipedia:WikiProject Law Enforcement\n",
        "1868: Wikipedia:WikiProject Ivory Coast\n",
        "1869: Wikipedia:WikiProject Indian geography"
       ]
      },
      {
       "output_type": "stream",
       "stream": "stdout",
       "text": [
        "\n",
        "1870: Wikipedia:WikiProject Military history/Fortifications task force\n",
        "1871: Wikipedia:WikiProject Hong Kong/Hong Kong Cinema Task Force\n",
        "1872: Wikipedia:WikiProject Energy\n",
        "1873: Mariah Carey\n",
        "1874: Wikipedia:WikiProject Investment"
       ]
      },
      {
       "output_type": "stream",
       "stream": "stdout",
       "text": [
        "\n",
        "1875: Wikipedia:WikiProject Uruguay\n",
        "1876: Wikipedia:WikiProject San Marino\n",
        "1877: Wikipedia:WikiProject Micronesia/Wake Island work group\n",
        "1878: Wikipedia:WikiProject Umpires\n",
        "1879: Wikipedia:WikiProject North East England\n",
        "1880: Wikipedia:WikiProject Cincinnati"
       ]
      },
      {
       "output_type": "stream",
       "stream": "stdout",
       "text": [
        "\n",
        "1881: Wikipedia:WikiProject Zambia\n",
        "1882: Wikipedia:WikiProject Saint Pierre and Miquelon\n",
        "1883: Wikipedia:WikiProject Australian sports\n",
        "1884: Wikipedia:WikiProject U.S. Roads\n",
        "1885: Wikipedia:WikiProject New York Yankees"
       ]
      },
      {
       "output_type": "stream",
       "stream": "stdout",
       "text": [
        "\n",
        "1886: Wikipedia:WikiProject Drug Policy\n",
        "1887: Wikipedia:WikiProject Sydney\n",
        "1888: Wikipedia:WikiProject Films/Baltic cinema task force\n",
        "1889: Wikipedia:WikiProject Video games/Adventure games\n",
        "1890: Wikipedia:WikiProject UK Waterways\n",
        "1891: Wikipedia:WikiProject Vermont Routes\n",
        "1892: Wikipedia:WikiProject Dorset\n",
        "1893: Miley Cyrus"
       ]
      },
      {
       "output_type": "stream",
       "stream": "stdout",
       "text": [
        "\n",
        "1894: Wikipedia:WikiProject Monty Python\n",
        "1895: Wikipedia:WikiProject Anthroponymy\n",
        "1896: Wikipedia:WikiProject Prison Break\n",
        "1897: Wikipedia:WikiProject Islam/Muslim scholars task force"
       ]
      },
      {
       "output_type": "stream",
       "stream": "stdout",
       "text": [
        "\n",
        "1898: Wikipedia:WikiProject Myrtle Beach\n",
        "1899: Scottish Television\n",
        "1900: Wikipedia:WikiProject Brazil/Geography of Brazil task force\n",
        "1901: Wikipedia:WikiProject India/Classical Tamil\n",
        "1902: Superfund\n",
        "1903: Wikipedia:WikiProject Professional sound production\n",
        "1904: Wikipedia:WikiProject 19th century novels task force"
       ]
      },
      {
       "output_type": "stream",
       "stream": "stdout",
       "text": [
        "\n",
        "1905: Wikipedia:WikiProject United States Virgin Islands\n",
        "1906: Gerald Ford\n",
        "1907: Wikipedia:WikiProject United States History\n",
        "1908: Wikipedia:WikiProject Abu Dhabi\n",
        "1909: Wikipedia:WikiProject Computer Security\n",
        "1910: Wikipedia:WikiProject Films/Silent films task force\n",
        "1911: Wikipedia:WikiProject Pakistan Super League"
       ]
      },
      {
       "output_type": "stream",
       "stream": "stdout",
       "text": [
        "\n",
        "1912: Wikipedia:WikiProject Krishnaism\n",
        "1913: Wikipedia:WikiProject Dacia\n",
        "1914: Wikipedia:WikiProject Vermont\n",
        "1915: Wikipedia:WikiProject Microsoft Windows\n",
        "1916: Wikipedia:WikiProject Chicago\n",
        "1917: Wikipedia:WikiProject Photography"
       ]
      },
      {
       "output_type": "stream",
       "stream": "stdout",
       "text": [
        "\n",
        "1918: Wikipedia:WikiProject Zimbabwe\n",
        "1919: Wikipedia:WikiProject Multi-sport events\n",
        "1920: Wikipedia:WikiProject Warhammer 40,000\n",
        "1921: Wikipedia:WikiProject Judaism\n",
        "1922: Wikipedia:WikiProject Devon\n",
        "1923: Wikipedia:WikiProject Apple Inc./Macintosh task force"
       ]
      },
      {
       "output_type": "stream",
       "stream": "stdout",
       "text": [
        "\n",
        "1924: Wikipedia:WikiProject Canadian sport\n",
        "1925: Wikipedia:WikiProject Trinidad and Tobago\n",
        "1926: Wikipedia:WikiProject Military history/German military history task force\n",
        "1927: Wikipedia:WikiProject Computer Vision\n",
        "1928: Johns Hopkins University-related"
       ]
      },
      {
       "output_type": "stream",
       "stream": "stdout",
       "text": [
        "\n",
        "1929: Wikipedia:WikiProject Nova Scotia\n",
        "1930: Wikipedia:WikiProject Law\n",
        "1931: Wikipedia:WikiProject Formula One\n",
        "1932: Wikipedia:WikiProject Animation/SpongeBob SquarePants work group\n",
        "1933: Wikipedia:WikiProject Dominica\n",
        "1934: Uniform Polytopes"
       ]
      },
      {
       "output_type": "stream",
       "stream": "stdout",
       "text": [
        "\n",
        "1935: Wikipedia:WikiProject HGH\n",
        "1936: Wikipedia:WikiProject Kiribati\n",
        "1937: Wikipedia:WikiProject Amiga\n",
        "1938: Wikipedia:WikiProject Buckinghamshire\n",
        "1939: Wikipedia:WikiProject Texas State Highways\n",
        "1940: Wikipedia:WikiProject Chad\n",
        "1941: Wikipedia:WikiProject Lithuania"
       ]
      },
      {
       "output_type": "stream",
       "stream": "stdout",
       "text": [
        "\n",
        "1942: Wikipedia:WikiProject Glaciers\n",
        "1943: Wikipedia:WikiProject Microbiology\n",
        "1944: Wikipedia:WikiProject Ottoman Empire\n",
        "1945: Wikipedia:WikiProject Films/German cinema task force\n",
        "1946: Wikipedia:WikiProject Prince Edward Island\n",
        "1947: Wikipedia:WikiProject Cue sports"
       ]
      },
      {
       "output_type": "stream",
       "stream": "stdout",
       "text": [
        "\n",
        "1948: Wikipedia:WikiProject Go\n",
        "1949: Wikipedia:WikiProject California/Inland Empire task force"
       ]
      },
      {
       "output_type": "stream",
       "stream": "stdout",
       "text": [
        "\n",
        "1950: Wikipedia:WikiProject Columbia University\n",
        "1951: Wikipedia:WikiProject New religious movements\n",
        "1952: Wikipedia:WikiProject Hazara\n",
        "1953: Wikipedia:WikiProject Kentucky\n",
        "1954: Wikipedia:WikiProject Cartoon Network\n",
        "1955: Wikipedia:WikiProject Military history/Polish military history task force\n",
        "1956: Philadelphia Museum of Art-related"
       ]
      },
      {
       "output_type": "stream",
       "stream": "stdout",
       "text": [
        "\n",
        "1957: Animal anatomy\n",
        "1958: Wikipedia:WikiProject Military history/Baltic states military history task force\n",
        "1959: Wikipedia:WikiProject Creationism/Young Earth creationism\n",
        "1960: Franco-Americans\n",
        "1961: Wikipedia:WikiProject Antarctica/Australian Antarctic Territory work group\n",
        "1962: Wiltshire\n",
        "1963: Human Genetic History\n",
        "1964: Wikipedia:WikiProject Typography"
       ]
      },
      {
       "output_type": "stream",
       "stream": "stdout",
       "text": [
        "\n",
        "1965: Wikipedia:WikiProject Poker\n",
        "1966: Wikipedia:WikiProject English Royalty\n",
        "1967: Arrested Development\n",
        "1968: Microsoft\n",
        "1969: Wikipedia:WikiProject Ghost towns\n",
        "1970: Wikipedia:WikiProject Alternate History\n",
        "1971: Endangered languages\n",
        "1972: Wikipedia:WikiProject Jammu and Kashmir"
       ]
      },
      {
       "output_type": "stream",
       "stream": "stdout",
       "text": [
        "\n",
        "1973: Lady Gaga\n",
        "1974: Wikipedia:WikiProject United States Government\n",
        "1975: Wikipedia:WikiProject Football/Sheffield United task force\n",
        "1976: Wikipedia:WikiProject Blades\n",
        "1977: Wikipedia:WikiProject Genetics"
       ]
      },
      {
       "output_type": "stream",
       "stream": "stdout",
       "text": [
        "\n",
        "1978: Wikipedia:WikiProject Stargate\n",
        "1979: Wikipedia:WikiProject Bradford\n",
        "1980: Wikipedia:WikiProject Measurement\n",
        "1981: Wikipedia:WikiProject C\u00c3\u00b4te d'Ivoire\n",
        "1982: Wikipedia:WikiProject Vienna\n",
        "1983: Wikipedia:WikiProject Orissa\n",
        "1984: Wikipedia:WikiProject Classical Greece and Rome"
       ]
      },
      {
       "output_type": "stream",
       "stream": "stdout",
       "text": [
        "\n",
        "1985: Wikipedia:WikiProject Comics/Marvel Comics work group\n",
        "1986: Wikipedia:WikiProject Social Work\n",
        "1987: Wikipedia:WikiProject Football/Brazil task force\n",
        "1988: Maritime transport task force\n",
        "1989: Wikipedia:WikiProject Mammals/Pocket pets work group\n",
        "1990: Wikipedia:WikiProject Volcanoes/Volcanism of Canada task force\n",
        "1991: William Blake task force\n",
        "1992: Sanitation"
       ]
      },
      {
       "output_type": "stream",
       "stream": "stdout",
       "text": [
        "\n",
        "1993: Wikipedia:WikiProject Ohio/Townships taskforce\n",
        "1994: Wikipedia:WikiProject Highways/Europe\n",
        "1995: Wikipedia:WikiProject Logic\n",
        "1996: Wikipedia:WikiProject Transport in India\n",
        "1997: Wikipedia:WikiProject Sumo\n",
        "1998: Wikipedia:WikiProject Emo\n",
        "1999: Wikipedia:WikiProject Horticulture and Gardening\n",
        "2000: Wikipedia:WikiProject Lakes"
       ]
      },
      {
       "output_type": "stream",
       "stream": "stdout",
       "text": [
        "\n",
        "2001: Wikipedia:WikiProject Music Theory\n",
        "2002: Wikipedia:WikiProject Military history/American Civil War task force\n",
        "2003: Wikipedia:WikiProject Rodents\n",
        "2004: Military science and technology\n",
        "2005: Wikipedia:WikiProject Sierra Leone\n",
        "2006: Wikipedia:WikiProject Oceans\n",
        "2007: Wikipedia:WikiProject New Hampshire State Highways"
       ]
      },
      {
       "output_type": "stream",
       "stream": "stdout",
       "text": [
        "\n",
        "2008: Grammy Awards task force\n",
        "2009: Semantic Web\n",
        "2010: Wikipedia:WikiProject Long Island\n",
        "2011: Hersheypark\n",
        "2012: Wikipedia:WikiProject Women artists\n",
        "2013: Containers\n",
        "2014: Russia (technology and engineering)\n",
        "2015: West Virginia University"
       ]
      },
      {
       "output_type": "stream",
       "stream": "stdout",
       "text": [
        "\n",
        "2016: National Institutes of Health\n",
        "2017: Wikipedia:WikiProject Delaware road transport\n",
        "2018: Wikipedia:WikiProject Indigenous peoples of Australia\n",
        "2019: Wikipedia:WikiProject Canada Roads\n",
        "2020: Wikipedia:WikiProject Festivals\n",
        "2021: Wikipedia:WikiProject Triathlon\n",
        "2022: Wikipedia:WikiProject University of Florida\n",
        "2023: Wikipedia:WikiProject Record Charts"
       ]
      },
      {
       "output_type": "stream",
       "stream": "stdout",
       "text": [
        "\n",
        "2024: Wikipedia:WikiProject Australian history/Exploration\n",
        "2025: Wikipedia:WikiProject Lowell, Massachusetts\n",
        "2026: Wikipedia:WikiProject Montserrat\n",
        "2027: Wikipedia:WikiProject LGBT studies/Task forces/Person\n",
        "2028: Wikipedia:WikiProject Chemicals\n",
        "2029: Women writers"
       ]
      },
      {
       "output_type": "stream",
       "stream": "stdout",
       "text": [
        "\n",
        "2030: Wikipedia:WikiProject Oceania\n",
        "2031: Russia (history)\n",
        "2032: Wikipedia:WikiProject Secret Societies\n",
        "2033: Wikipedia:WikiProject Football/Seattle Sounders FC task force\n",
        "2034: Wikipedia:WikiProject Big 12 Conference\n",
        "2035: Wikipedia:WikiProject Connecticut\n",
        "2036: Wikipedia:WikiProject Football/Africa task force"
       ]
      },
      {
       "output_type": "stream",
       "stream": "stdout",
       "text": [
        "\n",
        "2037: Wikipedia:WikiProject Sikkim\n"
       ]
      },
      {
       "output_type": "stream",
       "stream": "stderr",
       "text": [
        "/Library/Python/2.7/site-packages/sqlalchemy/ext/declarative/clsregistry.py:159: SAWarning: This declarative base already contains a class with the same class name and module name as database.schema.ProjectRevision, and will be replaced in the string-lookup table.\n",
        "  existing.add_item(cls)\n"
       ]
      }
     ],
     "prompt_number": 7
    },
    {
     "cell_type": "code",
     "collapsed": false,
     "input": [
      "database.create_tables()"
     ],
     "language": "python",
     "metadata": {},
     "outputs": []
    },
    {
     "cell_type": "code",
     "collapsed": false,
     "input": [
      "revision_shards[1].__tablename__"
     ],
     "language": "python",
     "metadata": {},
     "outputs": [
      {
       "metadata": {},
       "output_type": "pyout",
       "prompt_number": 11,
       "text": [
        "'3_revisions'"
       ]
      }
     ],
     "prompt_number": 11
    },
    {
     "cell_type": "code",
     "collapsed": false,
     "input": [],
     "language": "python",
     "metadata": {},
     "outputs": []
    }
   ],
   "metadata": {}
  }
 ]
}