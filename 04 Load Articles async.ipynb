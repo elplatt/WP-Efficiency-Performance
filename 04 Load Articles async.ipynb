{
 "metadata": {
  "name": ""
 },
 "nbformat": 3,
 "nbformat_minor": 0,
 "worksheets": [
  {
   "cells": [
    {
     "cell_type": "code",
     "collapsed": false,
     "input": [
      "import json\n",
      "import requests\n",
      "import sys\n",
      "from threading import Thread\n",
      "import time\n",
      "from Queue import Queue"
     ],
     "language": "python",
     "metadata": {},
     "outputs": [],
     "prompt_number": 1
    },
    {
     "cell_type": "code",
     "collapsed": false,
     "input": [
      "import sqlalchemy\n",
      "from sqlalchemy.exc import IntegrityError\n",
      "from sqlalchemy.orm import sessionmaker\n",
      "import database\n",
      "from database.schema import article_project"
     ],
     "language": "python",
     "metadata": {},
     "outputs": [],
     "prompt_number": 2
    },
    {
     "cell_type": "code",
     "collapsed": false,
     "input": [
      "projfile = 'data/articles-projects.json'\n",
      "wiki_api = 'https://en.wikipedia.org/w/api.php'\n",
      "batch_size = 50\n",
      "num_workers = 25"
     ],
     "language": "python",
     "metadata": {},
     "outputs": [],
     "prompt_number": 3
    },
    {
     "cell_type": "code",
     "collapsed": false,
     "input": [
      "def process_titles(i, q, conn):\n",
      "    print \"%d waiting...\" % i\n",
      "    query = article_project.insert()\n",
      "    sequence = 0\n",
      "    while True:\n",
      "        try:\n",
      "            values = []\n",
      "            project_id, titles = q.get()\n",
      "            payload = {'action': 'query', 'format': 'json', 'titles': '|'.join(titles) }\n",
      "            r = requests.get(wiki_api, params=payload)\n",
      "            data = r.json()\n",
      "            for article_id in data['query']['pages'].iterkeys():\n",
      "                sequence += 1\n",
      "                if str(article_id) == \"-1\":\n",
      "                    # Article has been deleted, generate our own id\n",
      "                    # Offset by worker thread index\n",
      "                    # Make negative to prevent collisions with non-deleted articles\n",
      "                    article_id = -1 * (sequence * num_workers + i)\n",
      "                values.append({\"article_id\":article_id, \"project_id\":project_id})\n",
      "            try:\n",
      "                sql = conn.execute(query.values(values))\n",
      "            except IntegrityError:\n",
      "                print {\"article_name\":titles[0],\"article_id\":article_id, \"project_id\":project_id}\n",
      "            sys.stdout.flush()\n",
      "        except:\n",
      "            print sys.exc_info()\n",
      "        finally:\n",
      "            q.task_done()"
     ],
     "language": "python",
     "metadata": {},
     "outputs": [],
     "prompt_number": 4
    },
    {
     "cell_type": "code",
     "collapsed": false,
     "input": [
      "articles = {}\n",
      "proj_map = {}\n",
      "conn = []\n",
      "count = 0;\n",
      "q = Queue()\n",
      "print \"Creating workers\"\n",
      "for i in range(num_workers):\n",
      "    print \"Creating %d\" % i\n",
      "    conn.append(database.engine.connect())\n",
      "    worker = Thread(target=process_titles, args=(i, q, conn[i]))\n",
      "    worker.setDaemon(True)\n",
      "    worker.start()\n",
      "print \"Workers created.\"\n",
      "print \"Sending API requests.\"\n",
      "with open(projfile, 'rb') as f:\n",
      "    for i, row in enumerate(f):\n",
      "        project = json.loads(row);\n",
      "        titles = project['articles']\n",
      "        print \"p:%d a:%d q:%d Starting: %s\" % (\n",
      "            i+1, count, q.qsize(), project['project_name'])\n",
      "        while len(titles) > 0:\n",
      "            fetch = titles[0:batch_size]\n",
      "            titles = titles[batch_size:]\n",
      "            count += len(fetch)\n",
      "            q.put((project['project_id'],fetch))\n",
      "        if q.qsize() > 1000:\n",
      "            sys.stdout.flush()\n",
      "            q.join()\n",
      "print \"*** Finished sending requests ***\"\n",
      "print \"*** Waiting for processing to complete ***\"\n",
      "sys.stdout.flush()\n",
      "q.join()\n",
      "print \"*** Finished parsing requests ***\"\n",
      "for c in conn:\n",
      "    c.close()"
     ],
     "language": "python",
     "metadata": {},
     "outputs": [],
     "prompt_number": 5
    },
    {
     "cell_type": "code",
     "collapsed": false,
     "input": [],
     "language": "python",
     "metadata": {},
     "outputs": []
    }
   ],
   "metadata": {}
  }
 ]
}