{
 "metadata": {
  "name": ""
 },
 "nbformat": 3,
 "nbformat_minor": 0,
 "worksheets": [
  {
   "cells": [
    {
     "cell_type": "code",
     "collapsed": false,
     "input": [
      "import codecs\n",
      "from lxml import html\n",
      "import requests\n",
      "from urlparse import parse_qs, urlparse"
     ],
     "language": "python",
     "metadata": {},
     "outputs": [],
     "prompt_number": 231
    },
    {
     "cell_type": "code",
     "collapsed": false,
     "input": [
      "def ensure_unicode(s):\n",
      "    if isinstance(s, unicode):\n",
      "        return s\n",
      "    else:\n",
      "        return s.decode('utf-8')"
     ],
     "language": "python",
     "metadata": {},
     "outputs": [],
     "prompt_number": 228
    },
    {
     "cell_type": "code",
     "collapsed": false,
     "input": [
      "project_titles = []"
     ],
     "language": "python",
     "metadata": {},
     "outputs": [],
     "prompt_number": 220
    },
    {
     "cell_type": "code",
     "collapsed": false,
     "input": [
      "page = requests.get(\"https://tools.wmflabs.org/enwp10/cgi-bin/pindex.fcgi?sec=[All]\")\n",
      "parser = html.HTMLParser(encoding='utf-8')\n",
      "tree = html.document_fromstring(page.content, parser=parser)"
     ],
     "language": "python",
     "metadata": {},
     "outputs": [],
     "prompt_number": 223
    },
    {
     "cell_type": "code",
     "collapsed": false,
     "input": [
      "cells = tree.xpath(\"//table[@class='wikitable']//tr/td[1]\")"
     ],
     "language": "python",
     "metadata": {},
     "outputs": [],
     "prompt_number": 224
    },
    {
     "cell_type": "code",
     "collapsed": false,
     "input": [
      "for cell in cells:\n",
      "    if (len(cell[0]) == 0):\n",
      "        title = ensure_unicode(cell[0].text)\n",
      "        project_titles.append((title,title))\n",
      "    else:\n",
      "        title = ensure_unicode(cell[0][0].text)\n",
      "        url = ensure_unicode(cell[0][0].attrib['href'])\n",
      "        query = urlparse(url).query\n",
      "        unique = parse_qs(query)['title'][0]\n",
      "        project_titles.append((title,unique))"
     ],
     "language": "python",
     "metadata": {},
     "outputs": [],
     "prompt_number": 225
    },
    {
     "cell_type": "code",
     "collapsed": false,
     "input": [
      "project_titles"
     ],
     "language": "python",
     "metadata": {},
     "outputs": [],
     "prompt_number": 226
    },
    {
     "cell_type": "code",
     "collapsed": false,
     "input": [
      "def escape_csv(s):\n",
      "    if ',' in s:\n",
      "        s = s.replace('\\\\', '\\\\\\\\').replace('\"', '\\\\\"')\n",
      "        return u'\"%s\"' % s\n",
      "    else:\n",
      "        return s"
     ],
     "language": "python",
     "metadata": {},
     "outputs": [],
     "prompt_number": 96
    },
    {
     "cell_type": "code",
     "collapsed": false,
     "input": [
      "with open('data/projects.tsv', 'wb') as f:\n",
      "    f.write(u\"Title\\tUnique\\n\".encode('utf_16_le'))\n",
      "    for project in project_titles:\n",
      "        title = project[0]\n",
      "        unique = project[1]\n",
      "        line = u\"%s\\t%s\\n\" % project\n",
      "        f.write(line.encode('utf_16_le'))"
     ],
     "language": "python",
     "metadata": {},
     "outputs": [],
     "prompt_number": 232
    },
    {
     "cell_type": "code",
     "collapsed": false,
     "input": [],
     "language": "python",
     "metadata": {},
     "outputs": []
    }
   ],
   "metadata": {}
  }
 ]
}