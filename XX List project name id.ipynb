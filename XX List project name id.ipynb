{
 "cells": [
  {
   "cell_type": "code",
   "execution_count": 5,
   "metadata": {
    "collapsed": true
   },
   "outputs": [],
   "source": [
    "import msgpack\n",
    "import database\n",
    "from sqlalchemy import select"
   ]
  },
  {
   "cell_type": "code",
   "execution_count": 6,
   "metadata": {
    "collapsed": true
   },
   "outputs": [],
   "source": [
    "map_file = \"output/07_create_article_project_map/2017-03-27 14:10:49 77c76e1/articles_projects.m\"\n",
    "out_file = \"biography_articles.tsv\""
   ]
  },
  {
   "cell_type": "code",
   "execution_count": 7,
   "metadata": {
    "collapsed": true
   },
   "outputs": [],
   "source": [
    "with open(map_file, 'rb') as f:\n",
    "    article_projects = msgpack.unpackb(f.read())"
   ]
  },
  {
   "cell_type": "code",
   "execution_count": 8,
   "metadata": {
    "collapsed": false
   },
   "outputs": [
    {
     "name": "stdout",
     "output_type": "stream",
     "text": [
      "1727372\n",
      "2218654\n",
      "1040995\n",
      "done\n"
     ]
    }
   ],
   "source": [
    "conn = database.engine.connect()\n",
    "tab = database.schema.article_name_id\n",
    "article_count = 0\n",
    "name_count = 0\n",
    "talk_count = 0\n",
    "with open(out_file, \"wb\") as out:\n",
    "    out.write(\"article_id\\tarticle_name\\tfrom_timestamp\\tto_timestamp\\n\")\n",
    "    for article_id, projects in article_projects.iteritems():\n",
    "        if 256 in projects:\n",
    "            article_count += 1\n",
    "            stmt = select([tab.c.article_name, tab.c.from_ts, tab.c.to_ts]) \\\n",
    "                .where(tab.c.article_id == article_id)\n",
    "            result = conn.execute(stmt)\n",
    "            name_count += result.rowcount\n",
    "            try:\n",
    "                for d in result:\n",
    "                    article_name = d[0]\n",
    "                    if article_name[0:5] == \"Talk:\":\n",
    "                        talk_count += 1\n",
    "                        continue\n",
    "                    from_ts = d[1]\n",
    "                    to_ts = d[2]\n",
    "                    out.write(\"%d\\t%s\\t%d\\t%d\\n\" % (\n",
    "                        article_id,\n",
    "                        article_name.encode('utf-8'),\n",
    "                        from_ts,\n",
    "                        to_ts\n",
    "                    ))\n",
    "            except TypeError:\n",
    "                print \"TypeError: %d\" % article_id\n",
    "                continue\n",
    "print article_count\n",
    "print name_count\n",
    "print talk_count\n",
    "print \"done\""
   ]
  },
  {
   "cell_type": "code",
   "execution_count": 9,
   "metadata": {
    "collapsed": false
   },
   "outputs": [
    {
     "data": {
      "text/plain": [
       "1177659L"
      ]
     },
     "execution_count": 9,
     "metadata": {},
     "output_type": "execute_result"
    }
   ],
   "source": [
    "name_count - talk_count"
   ]
  },
  {
   "cell_type": "code",
   "execution_count": null,
   "metadata": {
    "collapsed": true
   },
   "outputs": [],
   "source": []
  }
 ],
 "metadata": {
  "kernelspec": {
   "display_name": "Python 2",
   "language": "python",
   "name": "python2"
  },
  "language_info": {
   "codemirror_mode": {
    "name": "ipython",
    "version": 2
   },
   "file_extension": ".py",
   "mimetype": "text/x-python",
   "name": "python",
   "nbconvert_exporter": "python",
   "pygments_lexer": "ipython2",
   "version": "2.7.6"
  }
 },
 "nbformat": 4,
 "nbformat_minor": 2
}
