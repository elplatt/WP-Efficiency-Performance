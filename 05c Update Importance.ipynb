{
 "cells": [
  {
   "cell_type": "code",
   "execution_count": null,
   "metadata": {
    "collapsed": false
   },
   "outputs": [],
   "source": [
    "import json\n",
    "import time\n",
    "import sys\n",
    "from sqlalchemy import func, select, sql, update\n",
    "import logbook\n",
    "import database\n",
    "from database.schema import revision_table, Rating"
   ]
  },
  {
   "cell_type": "code",
   "execution_count": null,
   "metadata": {
    "collapsed": false
   },
   "outputs": [],
   "source": [
    "importance_file = \"archive/04b_find_importance/2017-12-15 19:57:25 81807fc/importance.utf8.tsv\"\n",
    "#importance_file = \"archive/04b_find_importance/2017-10-03 13:54:30 14665f3/importance.utf8.tsv\"\n",
    "project_file = \"data/projects-2016-10-14-dedup.json\"\n",
    "exp_name = \"05c_update_importance\"\n",
    "exp = logbook.Experiment(exp_name)\n",
    "log = exp.get_logger()"
   ]
  },
  {
   "cell_type": "code",
   "execution_count": null,
   "metadata": {
    "collapsed": false
   },
   "outputs": [],
   "source": [
    "project_ids = []\n",
    "projects_by_name = {}\n",
    "with open(project_file, \"rb\") as f:\n",
    "    # Skip header\n",
    "    f.next()\n",
    "    for row in f:\n",
    "        data = json.loads(row)\n",
    "        project_ids.append(data[\"project_id\"])\n",
    "        projects_by_name[data[\"project_name\"]] = data"
   ]
  },
  {
   "cell_type": "code",
   "execution_count": null,
   "metadata": {
    "collapsed": false
   },
   "outputs": [],
   "source": [
    "project_important = dict((project_id, set()) for project_id in project_ids)\n",
    "skipped_projects = set()\n",
    "with open(importance_file, \"rb\") as f:\n",
    "    for row in f:\n",
    "        row = row.decode('utf-8')\n",
    "        title, unique, page_id, importance = row.strip().split(u'\\t')\n",
    "        if importance == 'Top' or importance == 'High':\n",
    "            try:\n",
    "                project_id = projects_by_name[unique][\"project_id\"]\n",
    "                project_important[project_id].add(int(page_id))\n",
    "            except KeyError:\n",
    "                skipped_projects.add(unique)"
   ]
  },
  {
   "cell_type": "code",
   "execution_count": null,
   "metadata": {
    "collapsed": false
   },
   "outputs": [],
   "source": [
    "conn = database.engine.connect()\n",
    "try:\n",
    "    for project_id in project_ids:\n",
    "        log.info(\"Starting project: %d\" % project_id)\n",
    "        tab = revision_table(project_id).__table__\n",
    "        for page_id in project_important[project_id]:\n",
    "            stmt = tab.update().where(tab.c.article_id == page_id) \\\n",
    "                .values(important=True)\n",
    "            conn.execute(stmt)\n",
    "finally:\n",
    "    conn.close()"
   ]
  },
  {
   "cell_type": "code",
   "execution_count": null,
   "metadata": {
    "collapsed": false
   },
   "outputs": [],
   "source": [
    "conn = database.engine.connect()\n",
    "try:\n",
    "    for project_id in project_ids:\n",
    "        log.info(\"Starting project: %d\" % project_id)\n",
    "        tab = Rating.__table__\n",
    "        for page_id in project_important[project_id]:\n",
    "            stmt = tab.update().where(\n",
    "                sql.and_(\n",
    "                    tab.c.project_id == project_id,\n",
    "                    tab.c.article_id == page_id)) \\\n",
    "                .values(important=True)\n",
    "            conn.execute(stmt)\n",
    "finally:\n",
    "    conn.close()\n",
    "log.info(\"Script complete\")"
   ]
  },
  {
   "cell_type": "code",
   "execution_count": null,
   "metadata": {
    "collapsed": false
   },
   "outputs": [],
   "source": []
  },
  {
   "cell_type": "code",
   "execution_count": null,
   "metadata": {
    "collapsed": true
   },
   "outputs": [],
   "source": []
  }
 ],
 "metadata": {
  "kernelspec": {
   "display_name": "Python 2",
   "language": "python",
   "name": "python2"
  },
  "language_info": {
   "codemirror_mode": {
    "name": "ipython",
    "version": 2
   },
   "file_extension": ".py",
   "mimetype": "text/x-python",
   "name": "python",
   "nbconvert_exporter": "python",
   "pygments_lexer": "ipython2",
   "version": "2.7.6"
  }
 },
 "nbformat": 4,
 "nbformat_minor": 2
}
