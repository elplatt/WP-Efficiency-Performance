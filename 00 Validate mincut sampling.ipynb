{
 "metadata": {
  "name": ""
 },
 "nbformat": 3,
 "nbformat_minor": 0,
 "worksheets": [
  {
   "cells": [
    {
     "cell_type": "code",
     "collapsed": false,
     "input": [
      "from matplotlib import pyplot as plt\n",
      "import numpy as np\n",
      "import pandas as pd\n",
      "import random\n",
      "import sys\n",
      "import time\n",
      "from IPython.display import clear_output\n",
      "\n",
      "random.seed(hash(\"\"\"Cookie Cat! He's super-duper yummy!\"\"\"))"
     ],
     "language": "python",
     "metadata": {},
     "outputs": [],
     "prompt_number": 1
    },
    {
     "cell_type": "code",
     "collapsed": false,
     "input": [
      "in_file = \"archive/18_find_min_cut/2016-12-22 13:05:20 4ef370b/863-flows-sampled.csv\"\n",
      "df = pd.DataFrame.from_csv(in_file, index_col=None)"
     ],
     "language": "python",
     "metadata": {},
     "outputs": [],
     "prompt_number": 2
    },
    {
     "cell_type": "code",
     "collapsed": false,
     "input": [
      "true_mean = np.mean(df['flow'])"
     ],
     "language": "python",
     "metadata": {},
     "outputs": [],
     "prompt_number": "*"
    },
    {
     "cell_type": "code",
     "collapsed": false,
     "input": [
      "counts = []\n",
      "all_msq = []\n",
      "for count in range(100,5001,100):\n",
      "    counts.append(count)\n",
      "    sq_errors = []\n",
      "    percent_error = 1.0\n",
      "    clear_output()\n",
      "    print \"count: %d\" % count\n",
      "    while len(sq_errors) < 2 or percent_error > 0.005:\n",
      "        if len(sq_errors) > 0 and len(sq_errors) % 1000 == 0:\n",
      "            clear_output()\n",
      "            print \"count: %d\" % count\n",
      "            print \"  %d: %f\" % (len(sq_errors), percent_error)\n",
      "            sys.stdout.flush()\n",
      "            time.sleep(0.1)\n",
      "        x = random.sample(df['flow'], count)\n",
      "        m = np.mean(x)\n",
      "        sq_errors.append((m - true_mean) * (m - true_mean))\n",
      "        msq = np.mean(sq_errors)\n",
      "        if len(sq_errors) > 1:\n",
      "            error = np.std(sq_errors, ddof=1) / np.sqrt(len(sq_errors))\n",
      "            percent_error = error / msq\n",
      "    all_msq.append(msq)"
     ],
     "language": "python",
     "metadata": {},
     "outputs": [],
     "prompt_number": "*"
    },
    {
     "cell_type": "code",
     "collapsed": false,
     "input": [
      "plt.figure(figsize=(8,4.5))\n",
      "plt.plot(counts, [np.log10(x/true_mean) for x in all_msq])\n",
      "plt.xlabel('Pairs Sampled'); plt.ylabel('Error in estimate (log)')\n",
      "plt.title(\"Pr-863; |V|=5012; Mean Flow = 57.8\") \n",
      "plt.grid()"
     ],
     "language": "python",
     "metadata": {},
     "outputs": [],
     "prompt_number": 19
    },
    {
     "cell_type": "code",
     "collapsed": false,
     "input": [
      "count"
     ],
     "language": "python",
     "metadata": {},
     "outputs": [],
     "prompt_number": 5
    },
    {
     "cell_type": "code",
     "collapsed": false,
     "input": [
      "np.log10(10)"
     ],
     "language": "python",
     "metadata": {},
     "outputs": [],
     "prompt_number": 9
    },
    {
     "cell_type": "code",
     "collapsed": false,
     "input": [
      "true_mean"
     ],
     "language": "python",
     "metadata": {},
     "outputs": [],
     "prompt_number": 11
    },
    {
     "cell_type": "code",
     "collapsed": false,
     "input": [],
     "language": "python",
     "metadata": {},
     "outputs": []
    }
   ],
   "metadata": {}
  }
 ]
}