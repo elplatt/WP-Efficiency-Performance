{
 "cells": [
  {
   "cell_type": "code",
   "execution_count": 1,
   "metadata": {
    "collapsed": false
   },
   "outputs": [],
   "source": [
    "from matplotlib import pyplot as plt\n",
    "import numpy as np\n",
    "import pandas as pd\n",
    "import sys\n",
    "import time\n",
    "from IPython.display import clear_output"
   ]
  },
  {
   "cell_type": "code",
   "execution_count": 2,
   "metadata": {
    "collapsed": false
   },
   "outputs": [],
   "source": [
    "projects = [42,543,1449,540,1162,1716,447,887,2139,280]\n",
    "full_dir = \"archive/18_find_min_cut/2017-01-31-samples/2017-01-31 15:49:37 3423067/%d-flows.csv\"\n",
    "target_dir = \"archive/18_find_min_cut/2017-01-31-samples/2017-01-31 15:51:14 3423067/%d-flows-sampled.csv\"\n",
    "pair100_dir = \"archive/18_find_min_cut/2017-01-31-samples/2017-01-31 15:55:44 3423067/%d-flows-sampled.csv\"\n",
    "pair10_dir = \"archive/18_find_min_cut/2017-01-31-samples/2017-01-31 16:01:03 3423067/%d-flows-sampled.csv\"\n",
    "pair1_dir = \"archive/18_find_min_cut/2017-01-31-samples/2017-01-31 16:02:13 3423067/%d-flows-sampled.csv\"\n",
    "nostrat1000_dir = \"archive/18_find_min_cut/2017-01-31-samples/2017-02-09 17:43:37 c8501af/%d-flows-sampled.csv\"\n",
    "nostrat100_dir = \"archive/18_find_min_cut/2017-01-31-samples/2017-02-09 17:45:36 c8501af/%d-flows-sampled.csv\"\n",
    "nostrat10_dir = \"archive/18_find_min_cut/2017-01-31-samples/2017-02-09 17:51:13 c8501af/%d-flows-sampled.csv\"\n"
   ]
  },
  {
   "cell_type": "code",
   "execution_count": 3,
   "metadata": {
    "collapsed": false
   },
   "outputs": [],
   "source": [
    "def get_rel_error(full_dir, sample_dir):\n",
    "    rel_errors = []\n",
    "    for project_id in projects:\n",
    "        full = pd.DataFrame.from_csv(full_dir % project_id)\n",
    "        full_mean = np.mean(full[\"flow\"])\n",
    "        sampled = pd.DataFrame.from_csv(sample_dir % project_id)\n",
    "        sampled_mean = np.mean(sampled[\"flow\"])\n",
    "        rel_errors.append(np.fabs(sampled_mean - full_mean) / full_mean)\n",
    "    rel_errors = np.array(rel_errors)\n",
    "    return (np.mean(rel_errors), np.std(rel_errors)/float(np.sqrt(len(projects))))"
   ]
  },
  {
   "cell_type": "code",
   "execution_count": 4,
   "metadata": {
    "collapsed": false
   },
   "outputs": [
    {
     "name": "stdout",
     "output_type": "stream",
     "text": [
      "Sample target:  (0.033042075797698738, 0.011322834950597624)\n",
      "Sample pairs(1000):  (0.051133873810297457, 0.013416860917877499)\n",
      "Sample stratified(1000):  (0.037123110883477736, 0.0064332611483548839)\n",
      "Sample pairs(100):  (0.10825607218472924, 0.018122458397722644)\n",
      "Sample stratified(100):  (0.057087258605040082, 0.01908559436390353)\n",
      "Sample pairs(10):  (0.25462283969058974, 0.068343422513640964)\n",
      "Sample stratified(10):  (0.24582636312795997, 0.11299200496541195)\n"
     ]
    }
   ],
   "source": [
    "print \"Sample target: \", get_rel_error(full_dir, target_dir)\n",
    "print \"Sample pairs(1000): \", get_rel_error(full_dir, nostrat1000_dir)\n",
    "print \"Sample stratified(1000): \", get_rel_error(full_dir, pair100_dir)\n",
    "print \"Sample pairs(100): \", get_rel_error(full_dir, nostrat100_dir)\n",
    "print \"Sample stratified(100): \", get_rel_error(full_dir, pair10_dir)\n",
    "print \"Sample pairs(10): \", get_rel_error(full_dir, nostrat10_dir)\n",
    "print \"Sample stratified(10): \", get_rel_error(full_dir, pair1_dir)"
   ]
  },
  {
   "cell_type": "code",
   "execution_count": null,
   "metadata": {
    "collapsed": true
   },
   "outputs": [],
   "source": []
  }
 ],
 "metadata": {
  "kernelspec": {
   "display_name": "Python 2",
   "language": "python",
   "name": "python2"
  },
  "language_info": {
   "codemirror_mode": {
    "name": "ipython",
    "version": 2
   },
   "file_extension": ".py",
   "mimetype": "text/x-python",
   "name": "python",
   "nbconvert_exporter": "python",
   "pygments_lexer": "ipython2",
   "version": "2.7.6"
  }
 },
 "nbformat": 4,
 "nbformat_minor": 0
}
