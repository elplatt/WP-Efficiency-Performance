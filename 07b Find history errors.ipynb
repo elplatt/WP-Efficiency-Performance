{
 "metadata": {
  "name": ""
 },
 "nbformat": 3,
 "nbformat_minor": 0,
 "worksheets": [
  {
   "cells": [
    {
     "cell_type": "code",
     "collapsed": false,
     "input": [
      "import csv\n",
      "import logging\n",
      "import sys\n",
      "import time\n",
      "from IPython.display import clear_output\n",
      "import sqlalchemy\n",
      "from sqlalchemy.exc import IntegrityError\n",
      "from sqlalchemy.orm import sessionmaker"
     ],
     "language": "python",
     "metadata": {},
     "outputs": [],
     "prompt_number": 1
    },
    {
     "cell_type": "code",
     "collapsed": false,
     "input": [
      "history_file = \"data/final_history_output-fixed.csv\"\n",
      "history_error_file = \"data/final_history_output-errors.csv\"\n",
      "error_file = \"output/08_Find_history_errors.log\""
     ],
     "language": "python",
     "metadata": {},
     "outputs": [],
     "prompt_number": 2
    },
    {
     "cell_type": "code",
     "collapsed": false,
     "input": [
      "import database\n",
      "from database.schema import (\n",
      "    revision_table\n",
      ")\n",
      "revisions = revision_table(1)"
     ],
     "language": "python",
     "metadata": {},
     "outputs": [],
     "prompt_number": 3
    },
    {
     "cell_type": "code",
     "collapsed": false,
     "input": [
      "ts = datetime.datetime.now()\n",
      "with open(error_file, \"wb\") as log_f:\n",
      "    with open(history_file, \"rb\") as history_f:\n",
      "        with open(history_error_file, \"wb\") as error_f:\n",
      "            error_writer = csv.writer(error_f)\n",
      "            history_rows = csv.reader(history_f)\n",
      "            for i, row in enumerate(history_rows):\n",
      "                if (i % 100000 == 0):\n",
      "                    clear_output()\n",
      "                    print \"Row: %d\" % i\n",
      "                    sys.stdout.flush()\n",
      "                    time.sleep(0.1)\n",
      "                try:\n",
      "                    datum = {\n",
      "                        \"article_name\": row[0]\n",
      "                         , \"article_namespace\": row[1]\n",
      "                         , \"article_id\": row[2]\n",
      "                         , \"redirect\": row[3]\n",
      "                         , \"revision_num\": row[4]\n",
      "                         , \"revision_id\": row[5]\n",
      "                         , \"timestamp\": row[6]\n",
      "                         , \"contributor_name\": row[7]\n",
      "                         , \"contributor_id\": row[8]\n",
      "                         , \"minor\": row[9]\n",
      "                         , \"comment\": row[10]\n",
      "                         , \"length_bytes\": row[11]\n",
      "                         , \"diff_bytes\": row[12]\n",
      "                         , \"deleted\": row[13]\n",
      "                    }\n",
      "                except:\n",
      "                    error_writer.writerow(row)\n",
      "                    log_f.write(str(sys.exc_info()) + \"\\n\")\n",
      "                    continue;\n",
      "                if int(datum[\"article_namespace\"]) not in [0,1]:\n",
      "                    continue\n",
      "                try:\n",
      "                    revision = revisions(**datum)\n",
      "                except:\n",
      "                    error_writer.writerow(row)\n",
      "                    log_f.write(str(sys.exc_info()) + \"\\n\")\n",
      "                    continue"
     ],
     "language": "python",
     "metadata": {},
     "outputs": [],
     "prompt_number": 4
    },
    {
     "cell_type": "code",
     "collapsed": false,
     "input": [
      "2"
     ],
     "language": "python",
     "metadata": {},
     "outputs": [],
     "prompt_number": 5
    },
    {
     "cell_type": "code",
     "collapsed": false,
     "input": [],
     "language": "python",
     "metadata": {},
     "outputs": []
    }
   ],
   "metadata": {}
  }
 ]
}