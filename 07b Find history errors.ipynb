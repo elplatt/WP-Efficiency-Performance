{
 "metadata": {
  "name": ""
 },
 "nbformat": 3,
 "nbformat_minor": 0,
 "worksheets": [
  {
   "cells": [
    {
     "cell_type": "code",
     "collapsed": false,
     "input": [
      "import csv\n",
      "import logging\n",
      "import sys\n",
      "import time\n",
      "from IPython.display import clear_output\n",
      "import sqlalchemy\n",
      "from sqlalchemy.exc import IntegrityError\n",
      "from sqlalchemy.orm import sessionmaker\n",
      "import logbook"
     ],
     "language": "python",
     "metadata": {},
     "outputs": [],
     "prompt_number": 1
    },
    {
     "cell_type": "code",
     "collapsed": false,
     "input": [
      "history_file = \"data/history.csv\"\n",
      "history_error_file = \"data/final_history_output-errors.csv\"\n",
      "exp_name = \"07b_find_history_errors\"\n",
      "exp = logbook.Experiment(exp_name)\n",
      "log = exp.get_logger()"
     ],
     "language": "python",
     "metadata": {},
     "outputs": [],
     "prompt_number": 2
    },
    {
     "cell_type": "code",
     "collapsed": false,
     "input": [
      "import database\n",
      "from database.schema import (\n",
      "    revision_table\n",
      ")\n",
      "revisions = revision_table(1)"
     ],
     "language": "python",
     "metadata": {},
     "outputs": [],
     "prompt_number": 3
    },
    {
     "cell_type": "code",
     "collapsed": false,
     "input": [
      "ts = datetime.datetime.now()\n",
      "with open(history_file, \"rb\") as history_f:\n",
      "    with open(history_error_file, \"wb\") as error_f:\n",
      "        error_writer = csv.writer(error_f)\n",
      "        history_rows = csv.reader(history_f)\n",
      "        for i, row in enumerate(history_rows):\n",
      "            if (i % 100000 == 0):\n",
      "                log.info(\"Row\\t%d\" % i)\n",
      "                time.sleep(0.1)\n",
      "            try:\n",
      "                datum = {\n",
      "                    \"article_name\": row[0]\n",
      "                     , \"article_namespace\": row[1]\n",
      "                     , \"article_id\": row[2]\n",
      "                     , \"redirect\": row[3]\n",
      "                     , \"revision_num\": row[4]\n",
      "                     , \"revision_id\": row[5]\n",
      "                     , \"timestamp\": row[6]\n",
      "                     , \"contributor_name\": row[7]\n",
      "                     , \"contributor_id\": row[8]\n",
      "                     , \"minor\": row[9]\n",
      "                     , \"comment\": row[10]\n",
      "                     , \"length_bytes\": row[11]\n",
      "                     , \"diff_bytes\": row[12]\n",
      "                     , \"deleted\": row[13]\n",
      "                }\n",
      "            except:\n",
      "                error_writer.writerow(row)\n",
      "                loginfo.error(str(sys.exc_info()))\n",
      "                continue;\n",
      "            if int(datum[\"article_namespace\"]) not in [0,1]:\n",
      "                continue\n",
      "            try:\n",
      "                revision = revisions(**datum)\n",
      "            except:\n",
      "                error_writer.writerow(row)\n",
      "                log.error(str(sys.exc_info()))\n",
      "                continue"
     ],
     "language": "python",
     "metadata": {},
     "outputs": [
      {
       "ename": "IOError",
       "evalue": "[Errno 2] No such file or directory: 'data/final_history_output-fixed.csv'",
       "output_type": "pyerr",
       "traceback": [
        "\u001b[0;31m---------------------------------------------------------------------------\u001b[0m\n\u001b[0;31mIOError\u001b[0m                                   Traceback (most recent call last)",
        "\u001b[0;32m<ipython-input-4-2c2e42e40502>\u001b[0m in \u001b[0;36m<module>\u001b[0;34m()\u001b[0m\n\u001b[1;32m      1\u001b[0m \u001b[0mts\u001b[0m \u001b[0;34m=\u001b[0m \u001b[0mdatetime\u001b[0m\u001b[0;34m.\u001b[0m\u001b[0mdatetime\u001b[0m\u001b[0;34m.\u001b[0m\u001b[0mnow\u001b[0m\u001b[0;34m(\u001b[0m\u001b[0;34m)\u001b[0m\u001b[0;34m\u001b[0m\u001b[0m\n\u001b[0;32m----> 2\u001b[0;31m \u001b[0;32mwith\u001b[0m \u001b[0mopen\u001b[0m\u001b[0;34m(\u001b[0m\u001b[0mhistory_file\u001b[0m\u001b[0;34m,\u001b[0m \u001b[0;34m\"rb\"\u001b[0m\u001b[0;34m)\u001b[0m \u001b[0;32mas\u001b[0m \u001b[0mhistory_f\u001b[0m\u001b[0;34m:\u001b[0m\u001b[0;34m\u001b[0m\u001b[0m\n\u001b[0m\u001b[1;32m      3\u001b[0m     \u001b[0;32mwith\u001b[0m \u001b[0mopen\u001b[0m\u001b[0;34m(\u001b[0m\u001b[0mhistory_error_file\u001b[0m\u001b[0;34m,\u001b[0m \u001b[0;34m\"wb\"\u001b[0m\u001b[0;34m)\u001b[0m \u001b[0;32mas\u001b[0m \u001b[0merror_f\u001b[0m\u001b[0;34m:\u001b[0m\u001b[0;34m\u001b[0m\u001b[0m\n\u001b[1;32m      4\u001b[0m         \u001b[0merror_writer\u001b[0m \u001b[0;34m=\u001b[0m \u001b[0mcsv\u001b[0m\u001b[0;34m.\u001b[0m\u001b[0mwriter\u001b[0m\u001b[0;34m(\u001b[0m\u001b[0merror_f\u001b[0m\u001b[0;34m)\u001b[0m\u001b[0;34m\u001b[0m\u001b[0m\n\u001b[1;32m      5\u001b[0m         \u001b[0mhistory_rows\u001b[0m \u001b[0;34m=\u001b[0m \u001b[0mcsv\u001b[0m\u001b[0;34m.\u001b[0m\u001b[0mreader\u001b[0m\u001b[0;34m(\u001b[0m\u001b[0mhistory_f\u001b[0m\u001b[0;34m)\u001b[0m\u001b[0;34m\u001b[0m\u001b[0m\n",
        "\u001b[0;31mIOError\u001b[0m: [Errno 2] No such file or directory: 'data/final_history_output-fixed.csv'"
       ]
      }
     ],
     "prompt_number": 4
    },
    {
     "cell_type": "code",
     "collapsed": false,
     "input": [],
     "language": "python",
     "metadata": {},
     "outputs": []
    }
   ],
   "metadata": {}
  }
 ]
}