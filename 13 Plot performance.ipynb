{
 "cells": [
  {
   "cell_type": "code",
   "execution_count": null,
   "metadata": {
    "collapsed": false
   },
   "outputs": [],
   "source": [
    "%pylab inline\n",
    "import pandas as pd\n",
    "from matplotlib import pyplot as plt\n",
    "import numpy as np"
   ]
  },
  {
   "cell_type": "code",
   "execution_count": null,
   "metadata": {
    "collapsed": false
   },
   "outputs": [],
   "source": [
    "transition_file = \"output/11_find_performance/2017-05-03 08:54:42 b8d538c/fa_ga_transitions.csv\""
   ]
  },
  {
   "cell_type": "code",
   "execution_count": null,
   "metadata": {
    "collapsed": false
   },
   "outputs": [],
   "source": [
    "df = pd.DataFrame.from_csv(transition_file)\n",
    "df_nonzero = df[df[\"to_ga\"] > 0]\n",
    "df_nonzero = df_nonzero[df_nonzero[\"to_fa\"] > 0]\n",
    "\n",
    "ga = df_nonzero[\"to_ga\"]\n",
    "fa = df_nonzero[\"to_fa\"]"
   ]
  },
  {
   "cell_type": "code",
   "execution_count": null,
   "metadata": {
    "collapsed": false
   },
   "outputs": [],
   "source": [
    "plt.figure(figsize=(6,8))\n",
    "subplot(2,1,1)\n",
    "title(\"FA vs. GA Transitions\")\n",
    "xlabel(\"GA\"); ylabel(\"FA\")\n",
    "plt.loglog(ga, fa, '.')\n",
    "subplot(2,1,2)\n",
    "plt.hist(np.log(fa / (ga + fa)), 60)\n",
    "plt.title(\"Performance histogram\")\n",
    "plt.xlabel(\"log(FA/(FA+GA))\"); plt.ylabel(\"Frequency\")\n",
    "plt.tight_layout()"
   ]
  },
  {
   "cell_type": "code",
   "execution_count": null,
   "metadata": {
    "collapsed": true
   },
   "outputs": [],
   "source": []
  }
 ],
 "metadata": {
  "kernelspec": {
   "display_name": "Python 2",
   "language": "python",
   "name": "python2"
  },
  "language_info": {
   "codemirror_mode": {
    "name": "ipython",
    "version": 2
   },
   "file_extension": ".py",
   "mimetype": "text/x-python",
   "name": "python",
   "nbconvert_exporter": "python",
   "pygments_lexer": "ipython2",
   "version": "2.7.6"
  }
 },
 "nbformat": 4,
 "nbformat_minor": 0
}
