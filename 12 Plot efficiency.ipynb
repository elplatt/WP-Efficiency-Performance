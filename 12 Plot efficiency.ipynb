{
 "metadata": {
  "name": ""
 },
 "nbformat": 3,
 "nbformat_minor": 0,
 "worksheets": [
  {
   "cells": [
    {
     "cell_type": "code",
     "collapsed": false,
     "input": [
      "import pandas as pd\n",
      "from matplotlib import pyplot as plt\n",
      "import numpy as np"
     ],
     "language": "python",
     "metadata": {},
     "outputs": [],
     "prompt_number": 1
    },
    {
     "cell_type": "code",
     "collapsed": false,
     "input": [
      "efficiency_file = \"output/10_find_efficiency/2016-11-02 22:03:53 f3da2a6/efficiency.csv\""
     ],
     "language": "python",
     "metadata": {},
     "outputs": [],
     "prompt_number": 2
    },
    {
     "cell_type": "code",
     "collapsed": false,
     "input": [
      "df = pd.DataFrame.from_csv(efficiency_file)\n",
      "df_nz = df[df[\"N_a\"] > 0]\n",
      "df_nz = df_nz[df_nz[\"N_b\"] > 0]\n",
      "df_nz = df_nz[df_nz[\"N_c\"] > 0]\n",
      "df_nz = df_nz[df_nz[\"Delta_a\"] > 0]\n",
      "df_nz = df_nz[df_nz[\"Delta_b\"] > 0]\n",
      "df_nz = df_nz[df_nz[\"Delta_c\"] > 0]"
     ],
     "language": "python",
     "metadata": {},
     "outputs": [],
     "prompt_number": 3
    },
    {
     "cell_type": "code",
     "collapsed": false,
     "input": [
      "a_eff = df_nz[\"Delta_a\"]/df_nz[\"N_a\"]\n",
      "b_eff = df_nz[\"Delta_b\"]/df_nz[\"N_b\"]\n",
      "c_eff = df_nz[\"Delta_c\"]/df_nz[\"N_c\"]\n",
      "mean_a = a_eff.sum() / len(a_eff)\n",
      "mean_b = b_eff.sum() / len(b_eff)\n",
      "mean_c = c_eff.sum() / len(c_eff)"
     ],
     "language": "python",
     "metadata": {},
     "outputs": [],
     "prompt_number": 4
    },
    {
     "cell_type": "code",
     "collapsed": false,
     "input": [
      "plt.figure(figsize=(10,4))\n",
      "plt.subplot(1,3,1)\n",
      "plt.hist(np.log(a_eff/mean_a), 30)\n",
      "plt.xlabel(\"$\\log(\\Delta_A / N_A$)\")\n",
      "plt.subplot(1,3,2)\n",
      "plt.hist(np.log(b_eff/mean_b), 30)\n",
      "plt.xlabel(\"$\\log(\\Delta_B / N_A$)\")\n",
      "plt.subplot(1,3,3)\n",
      "plt.hist(np.log(c_eff/mean_c), 30)\n",
      "plt.xlabel(\"$\\log(\\Delta_C / N_A)$\")\n"
     ],
     "language": "python",
     "metadata": {},
     "outputs": [],
     "prompt_number": 5
    },
    {
     "cell_type": "code",
     "collapsed": false,
     "input": [],
     "language": "python",
     "metadata": {},
     "outputs": []
    }
   ],
   "metadata": {}
  }
 ]
}