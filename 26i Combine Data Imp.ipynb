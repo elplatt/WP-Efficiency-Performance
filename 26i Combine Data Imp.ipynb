{
 "cells": [
  {
   "cell_type": "code",
   "execution_count": null,
   "metadata": {
    "collapsed": false
   },
   "outputs": [],
   "source": [
    "%pylab inline\n",
    "import calendar\n",
    "import datetime\n",
    "import json\n",
    "import numpy as np\n",
    "from matplotlib import pyplot as plt\n",
    "import pandas as pd\n",
    "import scipy.stats as spstats\n",
    "from sqlalchemy import distinct, func, select\n",
    "import database\n",
    "from database.schema import Rating, revision_table\n",
    "import logbook"
   ]
  },
  {
   "cell_type": "code",
   "execution_count": null,
   "metadata": {
    "collapsed": false
   },
   "outputs": [],
   "source": [
    "exp_name = \"26i_combine_data_imp\"\n",
    "exp = logbook.Experiment(exp_name)\n",
    "project_file = \"data/projects-2016-10-14-dedup.json\"\n",
    "transition_file = \"archive/11c_find_performance_imp/2017-12-19 08:27:10 81807fc/fa_ga_transitions.csv\"\n",
    "stage_eff_file = \"archive/10c_find_imp_stage_eff/2017-12-19 08:26:52 81807fc/efficiency.csv\"\n",
    "control_file = \"archive/24i_find_imp_controls/2017-12-19 09:57:00 81807fc/controls.csv\"\n",
    "similarity_file = \"archive/24ci find similarity/2017-12-19 08:31:06 81807fc/similarity_mean.csv\"\n",
    "article_talk_file = \"archive/24di_find_imp_article_talk/2017-12-19 09:57:25 81807fc/article_talk.csv\"\n",
    "degree_file = \"output/19_find_degree/2017-05-01 15:38:59 41cb865/%d-degree.csv\"\n",
    "mincut_file = \"archive/22_plot_mincut/2017-05-15 14:24:53 030d8fd/mincut_stats.csv\"\n",
    "path_files = [\n",
    "    \"output/23_plot_path/2017-06-04 10:14:06 b25b01f/path_stats.csv\"\n",
    "]\n",
    "out_file = \"combined.csv\""
   ]
  },
  {
   "cell_type": "code",
   "execution_count": null,
   "metadata": {
    "collapsed": false
   },
   "outputs": [],
   "source": [
    "project_ids = []\n",
    "with open(project_file, \"rb\") as f:\n",
    "    for row in f:\n",
    "        data = json.loads(row)\n",
    "        project_ids.append(data[\"project_id\"])"
   ]
  },
  {
   "cell_type": "code",
   "execution_count": null,
   "metadata": {
    "collapsed": false
   },
   "outputs": [],
   "source": [
    "df_stage_eff = pd.DataFrame.from_csv(stage_eff_file)"
   ]
  },
  {
   "cell_type": "code",
   "execution_count": null,
   "metadata": {
    "collapsed": false
   },
   "outputs": [],
   "source": [
    "df_perf = pd.DataFrame.from_csv(transition_file)\n",
    "df = pd.DataFrame(columns=[\"performance\"])\n",
    "df[\"performance\"] = df_perf[\"to_ga\"]/(df_perf[\"to_ga\"]+df_perf[\"to_fa\"])\n",
    "df_perf = pd.concat([df_perf, df], axis=1)"
   ]
  },
  {
   "cell_type": "code",
   "execution_count": null,
   "metadata": {
    "collapsed": false
   },
   "outputs": [],
   "source": [
    "df_con = pd.DataFrame.from_csv(control_file)"
   ]
  },
  {
   "cell_type": "code",
   "execution_count": null,
   "metadata": {
    "collapsed": false
   },
   "outputs": [],
   "source": [
    "# Degree\n",
    "def skew(x):\n",
    "    n = len(x)\n",
    "    mean = x.sum() / float(n)\n",
    "    dx = x - mean\n",
    "    result = ((dx*dx*dx).sum() / float(n)) \\\n",
    "        / np.power((dx*dx).sum() / float(n - 1), 1.5)\n",
    "    return result\n",
    "\n",
    "mean = {}\n",
    "skew_in = {}\n",
    "skew_out = {}\n",
    "for project_id in project_ids:\n",
    "    try:\n",
    "        df = pd.DataFrame.from_csv(degree_file % project_id)\n",
    "        if len(df) < 1:\n",
    "            continue\n",
    "        p_mean = df[\"in_degree\"].sum() / float(len(df[\"in_degree\"]))\n",
    "        mean[project_id] = p_mean\n",
    "        skew_in[project_id] = skew(df[\"in_degree\"])\n",
    "        skew_out[project_id] = skew(df[\"out_degree\"])\n",
    "    except IOError:\n",
    "        pass\n",
    "    except ValueError:\n",
    "        pass\n",
    "df_degree = pd.DataFrame({\n",
    "    \"degree_mean\": mean,\n",
    "    \"in_degree_skew\": skew_in,\n",
    "    \"out_degree_skew\": skew_out})"
   ]
  },
  {
   "cell_type": "code",
   "execution_count": null,
   "metadata": {
    "collapsed": false
   },
   "outputs": [],
   "source": [
    "df_mincut = pd.DataFrame.from_csv(mincut_file)"
   ]
  },
  {
   "cell_type": "code",
   "execution_count": null,
   "metadata": {
    "collapsed": false
   },
   "outputs": [],
   "source": [
    "harmonic = {}\n",
    "path_mean = {}\n",
    "connectivity = {}\n",
    "for f in path_files:\n",
    "    df_path = pd.DataFrame.from_csv(f)\n",
    "    for index, row in df_path.iterrows():\n",
    "        harmonic[index] = row[\"path_harmonic\"]\n",
    "        path_mean[index] = row[\"path_mean\"]\n",
    "        connectivity[index] = row[\"connectivity\"]\n",
    "df_path = pd.DataFrame({\n",
    "    \"path_harmonic\": harmonic,\n",
    "    \"path_mean\": path_mean,\n",
    "    \"connectivity\": connectivity\n",
    "})"
   ]
  },
  {
   "cell_type": "code",
   "execution_count": null,
   "metadata": {
    "collapsed": false
   },
   "outputs": [],
   "source": [
    "df_similarity = pd.read_csv(similarity_file)"
   ]
  },
  {
   "cell_type": "code",
   "execution_count": null,
   "metadata": {
    "collapsed": false
   },
   "outputs": [],
   "source": [
    "df_talk = pd.read_csv(article_talk_file)\n",
    "df_talk[\"talk_fraction\"] = df_talk[\"talk_count\"] / (df_talk[\"article_count\"] + df_talk[\"talk_count\"])"
   ]
  },
  {
   "cell_type": "code",
   "execution_count": null,
   "metadata": {
    "collapsed": false
   },
   "outputs": [],
   "source": [
    "df_combined = pd.concat([df_perf, df_stage_eff, df_con, df_degree, df_mincut, df_path, df_talk, df_similarity], axis=1, join=\"outer\")\n",
    "df_combined.to_csv(exp.get_filename(out_file))"
   ]
  },
  {
   "cell_type": "code",
   "execution_count": null,
   "metadata": {
    "collapsed": false
   },
   "outputs": [],
   "source": [
    "plt.figure()\n",
    "plt.plot(df_combined[\"degree_mean\"], df_combined[\"flow_mean\"], \"o\")\n",
    "plt.xlabel(\"Mean In-degree\")\n",
    "plt.ylabel(\"Mean Min-cut\")\n",
    "plt.title(\"Pearson r = 0.9795936\")"
   ]
  },
  {
   "cell_type": "code",
   "execution_count": null,
   "metadata": {
    "collapsed": false
   },
   "outputs": [],
   "source": [
    "plt.rc(\"font\", size=16)\n",
    "x = [d for d in df_combined[\"path_harmonic\"].dropna() if d <=6]\n",
    "plt.hist(x, 60)\n",
    "plt.tight_layout()\n",
    "plt.xlabel(\"Harmonic Mean Path Length\")\n",
    "plt.ylabel(\"Frequency\")"
   ]
  },
  {
   "cell_type": "code",
   "execution_count": null,
   "metadata": {
    "collapsed": false
   },
   "outputs": [],
   "source": [
    "plt.hist(df_combined[\"degree_mean\"].dropna(), 60)\n",
    "plt.tight_layout()"
   ]
  },
  {
   "cell_type": "code",
   "execution_count": null,
   "metadata": {
    "collapsed": false
   },
   "outputs": [],
   "source": [
    "len(df_combined[\"degree_mean\"].dropna())"
   ]
  },
  {
   "cell_type": "code",
   "execution_count": null,
   "metadata": {
    "collapsed": false
   },
   "outputs": [],
   "source": [
    "plt.hist(df_combined[\"flow_mean\"].dropna(), 60)\n",
    "plt.tight_layout()"
   ]
  },
  {
   "cell_type": "code",
   "execution_count": null,
   "metadata": {
    "collapsed": false
   },
   "outputs": [],
   "source": [
    "df_combined.columns"
   ]
  },
  {
   "cell_type": "code",
   "execution_count": null,
   "metadata": {
    "collapsed": false
   },
   "outputs": [],
   "source": [
    "a_eff = df_combined[\"Delta_a\"] / df_combined[\"N_a\"]\n",
    "a_stage = df_combined[\"stage_Delta_a\"] / df_combined[\"stage_N_a\"]\n",
    "b_eff = df_combined[\"Delta_b\"] / df_combined[\"N_b\"]\n",
    "b_stage = df_combined[\"stage_Delta_b\"] / df_combined[\"stage_N_b\"]\n",
    "c_eff = df_combined[\"Delta_c\"] / df_combined[\"N_c\"]\n",
    "c_stage = df_combined[\"stage_Delta_c\"] / df_combined[\"stage_N_c\"]"
   ]
  },
  {
   "cell_type": "code",
   "execution_count": null,
   "metadata": {
    "collapsed": false
   },
   "outputs": [],
   "source": [
    "plt.figure(figsize=(9,3))\n",
    "subplot(1,3,1)\n",
    "plt.loglog(a_eff, a_stage, 'o')\n",
    "subplot(1,3,2)\n",
    "plt.loglog(b_eff, b_stage, 'o')\n",
    "subplot(1,3,3)\n",
    "plt.loglog(c_eff, c_stage, 'o')\n",
    "spstats.pearsonr(a_eff, a_stage)"
   ]
  },
  {
   "cell_type": "code",
   "execution_count": null,
   "metadata": {
    "collapsed": false
   },
   "outputs": [],
   "source": [
    "df_stage_eff"
   ]
  },
  {
   "cell_type": "code",
   "execution_count": null,
   "metadata": {
    "collapsed": true
   },
   "outputs": [],
   "source": []
  }
 ],
 "metadata": {
  "kernelspec": {
   "display_name": "Python 2",
   "language": "python",
   "name": "python2"
  },
  "language_info": {
   "codemirror_mode": {
    "name": "ipython",
    "version": 2
   },
   "file_extension": ".py",
   "mimetype": "text/x-python",
   "name": "python",
   "nbconvert_exporter": "python",
   "pygments_lexer": "ipython2",
   "version": "2.7.6"
  }
 },
 "nbformat": 4,
 "nbformat_minor": 0
}
