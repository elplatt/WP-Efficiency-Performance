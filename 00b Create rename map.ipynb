{
 "metadata": {
  "name": ""
 },
 "nbformat": 3,
 "nbformat_minor": 0,
 "worksheets": [
  {
   "cells": [
    {
     "cell_type": "code",
     "collapsed": false,
     "input": [
      "import sys\n",
      "import xml.etree.ElementTree as etree\n",
      "import logbook\n",
      "import msgpack\n",
      "\n",
      "prefix = \"{http://www.mediawiki.org/xml/export-0.10/}\"\n",
      "infile = \"data/enwiki-20160920-pages-logging.xml\"\n",
      "outfile = \"rename_map.m\"\n",
      "\n",
      "exp_name = \"00b_create_rename_map\""
     ],
     "language": "python",
     "metadata": {},
     "outputs": [],
     "prompt_number": 1
    },
    {
     "cell_type": "code",
     "collapsed": false,
     "input": [
      "logitem_tag = prefix + \"logitem\"\n",
      "action_tag = prefix + \"action\"\n",
      "timestamp_tag = prefix + \"timestamp\"\n",
      "logtitle_tag = prefix + \"logtitle\"\n",
      "params_tag = prefix + \"params\"\n",
      "id_tag = prefix + \"id\"\n",
      "\n",
      "exp = logbook.Experiment(exp_name)\n",
      "log = exp.get_logger()\n",
      "\n",
      "try:\n",
      "    log.info(\"Creating Parser\")\n",
      "    data = {\"timestamp\":[], \"old_name\":[], \"new_name\":[]}\n",
      "    parser = etree.iterparse(infile, events=(\"start\", \"end\"))\n",
      "    root = None\n",
      "    \n",
      "    log.info(\"Beggining parse\")\n",
      "    count = 0\n",
      "    skipped = 0\n",
      "    for event, elem in parser:\n",
      "        # Get the root element from the first start event\n",
      "        if event == \"start\":\n",
      "            if root is None:\n",
      "                root = elem\n",
      "            continue\n",
      "        # Check end events for logitem tags\n",
      "        if elem.tag == logitem_tag:\n",
      "            action = elem.find(action_tag)\n",
      "            if action.text == \"move\" or action.text == \"move_redir\":\n",
      "                try:\n",
      "                    logitem_id = elem.find(id_tag).text\n",
      "                    timestamp = elem.find(timestamp_tag).text\n",
      "                    old_name = elem.find(logtitle_tag).text\n",
      "                    new_name = elem.find(params_tag).text\n",
      "                    data[\"timestamp\"].append(timestamp.encode('utf-8'))\n",
      "                    data[\"old_name\"].append(old_name.encode('utf-8'))\n",
      "                    data[\"new_name\"].append(new_name.encode('utf-8'))\n",
      "                except AttributeError:\n",
      "                    log.error(\"Missing attribute for id: %s\" % logitem_id)\n",
      "                    for c in elem.getchildren():\n",
      "                        log.error(\"  %s: %s\" % (c.tag, c.text))\n",
      "                    skipped += 1\n",
      "                    log.error(\"Continuing...\")                    \n",
      "            # Clear the xml tree\n",
      "            root.clear()\n",
      "        count += 1\n",
      "        if count % 100000 == 0:\n",
      "            log.info(\"  %d entries complete\"% count)\n",
      "    log.info(\"Parse complete, %d total, %d skipped\" % (count, skipped))\n",
      "    \n",
      "    log.info(\"Writing output\")\n",
      "    with open(exp.get_filename(outfile), \"wb\") as f:\n",
      "        f.write(msgpack.packb(data))\n",
      "    log.info(\"Output complete\")\n",
      "except:\n",
      "    log.error(\"Error:\" + str(sys.exc_info()))\n",
      "    raise"
     ],
     "language": "python",
     "metadata": {},
     "outputs": [],
     "prompt_number": 2
    },
    {
     "cell_type": "code",
     "collapsed": false,
     "input": [],
     "language": "python",
     "metadata": {},
     "outputs": []
    }
   ],
   "metadata": {}
  }
 ]
}