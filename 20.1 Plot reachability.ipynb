{
 "cells": [
  {
   "cell_type": "code",
   "execution_count": null,
   "metadata": {
    "collapsed": false
   },
   "outputs": [],
   "source": [
    "%pylab inline\n",
    "import pandas as pd"
   ]
  },
  {
   "cell_type": "code",
   "execution_count": null,
   "metadata": {
    "collapsed": true
   },
   "outputs": [],
   "source": [
    "reachability_file = \"output/20_find_path_length/2017-05-03 16:06:13 b171706/reachability.csv\""
   ]
  },
  {
   "cell_type": "code",
   "execution_count": null,
   "metadata": {
    "collapsed": false
   },
   "outputs": [],
   "source": [
    "df = pd.DataFrame.from_csv(reachability_file)\n",
    "df = df.sort(columns=\"node_count\")"
   ]
  },
  {
   "cell_type": "code",
   "execution_count": null,
   "metadata": {
    "collapsed": false
   },
   "outputs": [],
   "source": [
    "plt.rc('font', size=16)\n",
    "figure(figsize=(8,6))\n",
    "subplot(3,1,1)\n",
    "plot(df[\"node_count\"], df[\"frac_reach\"],\"o\")\n",
    "ylabel(\"Frac pairs connected\")\n",
    "subplot(3,1,2)\n",
    "plot(df[\"node_count\"], df[\"min_reach\"],\"o\")\n",
    "ylabel(\"Min reach from source\")\n",
    "subplot(3,1,3)\n",
    "plot(df[\"node_count\"], df[\"max_reach\"],\"o\")\n",
    "ylabel(\"Max reach from source\")\n",
    "xlabel(\"Project contributors\")\n",
    "title(\"Co-Editor Reachability\")"
   ]
  },
  {
   "cell_type": "code",
   "execution_count": null,
   "metadata": {
    "collapsed": true
   },
   "outputs": [],
   "source": []
  }
 ],
 "metadata": {
  "kernelspec": {
   "display_name": "Python 2",
   "language": "python",
   "name": "python2"
  },
  "language_info": {
   "codemirror_mode": {
    "name": "ipython",
    "version": 2
   },
   "file_extension": ".py",
   "mimetype": "text/x-python",
   "name": "python",
   "nbconvert_exporter": "python",
   "pygments_lexer": "ipython2",
   "version": "2.7.6"
  }
 },
 "nbformat": 4,
 "nbformat_minor": 2
}
