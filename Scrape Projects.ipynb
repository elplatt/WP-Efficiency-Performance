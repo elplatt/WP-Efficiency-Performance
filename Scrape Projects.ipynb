{
 "metadata": {
  "name": ""
 },
 "nbformat": 3,
 "nbformat_minor": 0,
 "worksheets": [
  {
   "cells": [
    {
     "cell_type": "code",
     "collapsed": false,
     "input": [
      "import codecs\n",
      "from lxml import html\n",
      "import requests\n",
      "from urlparse import parse_qs, urlparse"
     ],
     "language": "python",
     "metadata": {},
     "outputs": [],
     "prompt_number": 85
    },
    {
     "cell_type": "code",
     "collapsed": false,
     "input": [
      "def ensure_unicode(s):\n",
      "    if isinstance(s, unicode):\n",
      "        return s\n",
      "    else:\n",
      "        return s.decode('utf-8')"
     ],
     "language": "python",
     "metadata": {},
     "outputs": [],
     "prompt_number": 228
    },
    {
     "cell_type": "code",
     "collapsed": false,
     "input": [
      "project_titles = []"
     ],
     "language": "python",
     "metadata": {},
     "outputs": [],
     "prompt_number": 220
    },
    {
     "cell_type": "code",
     "collapsed": false,
     "input": [
      "page = requests.get(\"https://tools.wmflabs.org/enwp10/cgi-bin/pindex.fcgi?sec=[All]\")\n",
      "parser = html.HTMLParser(encoding='utf-8')\n",
      "tree = html.document_fromstring(page.content, parser=parser)"
     ],
     "language": "python",
     "metadata": {},
     "outputs": [],
     "prompt_number": 223
    },
    {
     "cell_type": "code",
     "collapsed": false,
     "input": [
      "cells = tree.xpath(\"//table[@class='wikitable']//tr/td[1]\")"
     ],
     "language": "python",
     "metadata": {},
     "outputs": [],
     "prompt_number": 224
    },
    {
     "cell_type": "code",
     "collapsed": false,
     "input": [
      "for cell in cells:\n",
      "    if (len(cell[0]) == 0):\n",
      "        title = ensure_unicode(cell[0].text)\n",
      "        project_titles.append((title,title))\n",
      "    else:\n",
      "        title = ensure_unicode(cell[0][0].text)\n",
      "        url = ensure_unicode(cell[0][0].attrib['href'])\n",
      "        query = urlparse(url).query\n",
      "        unique = parse_qs(query)['title'][0]\n",
      "        project_titles.append((title,unique))"
     ],
     "language": "python",
     "metadata": {},
     "outputs": [],
     "prompt_number": 225
    },
    {
     "cell_type": "code",
     "collapsed": false,
     "input": [
      "project_titles"
     ],
     "language": "python",
     "metadata": {},
     "outputs": [],
     "prompt_number": 226
    },
    {
     "cell_type": "code",
     "collapsed": false,
     "input": [
      "def escape_csv(s):\n",
      "    if ',' in s:\n",
      "        s = s.replace('\\\\', '\\\\\\\\').replace('\"', '\\\\\"')\n",
      "        return u'\"%s\"' % s\n",
      "    else:\n",
      "        return s"
     ],
     "language": "python",
     "metadata": {},
     "outputs": [],
     "prompt_number": 96
    },
    {
     "cell_type": "code",
     "collapsed": false,
     "input": [
      "f = codecs.open('/tmp/foo', 'w')\n",
      "f.write(project_titles[248][0].encode('utf-8'))"
     ],
     "language": "python",
     "metadata": {},
     "outputs": [],
     "prompt_number": 182
    },
    {
     "cell_type": "code",
     "collapsed": false,
     "input": [
      "with open('data/projects.tsv', 'wb') as f:\n",
      "    f.write(\"Title\\tUnique\\n\")\n",
      "    for project in project_titles:\n",
      "        title = project[0]\n",
      "        unique = project[1]\n",
      "        f.write(title.encode('utf_16_le'))\n",
      "        f.write(\"\\t\")\n",
      "        f.write(unique.encode('utf_16_le'))\n",
      "        f.write(\"\\n\")"
     ],
     "language": "python",
     "metadata": {},
     "outputs": [],
     "prompt_number": 229
    },
    {
     "cell_type": "code",
     "collapsed": false,
     "input": [],
     "language": "python",
     "metadata": {},
     "outputs": []
    }
   ],
   "metadata": {}
  }
 ]
}