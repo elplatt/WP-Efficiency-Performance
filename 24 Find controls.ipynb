{
 "metadata": {
  "name": ""
 },
 "nbformat": 3,
 "nbformat_minor": 0,
 "worksheets": [
  {
   "cells": [
    {
     "cell_type": "code",
     "collapsed": false,
     "input": [
      "import calendar\n",
      "import datetime\n",
      "import json\n",
      "import numpy as np\n",
      "from matplotlib import pyplot as plt\n",
      "import pandas as pd\n",
      "import scipy.stats as spstats\n",
      "from sqlalchemy import distinct, func, select\n",
      "import database\n",
      "from database.schema import Rating, revision_table\n",
      "import logbook"
     ],
     "language": "python",
     "metadata": {},
     "outputs": [],
     "prompt_number": 1
    },
    {
     "cell_type": "code",
     "collapsed": false,
     "input": [
      "exp_name = \"24_find_controls\"\n",
      "exp = logbook.Experiment(exp_name)\n",
      "project_file = \"data/projects-2016-10-14-dedup.json\"\n",
      "out_file = \"controls.csv\""
     ],
     "language": "python",
     "metadata": {},
     "outputs": [],
     "prompt_number": 2
    },
    {
     "cell_type": "code",
     "collapsed": false,
     "input": [
      "project_ids = []\n",
      "with open(project_file, \"rb\") as f:\n",
      "    for row in f:\n",
      "        data = json.loads(row)\n",
      "        project_ids.append(data[\"project_id\"])"
     ],
     "language": "python",
     "metadata": {},
     "outputs": [],
     "prompt_number": 3
    },
    {
     "cell_type": "code",
     "collapsed": false,
     "input": [
      "conn = database.engine.connect()\n",
      "try:\n",
      "    timestamps = {}\n",
      "    article_count = {}\n",
      "    contributor_count = {}\n",
      "    revision_count = {}\n",
      "    article_age = {}\n",
      "    most_recent_timestamp = None\n",
      "    for project_id in project_ids:\n",
      "        tab = revision_table(project_id).__table__\n",
      "        # Revision count\n",
      "        stmt = select([func.count(tab.c.internal_id)])\n",
      "        result = conn.execute(stmt)\n",
      "        count = result.fetchone()[0]\n",
      "        if (count == 0):\n",
      "            continue\n",
      "        revision_count[project_id] = count\n",
      "        # Article count\n",
      "        stmt = select([func.count(distinct(tab.c.article_id))])\n",
      "        result = conn.execute(stmt)\n",
      "        article_count[project_id] = result.fetchone()[0]\n",
      "        # Editor count\n",
      "        stmt = select([func.count(distinct(tab.c.contributor_id))])\n",
      "        result = conn.execute(stmt)\n",
      "        contributor_count[project_id] = result.fetchone()[0]\n",
      "        # Article age\n",
      "        first_ts = func.min(tab.c.timestamp).label(\"first\")\n",
      "        subq = select([first_ts]) \\\n",
      "            .group_by(tab.c.article_id).alias('subq')\n",
      "        stmt = select([subq.c.first])\n",
      "        result = conn.execute(stmt)\n",
      "        article_age[project_id] = result.fetchone()[0]\n",
      "        # Get most recent timestamp in project for age calcluation\n",
      "        stmt = select([func.max(tab.c.timestamp)])\n",
      "        result = conn.execute(stmt)\n",
      "        ts = result.fetchone()[0]\n",
      "        if most_recent_timestamp is None or ts > most_recent_timestamp:\n",
      "            most_recent_timestamp = ts\n",
      "        # Get earliest rating\n",
      "        tab = Rating.__table__\n",
      "        stmt = select([tab.c.timestamp]).where(tab.c.project_id == project_id).order_by(tab.c.timestamp).limit(1)\n",
      "        result = conn.execute(stmt)\n",
      "        try:\n",
      "            dt = result.fetchone()[0]\n",
      "            timestamps[project_id] = calendar.timegm(dt.utctimetuple())\n",
      "        except TypeError:\n",
      "            pass\n",
      "    # Change datetime to age in seconds\n",
      "    for project_id in project_ids:\n",
      "        try:\n",
      "            age = (most_recent_timestamp - article_age[project_id]).total_seconds()\n",
      "            article_age[project_id] = age\n",
      "        except KeyError:\n",
      "            pass\n",
      "finally:\n",
      "    conn.close()"
     ],
     "language": "python",
     "metadata": {},
     "outputs": [],
     "prompt_number": 4
    },
    {
     "cell_type": "code",
     "collapsed": false,
     "input": [
      "df_control = pd.DataFrame({\n",
      "    'project_id':dict([(x,x) for x in project_ids]),\n",
      "    'first_assessment':timestamps,\n",
      "    'article_count':article_count,\n",
      "    'contributor_count':contributor_count,\n",
      "    'revision_count':revision_count,\n",
      "    'mean_article_age':article_age})\n",
      "df_control = df_control.set_index('project_id')\n",
      "df_control.to_csv(exp.get_filename(out_file))"
     ],
     "language": "python",
     "metadata": {},
     "outputs": [],
     "prompt_number": 5
    },
    {
     "cell_type": "code",
     "collapsed": false,
     "input": [],
     "language": "python",
     "metadata": {},
     "outputs": []
    }
   ],
   "metadata": {}
  }
 ]
}