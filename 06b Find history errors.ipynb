{
 "metadata": {
  "name": ""
 },
 "nbformat": 3,
 "nbformat_minor": 0,
 "worksheets": [
  {
   "cells": [
    {
     "cell_type": "code",
     "collapsed": false,
     "input": [
      "import csv\n",
      "import logging\n",
      "import sys\n",
      "import time\n",
      "from IPython.display import clear_output\n",
      "import sqlalchemy\n",
      "from sqlalchemy.exc import IntegrityError\n",
      "from sqlalchemy.orm import sessionmaker\n",
      "import logbook"
     ],
     "language": "python",
     "metadata": {},
     "outputs": [],
     "prompt_number": "*"
    },
    {
     "cell_type": "code",
     "collapsed": false,
     "input": [
      "history_file = \"data/history.csv\"\n",
      "history_error_file = \"data/final_history_output-errors.csv\"\n",
      "exp_name = \"06b_find_history_errors\"\n",
      "exp = logbook.Experiment(exp_name)\n",
      "log = exp.get_logger()"
     ],
     "language": "python",
     "metadata": {},
     "outputs": [],
     "prompt_number": "*"
    },
    {
     "cell_type": "code",
     "collapsed": false,
     "input": [
      "import database\n",
      "from database.schema import (\n",
      "    revision_table\n",
      ")\n",
      "revisions = revision_table(1)"
     ],
     "language": "python",
     "metadata": {},
     "outputs": [],
     "prompt_number": "*"
    },
    {
     "cell_type": "code",
     "collapsed": false,
     "input": [
      "ts = datetime.datetime.now()\n",
      "with open(history_file, \"rb\") as history_f:\n",
      "    with open(history_error_file, \"wb\") as error_f:\n",
      "        error_writer = csv.writer(error_f)\n",
      "        history_rows = csv.reader(history_f)\n",
      "        for i, row in enumerate(history_rows):\n",
      "            if (i % 100000 == 0):\n",
      "                log.info(\"Row\\t%d\" % i)\n",
      "                time.sleep(0.1)\n",
      "            try:\n",
      "                datum = {\n",
      "                    \"article_name\": row[0]\n",
      "                     , \"article_namespace\": row[1]\n",
      "                     , \"article_id\": row[2]\n",
      "                     , \"redirect\": row[3]\n",
      "                     , \"revision_num\": row[4]\n",
      "                     , \"revision_id\": row[5]\n",
      "                     , \"timestamp\": row[6]\n",
      "                     , \"contributor_name\": row[7]\n",
      "                     , \"contributor_id\": row[8]\n",
      "                     , \"minor\": row[9]\n",
      "                     , \"comment\": row[10]\n",
      "                     , \"length_bytes\": row[11]\n",
      "                     , \"diff_bytes\": row[12]\n",
      "                     , \"deleted\": row[13]\n",
      "                }\n",
      "            except:\n",
      "                error_writer.writerow(row)\n",
      "                log.error(str(sys.exc_info()))\n",
      "                continue;\n",
      "            if int(datum[\"article_namespace\"]) not in [0,1]:\n",
      "                continue\n",
      "            try:\n",
      "                revision = revisions(**datum)\n",
      "            except:\n",
      "                error_writer.writerow(row)\n",
      "                log.error(str(sys.exc_info()))\n",
      "                continue"
     ],
     "language": "python",
     "metadata": {},
     "outputs": [],
     "prompt_number": "*"
    },
    {
     "cell_type": "code",
     "collapsed": false,
     "input": [
      "1"
     ],
     "language": "python",
     "metadata": {},
     "outputs": [],
     "prompt_number": "*"
    },
    {
     "cell_type": "code",
     "collapsed": false,
     "input": [],
     "language": "python",
     "metadata": {},
     "outputs": []
    }
   ],
   "metadata": {}
  }
 ]
}