{
 "cells": [
  {
   "cell_type": "code",
   "execution_count": null,
   "metadata": {
    "collapsed": false
   },
   "outputs": [],
   "source": [
    "import json\n",
    "import msgpack\n",
    "import logbook"
   ]
  },
  {
   "cell_type": "code",
   "execution_count": null,
   "metadata": {
    "collapsed": false
   },
   "outputs": [],
   "source": [
    "exp_name = \"17.1_coeditor_stats\"\n",
    "project_file = 'data/projects-2016-10-14-dedup.json'\n",
    "edges_file = \"archive/17_create_coeditor/2017-04-26 14:53:15 1b4e2e0/%d-coeditor.mp\""
   ]
  },
  {
   "cell_type": "code",
   "execution_count": null,
   "metadata": {
    "collapsed": false
   },
   "outputs": [],
   "source": [
    "exp = logbook.Experiment(exp_name)\n",
    "log = exp.get_logger()\n",
    "project_names = {}\n",
    "with open(project_file, \"rb\") as f:\n",
    "    for row in f:\n",
    "        datum = json.loads(row)\n",
    "        project_names[datum[\"project_id\"]] = datum[\"project_name\"]"
   ]
  },
  {
   "cell_type": "code",
   "execution_count": null,
   "metadata": {
    "collapsed": false
   },
   "outputs": [],
   "source": [
    "with open(exp.get_filename(\"coeditor_stats.tsv\"), \"wb\") as out:\n",
    "    out.write(\"project_id\\tnodes\\tedges\\n\")\n",
    "    for project_id, project_name in project_names.iteritems():\n",
    "        all_nodes = set()\n",
    "        edge_count = 0\n",
    "        project_id = 500\n",
    "        edges_from = {}\n",
    "        log.info(\"Loading network edges for project %d \" % (project_id,))\n",
    "        with open(edges_file % project_id, \"rb\") as f:\n",
    "            unpacker = msgpack.Unpacker(f)\n",
    "            for o in unpacker:\n",
    "                edge_count += len(o[1])\n",
    "                edges_from[o[0][0]] = set(o[1])\n",
    "                all_nodes.add(o[0][0])\n",
    "                all_nodes |= set(o[1])\n",
    "        all_nodes = list(all_nodes)\n",
    "        log.info(\"  Loaded %d nodes and %d edges\" % (len(all_nodes), edge_count))\n",
    "        out.write(\"%d\\t%d\\t%d\\n\" % (project_id, len(all_nodes), edge_count))"
   ]
  },
  {
   "cell_type": "code",
   "execution_count": null,
   "metadata": {
    "collapsed": true
   },
   "outputs": [],
   "source": []
  }
 ],
 "metadata": {
  "kernelspec": {
   "display_name": "Python 2",
   "language": "python",
   "name": "python2"
  },
  "language_info": {
   "codemirror_mode": {
    "name": "ipython",
    "version": 2
   },
   "file_extension": ".py",
   "mimetype": "text/x-python",
   "name": "python",
   "nbconvert_exporter": "python",
   "pygments_lexer": "ipython2",
   "version": "2.7.6"
  }
 },
 "nbformat": 4,
 "nbformat_minor": 0
}
