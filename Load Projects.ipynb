{
 "metadata": {
  "name": ""
 },
 "nbformat": 3,
 "nbformat_minor": 0,
 "worksheets": [
  {
   "cells": [
    {
     "cell_type": "code",
     "collapsed": false,
     "input": [
      "import codecs\n",
      "import json\n",
      "import sqlalchemy\n",
      "from sqlalchemy.orm import sessionmaker\n",
      "from sqlalchemy.orm.exc import MultipleResultsFound, NoResultFound\n",
      "import database\n",
      "from database.schema import Article, Project"
     ],
     "language": "python",
     "metadata": {},
     "outputs": [],
     "prompt_number": 1
    },
    {
     "cell_type": "code",
     "collapsed": false,
     "input": [
      "infile = 'data/articles-projects.json'"
     ],
     "language": "python",
     "metadata": {},
     "outputs": [],
     "prompt_number": 2
    },
    {
     "cell_type": "code",
     "collapsed": false,
     "input": [
      "data = codecs.open(infile, mode='rb', encoding='utf-8')"
     ],
     "language": "python",
     "metadata": {},
     "outputs": [],
     "prompt_number": 3
    },
    {
     "cell_type": "code",
     "collapsed": false,
     "input": [
      "Session = sessionmaker()\n",
      "Session.configure(bind=database.engine)\n",
      "session = Session()"
     ],
     "language": "python",
     "metadata": {},
     "outputs": [],
     "prompt_number": 4
    },
    {
     "cell_type": "code",
     "collapsed": false,
     "input": [
      "database.create_tables()"
     ],
     "language": "python",
     "metadata": {},
     "outputs": [],
     "prompt_number": 5
    },
    {
     "cell_type": "code",
     "collapsed": false,
     "input": [
      "session.rollback()"
     ],
     "language": "python",
     "metadata": {},
     "outputs": [],
     "prompt_number": 9
    },
    {
     "cell_type": "code",
     "collapsed": false,
     "input": [
      "skipped = []\n",
      "added = []\n",
      "for project_id, datum in enumerate(data):\n",
      "    p = json.loads(datum)\n",
      "    if project_id % 100 == 0:\n",
      "        print \"%d %s\" % (project_id+1, p[\"project_name\"])\n",
      "    project = Project(project_id=(project_id+1), project_name=p[\"project_name\"])\n",
      "    for article_name in p[\"articles\"]:\n",
      "        try:\n",
      "            a = session.query(Article) \\\n",
      "                .filter(Article.article_name == article_name) \\\n",
      "                .one()\n",
      "            project.articles.append(a)\n",
      "            added.append(article_name)\n",
      "        except NoResultFound:\n",
      "            skipped.append(article_name)\n",
      "        except MultipleResultsFound:\n",
      "            print \"Multiple articles with same name:\"\n",
      "            articles = session.query(Article).filter(Article.article_name == article_name).all()\n",
      "            for a in articles:\n",
      "                print \"*** %s (%d)\" % (a.article_name, a.article_id)\n",
      "    session.add(project)\n",
      "    session.commit()"
     ],
     "language": "python",
     "metadata": {},
     "outputs": [],
     "prompt_number": 8
    },
    {
     "cell_type": "code",
     "collapsed": false,
     "input": [
      "len(skipped)"
     ],
     "language": "python",
     "metadata": {},
     "outputs": [],
     "prompt_number": 9
    },
    {
     "cell_type": "code",
     "collapsed": false,
     "input": [
      "len(added)"
     ],
     "language": "python",
     "metadata": {},
     "outputs": [],
     "prompt_number": 10
    },
    {
     "cell_type": "code",
     "collapsed": false,
     "input": [],
     "language": "python",
     "metadata": {},
     "outputs": []
    }
   ],
   "metadata": {}
  }
 ]
}