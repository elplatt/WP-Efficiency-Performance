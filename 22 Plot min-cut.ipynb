{
 "cells": [
  {
   "cell_type": "code",
   "execution_count": null,
   "metadata": {
    "collapsed": false
   },
   "outputs": [],
   "source": [
    "import os\n",
    "from matplotlib import pyplot as plt\n",
    "import numpy as np\n",
    "import pandas as pd\n",
    "import logbook"
   ]
  },
  {
   "cell_type": "code",
   "execution_count": null,
   "metadata": {
    "collapsed": false
   },
   "outputs": [],
   "source": [
    "exp_name = \"22_plot_mincut\"\n",
    "exp = logbook.Experiment(exp_name)\n",
    "log = exp.get_logger()\n",
    "flow_dirs = [\n",
    "    \"archive/18_find_min_cut/2017-05-05 16:24:40 9b80891\",\n",
    "    \"archive/18_find_min_cut/2017-05-11 12:06:37 f1a9d46\",\n",
    "]\n",
    "stats_file = \"mincut_stats.csv\""
   ]
  },
  {
   "cell_type": "code",
   "execution_count": null,
   "metadata": {
    "collapsed": false
   },
   "outputs": [],
   "source": [
    "def get_mean_flow(filename):\n",
    "    df = pd.DataFrame.from_csv(filename, index_col=None)\n",
    "    return np.mean(df[\"flow\"])"
   ]
  },
  {
   "cell_type": "code",
   "execution_count": null,
   "metadata": {
    "collapsed": false
   },
   "outputs": [],
   "source": [
    "with open(exp.get_filename(stats_file), \"wb\") as out:\n",
    "    out.write(\"project_id,flow_mean\\n\")\n",
    "    for flow_dir in flow_dirs:\n",
    "        for i, flow_file in enumerate(os.listdir(flow_dir)):\n",
    "            if flow_file.endswith('flows.csv') or flow_file.endswith('flows-sampled.csv'):\n",
    "                project_id = flow_file.split(\"-\")[0]\n",
    "                log.info(\"Loading flow file: %s\" % flow_file)\n",
    "                flow = get_mean_flow(os.path.join(flow_dir, flow_file))\n",
    "                out.write(\"%s,%s\\n\" % (project_id, repr(flow)))\n",
    "                out.flush()"
   ]
  },
  {
   "cell_type": "code",
   "execution_count": null,
   "metadata": {
    "collapsed": false
   },
   "outputs": [],
   "source": []
  }
 ],
 "metadata": {
  "kernelspec": {
   "display_name": "Python 2",
   "language": "python",
   "name": "python2"
  },
  "language_info": {
   "codemirror_mode": {
    "name": "ipython",
    "version": 2
   },
   "file_extension": ".py",
   "mimetype": "text/x-python",
   "name": "python",
   "nbconvert_exporter": "python",
   "pygments_lexer": "ipython2",
   "version": "2.7.6"
  }
 },
 "nbformat": 4,
 "nbformat_minor": 0
}
