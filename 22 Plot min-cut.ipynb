{
 "metadata": {
  "name": ""
 },
 "nbformat": 3,
 "nbformat_minor": 0,
 "worksheets": [
  {
   "cells": [
    {
     "cell_type": "code",
     "collapsed": false,
     "input": [
      "import os\n",
      "from matplotlib import pyplot as plt\n",
      "import numpy as np\n",
      "import pandas as pd\n",
      "import logbook"
     ],
     "language": "python",
     "metadata": {},
     "outputs": [],
     "prompt_number": 1
    },
    {
     "cell_type": "code",
     "collapsed": false,
     "input": [
      "exp_name = \"22_plot_mincut\"\n",
      "exp = logbook.Experiment(exp_name)\n",
      "log = exp.get_logger()\n",
      "flow_dirs = [\n",
      "    \"archive/18_find_min_cut/2016-12-27 18:34:14 ba92bba\",\n",
      "    \"archive/18_find_min_cut/2016-12-28 19:41:43 b43eb71\",\n",
      "    \"archive/18_find_min_cut/2016-12-30 14:51:01 1955e51\",\n",
      "    \"archive/18_find_min_cut/2016-12-31 18:10:57 12896a5\",\n",
      "    \"archive/18_find_min_cut/2017-01-02 12:22:55 e30d916\",\n",
      "    \"archive/18_find_min_cut/2017-01-03 15:16:48 24e53f9\"\n",
      "]\n",
      "stats_file = \"mincut_stats.csv\""
     ],
     "language": "python",
     "metadata": {},
     "outputs": [],
     "prompt_number": 2
    },
    {
     "cell_type": "code",
     "collapsed": false,
     "input": [
      "def get_mean_flow(filename):\n",
      "    df = pd.DataFrame.from_csv(filename, index_col=None)\n",
      "    return np.mean(df[\"flow\"])"
     ],
     "language": "python",
     "metadata": {},
     "outputs": [],
     "prompt_number": 3
    },
    {
     "cell_type": "code",
     "collapsed": false,
     "input": [
      "with open(exp.get_filename(stats_file), \"wb\") as out:\n",
      "    out.write(\"project_id,flow_mean\\n\")\n",
      "    for flow_dir in flow_dirs:\n",
      "        for i, flow_file in enumerate(os.listdir(flow_dir)):\n",
      "            if flow_file.endswith('.csv'):\n",
      "                project_id = flow_file.split(\"-\")[0]\n",
      "                log.info(\"Loading flow file: %s\" % flow_file)\n",
      "                flow = get_mean_flow(os.path.join(flow_dir, flow_file))\n",
      "                out.write(\"%s,%d\\n\" % (project_id, flow))\n",
      "                out.flush()"
     ],
     "language": "python",
     "metadata": {},
     "outputs": [],
     "prompt_number": 4
    },
    {
     "cell_type": "code",
     "collapsed": false,
     "input": [],
     "language": "python",
     "metadata": {},
     "outputs": []
    }
   ],
   "metadata": {}
  }
 ]
}