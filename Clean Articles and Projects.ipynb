{
 "metadata": {
  "name": ""
 },
 "nbformat": 3,
 "nbformat_minor": 0,
 "worksheets": [
  {
   "cells": [
    {
     "cell_type": "code",
     "collapsed": false,
     "input": [
      "import csv\n",
      "import json"
     ],
     "language": "python",
     "metadata": {},
     "outputs": [],
     "prompt_number": 12
    },
    {
     "cell_type": "code",
     "collapsed": false,
     "input": [
      "infile = 'data/Article_Project_Names-sample.csv'\n",
      "outfile = 'data/articles-projects.json'"
     ],
     "language": "python",
     "metadata": {},
     "outputs": [],
     "prompt_number": 11
    },
    {
     "cell_type": "code",
     "collapsed": false,
     "input": [
      "exclude_namespaces = set([\n",
      "    'User', 'User talk',\n",
      "    'Wikipedia', 'Wikipedia talk',\n",
      "    'WP', 'WP talk',\n",
      "    'Project', 'Project talk'\n",
      "    'File', 'File talk',\n",
      "    'Image', 'Image talk',\n",
      "    'MediaWiki', 'MediaWiki talk',\n",
      "    'Template', 'Template talk',\n",
      "    'Help', 'Help talk',\n",
      "    'Category', 'Category talk',\n",
      "    'Portal', 'Portal talk',\n",
      "    'Book', 'Book talk',\n",
      "    'Draft', 'Draft talk',\n",
      "    'Education Program', 'Education Program talk',\n",
      "    'TimedText', 'TimedText talk',\n",
      "    'Module', 'Module talk',\n",
      "    'Topic', 'Topic talk',\n",
      "    'Gadget', 'Gadget talk',\n",
      "    'Special', 'Special talk',\n",
      "    'Media', 'Media talk'\n",
      "])\n",
      "out = {}\n",
      "with open(infile,'rb') as f:\n",
      "    reader = csv.reader(f)\n",
      "    # Skip header\n",
      "    reader.next()\n",
      "    for row in reader:\n",
      "        content, project = row\n",
      "        try:\n",
      "            namespace, name = content.split(\":\")\n",
      "            namespaces.add(namespace)\n",
      "            if namespace in exclude_namespaces:\n",
      "                continue\n",
      "        except ValueError:\n",
      "            name = content\n",
      "        try:\n",
      "            out[project].append(name)\n",
      "        except KeyError:\n",
      "            out[project] = []\n",
      "            out[project].append(name)\n",
      "with open(outfile, 'wb') as f:\n",
      "    f.write(json.dumps(out))"
     ],
     "language": "python",
     "metadata": {},
     "outputs": [],
     "prompt_number": 13
    },
    {
     "cell_type": "code",
     "collapsed": false,
     "input": [],
     "language": "python",
     "metadata": {},
     "outputs": []
    }
   ],
   "metadata": {}
  }
 ]
}