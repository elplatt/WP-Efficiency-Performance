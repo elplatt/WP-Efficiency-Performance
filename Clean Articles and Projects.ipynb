{
 "metadata": {
  "name": ""
 },
 "nbformat": 3,
 "nbformat_minor": 0,
 "worksheets": [
  {
   "cells": [
    {
     "cell_type": "code",
     "collapsed": false,
     "input": [
      "import codecs\n",
      "import csv\n",
      "import io\n",
      "import json\n",
      "import urllib"
     ],
     "language": "python",
     "metadata": {},
     "outputs": [],
     "prompt_number": 111
    },
    {
     "cell_type": "code",
     "collapsed": false,
     "input": [
      "infile = 'data/Article_Project_Names.csv'\n",
      "projfile = 'data/projects.tsv'\n",
      "metafile = 'data/meta_projects.tsv'\n",
      "outfile = 'data/articles-projects.json'"
     ],
     "language": "python",
     "metadata": {},
     "outputs": [],
     "prompt_number": 112
    },
    {
     "cell_type": "code",
     "collapsed": false,
     "input": [
      "exclude_namespaces = set([\n",
      "    'User', 'User talk',\n",
      "    'Wikipedia', 'Wikipedia talk',\n",
      "    'WP', 'WP talk',\n",
      "    'Project', 'Project talk'\n",
      "    'File', 'File talk',\n",
      "    'Image', 'Image talk',\n",
      "    'MediaWiki', 'MediaWiki talk',\n",
      "    'Template', 'Template talk',\n",
      "    'Help', 'Help talk',\n",
      "    'Category', 'Category talk',\n",
      "    'Portal', 'Portal talk',\n",
      "    'Book', 'Book talk',\n",
      "    'Draft', 'Draft talk',\n",
      "    'Education Program', 'Education Program talk',\n",
      "    'TimedText', 'TimedText talk',\n",
      "    'Module', 'Module talk',\n",
      "    'Topic', 'Topic talk',\n",
      "    'Gadget', 'Gadget talk',\n",
      "    'Special', 'Special talk',\n",
      "    'Media', 'Media talk'\n",
      "])\n",
      "proj_map = {}\n",
      "with open(projfile, 'rb') as f:\n",
      "    # Skip header\n",
      "    f.next()\n",
      "    for row in f:\n",
      "        row = row[1:-1].decode('utf_16_le')\n",
      "        if len(row) == 0:\n",
      "            continue\n",
      "        title, unique = row.split(u\"\\t\")\n",
      "        proj_map[title] = unique\n",
      "meta = set()\n",
      "with open(metafile, 'rb') as f:\n",
      "    meta.update(list(f))\n",
      "out = {}\n",
      "with open(infile,'rb') as f:\n",
      "    reader = csv.reader(f)\n",
      "    # Skip header\n",
      "    reader.next()\n",
      "    for i, row in enumerate(reader):\n",
      "        if i % 100000 == 0:\n",
      "            print \"Article: %d\" % (i)\n",
      "        content = row[0].decode('utf-8')\n",
      "        project = row[1].decode('utf-8')\n",
      "        # Skip meta projects\n",
      "        if project in meta:\n",
      "            continue\n",
      "        # Convert to unique project name\n",
      "        project = proj_map[project]\n",
      "        try:\n",
      "            namespace, name = content.split(\":\")\n",
      "            if namespace in exclude_namespaces:\n",
      "                continue\n",
      "            else:\n",
      "                name = \"%s:%s\" % (namespace, name)\n",
      "        except ValueError:\n",
      "            name = content\n",
      "        try:\n",
      "            out[project]['articles'].append(name)\n",
      "        except KeyError:\n",
      "            out[project] = {'project_name':project, 'articles':[]}\n",
      "            out[project]['articles'].append(name)\n",
      "with open(outfile, 'wb') as f:\n",
      "    for project_name in out.iterkeys():\n",
      "        f.write(json.dumps(out[project_name]) + \"\\n\")"
     ],
     "language": "python",
     "metadata": {},
     "outputs": [],
     "prompt_number": 113
    },
    {
     "cell_type": "code",
     "collapsed": false,
     "input": [],
     "language": "python",
     "metadata": {},
     "outputs": []
    }
   ],
   "metadata": {}
  }
 ]
}