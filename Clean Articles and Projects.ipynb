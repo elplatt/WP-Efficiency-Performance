{
 "metadata": {
  "name": ""
 },
 "nbformat": 3,
 "nbformat_minor": 0,
 "worksheets": [
  {
   "cells": [
    {
     "cell_type": "code",
     "collapsed": false,
     "input": [
      "import csv\n",
      "import json"
     ],
     "language": "python",
     "metadata": {},
     "outputs": [],
     "prompt_number": 1
    },
    {
     "cell_type": "code",
     "collapsed": false,
     "input": [
      "infile = 'data/Article_Project_Names.csv'\n",
      "outfile = 'data/articles-projects.json'"
     ],
     "language": "python",
     "metadata": {},
     "outputs": [],
     "prompt_number": 2
    },
    {
     "cell_type": "code",
     "collapsed": false,
     "input": [
      "exclude_namespaces = set([\n",
      "    'User', 'User talk',\n",
      "    'Wikipedia', 'Wikipedia talk',\n",
      "    'WP', 'WP talk',\n",
      "    'Project', 'Project talk'\n",
      "    'File', 'File talk',\n",
      "    'Image', 'Image talk',\n",
      "    'MediaWiki', 'MediaWiki talk',\n",
      "    'Template', 'Template talk',\n",
      "    'Help', 'Help talk',\n",
      "    'Category', 'Category talk',\n",
      "    'Portal', 'Portal talk',\n",
      "    'Book', 'Book talk',\n",
      "    'Draft', 'Draft talk',\n",
      "    'Education Program', 'Education Program talk',\n",
      "    'TimedText', 'TimedText talk',\n",
      "    'Module', 'Module talk',\n",
      "    'Topic', 'Topic talk',\n",
      "    'Gadget', 'Gadget talk',\n",
      "    'Special', 'Special talk',\n",
      "    'Media', 'Media talk'\n",
      "])\n",
      "out = {}\n",
      "with open(infile,'rb') as f:\n",
      "    reader = csv.reader(f)\n",
      "    # Skip header\n",
      "    reader.next()\n",
      "    for i, row in enumerate(reader):\n",
      "        if i % 100000 == 0:\n",
      "            print \"Article: %d\" % (i)\n",
      "        content, project = row\n",
      "        try:\n",
      "            namespace, name = content.split(\":\")\n",
      "            if namespace in exclude_namespaces:\n",
      "                continue\n",
      "            else:\n",
      "                name = \"%s:%s\" % (namespace, name)\n",
      "        except ValueError:\n",
      "            name = content\n",
      "        try:\n",
      "            out[project]['articles'].append(name)\n",
      "        except KeyError:\n",
      "            out[project] = {'project_name':project, 'articles':[]}\n",
      "            out[project]['articles'].append(name)\n",
      "with open(outfile, 'wb') as f:\n",
      "    for project_name in out.iterkeys():\n",
      "        f.write(json.dumps(out[project_name]) + \"\\n\")"
     ],
     "language": "python",
     "metadata": {},
     "outputs": [],
     "prompt_number": 4
    },
    {
     "cell_type": "code",
     "collapsed": false,
     "input": [],
     "language": "python",
     "metadata": {},
     "outputs": []
    }
   ],
   "metadata": {}
  }
 ]
}